{
  "nbformat": 4,
  "nbformat_minor": 0,
  "metadata": {
    "colab": {
      "name": " Análise da Violência no Rio de Janeiro .ipynb",
      "provenance": [],
      "toc_visible": true,
      "authorship_tag": "ABX9TyM5hHhrjD0+0t9KUJcs3SkM",
      "include_colab_link": true
    },
    "kernelspec": {
      "name": "python3",
      "display_name": "Python 3"
    }
  },
  "cells": [
    {
      "cell_type": "markdown",
      "metadata": {
        "id": "view-in-github",
        "colab_type": "text"
      },
      "source": [
        "<a href=\"https://colab.research.google.com/github/ViniciusMangueira/Data_Science/blob/main/An%C3%A1lise_da_Viol%C3%AAncia_no_Rio_de_Janeiro_.ipynb\" target=\"_parent\"><img src=\"https://colab.research.google.com/assets/colab-badge.svg\" alt=\"Open In Colab\"/></a>"
      ]
    },
    {
      "cell_type": "markdown",
      "metadata": {
        "id": "v7slN7itw5Ae"
      },
      "source": [
        "#Análise da Violência no Rio de Janeiro \r\n",
        "\r\n",
        "bla bla bla"
      ]
    },
    {
      "cell_type": "markdown",
      "metadata": {
        "id": "k_Ln_bFWw2-a"
      },
      "source": [
        "##Importação dos dados  "
      ]
    },
    {
      "cell_type": "markdown",
      "metadata": {
        "id": "-eV3M3XYzQtW"
      },
      "source": [
        "Inicialmente vamos importar nossas bibliotecas para que, posteriormente,  possamos importar a base de dados da policia militar do Rio de Janeiro sobre a violência e, por fim, visualizar o tamanho e os tipos das variáveis do dataset. "
      ]
    },
    {
      "cell_type": "code",
      "metadata": {
        "id": "k-69bJvUuebo"
      },
      "source": [
        "#Importar bibliotecas\r\n",
        "import pandas as pd\r\n",
        "import matplotlib.pyplot as plt"
      ],
      "execution_count": null,
      "outputs": []
    },
    {
      "cell_type": "code",
      "metadata": {
        "id": "bOAEilwKxjU7"
      },
      "source": [
        "# Ler arquivo\r\n",
        "df = pd.read_csv('https://raw.githubusercontent.com/carlosfab/dsnp2/master/datasets/violencia_rio.csv')"
      ],
      "execution_count": null,
      "outputs": []
    },
    {
      "cell_type": "code",
      "metadata": {
        "colab": {
          "base_uri": "https://localhost:8080/"
        },
        "id": "RkoI7ZoFxtun",
        "outputId": "2f10fde5-4ab6-44d8-f659-b7bcc56dd794"
      },
      "source": [
        "# Formato do arquivo\r\n",
        "print('Nosso arquivo possui {} entradas e {} atributos .'.format(df.shape[0], df.shape[1]))\r\n",
        "\r\n",
        "# Tipos dos atributos\r\n",
        "print('Tipo dos atributos:\\n', df.dtypes)"
      ],
      "execution_count": null,
      "outputs": [
        {
          "output_type": "stream",
          "text": [
            "Nosso arquivo possui 344 entradas e 56 atributos .\n",
            "Tipo dos atributos:\n",
            " vano                            int64\n",
            "mes                             int64\n",
            "hom_doloso                      int64\n",
            "lesao_corp_morte              float64\n",
            "latrocinio                      int64\n",
            "hom_por_interv_policial       float64\n",
            "tentat_hom                      int64\n",
            "lesao_corp_dolosa               int64\n",
            "estupro                       float64\n",
            "hom_culposo                   float64\n",
            "lesao_corp_culposa            float64\n",
            "roubo_comercio                  int64\n",
            "roubo_residencia                int64\n",
            "roubo_veiculo                   int64\n",
            "roubo_carga                     int64\n",
            "roubo_transeunte                int64\n",
            "roubo_em_coletivo               int64\n",
            "roubo_banco                     int64\n",
            "roubo_cx_eletronico           float64\n",
            "roubo_celular                 float64\n",
            "roubo_conducao_saque          float64\n",
            "roubo_apos_saque              float64\n",
            "roubo_bicicleta               float64\n",
            "outros_roubos                   int64\n",
            "total_roubos                    int64\n",
            "furto_veiculos                  int64\n",
            "furto_transeunte                int64\n",
            "furto_coletivo                float64\n",
            "furto_celular                 float64\n",
            "furto_bicicleta               float64\n",
            "outros_furtos                   int64\n",
            "total_furtos                    int64\n",
            "sequestro                     float64\n",
            "extorsao                      float64\n",
            "sequestro_relampago           float64\n",
            "estelionato                   float64\n",
            "apreensao_drogas                int64\n",
            "posse_drogas                  float64\n",
            "trafico_drogas                float64\n",
            "apreensao_drogas_sem_autor    float64\n",
            "recuperacao_veiculos            int64\n",
            "apf                           float64\n",
            "aaapai                        float64\n",
            "cmp                           float64\n",
            "cmba                          float64\n",
            "ameaca                        float64\n",
            "pessoas_desaparecidas         float64\n",
            "encontro_cadaver                int64\n",
            "encontro_ossada               float64\n",
            "pol_militares_mortos_serv     float64\n",
            "pol_civis_mortos_serv         float64\n",
            "indicador_letalidade            int64\n",
            "indicador_roubo_rua             int64\n",
            "indicador_roubo_veic            int64\n",
            "registro_ocorrencias          float64\n",
            "fase                            int64\n",
            "dtype: object\n"
          ],
          "name": "stdout"
        }
      ]
    },
    {
      "cell_type": "markdown",
      "metadata": {
        "id": "FYGlJ-lrzVVE"
      },
      "source": [
        "## Análise inicial"
      ]
    },
    {
      "cell_type": "markdown",
      "metadata": {
        "id": "8fMgtZMXe631"
      },
      "source": [
        "Por serem muitas variáveis, nesse caso não faremos o dicionário das variáveis. No entanto, caso tenha alguma dúvida você pode baixar o arquivo [aqui](http://www.ispdados.rj.gov.br/Arquivos/BaseDpDicionarioDeVariaveis.xlsx) e consultar o que significa cada atributo. "
      ]
    },
    {
      "cell_type": "markdown",
      "metadata": {
        "id": "A0PHCYTC0DbN"
      },
      "source": [
        "Antes de mais nada, vamos ver as 5 primeiras entradas da base de dados para termos alguma noção inicial de como ela é."
      ]
    },
    {
      "cell_type": "code",
      "metadata": {
        "colab": {
          "base_uri": "https://localhost:8080/",
          "height": 224
        },
        "id": "UP1JNulj0Eos",
        "outputId": "1d0dd7dd-de49-44e3-d383-50aa0a8f9d6d"
      },
      "source": [
        "# Visualizar as 5 primeiras entradas\r\n",
        "df.head()"
      ],
      "execution_count": null,
      "outputs": [
        {
          "output_type": "execute_result",
          "data": {
            "text/html": [
              "<div>\n",
              "<style scoped>\n",
              "    .dataframe tbody tr th:only-of-type {\n",
              "        vertical-align: middle;\n",
              "    }\n",
              "\n",
              "    .dataframe tbody tr th {\n",
              "        vertical-align: top;\n",
              "    }\n",
              "\n",
              "    .dataframe thead th {\n",
              "        text-align: right;\n",
              "    }\n",
              "</style>\n",
              "<table border=\"1\" class=\"dataframe\">\n",
              "  <thead>\n",
              "    <tr style=\"text-align: right;\">\n",
              "      <th></th>\n",
              "      <th>vano</th>\n",
              "      <th>mes</th>\n",
              "      <th>hom_doloso</th>\n",
              "      <th>lesao_corp_morte</th>\n",
              "      <th>latrocinio</th>\n",
              "      <th>hom_por_interv_policial</th>\n",
              "      <th>tentat_hom</th>\n",
              "      <th>lesao_corp_dolosa</th>\n",
              "      <th>estupro</th>\n",
              "      <th>hom_culposo</th>\n",
              "      <th>lesao_corp_culposa</th>\n",
              "      <th>roubo_comercio</th>\n",
              "      <th>roubo_residencia</th>\n",
              "      <th>roubo_veiculo</th>\n",
              "      <th>roubo_carga</th>\n",
              "      <th>roubo_transeunte</th>\n",
              "      <th>roubo_em_coletivo</th>\n",
              "      <th>roubo_banco</th>\n",
              "      <th>roubo_cx_eletronico</th>\n",
              "      <th>roubo_celular</th>\n",
              "      <th>roubo_conducao_saque</th>\n",
              "      <th>roubo_apos_saque</th>\n",
              "      <th>roubo_bicicleta</th>\n",
              "      <th>outros_roubos</th>\n",
              "      <th>total_roubos</th>\n",
              "      <th>furto_veiculos</th>\n",
              "      <th>furto_transeunte</th>\n",
              "      <th>furto_coletivo</th>\n",
              "      <th>furto_celular</th>\n",
              "      <th>furto_bicicleta</th>\n",
              "      <th>outros_furtos</th>\n",
              "      <th>total_furtos</th>\n",
              "      <th>sequestro</th>\n",
              "      <th>extorsao</th>\n",
              "      <th>sequestro_relampago</th>\n",
              "      <th>estelionato</th>\n",
              "      <th>apreensao_drogas</th>\n",
              "      <th>posse_drogas</th>\n",
              "      <th>trafico_drogas</th>\n",
              "      <th>apreensao_drogas_sem_autor</th>\n",
              "      <th>recuperacao_veiculos</th>\n",
              "      <th>apf</th>\n",
              "      <th>aaapai</th>\n",
              "      <th>cmp</th>\n",
              "      <th>cmba</th>\n",
              "      <th>ameaca</th>\n",
              "      <th>pessoas_desaparecidas</th>\n",
              "      <th>encontro_cadaver</th>\n",
              "      <th>encontro_ossada</th>\n",
              "      <th>pol_militares_mortos_serv</th>\n",
              "      <th>pol_civis_mortos_serv</th>\n",
              "      <th>indicador_letalidade</th>\n",
              "      <th>indicador_roubo_rua</th>\n",
              "      <th>indicador_roubo_veic</th>\n",
              "      <th>registro_ocorrencias</th>\n",
              "      <th>fase</th>\n",
              "    </tr>\n",
              "  </thead>\n",
              "  <tbody>\n",
              "    <tr>\n",
              "      <th>0</th>\n",
              "      <td>1991</td>\n",
              "      <td>1</td>\n",
              "      <td>657</td>\n",
              "      <td>NaN</td>\n",
              "      <td>15</td>\n",
              "      <td>NaN</td>\n",
              "      <td>162</td>\n",
              "      <td>3051</td>\n",
              "      <td>NaN</td>\n",
              "      <td>NaN</td>\n",
              "      <td>NaN</td>\n",
              "      <td>350</td>\n",
              "      <td>188</td>\n",
              "      <td>1174</td>\n",
              "      <td>63</td>\n",
              "      <td>967</td>\n",
              "      <td>381</td>\n",
              "      <td>37</td>\n",
              "      <td>NaN</td>\n",
              "      <td>NaN</td>\n",
              "      <td>NaN</td>\n",
              "      <td>NaN</td>\n",
              "      <td>NaN</td>\n",
              "      <td>158</td>\n",
              "      <td>3318</td>\n",
              "      <td>2009</td>\n",
              "      <td>1147</td>\n",
              "      <td>NaN</td>\n",
              "      <td>NaN</td>\n",
              "      <td>NaN</td>\n",
              "      <td>3561</td>\n",
              "      <td>6717</td>\n",
              "      <td>NaN</td>\n",
              "      <td>NaN</td>\n",
              "      <td>NaN</td>\n",
              "      <td>NaN</td>\n",
              "      <td>133</td>\n",
              "      <td>NaN</td>\n",
              "      <td>NaN</td>\n",
              "      <td>NaN</td>\n",
              "      <td>872</td>\n",
              "      <td>NaN</td>\n",
              "      <td>NaN</td>\n",
              "      <td>NaN</td>\n",
              "      <td>NaN</td>\n",
              "      <td>NaN</td>\n",
              "      <td>NaN</td>\n",
              "      <td>217</td>\n",
              "      <td>NaN</td>\n",
              "      <td>NaN</td>\n",
              "      <td>NaN</td>\n",
              "      <td>672</td>\n",
              "      <td>1348</td>\n",
              "      <td>1174</td>\n",
              "      <td>NaN</td>\n",
              "      <td>3</td>\n",
              "    </tr>\n",
              "    <tr>\n",
              "      <th>1</th>\n",
              "      <td>1991</td>\n",
              "      <td>2</td>\n",
              "      <td>732</td>\n",
              "      <td>NaN</td>\n",
              "      <td>17</td>\n",
              "      <td>NaN</td>\n",
              "      <td>175</td>\n",
              "      <td>3421</td>\n",
              "      <td>NaN</td>\n",
              "      <td>NaN</td>\n",
              "      <td>NaN</td>\n",
              "      <td>357</td>\n",
              "      <td>171</td>\n",
              "      <td>1097</td>\n",
              "      <td>64</td>\n",
              "      <td>963</td>\n",
              "      <td>432</td>\n",
              "      <td>35</td>\n",
              "      <td>NaN</td>\n",
              "      <td>NaN</td>\n",
              "      <td>NaN</td>\n",
              "      <td>NaN</td>\n",
              "      <td>NaN</td>\n",
              "      <td>142</td>\n",
              "      <td>3261</td>\n",
              "      <td>1850</td>\n",
              "      <td>1066</td>\n",
              "      <td>NaN</td>\n",
              "      <td>NaN</td>\n",
              "      <td>NaN</td>\n",
              "      <td>3309</td>\n",
              "      <td>6225</td>\n",
              "      <td>NaN</td>\n",
              "      <td>NaN</td>\n",
              "      <td>NaN</td>\n",
              "      <td>NaN</td>\n",
              "      <td>127</td>\n",
              "      <td>NaN</td>\n",
              "      <td>NaN</td>\n",
              "      <td>NaN</td>\n",
              "      <td>751</td>\n",
              "      <td>NaN</td>\n",
              "      <td>NaN</td>\n",
              "      <td>NaN</td>\n",
              "      <td>NaN</td>\n",
              "      <td>NaN</td>\n",
              "      <td>NaN</td>\n",
              "      <td>209</td>\n",
              "      <td>NaN</td>\n",
              "      <td>NaN</td>\n",
              "      <td>NaN</td>\n",
              "      <td>749</td>\n",
              "      <td>1395</td>\n",
              "      <td>1097</td>\n",
              "      <td>NaN</td>\n",
              "      <td>3</td>\n",
              "    </tr>\n",
              "    <tr>\n",
              "      <th>2</th>\n",
              "      <td>1991</td>\n",
              "      <td>3</td>\n",
              "      <td>713</td>\n",
              "      <td>NaN</td>\n",
              "      <td>25</td>\n",
              "      <td>NaN</td>\n",
              "      <td>216</td>\n",
              "      <td>3613</td>\n",
              "      <td>NaN</td>\n",
              "      <td>NaN</td>\n",
              "      <td>NaN</td>\n",
              "      <td>443</td>\n",
              "      <td>191</td>\n",
              "      <td>1265</td>\n",
              "      <td>71</td>\n",
              "      <td>963</td>\n",
              "      <td>422</td>\n",
              "      <td>43</td>\n",
              "      <td>NaN</td>\n",
              "      <td>NaN</td>\n",
              "      <td>NaN</td>\n",
              "      <td>NaN</td>\n",
              "      <td>NaN</td>\n",
              "      <td>131</td>\n",
              "      <td>3529</td>\n",
              "      <td>2084</td>\n",
              "      <td>1062</td>\n",
              "      <td>NaN</td>\n",
              "      <td>NaN</td>\n",
              "      <td>NaN</td>\n",
              "      <td>3573</td>\n",
              "      <td>6719</td>\n",
              "      <td>NaN</td>\n",
              "      <td>NaN</td>\n",
              "      <td>NaN</td>\n",
              "      <td>NaN</td>\n",
              "      <td>80</td>\n",
              "      <td>NaN</td>\n",
              "      <td>NaN</td>\n",
              "      <td>NaN</td>\n",
              "      <td>789</td>\n",
              "      <td>NaN</td>\n",
              "      <td>NaN</td>\n",
              "      <td>NaN</td>\n",
              "      <td>NaN</td>\n",
              "      <td>NaN</td>\n",
              "      <td>NaN</td>\n",
              "      <td>188</td>\n",
              "      <td>NaN</td>\n",
              "      <td>NaN</td>\n",
              "      <td>NaN</td>\n",
              "      <td>738</td>\n",
              "      <td>1385</td>\n",
              "      <td>1265</td>\n",
              "      <td>NaN</td>\n",
              "      <td>3</td>\n",
              "    </tr>\n",
              "    <tr>\n",
              "      <th>3</th>\n",
              "      <td>1991</td>\n",
              "      <td>4</td>\n",
              "      <td>634</td>\n",
              "      <td>NaN</td>\n",
              "      <td>20</td>\n",
              "      <td>NaN</td>\n",
              "      <td>200</td>\n",
              "      <td>3211</td>\n",
              "      <td>NaN</td>\n",
              "      <td>NaN</td>\n",
              "      <td>NaN</td>\n",
              "      <td>425</td>\n",
              "      <td>199</td>\n",
              "      <td>1415</td>\n",
              "      <td>81</td>\n",
              "      <td>1186</td>\n",
              "      <td>354</td>\n",
              "      <td>36</td>\n",
              "      <td>NaN</td>\n",
              "      <td>NaN</td>\n",
              "      <td>NaN</td>\n",
              "      <td>NaN</td>\n",
              "      <td>NaN</td>\n",
              "      <td>112</td>\n",
              "      <td>3808</td>\n",
              "      <td>2085</td>\n",
              "      <td>1195</td>\n",
              "      <td>NaN</td>\n",
              "      <td>NaN</td>\n",
              "      <td>NaN</td>\n",
              "      <td>3290</td>\n",
              "      <td>6570</td>\n",
              "      <td>NaN</td>\n",
              "      <td>NaN</td>\n",
              "      <td>NaN</td>\n",
              "      <td>NaN</td>\n",
              "      <td>133</td>\n",
              "      <td>NaN</td>\n",
              "      <td>NaN</td>\n",
              "      <td>NaN</td>\n",
              "      <td>787</td>\n",
              "      <td>NaN</td>\n",
              "      <td>NaN</td>\n",
              "      <td>NaN</td>\n",
              "      <td>NaN</td>\n",
              "      <td>NaN</td>\n",
              "      <td>NaN</td>\n",
              "      <td>140</td>\n",
              "      <td>NaN</td>\n",
              "      <td>NaN</td>\n",
              "      <td>NaN</td>\n",
              "      <td>654</td>\n",
              "      <td>1540</td>\n",
              "      <td>1415</td>\n",
              "      <td>NaN</td>\n",
              "      <td>3</td>\n",
              "    </tr>\n",
              "    <tr>\n",
              "      <th>4</th>\n",
              "      <td>1991</td>\n",
              "      <td>5</td>\n",
              "      <td>650</td>\n",
              "      <td>NaN</td>\n",
              "      <td>20</td>\n",
              "      <td>NaN</td>\n",
              "      <td>146</td>\n",
              "      <td>3051</td>\n",
              "      <td>NaN</td>\n",
              "      <td>NaN</td>\n",
              "      <td>NaN</td>\n",
              "      <td>553</td>\n",
              "      <td>231</td>\n",
              "      <td>1449</td>\n",
              "      <td>82</td>\n",
              "      <td>931</td>\n",
              "      <td>335</td>\n",
              "      <td>27</td>\n",
              "      <td>NaN</td>\n",
              "      <td>NaN</td>\n",
              "      <td>NaN</td>\n",
              "      <td>NaN</td>\n",
              "      <td>NaN</td>\n",
              "      <td>147</td>\n",
              "      <td>3755</td>\n",
              "      <td>2185</td>\n",
              "      <td>723</td>\n",
              "      <td>NaN</td>\n",
              "      <td>NaN</td>\n",
              "      <td>NaN</td>\n",
              "      <td>3546</td>\n",
              "      <td>6454</td>\n",
              "      <td>NaN</td>\n",
              "      <td>NaN</td>\n",
              "      <td>NaN</td>\n",
              "      <td>NaN</td>\n",
              "      <td>163</td>\n",
              "      <td>NaN</td>\n",
              "      <td>NaN</td>\n",
              "      <td>NaN</td>\n",
              "      <td>845</td>\n",
              "      <td>NaN</td>\n",
              "      <td>NaN</td>\n",
              "      <td>NaN</td>\n",
              "      <td>NaN</td>\n",
              "      <td>NaN</td>\n",
              "      <td>NaN</td>\n",
              "      <td>78</td>\n",
              "      <td>NaN</td>\n",
              "      <td>NaN</td>\n",
              "      <td>NaN</td>\n",
              "      <td>670</td>\n",
              "      <td>1266</td>\n",
              "      <td>1449</td>\n",
              "      <td>NaN</td>\n",
              "      <td>3</td>\n",
              "    </tr>\n",
              "  </tbody>\n",
              "</table>\n",
              "</div>"
            ],
            "text/plain": [
              "   vano  mes  hom_doloso  ...  indicador_roubo_veic  registro_ocorrencias  fase\n",
              "0  1991    1         657  ...                  1174                   NaN     3\n",
              "1  1991    2         732  ...                  1097                   NaN     3\n",
              "2  1991    3         713  ...                  1265                   NaN     3\n",
              "3  1991    4         634  ...                  1415                   NaN     3\n",
              "4  1991    5         650  ...                  1449                   NaN     3\n",
              "\n",
              "[5 rows x 56 columns]"
            ]
          },
          "metadata": {
            "tags": []
          },
          "execution_count": 10
        }
      ]
    },
    {
      "cell_type": "markdown",
      "metadata": {
        "id": "V1iBuGGW07rX"
      },
      "source": [
        "Após a visualização acima, é perceptível que existem muitos dados faltantes ‘NaN’ no dataset. A seguir vamos dar uma atenção para esses dados."
      ]
    },
    {
      "cell_type": "markdown",
      "metadata": {
        "id": "3aO5q6JL1B4E"
      },
      "source": [
        "### Dados Faltantes, os famosos 'NaN'"
      ]
    },
    {
      "cell_type": "markdown",
      "metadata": {
        "id": "L0VQmhuU1aca"
      },
      "source": [
        "Primeiramente vamos ver a quantidade de dados faltantes que existem no dataset e, em seguida, a sua porcentagem com relação a todos os dados. "
      ]
    },
    {
      "cell_type": "code",
      "metadata": {
        "colab": {
          "base_uri": "https://localhost:8080/"
        },
        "id": "DMPxwYMZ1bpk",
        "outputId": "1194f754-8951-464b-ad4c-5555e5def85b"
      },
      "source": [
        "# Visualizar dados faltantes\r\n",
        "df.isnull().sum().sort_values(ascending=False)"
      ],
      "execution_count": null,
      "outputs": [
        {
          "output_type": "execute_result",
          "data": {
            "text/plain": [
              "roubo_bicicleta               276\n",
              "furto_bicicleta               276\n",
              "apreensao_drogas_sem_autor    180\n",
              "posse_drogas                  180\n",
              "apf                           180\n",
              "aaapai                        180\n",
              "cmp                           180\n",
              "trafico_drogas                180\n",
              "cmba                          180\n",
              "sequestro_relampago           144\n",
              "furto_coletivo                144\n",
              "extorsao                      144\n",
              "furto_celular                 144\n",
              "roubo_apos_saque              144\n",
              "roubo_conducao_saque          144\n",
              "roubo_cx_eletronico           144\n",
              "estupro                       144\n",
              "estelionato                   144\n",
              "pol_civis_mortos_serv         144\n",
              "pol_militares_mortos_serv     144\n",
              "pessoas_desaparecidas         132\n",
              "encontro_ossada               132\n",
              "roubo_celular                 108\n",
              "lesao_corp_culposa             96\n",
              "ameaca                         96\n",
              "sequestro                      96\n",
              "lesao_corp_morte               96\n",
              "registro_ocorrencias           96\n",
              "hom_por_interv_policial        84\n",
              "hom_culposo                    84\n",
              "tentat_hom                      0\n",
              "roubo_comercio                  0\n",
              "roubo_residencia                0\n",
              "latrocinio                      0\n",
              "lesao_corp_dolosa               0\n",
              "hom_doloso                      0\n",
              "roubo_transeunte                0\n",
              "mes                             0\n",
              "roubo_veiculo                   0\n",
              "roubo_carga                     0\n",
              "fase                            0\n",
              "roubo_em_coletivo               0\n",
              "roubo_banco                     0\n",
              "outros_roubos                   0\n",
              "total_roubos                    0\n",
              "furto_veiculos                  0\n",
              "furto_transeunte                0\n",
              "outros_furtos                   0\n",
              "total_furtos                    0\n",
              "apreensao_drogas                0\n",
              "recuperacao_veiculos            0\n",
              "encontro_cadaver                0\n",
              "indicador_letalidade            0\n",
              "indicador_roubo_rua             0\n",
              "indicador_roubo_veic            0\n",
              "vano                            0\n",
              "dtype: int64"
            ]
          },
          "metadata": {
            "tags": []
          },
          "execution_count": 11
        }
      ]
    },
    {
      "cell_type": "code",
      "metadata": {
        "colab": {
          "base_uri": "https://localhost:8080/"
        },
        "id": "emfNVPr6185J",
        "outputId": "079baa91-f825-4a65-ac7e-1041a2664749"
      },
      "source": [
        "# Visualizar dados faltantes\r\n",
        "df.isnull().sum().sort_values(ascending=False) / df.shape[0]"
      ],
      "execution_count": null,
      "outputs": [
        {
          "output_type": "execute_result",
          "data": {
            "text/plain": [
              "roubo_bicicleta               0.802326\n",
              "furto_bicicleta               0.802326\n",
              "apreensao_drogas_sem_autor    0.523256\n",
              "posse_drogas                  0.523256\n",
              "apf                           0.523256\n",
              "aaapai                        0.523256\n",
              "cmp                           0.523256\n",
              "trafico_drogas                0.523256\n",
              "cmba                          0.523256\n",
              "sequestro_relampago           0.418605\n",
              "furto_coletivo                0.418605\n",
              "extorsao                      0.418605\n",
              "furto_celular                 0.418605\n",
              "roubo_apos_saque              0.418605\n",
              "roubo_conducao_saque          0.418605\n",
              "roubo_cx_eletronico           0.418605\n",
              "estupro                       0.418605\n",
              "estelionato                   0.418605\n",
              "pol_civis_mortos_serv         0.418605\n",
              "pol_militares_mortos_serv     0.418605\n",
              "pessoas_desaparecidas         0.383721\n",
              "encontro_ossada               0.383721\n",
              "roubo_celular                 0.313953\n",
              "lesao_corp_culposa            0.279070\n",
              "ameaca                        0.279070\n",
              "sequestro                     0.279070\n",
              "lesao_corp_morte              0.279070\n",
              "registro_ocorrencias          0.279070\n",
              "hom_por_interv_policial       0.244186\n",
              "hom_culposo                   0.244186\n",
              "tentat_hom                    0.000000\n",
              "roubo_comercio                0.000000\n",
              "roubo_residencia              0.000000\n",
              "latrocinio                    0.000000\n",
              "lesao_corp_dolosa             0.000000\n",
              "hom_doloso                    0.000000\n",
              "roubo_transeunte              0.000000\n",
              "mes                           0.000000\n",
              "roubo_veiculo                 0.000000\n",
              "roubo_carga                   0.000000\n",
              "fase                          0.000000\n",
              "roubo_em_coletivo             0.000000\n",
              "roubo_banco                   0.000000\n",
              "outros_roubos                 0.000000\n",
              "total_roubos                  0.000000\n",
              "furto_veiculos                0.000000\n",
              "furto_transeunte              0.000000\n",
              "outros_furtos                 0.000000\n",
              "total_furtos                  0.000000\n",
              "apreensao_drogas              0.000000\n",
              "recuperacao_veiculos          0.000000\n",
              "encontro_cadaver              0.000000\n",
              "indicador_letalidade          0.000000\n",
              "indicador_roubo_rua           0.000000\n",
              "indicador_roubo_veic          0.000000\n",
              "vano                          0.000000\n",
              "dtype: float64"
            ]
          },
          "metadata": {
            "tags": []
          },
          "execution_count": 12
        }
      ]
    },
    {
      "cell_type": "markdown",
      "metadata": {
        "id": "Mjlcr0_F20Wq"
      },
      "source": [
        "Como vemos acima, nossa hipótese anterior de que faltavam muitos dados estava correta. Atributos como `roubo_bicicleta` e `furto_bicicleta` possuem 276 dados faltantes o que resulta em 80% dos seus dados. \r\n",
        "\r\n",
        "Além deles, `apreensao_drogas_sem_autor`, `posse_drogas`, `apf`, `aaapai`, `cmp`, `trafico_drogas` e `cmba` possuem 180 valores ‘NaN`, quase 53% de todos seus valores."
      ]
    },
    {
      "cell_type": "markdown",
      "metadata": {
        "id": "czwJm4FS4GKT"
      },
      "source": [
        "### Informações Estatísticas e *outliers*"
      ]
    },
    {
      "cell_type": "markdown",
      "metadata": {
        "id": "ztxG6ljY8oUr"
      },
      "source": [
        "Abaixo, vamos ver algumas estatísticas do nosso dataset, principalmente para uma detecção inicial de *outliers*."
      ]
    },
    {
      "cell_type": "code",
      "metadata": {
        "colab": {
          "base_uri": "https://localhost:8080/"
        },
        "id": "RrkwyowN4ToR",
        "outputId": "3df766b6-b88d-497e-fb5c-1a0ce63ab0aa"
      },
      "source": [
        "# Ver estatísticas do dataset\r\n",
        "df.describe()"
      ],
      "execution_count": null,
      "outputs": [
        {
          "output_type": "execute_result",
          "data": {
            "text/html": [
              "<div>\n",
              "<style scoped>\n",
              "    .dataframe tbody tr th:only-of-type {\n",
              "        vertical-align: middle;\n",
              "    }\n",
              "\n",
              "    .dataframe tbody tr th {\n",
              "        vertical-align: top;\n",
              "    }\n",
              "\n",
              "    .dataframe thead th {\n",
              "        text-align: right;\n",
              "    }\n",
              "</style>\n",
              "<table border=\"1\" class=\"dataframe\">\n",
              "  <thead>\n",
              "    <tr style=\"text-align: right;\">\n",
              "      <th></th>\n",
              "      <th>vano</th>\n",
              "      <th>mes</th>\n",
              "      <th>hom_doloso</th>\n",
              "      <th>lesao_corp_morte</th>\n",
              "      <th>latrocinio</th>\n",
              "      <th>hom_por_interv_policial</th>\n",
              "      <th>tentat_hom</th>\n",
              "      <th>lesao_corp_dolosa</th>\n",
              "      <th>estupro</th>\n",
              "      <th>hom_culposo</th>\n",
              "      <th>lesao_corp_culposa</th>\n",
              "      <th>roubo_comercio</th>\n",
              "      <th>roubo_residencia</th>\n",
              "      <th>roubo_veiculo</th>\n",
              "      <th>roubo_carga</th>\n",
              "      <th>roubo_transeunte</th>\n",
              "      <th>roubo_em_coletivo</th>\n",
              "      <th>roubo_banco</th>\n",
              "      <th>roubo_cx_eletronico</th>\n",
              "      <th>roubo_celular</th>\n",
              "      <th>roubo_conducao_saque</th>\n",
              "      <th>roubo_apos_saque</th>\n",
              "      <th>roubo_bicicleta</th>\n",
              "      <th>outros_roubos</th>\n",
              "      <th>total_roubos</th>\n",
              "      <th>furto_veiculos</th>\n",
              "      <th>furto_transeunte</th>\n",
              "      <th>furto_coletivo</th>\n",
              "      <th>furto_celular</th>\n",
              "      <th>furto_bicicleta</th>\n",
              "      <th>outros_furtos</th>\n",
              "      <th>total_furtos</th>\n",
              "      <th>sequestro</th>\n",
              "      <th>extorsao</th>\n",
              "      <th>sequestro_relampago</th>\n",
              "      <th>estelionato</th>\n",
              "      <th>apreensao_drogas</th>\n",
              "      <th>posse_drogas</th>\n",
              "      <th>trafico_drogas</th>\n",
              "      <th>apreensao_drogas_sem_autor</th>\n",
              "      <th>recuperacao_veiculos</th>\n",
              "      <th>apf</th>\n",
              "      <th>aaapai</th>\n",
              "      <th>cmp</th>\n",
              "      <th>cmba</th>\n",
              "      <th>ameaca</th>\n",
              "      <th>pessoas_desaparecidas</th>\n",
              "      <th>encontro_cadaver</th>\n",
              "      <th>encontro_ossada</th>\n",
              "      <th>pol_militares_mortos_serv</th>\n",
              "      <th>pol_civis_mortos_serv</th>\n",
              "      <th>indicador_letalidade</th>\n",
              "      <th>indicador_roubo_rua</th>\n",
              "      <th>indicador_roubo_veic</th>\n",
              "      <th>registro_ocorrencias</th>\n",
              "      <th>fase</th>\n",
              "    </tr>\n",
              "  </thead>\n",
              "  <tbody>\n",
              "    <tr>\n",
              "      <th>count</th>\n",
              "      <td>344.000000</td>\n",
              "      <td>344.000000</td>\n",
              "      <td>344.000000</td>\n",
              "      <td>248.000000</td>\n",
              "      <td>344.000000</td>\n",
              "      <td>260.00000</td>\n",
              "      <td>344.000000</td>\n",
              "      <td>344.000000</td>\n",
              "      <td>200.000000</td>\n",
              "      <td>260.000000</td>\n",
              "      <td>248.000000</td>\n",
              "      <td>344.000000</td>\n",
              "      <td>344.000000</td>\n",
              "      <td>344.000000</td>\n",
              "      <td>344.000000</td>\n",
              "      <td>344.000000</td>\n",
              "      <td>344.000000</td>\n",
              "      <td>344.000000</td>\n",
              "      <td>200.000000</td>\n",
              "      <td>236.000000</td>\n",
              "      <td>200.000000</td>\n",
              "      <td>200.000000</td>\n",
              "      <td>68.000000</td>\n",
              "      <td>344.000000</td>\n",
              "      <td>344.000000</td>\n",
              "      <td>344.000000</td>\n",
              "      <td>344.000000</td>\n",
              "      <td>200.000000</td>\n",
              "      <td>200.000000</td>\n",
              "      <td>68.000000</td>\n",
              "      <td>344.000000</td>\n",
              "      <td>344.000000</td>\n",
              "      <td>248.000000</td>\n",
              "      <td>200.000000</td>\n",
              "      <td>200.000000</td>\n",
              "      <td>200.000000</td>\n",
              "      <td>344.000000</td>\n",
              "      <td>164.000000</td>\n",
              "      <td>164.000000</td>\n",
              "      <td>164.000000</td>\n",
              "      <td>344.000000</td>\n",
              "      <td>164.000000</td>\n",
              "      <td>164.000000</td>\n",
              "      <td>164.000000</td>\n",
              "      <td>164.000000</td>\n",
              "      <td>248.000000</td>\n",
              "      <td>212.000000</td>\n",
              "      <td>344.000000</td>\n",
              "      <td>212.000000</td>\n",
              "      <td>200.000000</td>\n",
              "      <td>200.00000</td>\n",
              "      <td>344.000000</td>\n",
              "      <td>344.000000</td>\n",
              "      <td>344.000000</td>\n",
              "      <td>248.000000</td>\n",
              "      <td>344.000000</td>\n",
              "    </tr>\n",
              "    <tr>\n",
              "      <th>mean</th>\n",
              "      <td>2004.837209</td>\n",
              "      <td>6.453488</td>\n",
              "      <td>504.555233</td>\n",
              "      <td>4.334677</td>\n",
              "      <td>15.668605</td>\n",
              "      <td>71.90000</td>\n",
              "      <td>318.267442</td>\n",
              "      <td>5492.799419</td>\n",
              "      <td>369.945000</td>\n",
              "      <td>212.119231</td>\n",
              "      <td>3410.762097</td>\n",
              "      <td>455.005814</td>\n",
              "      <td>133.284884</td>\n",
              "      <td>2448.697674</td>\n",
              "      <td>340.322674</td>\n",
              "      <td>3418.520349</td>\n",
              "      <td>659.002907</td>\n",
              "      <td>9.375000</td>\n",
              "      <td>3.550000</td>\n",
              "      <td>957.974576</td>\n",
              "      <td>11.320000</td>\n",
              "      <td>145.665000</td>\n",
              "      <td>10.808824</td>\n",
              "      <td>1211.223837</td>\n",
              "      <td>9428.119186</td>\n",
              "      <td>1674.671512</td>\n",
              "      <td>1518.921512</td>\n",
              "      <td>650.230000</td>\n",
              "      <td>1449.175000</td>\n",
              "      <td>124.808824</td>\n",
              "      <td>5994.328488</td>\n",
              "      <td>10433.177326</td>\n",
              "      <td>0.665323</td>\n",
              "      <td>133.265000</td>\n",
              "      <td>7.755000</td>\n",
              "      <td>2231.860000</td>\n",
              "      <td>1071.930233</td>\n",
              "      <td>609.237805</td>\n",
              "      <td>759.146341</td>\n",
              "      <td>186.146341</td>\n",
              "      <td>1772.238372</td>\n",
              "      <td>2319.585366</td>\n",
              "      <td>568.628049</td>\n",
              "      <td>1255.512195</td>\n",
              "      <td>83.042683</td>\n",
              "      <td>5530.326613</td>\n",
              "      <td>435.132075</td>\n",
              "      <td>66.261628</td>\n",
              "      <td>3.301887</td>\n",
              "      <td>2.085000</td>\n",
              "      <td>0.34000</td>\n",
              "      <td>577.691860</td>\n",
              "      <td>4734.738372</td>\n",
              "      <td>2448.697674</td>\n",
              "      <td>53794.161290</td>\n",
              "      <td>2.994186</td>\n",
              "    </tr>\n",
              "    <tr>\n",
              "      <th>std</th>\n",
              "      <td>8.289036</td>\n",
              "      <td>3.447759</td>\n",
              "      <td>113.774481</td>\n",
              "      <td>2.755357</td>\n",
              "      <td>5.861427</td>\n",
              "      <td>36.48882</td>\n",
              "      <td>127.606645</td>\n",
              "      <td>1514.220579</td>\n",
              "      <td>94.392434</td>\n",
              "      <td>54.234700</td>\n",
              "      <td>776.156561</td>\n",
              "      <td>119.765076</td>\n",
              "      <td>44.317963</td>\n",
              "      <td>789.689559</td>\n",
              "      <td>223.855243</td>\n",
              "      <td>2459.017549</td>\n",
              "      <td>297.622342</td>\n",
              "      <td>10.564894</td>\n",
              "      <td>2.634808</td>\n",
              "      <td>624.309034</td>\n",
              "      <td>6.404113</td>\n",
              "      <td>55.392367</td>\n",
              "      <td>7.767628</td>\n",
              "      <td>800.576723</td>\n",
              "      <td>4578.013053</td>\n",
              "      <td>294.852020</td>\n",
              "      <td>971.853102</td>\n",
              "      <td>268.836273</td>\n",
              "      <td>368.638776</td>\n",
              "      <td>80.247427</td>\n",
              "      <td>1964.767779</td>\n",
              "      <td>3696.725756</td>\n",
              "      <td>0.959128</td>\n",
              "      <td>43.303821</td>\n",
              "      <td>5.089646</td>\n",
              "      <td>772.093064</td>\n",
              "      <td>643.381991</td>\n",
              "      <td>246.307700</td>\n",
              "      <td>312.871487</td>\n",
              "      <td>36.221243</td>\n",
              "      <td>656.761843</td>\n",
              "      <td>650.520866</td>\n",
              "      <td>248.040620</td>\n",
              "      <td>357.035450</td>\n",
              "      <td>62.951374</td>\n",
              "      <td>1100.752625</td>\n",
              "      <td>65.353516</td>\n",
              "      <td>34.464519</td>\n",
              "      <td>2.192922</td>\n",
              "      <td>1.761616</td>\n",
              "      <td>0.63752</td>\n",
              "      <td>104.973929</td>\n",
              "      <td>3204.054864</td>\n",
              "      <td>789.689559</td>\n",
              "      <td>11039.051992</td>\n",
              "      <td>0.076138</td>\n",
              "    </tr>\n",
              "    <tr>\n",
              "      <th>min</th>\n",
              "      <td>1991.000000</td>\n",
              "      <td>1.000000</td>\n",
              "      <td>272.000000</td>\n",
              "      <td>0.000000</td>\n",
              "      <td>2.000000</td>\n",
              "      <td>10.00000</td>\n",
              "      <td>122.000000</td>\n",
              "      <td>2350.000000</td>\n",
              "      <td>188.000000</td>\n",
              "      <td>111.000000</td>\n",
              "      <td>848.000000</td>\n",
              "      <td>243.000000</td>\n",
              "      <td>49.000000</td>\n",
              "      <td>1097.000000</td>\n",
              "      <td>59.000000</td>\n",
              "      <td>688.000000</td>\n",
              "      <td>281.000000</td>\n",
              "      <td>0.000000</td>\n",
              "      <td>0.000000</td>\n",
              "      <td>0.000000</td>\n",
              "      <td>1.000000</td>\n",
              "      <td>11.000000</td>\n",
              "      <td>0.000000</td>\n",
              "      <td>81.000000</td>\n",
              "      <td>3261.000000</td>\n",
              "      <td>1159.000000</td>\n",
              "      <td>322.000000</td>\n",
              "      <td>23.000000</td>\n",
              "      <td>484.000000</td>\n",
              "      <td>0.000000</td>\n",
              "      <td>2322.000000</td>\n",
              "      <td>4691.000000</td>\n",
              "      <td>0.000000</td>\n",
              "      <td>23.000000</td>\n",
              "      <td>0.000000</td>\n",
              "      <td>717.000000</td>\n",
              "      <td>80.000000</td>\n",
              "      <td>248.000000</td>\n",
              "      <td>262.000000</td>\n",
              "      <td>114.000000</td>\n",
              "      <td>729.000000</td>\n",
              "      <td>1173.000000</td>\n",
              "      <td>225.000000</td>\n",
              "      <td>628.000000</td>\n",
              "      <td>21.000000</td>\n",
              "      <td>1409.000000</td>\n",
              "      <td>236.000000</td>\n",
              "      <td>0.000000</td>\n",
              "      <td>0.000000</td>\n",
              "      <td>0.000000</td>\n",
              "      <td>0.00000</td>\n",
              "      <td>334.000000</td>\n",
              "      <td>1086.000000</td>\n",
              "      <td>1097.000000</td>\n",
              "      <td>30621.000000</td>\n",
              "      <td>2.000000</td>\n",
              "    </tr>\n",
              "    <tr>\n",
              "      <th>25%</th>\n",
              "      <td>1998.000000</td>\n",
              "      <td>3.000000</td>\n",
              "      <td>413.750000</td>\n",
              "      <td>2.000000</td>\n",
              "      <td>11.000000</td>\n",
              "      <td>41.75000</td>\n",
              "      <td>200.000000</td>\n",
              "      <td>4067.000000</td>\n",
              "      <td>282.000000</td>\n",
              "      <td>176.000000</td>\n",
              "      <td>3040.000000</td>\n",
              "      <td>365.750000</td>\n",
              "      <td>103.750000</td>\n",
              "      <td>1889.750000</td>\n",
              "      <td>208.250000</td>\n",
              "      <td>1053.000000</td>\n",
              "      <td>430.750000</td>\n",
              "      <td>2.000000</td>\n",
              "      <td>2.000000</td>\n",
              "      <td>549.750000</td>\n",
              "      <td>6.000000</td>\n",
              "      <td>106.000000</td>\n",
              "      <td>2.250000</td>\n",
              "      <td>811.750000</td>\n",
              "      <td>5107.750000</td>\n",
              "      <td>1430.500000</td>\n",
              "      <td>732.000000</td>\n",
              "      <td>501.000000</td>\n",
              "      <td>1297.000000</td>\n",
              "      <td>3.750000</td>\n",
              "      <td>3978.000000</td>\n",
              "      <td>6700.250000</td>\n",
              "      <td>0.000000</td>\n",
              "      <td>109.750000</td>\n",
              "      <td>4.750000</td>\n",
              "      <td>1654.500000</td>\n",
              "      <td>714.500000</td>\n",
              "      <td>360.500000</td>\n",
              "      <td>426.000000</td>\n",
              "      <td>160.000000</td>\n",
              "      <td>1276.750000</td>\n",
              "      <td>1681.000000</td>\n",
              "      <td>332.500000</td>\n",
              "      <td>950.500000</td>\n",
              "      <td>46.000000</td>\n",
              "      <td>4868.500000</td>\n",
              "      <td>390.000000</td>\n",
              "      <td>42.000000</td>\n",
              "      <td>2.000000</td>\n",
              "      <td>1.000000</td>\n",
              "      <td>0.00000</td>\n",
              "      <td>500.000000</td>\n",
              "      <td>1557.000000</td>\n",
              "      <td>1889.750000</td>\n",
              "      <td>45374.500000</td>\n",
              "      <td>3.000000</td>\n",
              "    </tr>\n",
              "    <tr>\n",
              "      <th>50%</th>\n",
              "      <td>2005.000000</td>\n",
              "      <td>6.000000</td>\n",
              "      <td>507.000000</td>\n",
              "      <td>4.000000</td>\n",
              "      <td>15.000000</td>\n",
              "      <td>70.00000</td>\n",
              "      <td>318.500000</td>\n",
              "      <td>5830.500000</td>\n",
              "      <td>384.000000</td>\n",
              "      <td>203.000000</td>\n",
              "      <td>3372.000000</td>\n",
              "      <td>433.500000</td>\n",
              "      <td>125.000000</td>\n",
              "      <td>2322.000000</td>\n",
              "      <td>285.500000</td>\n",
              "      <td>2788.500000</td>\n",
              "      <td>592.000000</td>\n",
              "      <td>4.500000</td>\n",
              "      <td>3.000000</td>\n",
              "      <td>717.500000</td>\n",
              "      <td>10.000000</td>\n",
              "      <td>149.500000</td>\n",
              "      <td>13.000000</td>\n",
              "      <td>1154.000000</td>\n",
              "      <td>9243.500000</td>\n",
              "      <td>1637.500000</td>\n",
              "      <td>1076.500000</td>\n",
              "      <td>717.500000</td>\n",
              "      <td>1492.500000</td>\n",
              "      <td>158.000000</td>\n",
              "      <td>6559.000000</td>\n",
              "      <td>10448.500000</td>\n",
              "      <td>0.000000</td>\n",
              "      <td>132.500000</td>\n",
              "      <td>7.000000</td>\n",
              "      <td>2170.500000</td>\n",
              "      <td>979.500000</td>\n",
              "      <td>623.000000</td>\n",
              "      <td>815.000000</td>\n",
              "      <td>184.000000</td>\n",
              "      <td>1755.000000</td>\n",
              "      <td>2424.000000</td>\n",
              "      <td>530.000000</td>\n",
              "      <td>1259.000000</td>\n",
              "      <td>58.000000</td>\n",
              "      <td>5455.000000</td>\n",
              "      <td>427.000000</td>\n",
              "      <td>60.500000</td>\n",
              "      <td>3.000000</td>\n",
              "      <td>2.000000</td>\n",
              "      <td>0.00000</td>\n",
              "      <td>590.000000</td>\n",
              "      <td>4190.000000</td>\n",
              "      <td>2322.000000</td>\n",
              "      <td>54926.500000</td>\n",
              "      <td>3.000000</td>\n",
              "    </tr>\n",
              "    <tr>\n",
              "      <th>75%</th>\n",
              "      <td>2012.000000</td>\n",
              "      <td>9.000000</td>\n",
              "      <td>577.250000</td>\n",
              "      <td>6.000000</td>\n",
              "      <td>19.000000</td>\n",
              "      <td>96.25000</td>\n",
              "      <td>398.250000</td>\n",
              "      <td>6582.500000</td>\n",
              "      <td>441.250000</td>\n",
              "      <td>236.250000</td>\n",
              "      <td>3733.500000</td>\n",
              "      <td>536.250000</td>\n",
              "      <td>151.250000</td>\n",
              "      <td>2778.000000</td>\n",
              "      <td>401.250000</td>\n",
              "      <td>5385.250000</td>\n",
              "      <td>784.000000</td>\n",
              "      <td>14.000000</td>\n",
              "      <td>5.000000</td>\n",
              "      <td>1306.750000</td>\n",
              "      <td>15.000000</td>\n",
              "      <td>180.500000</td>\n",
              "      <td>17.000000</td>\n",
              "      <td>1635.000000</td>\n",
              "      <td>11590.500000</td>\n",
              "      <td>1833.250000</td>\n",
              "      <td>2334.250000</td>\n",
              "      <td>860.000000</td>\n",
              "      <td>1731.250000</td>\n",
              "      <td>181.500000</td>\n",
              "      <td>7601.500000</td>\n",
              "      <td>13877.500000</td>\n",
              "      <td>1.000000</td>\n",
              "      <td>152.250000</td>\n",
              "      <td>11.000000</td>\n",
              "      <td>2880.500000</td>\n",
              "      <td>1546.000000</td>\n",
              "      <td>763.500000</td>\n",
              "      <td>1045.250000</td>\n",
              "      <td>208.000000</td>\n",
              "      <td>2202.000000</td>\n",
              "      <td>2905.500000</td>\n",
              "      <td>793.500000</td>\n",
              "      <td>1515.250000</td>\n",
              "      <td>93.000000</td>\n",
              "      <td>6261.750000</td>\n",
              "      <td>481.500000</td>\n",
              "      <td>87.000000</td>\n",
              "      <td>4.000000</td>\n",
              "      <td>3.000000</td>\n",
              "      <td>1.00000</td>\n",
              "      <td>649.000000</td>\n",
              "      <td>6872.750000</td>\n",
              "      <td>2778.000000</td>\n",
              "      <td>63292.500000</td>\n",
              "      <td>3.000000</td>\n",
              "    </tr>\n",
              "    <tr>\n",
              "      <th>max</th>\n",
              "      <td>2019.000000</td>\n",
              "      <td>12.000000</td>\n",
              "      <td>831.000000</td>\n",
              "      <td>21.000000</td>\n",
              "      <td>36.000000</td>\n",
              "      <td>194.00000</td>\n",
              "      <td>645.000000</td>\n",
              "      <td>9050.000000</td>\n",
              "      <td>561.000000</td>\n",
              "      <td>449.000000</td>\n",
              "      <td>6653.000000</td>\n",
              "      <td>914.000000</td>\n",
              "      <td>300.000000</td>\n",
              "      <td>5358.000000</td>\n",
              "      <td>1329.000000</td>\n",
              "      <td>9669.000000</td>\n",
              "      <td>1628.000000</td>\n",
              "      <td>54.000000</td>\n",
              "      <td>12.000000</td>\n",
              "      <td>2626.000000</td>\n",
              "      <td>37.000000</td>\n",
              "      <td>283.000000</td>\n",
              "      <td>26.000000</td>\n",
              "      <td>3661.000000</td>\n",
              "      <td>23203.000000</td>\n",
              "      <td>2630.000000</td>\n",
              "      <td>5368.000000</td>\n",
              "      <td>1036.000000</td>\n",
              "      <td>2215.000000</td>\n",
              "      <td>243.000000</td>\n",
              "      <td>9880.000000</td>\n",
              "      <td>18003.000000</td>\n",
              "      <td>5.000000</td>\n",
              "      <td>271.000000</td>\n",
              "      <td>31.000000</td>\n",
              "      <td>3627.000000</td>\n",
              "      <td>2543.000000</td>\n",
              "      <td>1160.000000</td>\n",
              "      <td>1282.000000</td>\n",
              "      <td>289.000000</td>\n",
              "      <td>3695.000000</td>\n",
              "      <td>3425.000000</td>\n",
              "      <td>1114.000000</td>\n",
              "      <td>2314.000000</td>\n",
              "      <td>350.000000</td>\n",
              "      <td>9034.000000</td>\n",
              "      <td>628.000000</td>\n",
              "      <td>217.000000</td>\n",
              "      <td>13.000000</td>\n",
              "      <td>10.000000</td>\n",
              "      <td>3.00000</td>\n",
              "      <td>848.000000</td>\n",
              "      <td>13833.000000</td>\n",
              "      <td>5358.000000</td>\n",
              "      <td>75403.000000</td>\n",
              "      <td>3.000000</td>\n",
              "    </tr>\n",
              "  </tbody>\n",
              "</table>\n",
              "</div>"
            ],
            "text/plain": [
              "              vano         mes  ...  registro_ocorrencias        fase\n",
              "count   344.000000  344.000000  ...            248.000000  344.000000\n",
              "mean   2004.837209    6.453488  ...          53794.161290    2.994186\n",
              "std       8.289036    3.447759  ...          11039.051992    0.076138\n",
              "min    1991.000000    1.000000  ...          30621.000000    2.000000\n",
              "25%    1998.000000    3.000000  ...          45374.500000    3.000000\n",
              "50%    2005.000000    6.000000  ...          54926.500000    3.000000\n",
              "75%    2012.000000    9.000000  ...          63292.500000    3.000000\n",
              "max    2019.000000   12.000000  ...          75403.000000    3.000000\n",
              "\n",
              "[8 rows x 56 columns]"
            ]
          },
          "metadata": {
            "tags": []
          },
          "execution_count": 13
        }
      ]
    },
    {
      "cell_type": "markdown",
      "metadata": {
        "id": "cEvn_yZZ89HI"
      },
      "source": [
        "Assim, em uma primeira vista não foi notada a presença significativa de *outliers*.\r\n",
        "\r\n",
        "A seguir, iremos visualizar os histogramas das nossas variáveis. \r\n"
      ]
    },
    {
      "cell_type": "code",
      "metadata": {
        "colab": {
          "base_uri": "https://localhost:8080/"
        },
        "id": "9Jfu-L4n7GUQ",
        "outputId": "75468f08-cb1c-4622-d42d-9be728f2b3f2"
      },
      "source": [
        "# Histogramas\r\n",
        "df.hist(bins=25, figsize=(40,25));"
      ],
      "execution_count": null,
      "outputs": [
        {
          "output_type": "display_data",
          "data": {
            "image/png": "[encoded data removed]",
            "text/plain": [
              "<Figure size 2880x1800 with 56 Axes>"
            ]
          },
          "metadata": {
            "tags": [],
            "needs_background": "light"
          }
        }
      ]
    },
    {
      "cell_type": "markdown",
      "metadata": {
        "id": "B5fl9Rcu-n4y"
      },
      "source": [
        "## Análise dos Veículos Roubados/Furtados"
      ]
    },
    {
      "cell_type": "markdown",
      "metadata": {
        "id": "W6rOmgil_mg_"
      },
      "source": [
        "Um dos tipos de crimes do nosso dataset é o roubo e furto de veículos, que é algo ocasionalmente ocorre no Brasil.\r\n",
        "\r\n",
        "Agora, vamos fazer uma breve análise sobre esse tema. \r\n",
        "\r\n",
        "Inicialmente, calcularemos as médias das variáveis ` df.roubo_veiculo`, `df.furto_veiculos` e ` df.recuperacao_veiculos`  para que, em seguida, seja a feita a conta da porcentagem de quantos veículos foram recuperados."
      ]
    },
    {
      "cell_type": "code",
      "metadata": {
        "colab": {
          "base_uri": "https://localhost:8080/"
        },
        "id": "57ZjNSud9PcG",
        "outputId": "5ed3f944-2fb9-4b9c-d985-ac3dcd1a9d25"
      },
      "source": [
        "# Média de roubos, furtos e recuperações de veículos\r\n",
        "print('='*60)\r\n",
        "print('Média de veículos roubados: {:.0f}.'.format(df.roubo_veiculo.mean()))\r\n",
        "print('Média de veículos furtados: {:.0f}.'.format(df.recuperacao_veiculos.mean()))\r\n",
        "print('Média de veículos recuperados: {:.0f}.'.format(df.recuperacao_veiculos.mean()))\r\n",
        "print('='*60)\r\n",
        "print('Então, a porcentagem de veículos recuperados é de: {:.0f}% '.format(df.recuperacao_veiculos.mean() *100 / (df.roubo_veiculo.mean() + df.furto_veiculos.mean())))\r\n",
        "print('='*60)"
      ],
      "execution_count": null,
      "outputs": [
        {
          "output_type": "stream",
          "text": [
            "============================================================\n",
            "Média de veículos roubados: 2449.\n",
            "Média de veículos furtados: 1772.\n",
            "Média de veículos recuperados: 1772.\n",
            "============================================================\n",
            "Entao, a porcentagem de veículos recuperados é de: 43% \n",
            "============================================================\n"
          ],
          "name": "stdout"
        }
      ]
    },
    {
      "cell_type": "markdown",
      "metadata": {
        "id": "h9LR0aZQQJQ7"
      },
      "source": [
        "Com uma porcentagem de 43% de veículos recuperados, a chance de que a polícia recupere é boa, visto que após o roubo muitos criminosos desmontam o carro para vender as peças separas ou até mesmo queimam o carro para não serem achados. "
      ]
    },
    {
      "cell_type": "markdown",
      "metadata": {
        "id": "Fb6dsV9zD7b4"
      },
      "source": [
        "## Análise de mortes policiais"
      ]
    },
    {
      "cell_type": "markdown",
      "metadata": {
        "id": "WFhORnX2KdW-"
      },
      "source": [
        "Todos sabemos o quanto é perigoso ser policial da linha de frente em combate à violência. \r\n",
        "\r\n",
        "Infelizmente, nem todos conseguem voltar para suas casa após um dia de trabalho. Nessa parte do projeto, iremos ver a quantidade de policias mortos e a média de mortes e, para isso, vamos analisar as variáveis ` pol_civis_mortos_serv`, ` pol_militares_mortos_serv ` e ` hom_por_interv_policial `.\r\n",
        "\r\n",
        "Antes de começarmos a análise, lembramos que existem muitos dados faltantes para esses atributos como vimos anteriormente.\r\n"
      ]
    },
    {
      "cell_type": "markdown",
      "metadata": {
        "id": "FRnTt9BnLk9S"
      },
      "source": [
        "### Policiais civis mortos em serviço "
      ]
    },
    {
      "cell_type": "markdown",
      "metadata": {
        "id": "xyCeMWYAKsiZ"
      },
      "source": [
        "Começaremos analisando a variável ` pol_civis_mortos_serv`.\r\n",
        "\r\n",
        "A seguir, vemos que 68 policiais civis foram mortos ao todo das 200 informações sobre a variável ` pol_civis_mortos_serv` do nosso dataset, resultado que é razoavelmente alto. "
      ]
    },
    {
      "cell_type": "code",
      "metadata": {
        "colab": {
          "base_uri": "https://localhost:8080/"
        },
        "id": "OYch_4j1ECk5",
        "outputId": "49b5cd6a-a1ad-4233-b0ae-a10aac66f00c"
      },
      "source": [
        "# Quantidade de policiais civis mortos em serviço \r\n",
        "print('Quantidade de policiais civis mortos em serviço : ', df.pol_civis_mortos_serv.sum())"
      ],
      "execution_count": null,
      "outputs": [
        {
          "output_type": "stream",
          "text": [
            "Quantidade de policiais civis mortos em serviço :  68.0\n"
          ],
          "name": "stdout"
        }
      ]
    },
    {
      "cell_type": "markdown",
      "metadata": {
        "id": "34DU_w1jKcNg"
      },
      "source": [
        "Como é possível ver abaixo,  em 149 vezes nenhum policial civil morreu, 35 vezes um policial civil morreu, 15 vezes dois policiais civis morreram e 1 vez três policiais morreram civis."
      ]
    },
    {
      "cell_type": "code",
      "metadata": {
        "colab": {
          "base_uri": "https://localhost:8080/",
          "height": 459
        },
        "id": "SlYdnv51IMlg",
        "outputId": "20fa9e29-2f6d-41fe-f568-29aeb4bc87d8"
      },
      "source": [
        "# Quantidade de vezes de cada valor\r\n",
        "print(df.pol_civis_mortos_serv.value_counts())\r\n",
        "\r\n",
        "# Histograma de policiais civis mortos em serviço \r\n",
        "df['pol_civis_mortos_serv'].hist(figsize=(8,6));"
      ],
      "execution_count": null,
      "outputs": [
        {
          "output_type": "stream",
          "text": [
            "0.0    149\n",
            "1.0     35\n",
            "2.0     15\n",
            "3.0      1\n",
            "Name: pol_civis_mortos_serv, dtype: int64\n"
          ],
          "name": "stdout"
        },
        {
          "output_type": "display_data",
          "data": {
            "image/png": "[encoded data removed]",
            "text/plain": [
              "<Figure size 576x432 with 1 Axes>"
            ]
          },
          "metadata": {
            "tags": [],
            "needs_background": "light"
          }
        }
      ]
    },
    {
      "cell_type": "markdown",
      "metadata": {
        "id": "N-j5-lofL0h7"
      },
      "source": [
        "### Policiais militares mortos em serviço"
      ]
    },
    {
      "cell_type": "markdown",
      "metadata": {
        "id": "ds4Wio3WNNVc"
      },
      "source": [
        "Veremos agora a variável `pol_militares_mortos_serv`.\r\n",
        "\r\n",
        "Adiante, vemos que 417 policiais militares foram mortos ao todo das 200 informações sobre a variável `pol_militares_mortos_serv` do nosso dataset, resultado que muito alto."
      ]
    },
    {
      "cell_type": "code",
      "metadata": {
        "colab": {
          "base_uri": "https://localhost:8080/"
        },
        "id": "CB6PBcwOECsV",
        "outputId": "6a04dedb-1f76-4c19-bdcc-d95730fa2c1f"
      },
      "source": [
        "# Quantidade de policiais militares mortos em serviço \r\n",
        "print('Quantidade de policiais civis mortos em serviço : ', df.pol_militares_mortos_serv.sum())"
      ],
      "execution_count": null,
      "outputs": [
        {
          "output_type": "stream",
          "text": [
            "Quantidade de policiais civis mortos em serviço :  417.0\n"
          ],
          "name": "stdout"
        }
      ]
    },
    {
      "cell_type": "markdown",
      "metadata": {
        "id": "P-PbyAIJOOdN"
      },
      "source": [
        "Como é possível ver abaixo, 33 vezes nenhum policial militar morreu, 58 vezes um policial militar morreu, 40 vezes dois policiais militares morreram e assim por diante."
      ]
    },
    {
      "cell_type": "code",
      "metadata": {
        "colab": {
          "base_uri": "https://localhost:8080/",
          "height": 544
        },
        "id": "jlR_8QYjLx5V",
        "outputId": "ef00ffa4-4fa5-480e-db3a-804d8038bb42"
      },
      "source": [
        "# Quantidade de vezes de cada valor \r\n",
        "print(df.pol_militares_mortos_serv.value_counts())\r\n",
        "\r\n",
        "# Histograma de policiais civis mortos em serviço \r\n",
        "df['pol_militares_mortos_serv'].hist(figsize=(8,6));"
      ],
      "execution_count": null,
      "outputs": [
        {
          "output_type": "stream",
          "text": [
            "1.0     58\n",
            "2.0     40\n",
            "0.0     33\n",
            "3.0     33\n",
            "4.0     20\n",
            "5.0      6\n",
            "7.0      6\n",
            "6.0      3\n",
            "10.0     1\n",
            "Name: pol_militares_mortos_serv, dtype: int64\n"
          ],
          "name": "stdout"
        },
        {
          "output_type": "display_data",
          "data": {
            "image/png": "[encoded data removed]",
            "text/plain": [
              "<Figure size 576x432 with 1 Axes>"
            ]
          },
          "metadata": {
            "tags": [],
            "needs_background": "light"
          }
        }
      ]
    },
    {
      "cell_type": "markdown",
      "metadata": {
        "id": "eLWjYYh0TQU5"
      },
      "source": [
        "###Total de mortes"
      ]
    },
    {
      "cell_type": "markdown",
      "metadata": {
        "id": "g6a5FiwvSIjl"
      },
      "source": [
        "Visto as estatísticas dos dados de mortes de policiais civis e militares, vou concatenar os dois atributos para uma melhor visualização das mortes totais de policiais.\r\n"
      ]
    },
    {
      "cell_type": "code",
      "metadata": {
        "id": "iEmccsOgSYQo"
      },
      "source": [
        "#Concatenar os atributos pol_civis_mortos_serv e pol_militares_mortos_serv\r\n",
        "df_concat = pd.concat(objs=[df.pol_civis_mortos_serv, df.pol_militares_mortos_serv], axis=0)"
      ],
      "execution_count": null,
      "outputs": []
    },
    {
      "cell_type": "code",
      "metadata": {
        "colab": {
          "base_uri": "https://localhost:8080/"
        },
        "id": "_dJrqj2SSJpe",
        "outputId": "9a77cc9d-a204-4db7-ff19-320ff2d39dc1"
      },
      "source": [
        "# Quantidade de policiais mortos em serviço \r\n",
        "print('Quantidade de policiais civis mortos em serviço : ', df_concat.sum())"
      ],
      "execution_count": null,
      "outputs": [
        {
          "output_type": "stream",
          "text": [
            "Quantidade de policiais civis mortos em serviço :  485.0\n"
          ],
          "name": "stdout"
        }
      ]
    },
    {
      "cell_type": "markdown",
      "metadata": {
        "id": "W8sbSc9hT8if"
      },
      "source": [
        "Ao fim, vemos que ao todo dos nosso 200 dados que contem informações das nossa variáveis, um total de 485 policiais foram mortos distribuídos da seguinte forma:"
      ]
    },
    {
      "cell_type": "code",
      "metadata": {
        "colab": {
          "base_uri": "https://localhost:8080/",
          "height": 544
        },
        "id": "OXtkkMtlRFd0",
        "outputId": "2aa6dcaf-e8f0-4c4b-c5d5-f3bc543c842b"
      },
      "source": [
        "# Quantidade de vezes de cada valor \r\n",
        "print(df_concat.value_counts())\r\n",
        "\r\n",
        "# Histograma\r\n",
        "df_concat.hist(figsize=(8,6));"
      ],
      "execution_count": null,
      "outputs": [
        {
          "output_type": "stream",
          "text": [
            "0.0     182\n",
            "1.0      93\n",
            "2.0      55\n",
            "3.0      34\n",
            "4.0      20\n",
            "5.0       6\n",
            "7.0       6\n",
            "6.0       3\n",
            "10.0      1\n",
            "dtype: int64\n"
          ],
          "name": "stdout"
        },
        {
          "output_type": "display_data",
          "data": {
            "image/png": "[encoded data removed]",
            "text/plain": [
              "<Figure size 576x432 with 1 Axes>"
            ]
          },
          "metadata": {
            "tags": [],
            "needs_background": "light"
          }
        }
      ]
    },
    {
      "cell_type": "markdown",
      "metadata": {
        "id": "UtYeHGwGUcbW"
      },
      "source": [
        "### Homicídio por intervenção policial "
      ]
    },
    {
      "cell_type": "markdown",
      "metadata": {
        "id": "nOfHubifWHc-"
      },
      "source": [
        "Até agora, vimos as estatísticas dos policiais que morreram. \r\n",
        "\r\n",
        "Vamos agora ver brevemente os dados das pessoas que morreram devido a alguma intervenção policial."
      ]
    },
    {
      "cell_type": "code",
      "metadata": {
        "colab": {
          "base_uri": "https://localhost:8080/"
        },
        "id": "QQF7O2HXUfZI",
        "outputId": "ebe097cb-3365-44e8-f902-44c2f0dbeac6"
      },
      "source": [
        "# Quantidade de pessoas mortas\r\n",
        "print('Quantidade de policiais civis mortos em serviço : ', df.hom_por_interv_policial.sum())"
      ],
      "execution_count": null,
      "outputs": [
        {
          "output_type": "stream",
          "text": [
            "Quantidade de policiais civis mortos em serviço :  18694.0\n"
          ],
          "name": "stdout"
        }
      ]
    },
    {
      "cell_type": "markdown",
      "metadata": {
        "id": "pygFxKdSW9qT"
      },
      "source": [
        "Assim, nos 260 dados disponíveis da variável ` hom_por_interv_policial`, temos que 18 694 pessoas que morreram em alguma intervenção policial. Número relativamente grande.\r\n",
        "\r\n",
        "A seguir, vamos ver o histograma do nosso atributo.\r\n"
      ]
    },
    {
      "cell_type": "code",
      "metadata": {
        "colab": {
          "base_uri": "https://localhost:8080/",
          "height": 578
        },
        "id": "0XqJD6pjUi4C",
        "outputId": "7a711d54-29a7-4f19-a7ec-b79369823eb1"
      },
      "source": [
        "# Quantidade de vezes de cada valor \r\n",
        "print(df.hom_por_interv_policial.value_counts().sort_values(ascending=False))\r\n",
        "\r\n",
        "# Histograma\r\n",
        "df.hom_por_interv_policial.hist(figsize=(8,6));"
      ],
      "execution_count": null,
      "outputs": [
        {
          "output_type": "stream",
          "text": [
            "75.0     8\n",
            "38.0     7\n",
            "102.0    6\n",
            "74.0     6\n",
            "37.0     5\n",
            "        ..\n",
            "84.0     1\n",
            "123.0    1\n",
            "157.0    1\n",
            "155.0    1\n",
            "72.0     1\n",
            "Name: hom_por_interv_policial, Length: 114, dtype: int64\n"
          ],
          "name": "stdout"
        },
        {
          "output_type": "display_data",
          "data": {
            "image/png": "[encoded data removed]",
            "text/plain": [
              "<Figure size 576x432 with 1 Axes>"
            ]
          },
          "metadata": {
            "tags": [],
            "needs_background": "light"
          }
        }
      ]
    },
    {
      "cell_type": "markdown",
      "metadata": {
        "id": "AnihhGR-Yi7a"
      },
      "source": [
        "Acima, vemos como as mortes estão distribuídas. Alguns fatos para se notar são que em 8 ocasiões ocorreram 75 mortes e 1 vez tiveram 157 mortes, o que é espantoso."
      ]
    },
    {
      "cell_type": "markdown",
      "metadata": {
        "id": "ic1t7cw0aeV2"
      },
      "source": [
        "## Análise de Roubo a caixa eletrônico/instituições financeiras/Bancos"
      ]
    },
    {
      "cell_type": "markdown",
      "metadata": {
        "id": "jqbGI2Val8lA"
      },
      "source": [
        "Outro tipo de crime, é com relação a roubos após saque em caixa eletrônico / instituições financeiras. \r\n",
        "\r\n",
        "Vamos analisar os dados do nosso dataset desses crimes também.\r\n",
        "\r\n",
        "Além deles,  iremos verificar também os dados de roubos a bancos.\r\n",
        "\r\n",
        "Para isso, vamos analisar as variáveis `roubo_apos_saque`, `roubo_conducao_saque`, `roubo_cx_eletronico` e `roubo_banco `."
      ]
    },
    {
      "cell_type": "markdown",
      "metadata": {
        "id": "Xbv1dTtUcc7f"
      },
      "source": [
        "### Roubo após saque em instituição financeira"
      ]
    },
    {
      "cell_type": "code",
      "metadata": {
        "colab": {
          "base_uri": "https://localhost:8080/"
        },
        "id": "asW5JM5gaiTT",
        "outputId": "77ca1764-0b5e-4251-d166-67ec37bdad9e"
      },
      "source": [
        "# Quantidade de Roubo após saque em instituição financeira\r\n",
        "print('Quantidade de Roubo após saque em instituição financeira : ', df.roubo_apos_saque.sum())"
      ],
      "execution_count": null,
      "outputs": [
        {
          "output_type": "stream",
          "text": [
            "Quantidade de Roubo após saque em instituição financeira :  29133.0\n"
          ],
          "name": "stdout"
        }
      ]
    },
    {
      "cell_type": "code",
      "metadata": {
        "colab": {
          "base_uri": "https://localhost:8080/",
          "height": 578
        },
        "id": "KhmB5wFWbiit",
        "outputId": "c3abaa51-cd38-4ffc-8e6c-c46f5da68a64"
      },
      "source": [
        "# Quantidade de vezes de cada valor \r\n",
        "print(df.roubo_apos_saque.value_counts().sort_values(ascending=False))\r\n",
        "\r\n",
        "# Histograma\r\n",
        "df.roubo_apos_saque.hist(figsize=(8,6));"
      ],
      "execution_count": null,
      "outputs": [
        {
          "output_type": "stream",
          "text": [
            "156.0    5\n",
            "67.0     4\n",
            "165.0    4\n",
            "159.0    4\n",
            "154.0    3\n",
            "        ..\n",
            "62.0     1\n",
            "32.0     1\n",
            "183.0    1\n",
            "11.0     1\n",
            "80.0     1\n",
            "Name: roubo_apos_saque, Length: 122, dtype: int64\n"
          ],
          "name": "stdout"
        },
        {
          "output_type": "display_data",
          "data": {
            "image/png": "[encoded data removed]",
            "text/plain": [
              "<Figure size 576x432 with 1 Axes>"
            ]
          },
          "metadata": {
            "tags": [],
            "needs_background": "light"
          }
        }
      ]
    },
    {
      "cell_type": "markdown",
      "metadata": {
        "id": "7y0csFk5cfI8"
      },
      "source": [
        "### Roubo com condução da vítima para saque em instituição financeira"
      ]
    },
    {
      "cell_type": "code",
      "metadata": {
        "colab": {
          "base_uri": "https://localhost:8080/"
        },
        "id": "SQfRZiTLcguj",
        "outputId": "49e8d204-c93b-4d1f-9135-52d8c8321b61"
      },
      "source": [
        "# Quantidade de Roubo com condução da vítima para saque em instituição financeira\r\n",
        "print('Quantidade de Roubo com condução da vítima para saque em instituição financeira: ', df.roubo_conducao_saque.sum())"
      ],
      "execution_count": null,
      "outputs": [
        {
          "output_type": "stream",
          "text": [
            "Quantidade de Roubo com condução da vítima para saque em instituição financeira:  2264.0\n"
          ],
          "name": "stdout"
        }
      ]
    },
    {
      "cell_type": "code",
      "metadata": {
        "colab": {
          "base_uri": "https://localhost:8080/",
          "height": 561
        },
        "id": "5dLcPeQdckcN",
        "outputId": "91b6cacf-e657-4cd0-b31a-d99812ab7396"
      },
      "source": [
        "# Quantidade de vezes de cada valor \r\n",
        "print(df.roubo_conducao_saque.value_counts().head(10))\r\n",
        "\r\n",
        "# Histograma\r\n",
        "df.roubo_conducao_saque.hist(figsize=(8,6));"
      ],
      "execution_count": null,
      "outputs": [
        {
          "output_type": "stream",
          "text": [
            "8.0     18\n",
            "6.0     17\n",
            "11.0    15\n",
            "9.0     13\n",
            "5.0     12\n",
            "14.0    12\n",
            "4.0     12\n",
            "10.0    12\n",
            "12.0    10\n",
            "18.0     9\n",
            "Name: roubo_conducao_saque, dtype: int64\n"
          ],
          "name": "stdout"
        },
        {
          "output_type": "display_data",
          "data": {
            "image/png": "[encoded data removed]",
            "text/plain": [
              "<Figure size 576x432 with 1 Axes>"
            ]
          },
          "metadata": {
            "tags": [],
            "needs_background": "light"
          }
        }
      ]
    },
    {
      "cell_type": "markdown",
      "metadata": {
        "id": "iTeh5P4VcuD7"
      },
      "source": [
        "### Roubo de caixa eletrônico"
      ]
    },
    {
      "cell_type": "code",
      "metadata": {
        "colab": {
          "base_uri": "https://localhost:8080/"
        },
        "id": "lzpzm8eIcu5g",
        "outputId": "9bce717c-a4e7-42ca-87de-ddac8fc7b6aa"
      },
      "source": [
        "# Quantidade de Roubos de caixa eletrônico\r\n",
        "print('Quantidade de policiais civis mortos em serviço: ', df.roubo_cx_eletronico.sum())"
      ],
      "execution_count": null,
      "outputs": [
        {
          "output_type": "stream",
          "text": [
            "Quantidade de policiais civis mortos em serviço:  710.0\n"
          ],
          "name": "stdout"
        }
      ]
    },
    {
      "cell_type": "code",
      "metadata": {
        "colab": {
          "base_uri": "https://localhost:8080/",
          "height": 613
        },
        "id": "tkd4yEVfc0h7",
        "outputId": "0375adb5-ccc9-43b8-b249-a78233431a04"
      },
      "source": [
        "# Quantidade de vezes de cada valor\r\n",
        "print(df.roubo_cx_eletronico.value_counts().sort_values(ascending=False))\r\n",
        "\r\n",
        "# Histograma\r\n",
        "df.roubo_cx_eletronico.hist(figsize=(8,6));"
      ],
      "execution_count": null,
      "outputs": [
        {
          "output_type": "stream",
          "text": [
            "3.0     34\n",
            "2.0     32\n",
            "1.0     31\n",
            "4.0     26\n",
            "5.0     19\n",
            "0.0     17\n",
            "6.0     14\n",
            "7.0     12\n",
            "8.0      5\n",
            "11.0     4\n",
            "9.0      2\n",
            "12.0     2\n",
            "10.0     2\n",
            "Name: roubo_cx_eletronico, dtype: int64\n"
          ],
          "name": "stdout"
        },
        {
          "output_type": "display_data",
          "data": {
            "image/png": "[encoded data removed]",
            "text/plain": [
              "<Figure size 576x432 with 1 Axes>"
            ]
          },
          "metadata": {
            "tags": [],
            "needs_background": "light"
          }
        }
      ]
    },
    {
      "cell_type": "markdown",
      "metadata": {
        "id": "TXl7vfFkcwf2"
      },
      "source": [
        "### Roubo a banco"
      ]
    },
    {
      "cell_type": "code",
      "metadata": {
        "colab": {
          "base_uri": "https://localhost:8080/"
        },
        "id": "wHIvS0WxcyBu",
        "outputId": "62e63ddf-c2da-4336-83fd-42544094abc1"
      },
      "source": [
        "# Quantidade de Roubos a banco \r\n",
        "print('Quantidade de Roubos a banco: ', df.roubo_banco.sum())"
      ],
      "execution_count": null,
      "outputs": [
        {
          "output_type": "stream",
          "text": [
            "Quantidade de Roubos a banco:  3225\n"
          ],
          "name": "stdout"
        }
      ]
    },
    {
      "cell_type": "code",
      "metadata": {
        "colab": {
          "base_uri": "https://localhost:8080/",
          "height": 561
        },
        "id": "27ivNnikc1A4",
        "outputId": "388db9b1-e846-49d5-8578-ab49dae02b81"
      },
      "source": [
        "# Quantidade de vezes de cada valor \r\n",
        "print(df.roubo_banco.value_counts().head(10))\r\n",
        "# Histograma\r\n",
        "df.roubo_banco.hist(figsize=(8,6));"
      ],
      "execution_count": null,
      "outputs": [
        {
          "output_type": "stream",
          "text": [
            "1     52\n",
            "2     48\n",
            "3     40\n",
            "5     21\n",
            "0     16\n",
            "4     16\n",
            "17    11\n",
            "13    11\n",
            "10     9\n",
            "14     9\n",
            "Name: roubo_banco, dtype: int64\n"
          ],
          "name": "stdout"
        },
        {
          "output_type": "display_data",
          "data": {
            "image/png": "[encoded data removed]",
            "text/plain": [
              "<Figure size 576x432 with 1 Axes>"
            ]
          },
          "metadata": {
            "tags": [],
            "needs_background": "light"
          }
        }
      ]
    }
  ]
}