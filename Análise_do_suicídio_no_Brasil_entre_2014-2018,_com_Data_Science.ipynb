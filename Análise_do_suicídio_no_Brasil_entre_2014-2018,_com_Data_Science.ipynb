{
  "nbformat": 4,
  "nbformat_minor": 0,
  "metadata": {
    "colab": {
      "name": "Análise do suicídio no Brasil entre 2014-2018, com Data Science.ipynb",
      "provenance": [],
      "toc_visible": true,
      "authorship_tag": "ABX9TyOJr33m43I4zmf6EJUlpi3z",
      "include_colab_link": true
    },
    "kernelspec": {
      "name": "python3",
      "display_name": "Python 3"
    }
  },
  "cells": [
    {
      "cell_type": "markdown",
      "metadata": {
        "id": "view-in-github",
        "colab_type": "text"
      },
      "source": [
        "<a href=\"https://colab.research.google.com/github/ViniciusMangueira/Data_Science/blob/main/An%C3%A1lise_do_suic%C3%ADdio_no_Brasil_entre_2014-2018%2C_com_Data_Science.ipynb\" target=\"_parent\"><img src=\"https://colab.research.google.com/assets/colab-badge.svg\" alt=\"Open In Colab\"/></a>"
      ]
    },
    {
      "cell_type": "markdown",
      "metadata": {
        "id": "GMxnEhvImFHW"
      },
      "source": [
        "#Setembro Amarelo: análise do suicídio no Brasil com Data Science\r\n",
        "\r\n",
        "Iniciativa do Centro de Valorização da Vida (CVV), do Conselho Federal de Medicina (CFM) e da Associação Brasileira de Psiquiatria e, iniciada em 2001, é uma campanha brasileira de prevenção ao suicídio, realizada em setembro pois o dia 10 de setembro é o Dia Mundial de Prevenção do Suicídio.\r\n",
        "\r\n",
        "<center><image src=\"https://upload.wikimedia.org/wikipedia/pt/thumb/7/72/Falar_e_a_melhor_solucao.jpg/220px-Falar_e_a_melhor_solucao.jpg\"></center>\r\n",
        "\r\n",
        "Segundo a Organização Mundial da Saúde (OMS), o Brasil ocupa o oitavo lugar no número de suicídios no mundo: São 32 brasileiros por dia. Isso faz com que o suicídio tenha uma taxa de vitima maior que o da AIDS, por exemplo.\r\n",
        "Diante disso, durante o mês inteiro são feitas diversas campanhas, palestras e ações para a conscientização sobre o suicídio.\r\n",
        "\r\n",
        "Neste artigo, vamos ver alguns dados do suicídio no Brasil durante os anos de 2014-2018, analisá-los e trazer algumas estatísticas sobre os mesmos e, assim, ajudar na conscientização de que o suicídio é uma doença séria. \r\n"
      ]
    },
    {
      "cell_type": "markdown",
      "metadata": {
        "id": "M6-k7fFWmXee"
      },
      "source": [
        "##Importação dos Dados\r\n"
      ]
    },
    {
      "cell_type": "markdown",
      "metadata": {
        "id": "O3fWmGcrmc9U"
      },
      "source": [
        "Os dados [estão hospedados nesta página](https://www.kaggle.com/psicodata/dados-de-suicdio-no-brasil-2014-a-2018), e traz informações os casos de suicídios no Brasil entre os anos de 2014 e 2018.\r\n",
        "\r\n",
        "Vamos agora importar os dados."
      ]
    },
    {
      "cell_type": "code",
      "metadata": {
        "id": "tqt1Tx2hGrbJ"
      },
      "source": [
        "# Importar as bibliotecas\r\n",
        "import pandas as pd \r\n",
        "import seaborn as sns\r\n",
        "import matplotlib.pyplot as plt\r\n"
      ],
      "execution_count": 1,
      "outputs": []
    },
    {
      "cell_type": "code",
      "metadata": {
        "id": "xmgNp0IcZR-C"
      },
      "source": [
        "# Importar o arquivo\r\n",
        "df = pd.read_csv('/content/datasus_suicidio_2014_2018.csv', sep=',',encoding='latin-1')"
      ],
      "execution_count": 2,
      "outputs": []
    },
    {
      "cell_type": "markdown",
      "metadata": {
        "id": "HMaWg5d3p6Ib"
      },
      "source": [
        "Vamos identificar a quantidade de entradas que nosso conjunto de dados possui e ver os tipos de cada coluna."
      ]
    },
    {
      "cell_type": "code",
      "metadata": {
        "colab": {
          "base_uri": "https://localhost:8080/"
        },
        "id": "9b-d3kDoox19",
        "outputId": "0ffeba9d-9e51-4630-97c9-cbdcf23d3469"
      },
      "source": [
        "# Ver o formato do arquivo\r\n",
        "print('Formato do Dataframe: ', df.shape)"
      ],
      "execution_count": 3,
      "outputs": [
        {
          "output_type": "stream",
          "text": [
            "Formato do Dataframe:  (58634, 17)\n"
          ],
          "name": "stdout"
        }
      ]
    },
    {
      "cell_type": "markdown",
      "metadata": {
        "id": "qs3N82pUpiJZ"
      },
      "source": [
        "Temos então nosso dataset com 58 634 linhas e 17 colunas."
      ]
    },
    {
      "cell_type": "code",
      "metadata": {
        "colab": {
          "base_uri": "https://localhost:8080/",
          "height": 345
        },
        "id": "jaLa8JaSpv52",
        "outputId": "a7e00d5b-45f4-4d32-aff5-bc2517ff956d"
      },
      "source": [
        "# Verificar os tipos das entradas do dataset\r\n",
        "display(df.dtypes)"
      ],
      "execution_count": 4,
      "outputs": [
        {
          "output_type": "display_data",
          "data": {
            "text/plain": [
              "estado         object\n",
              "ano             int64\n",
              "CIRCOBITO      object\n",
              "DTOBITO        object\n",
              "DTNASC         object\n",
              "SEXO           object\n",
              "RACACOR        object\n",
              "ESTCIV         object\n",
              "ESC            object\n",
              "OCUP           object\n",
              "CODMUNRES      object\n",
              "LOCOCOR        object\n",
              "ASSISTMED      object\n",
              "CAUSABAS       object\n",
              "CAUSABAS_O     object\n",
              "idade         float64\n",
              "mes             int64\n",
              "dtype: object"
            ]
          },
          "metadata": {
            "tags": []
          }
        }
      ]
    },
    {
      "cell_type": "markdown",
      "metadata": {
        "id": "p3mV5LE5pMo6"
      },
      "source": [
        "##Análise dos Dados"
      ]
    },
    {
      "cell_type": "markdown",
      "metadata": {
        "id": "scux_yLvqnBi"
      },
      "source": [
        "**Dicionário das variáveis**\r\n",
        "\r\n",
        "* `estado` - UF do caso registrado.\r\n",
        "* `ano` - Ano do caso registrado.\r\n",
        "* `CIRCOBITO` - Circunstância do óbito. 1 : Acidente, 2 : Suicídio, 3 : Homicídio, 4 : Outro, 0;5;6;7;8;9 : NA.\r\n",
        "* `DTOBITO` - data do óbito.\r\n",
        "* `DTNASC` - data de nascimento.\r\n",
        "* `SEXO` - sexo. 1 : Masculino, 2 : Feminino, 0;9 : NA.\r\n",
        "* `RACACOR` - raça. 1 : Branca, 2 : Preta, 3 : Amarela, 4 : Parda, 5 : Indígena, 0;6;7;8;9 : NA.\r\n",
        "* `ESTCIV` - estado civil. 1 : Solteiro, 2 : Casado, 3 : Viúvo, 4 : Separado judicialmente, 5 : União consensual, 0;6;7;8;9 : NA.\r\n",
        "* `ESC` - escolaridade. 1 : Nenhuma, 2: 1 a 3 anos, 3 : 4 a 7 anos, 4 : 8 a 11 anos, 5 : 12 e mais, 8 : De 9 a 11 anos, 0;6;7;9;A : NA.\r\n",
        "* `OCUP` - ocupação. Para óbitos a partir de 2006, segue-se a tabela CBO2002.\r\n",
        "* `CODMUNRES` - município de residência do falecido (codificado).\r\n",
        "* `LOCOCOR` - Local de ocorrência do óbito. 1 : Hospital, 2 : Outro estabelecimento de saúde, 3 : Domicílio, 4 : Via pública, 5 : Outros, 9 : NA.\r\n",
        "* `ASSISTMED` - Assistência médica. 1 : Sim, 2 : Não, 9 : NA.\r\n",
        "* `CAUSABAS` - Causa básica do óbito. Código CID-10.\r\n",
        "* `CAUSABAS_O` - Causa básica do óbito. Código CID-10.\r\n",
        "* `idade` - Idade da pessoa.\r\n",
        "* `mes` - O mês do óbito."
      ]
    },
    {
      "cell_type": "markdown",
      "metadata": {
        "id": "Pdktlg8EEYYX"
      },
      "source": [
        "###Análise Inicial"
      ]
    },
    {
      "cell_type": "markdown",
      "metadata": {
        "id": "p38pqvNhTa3T"
      },
      "source": [
        "Inicialmente, vamos analisar os tipos de morte do nosso dataset."
      ]
    },
    {
      "cell_type": "code",
      "metadata": {
        "colab": {
          "base_uri": "https://localhost:8080/"
        },
        "id": "oiHIcOkJTOL3",
        "outputId": "bcc55048-7c3c-4806-b169-a855c229ee34"
      },
      "source": [
        "# Ver as causas das mortes\r\n",
        "df.CIRCOBITO.unique()"
      ],
      "execution_count": 5,
      "outputs": [
        {
          "output_type": "execute_result",
          "data": {
            "text/plain": [
              "array(['Suicídio', 'Acidente', nan, 'Homicídio', 'Outro'], dtype=object)"
            ]
          },
          "metadata": {
            "tags": []
          },
          "execution_count": 5
        }
      ]
    },
    {
      "cell_type": "markdown",
      "metadata": {
        "id": "WGHmO6Ij2zQz"
      },
      "source": [
        "Logo, no nosso dataset existem outras causas de morte fora suicídio. \r\n",
        "\r\n",
        "Dessa forma, vamos criar um subdataset só com os dados cuja causa de morte foi suicídio."
      ]
    },
    {
      "cell_type": "code",
      "metadata": {
        "colab": {
          "base_uri": "https://localhost:8080/"
        },
        "id": "c2UbiVwX0zpI",
        "outputId": "4ceeb8d5-5a58-43f2-a47b-85473e9cb9b7"
      },
      "source": [
        "#Criando um subdataset so com os dados de Suicídio\r\n",
        "df_suicidio = df[df.CIRCOBITO == 'Suicídio'].copy()\r\n",
        "print('Formato do subdataset: ', df_suicidio.shape)"
      ],
      "execution_count": 6,
      "outputs": [
        {
          "output_type": "stream",
          "text": [
            "Formato do subdataset:  (55484, 17)\n"
          ],
          "name": "stdout"
        }
      ]
    },
    {
      "cell_type": "markdown",
      "metadata": {
        "id": "0E9gO1xQpc99"
      },
      "source": [
        "Vamos inicialmente ver a cara do nosso subdataset."
      ]
    },
    {
      "cell_type": "code",
      "metadata": {
        "colab": {
          "base_uri": "https://localhost:8080/",
          "height": 319
        },
        "id": "UsTxrqSZa6GL",
        "outputId": "913964d1-0ece-464a-f3af-c79c1a7b5522"
      },
      "source": [
        "#Ver as 5 primeiras entradas\r\n",
        "df_suicidio.head()"
      ],
      "execution_count": 7,
      "outputs": [
        {
          "output_type": "execute_result",
          "data": {
            "text/html": [
              "<div>\n",
              "<style scoped>\n",
              "    .dataframe tbody tr th:only-of-type {\n",
              "        vertical-align: middle;\n",
              "    }\n",
              "\n",
              "    .dataframe tbody tr th {\n",
              "        vertical-align: top;\n",
              "    }\n",
              "\n",
              "    .dataframe thead th {\n",
              "        text-align: right;\n",
              "    }\n",
              "</style>\n",
              "<table border=\"1\" class=\"dataframe\">\n",
              "  <thead>\n",
              "    <tr style=\"text-align: right;\">\n",
              "      <th></th>\n",
              "      <th>estado</th>\n",
              "      <th>ano</th>\n",
              "      <th>CIRCOBITO</th>\n",
              "      <th>DTOBITO</th>\n",
              "      <th>DTNASC</th>\n",
              "      <th>SEXO</th>\n",
              "      <th>RACACOR</th>\n",
              "      <th>ESTCIV</th>\n",
              "      <th>ESC</th>\n",
              "      <th>OCUP</th>\n",
              "      <th>CODMUNRES</th>\n",
              "      <th>LOCOCOR</th>\n",
              "      <th>ASSISTMED</th>\n",
              "      <th>CAUSABAS</th>\n",
              "      <th>CAUSABAS_O</th>\n",
              "      <th>idade</th>\n",
              "      <th>mes</th>\n",
              "    </tr>\n",
              "  </thead>\n",
              "  <tbody>\n",
              "    <tr>\n",
              "      <th>0</th>\n",
              "      <td>AC</td>\n",
              "      <td>2014</td>\n",
              "      <td>Suicídio</td>\n",
              "      <td>02-01-14</td>\n",
              "      <td>02-07-77</td>\n",
              "      <td>Masculino</td>\n",
              "      <td>Preta</td>\n",
              "      <td>Casado</td>\n",
              "      <td>4 a 7 anos</td>\n",
              "      <td>ATLETA PROFISSIONAL DE FUTEBOL</td>\n",
              "      <td>Rio Branco</td>\n",
              "      <td>Domicílio</td>\n",
              "      <td>Não</td>\n",
              "      <td>X700</td>\n",
              "      <td>X700</td>\n",
              "      <td>37.0</td>\n",
              "      <td>1</td>\n",
              "    </tr>\n",
              "    <tr>\n",
              "      <th>1</th>\n",
              "      <td>AC</td>\n",
              "      <td>2014</td>\n",
              "      <td>Suicídio</td>\n",
              "      <td>23-01-14</td>\n",
              "      <td>30-07-66</td>\n",
              "      <td>Masculino</td>\n",
              "      <td>Branca</td>\n",
              "      <td>União consensual</td>\n",
              "      <td>12 e mais</td>\n",
              "      <td>MEDICO GINECOLOGISTA E OBSTETRA</td>\n",
              "      <td>Rio Branco</td>\n",
              "      <td>Domicílio</td>\n",
              "      <td>Não</td>\n",
              "      <td>X800</td>\n",
              "      <td>X800</td>\n",
              "      <td>48.0</td>\n",
              "      <td>1</td>\n",
              "    </tr>\n",
              "    <tr>\n",
              "      <th>2</th>\n",
              "      <td>AC</td>\n",
              "      <td>2014</td>\n",
              "      <td>Suicídio</td>\n",
              "      <td>31-01-14</td>\n",
              "      <td>28-07-43</td>\n",
              "      <td>Masculino</td>\n",
              "      <td>Branca</td>\n",
              "      <td>NaN</td>\n",
              "      <td>NaN</td>\n",
              "      <td>0</td>\n",
              "      <td>Rio Branco</td>\n",
              "      <td>Domicílio</td>\n",
              "      <td>Não</td>\n",
              "      <td>X700</td>\n",
              "      <td>X700</td>\n",
              "      <td>71.0</td>\n",
              "      <td>1</td>\n",
              "    </tr>\n",
              "    <tr>\n",
              "      <th>3</th>\n",
              "      <td>AC</td>\n",
              "      <td>2014</td>\n",
              "      <td>Suicídio</td>\n",
              "      <td>05-02-14</td>\n",
              "      <td>04-07-99</td>\n",
              "      <td>Masculino</td>\n",
              "      <td>Branca</td>\n",
              "      <td>Solteiro</td>\n",
              "      <td>4 a 7 anos</td>\n",
              "      <td>ESTUDANTE</td>\n",
              "      <td>Epitaciolândia</td>\n",
              "      <td>Outros</td>\n",
              "      <td>Não</td>\n",
              "      <td>X700</td>\n",
              "      <td>X700</td>\n",
              "      <td>15.0</td>\n",
              "      <td>2</td>\n",
              "    </tr>\n",
              "    <tr>\n",
              "      <th>4</th>\n",
              "      <td>AC</td>\n",
              "      <td>2014</td>\n",
              "      <td>Suicídio</td>\n",
              "      <td>06-02-14</td>\n",
              "      <td>02-05-72</td>\n",
              "      <td>Masculino</td>\n",
              "      <td>Branca</td>\n",
              "      <td>NaN</td>\n",
              "      <td>NaN</td>\n",
              "      <td>0</td>\n",
              "      <td>Rio Branco</td>\n",
              "      <td>Outros</td>\n",
              "      <td>Não</td>\n",
              "      <td>X700</td>\n",
              "      <td>X700</td>\n",
              "      <td>42.0</td>\n",
              "      <td>2</td>\n",
              "    </tr>\n",
              "  </tbody>\n",
              "</table>\n",
              "</div>"
            ],
            "text/plain": [
              "  estado   ano CIRCOBITO   DTOBITO  ... CAUSABAS CAUSABAS_O idade mes\n",
              "0     AC  2014  Suicídio  02-01-14  ...     X700       X700  37.0   1\n",
              "1     AC  2014  Suicídio  23-01-14  ...     X800       X800  48.0   1\n",
              "2     AC  2014  Suicídio  31-01-14  ...     X700       X700  71.0   1\n",
              "3     AC  2014  Suicídio  05-02-14  ...     X700       X700  15.0   2\n",
              "4     AC  2014  Suicídio  06-02-14  ...     X700       X700  42.0   2\n",
              "\n",
              "[5 rows x 17 columns]"
            ]
          },
          "metadata": {
            "tags": []
          },
          "execution_count": 7
        }
      ]
    },
    {
      "cell_type": "markdown",
      "metadata": {
        "id": "Wx_wuv_zuGxH"
      },
      "source": [
        "Vamos abaixo ver a qualidade do nosso dataset quantificando a quantidade de valores ausentes ‘NaN’.\r\n",
        "\r\n",
        "Notamos que existem muitos valores ausentes, no entanto alguns atributos não possuem dados faltantes como, por exemplo, `OCUP`, `CODMUNRES`, `ano` e `estado`.\r\n",
        "\r\n",
        "Por outro lado, o atributo `ASSISTMED` tem um total de 16216 valores 'NaN' e, já `ESC` possui 12813 valores 'NaN'."
      ]
    },
    {
      "cell_type": "code",
      "metadata": {
        "colab": {
          "base_uri": "https://localhost:8080/"
        },
        "id": "W-FNI1UWgfmD",
        "outputId": "9cfdaa2b-9467-421e-cb77-8ec21b9e2a4e"
      },
      "source": [
        "#Quantidade de valores NaN\r\n",
        "df_suicidio.isnull().sum().sort_values(ascending=False)"
      ],
      "execution_count": 8,
      "outputs": [
        {
          "output_type": "execute_result",
          "data": {
            "text/plain": [
              "ASSISTMED     16216\n",
              "ESC           12813\n",
              "ESTCIV         4048\n",
              "RACACOR        1231\n",
              "DTNASC          208\n",
              "idade           208\n",
              "LOCOCOR         147\n",
              "CAUSABAS_O       76\n",
              "SEXO             14\n",
              "ano               0\n",
              "CIRCOBITO         0\n",
              "DTOBITO           0\n",
              "mes               0\n",
              "OCUP              0\n",
              "CODMUNRES         0\n",
              "CAUSABAS          0\n",
              "estado            0\n",
              "dtype: int64"
            ]
          },
          "metadata": {
            "tags": []
          },
          "execution_count": 8
        }
      ]
    },
    {
      "cell_type": "markdown",
      "metadata": {
        "id": "QneAbiyZu-Ga"
      },
      "source": [
        "Vamos ver agora uma série de histogramas para enxergar alguns insights do nosso dataset."
      ]
    },
    {
      "cell_type": "markdown",
      "metadata": {
        "id": "9ysAJVeZjRpd"
      },
      "source": [
        "###Tendência da taxa de suicídio no Brasil por: \r\n"
      ]
    },
    {
      "cell_type": "markdown",
      "metadata": {
        "id": "1bmOsmQ0Icqz"
      },
      "source": [
        "####Estado:"
      ]
    },
    {
      "cell_type": "markdown",
      "metadata": {
        "id": "MoqQmhzh4HR_"
      },
      "source": [
        "Inicialmente vamos analisar a quantidade de suicídios por cada estado do Brasil.\r\n",
        "\r\n",
        "Com o histograma abaixo, é possível ver que a maioria dos atos foram feitos em São Paulo, seguido por Minas Gerais, Rio Grande o Sul e Bahia. \r\n",
        "\r\n",
        "O que é compreensível, visto que, [segundo o IBGE](https://agenciadenoticias.ibge.gov.br/agencia-sala-de-imprensa/2013-agencia-de-noticias/releases/28668-ibge-divulga-estimativa-da-populacao-dos-municipios-para-2020#:~:text=No%20ranking%20dos%20estados%2C%20São,17%2C4%20milhões%20de%20habitantes.), SP é o estado com a maior população do Brasil, seguido por MG. No entanto, fica o alerta para os estados da BA e do RS.\r\n"
      ]
    },
    {
      "cell_type": "code",
      "metadata": {
        "colab": {
          "base_uri": "https://localhost:8080/",
          "height": 483
        },
        "id": "vmxMSFbpjS6J",
        "outputId": "928dea2c-751a-44a4-f794-63596158dd09"
      },
      "source": [
        "# Histograma\r\n",
        "df_suicidio['estado'].hist(bins=20, figsize=(15,8));"
      ],
      "execution_count": 9,
      "outputs": [
        {
          "output_type": "display_data",
          "data": {
            "image/png": "[encoded data removed]",
            "text/plain": [
              "<Figure size 1080x576 with 1 Axes>"
            ]
          },
          "metadata": {
            "tags": [],
            "needs_background": "light"
          }
        }
      ]
    },
    {
      "cell_type": "markdown",
      "metadata": {
        "id": "n1NLxdTX3SmG"
      },
      "source": [
        "#### Ano:\r\n"
      ]
    },
    {
      "cell_type": "markdown",
      "metadata": {
        "id": "KZ1qxnd_354L"
      },
      "source": [
        "Podemos analisar também a quantidade de casos com o passar dos anos, pois assim podemos ver se os casos vem diminuindo ou aumentando.\r\n",
        "\r\n",
        "No histograma abaixo, percebemos inicialmente que com o passar do tempo o número de casos aumentou. Chegando a um aumento de quase 2000 casos de 2014 para 2018.\r\n",
        "\r\n",
        "Constatado que o número de casos aumentou, é preciso então que as campanhas para a prevenção e divulgação do suicídio sejam ampliadas cada vez mais."
      ]
    },
    {
      "cell_type": "code",
      "metadata": {
        "colab": {
          "base_uri": "https://localhost:8080/",
          "height": 483
        },
        "id": "s6xJYDuMbwbI",
        "outputId": "79270f1e-5b91-4d3b-8411-48865d035548"
      },
      "source": [
        "# Histograma\r\n",
        "df_suicidio['ano'].hist(bins=20, figsize=(10,8));"
      ],
      "execution_count": 10,
      "outputs": [
        {
          "output_type": "display_data",
          "data": {
            "image/png": "[encoded data removed]",
            "text/plain": [
              "<Figure size 720x576 with 1 Axes>"
            ]
          },
          "metadata": {
            "tags": [],
            "needs_background": "light"
          }
        }
      ]
    },
    {
      "cell_type": "markdown",
      "metadata": {
        "id": "AAObcvrSEOcj"
      },
      "source": [
        "####Idade:"
      ]
    },
    {
      "cell_type": "markdown",
      "metadata": {
        "id": "1nFE6ViKzMhY"
      },
      "source": [
        "Outro fator importante, é analisar a idade das pessoas que tiraram sua própria vida.\r\n",
        "\r\n",
        "Abaixo, vemos que a faixa etária que mais comete esse ato tem entre 30-40 anos.\r\n"
      ]
    },
    {
      "cell_type": "code",
      "metadata": {
        "colab": {
          "base_uri": "https://localhost:8080/",
          "height": 483
        },
        "id": "5f4EjPEyE-cY",
        "outputId": "f8cc91d8-6ea8-4a85-fa02-fcb04e240005"
      },
      "source": [
        "# Histograma\r\n",
        "df_suicidio['idade'].hist(bins=20, figsize=(10,8));"
      ],
      "execution_count": 13,
      "outputs": [
        {
          "output_type": "display_data",
          "data": {
            "image/png": "[encoded data removed]",
            "text/plain": [
              "<Figure size 720x576 with 1 Axes>"
            ]
          },
          "metadata": {
            "tags": [],
            "needs_background": "light"
          }
        }
      ]
    },
    {
      "cell_type": "markdown",
      "metadata": {
        "id": "B94SjIqM8WWx"
      },
      "source": [
        "#### Sexo:"
      ]
    },
    {
      "cell_type": "markdown",
      "metadata": {
        "id": "Fiu-9b4B_TEO"
      },
      "source": [
        "Uma outra análise de grande importância é ver a porcentagem dos suicídios entre homens e mulheres.\r\n",
        "\r\n",
        "Como mostra o gráfico abaixo, a grande maioria das pessoas que tira a sua própria vida são homens com 78,7%, contra 21,3% de mulheres.\r\n",
        "\r\n",
        "Dessa forma,  fazer campanhas a mais que sejam focadas na população masculina pode contribuir com redução desses números.\r\n",
        "\r\n"
      ]
    },
    {
      "cell_type": "code",
      "metadata": {
        "colab": {
          "base_uri": "https://localhost:8080/",
          "height": 248
        },
        "id": "pmeYKVRx87zo",
        "outputId": "b8b1861f-3ca4-49bd-a2bd-2dbf1dd38486"
      },
      "source": [
        "#Extrair valores, em porcentagem, entre homens e mulheres\r\n",
        "homens_mulheres = df_suicidio.groupby('SEXO').ano.sum() / df_suicidio.groupby('SEXO').ano.sum().sum()\r\n",
        "\r\n",
        "#Plotar o gráfico de pizza\r\n",
        "plt.pie(homens_mulheres, labels=['mulheres', 'homens'], autopct='%1.1f%%', shadow=True);"
      ],
      "execution_count": 9,
      "outputs": [
        {
          "output_type": "display_data",
          "data": {
            "image/png": "[encoded data removed]",
            "text/plain": [
              "<Figure size 432x288 with 1 Axes>"
            ]
          },
          "metadata": {
            "tags": []
          }
        }
      ]
    },
    {
      "cell_type": "markdown",
      "metadata": {
        "id": "N-6QPS8ko0eO"
      },
      "source": [
        "####Estado Civil:"
      ]
    },
    {
      "cell_type": "markdown",
      "metadata": {
        "id": "ZalPnS5MFYXO"
      },
      "source": [
        "Outro fator a ser analisado, é o Estado civil da pessoa.\r\n",
        "\r\n",
        "Pelo histograma abaixo, é possível ver que a maioria das pessoas que tiraram sua própria vida eram solteiras.\r\n",
        "\r\n",
        "Assim, podemos fazer uma suposição de que a pessoa poderia estar solitária.\r\n",
        "\r\n",
        "Dessa forma, se faz muito importante a divulgação do [número para ligação, 188, do CVV](https://www.cvv.org.br)(Centro de Valorização da Vida realiza apoio emocional e prevenção do suicídio, atendendo voluntária e gratuitamente todas as pessoas que querem e precisam conversar, sob total sigilo por telefone, email e chat 24 horas todos os dias).\r\n"
      ]
    },
    {
      "cell_type": "code",
      "metadata": {
        "colab": {
          "base_uri": "https://localhost:8080/",
          "height": 483
        },
        "id": "VeNAkVsxowlr",
        "outputId": "63a68e72-7c57-4491-837e-b653788057d0"
      },
      "source": [
        "# Histograma\r\n",
        "df_suicidio['ESTCIV'].hist(bins=20, figsize=(8,8));"
      ],
      "execution_count": 13,
      "outputs": [
        {
          "output_type": "display_data",
          "data": {
            "image/png": "[encoded data removed]",
            "text/plain": [
              "<Figure size 576x576 with 1 Axes>"
            ]
          },
          "metadata": {
            "tags": [],
            "needs_background": "light"
          }
        }
      ]
    },
    {
      "cell_type": "markdown",
      "metadata": {
        "id": "6MmSKLgBpZYy"
      },
      "source": [
        "####Etnia:"
      ]
    },
    {
      "cell_type": "markdown",
      "metadata": {
        "id": "jtfyUuIOH9V4"
      },
      "source": [
        "Por fim, vamos ver a quantidade de casos por etnia.\r\n",
        "\r\n",
        "Pelo gráfico abaixo, fica evidente que as pessoas que mais tiram suas vidas são brancas ou pardas.\r\n"
      ]
    },
    {
      "cell_type": "code",
      "metadata": {
        "colab": {
          "base_uri": "https://localhost:8080/",
          "height": 483
        },
        "id": "XUEDqJ2JovAP",
        "outputId": "4beb4164-dc29-4a76-f614-da4c2b7e2d38"
      },
      "source": [
        "# Histograma\r\n",
        "df_suicidio['RACACOR'].hist(bins=20, figsize=(8,8));"
      ],
      "execution_count": 17,
      "outputs": [
        {
          "output_type": "display_data",
          "data": {
            "image/png": "[encoded data removed]",
            "text/plain": [
              "<Figure size 576x576 with 1 Axes>"
            ]
          },
          "metadata": {
            "tags": [],
            "needs_background": "light"
          }
        }
      ]
    },
    {
      "cell_type": "markdown",
      "metadata": {
        "id": "XMDWdwlz7Zrg"
      },
      "source": [
        "## Conclusão\r\n"
      ]
    },
    {
      "cell_type": "markdown",
      "metadata": {
        "id": "4P2PmDGOJ_b4"
      },
      "source": [
        "Dessa forma, acabamos o projeto.\r\n",
        "\r\n",
        "Diante disso, vimos que com o passar dos anos de 2014 a 2018 que o número de casos aumentou tendo na faixa etária dos 30-40 anos a maior quantidade de casos, além de homens como 78.7% das pessoas que cometem suicídio.\r\n",
        "\r\n",
        "Outro fator, é a localidade dos fatos. Com a maior quantidade de casos temos a maior metrópole brasileira, além de Minas, Bahia e Rio Grande do Sul.\r\n",
        "\r\n",
        "Por último, verificamos que a maioria das pessoas que tirou a sua própria vida eram solteiras e/ou brancas ou pardas.\r\n"
      ]
    },
    {
      "cell_type": "markdown",
      "metadata": {
        "id": "3HO1SbfRPrnM"
      },
      "source": [
        "Ficou claro que então que mais medidas no combate ao suicídio precisam ser tomadas. \r\n",
        "\r\n",
        "Ainda durante o projeto foram dadas algumas sugestões como, por exemplo, a divulgação do [telefone do CVV (188)](https://www.cvv.org.br), a criação de campanhas específicas tanto para os estados com a maior quantidade de casos quanto para pessoas que tenham tendencias suicidas que entrem nas características de etnia branca/parda, solteiro e tenham entre 30-40 anos. "
      ]
    },
    {
      "cell_type": "markdown",
      "metadata": {
        "id": "hwVNRjgsPxde"
      },
      "source": [
        "Ao fim deste artigo, espero que os leitores tenham retirado um pouco de conhecimento sobre um problema tão sério.\r\n",
        "\r\n",
        "Por fim, lembre-se que não é frescura e que ninguém está querendo aparecer. Na verdade, a gente nunca tem a mínima ideia do que a outra pessoa está passando. Qualquer atitude que você tenha que possa contribuir para a prevenção do suicídio."
      ]
    }
  ]
}