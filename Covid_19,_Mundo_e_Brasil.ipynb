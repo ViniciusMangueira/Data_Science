{
  "nbformat": 4,
  "nbformat_minor": 0,
  "metadata": {
    "colab": {
      "name": "Covid-19, Mundo e Brasil.ipynb",
      "provenance": [],
      "collapsed_sections": [
        "cIJn4xNfJ9rj",
        "aXYSh-sjKWHM",
        "f6G87QKY0Mxz",
        "weGnDQ0uoH7K",
        "Gm7yheGcoP_E",
        "FmTLYzLfomGK",
        "ZzcTi1Lho15E",
        "iHejPBp4nO85",
        "9VkyT5HpldFm",
        "jU78Nbtaljgd",
        "IWvxY9iQpkX9",
        "UkYmFamVpoC3",
        "2JPruZ9W0pUs",
        "p23aJYR8Eth0"
      ],
      "toc_visible": true,
      "authorship_tag": "ABX9TyOuCaaAilrEL9Yiiz7OfQLD",
      "include_colab_link": true
    },
    "kernelspec": {
      "display_name": "Python 3",
      "name": "python3"
    }
  },
  "cells": [
    {
      "cell_type": "markdown",
      "metadata": {
        "id": "view-in-github",
        "colab_type": "text"
      },
      "source": [
        "<a href=\"https://colab.research.google.com/github/ViniciusMangueira/Data_Science/blob/main/Covid_19%2C_Mundo_e_Brasil.ipynb\" target=\"_parent\"><img src=\"https://colab.research.google.com/assets/colab-badge.svg\" alt=\"Open In Colab\"/></a>"
      ]
    },
    {
      "cell_type": "markdown",
      "metadata": {
        "id": "JlNQdA9kJ4-e"
      },
      "source": [
        "# COVID-19 MUNDO E BRASIL\r\n",
        "\r\n",
        "<center><image src=\"https://www.pfizer.com.br/sites/default/files/inline-images/covid-19_0.jpg\"></center>\r\n",
        "\r\n",
        "O famigerado Coronavírus é uma família de vírus que causa infecções respiratórias cujos sintomas variam desde manifestações leves, como perda de olfato e paladar, até quadros mais graves, que provocam falta de ar e podem levar à morte.\r\n",
        "\r\n",
        "O coronavírus pode ser transmitido das seguintes formas:\r\n",
        "*\tPor vias respiratórias: através do ar e de gotículas provenientes de espirros, tosse e fala de indivíduos infectados.\r\n",
        "*\tPor contato físico direto: através de beijos, abraços e outros tipos de toque.\r\n",
        "*\tPor contato com superfícies contaminadas: através do compartilhamento de utensílios e ferramentas ou toque em maçanetas, corrimões e outros objetos.\r\n",
        "\r\n",
        "Normalmente, o período médio que os primeiros sintomas levam para aparecer desde a infecção é de 14 dias, além disso uma pessoa com COVID-19 pode transmitir o vírus por até 14 dias após sua recuperação. Além disso, segundo dados da Organização Mundial da Saúde (OMS), cerca de 80% das pessoas com COVID-19 podem ser assintomáticos ou desenvolver poucos sintomas da doença. \r\n",
        "\r\n",
        "Por outro lado, alguns grupos de pessoas possuem uma chance maior de terem efeitos mais graves causados pelo covid-19. Nessa categoria, enquadram-se:\r\n",
        "*\tIdosos\r\n",
        "*\tPessoas com doenças respiratórias, como asma e bronquite\r\n",
        "*\tFumantes (tabagismo)\r\n",
        "*\tPessoas com diabetes\r\n",
        "*\tPessoas com hipertensão\r\n",
        "*\tPacientes com HIV\r\n",
        "*\tDoentes cardíacos\r\n",
        "*\tPacientes imunodeprimidos\r\n",
        "*\tPessoas com obesidade\r\n",
        "\r\n",
        "Vemos abaixo uma lista da letalidade do vírus:\r\n",
        "\r\n",
        "<center><image src=\"https://images1.minhavida.com.br/imgHandler.ashx?mid=65098\"></center>\r\n",
        "\r\n",
        "Por fim, como podemos nos proteger contra o novo coronavírus? \r\n",
        "\r\n",
        "Segue a lista de afazeres:\r\n",
        "*\tLavar as mãos com água e sabão frequentemente (até a altura dos punhos).\r\n",
        "*\tHigienizar as mãos sempre que possível com álcool gel 70%.\r\n",
        "*\tMesmo com as mãos limpas, evitar tocar olhos, nariz e boca.\r\n",
        "*\tUso de máscaras e proteção facial.\r\n",
        "*\tNão compartilhar objetos de uso pessoal, como talheres, pratos, copos ou garrafas.\r\n",
        "*\tManter os ambientes bem ventilados.\r\n",
        "*\tLimpar regularmente o ambiente e superfícies comuns, como móveis, maçanetas e corrimão.\r\n",
        "*\tManter 1 metro de distância entre as pessoas em locais públicos ou de convívio.\r\n",
        "\r\n",
        "\r\n"
      ]
    },
    {
      "cell_type": "markdown",
      "metadata": {
        "id": "aFJ1U8Evjuns"
      },
      "source": [
        "## Objetivo"
      ]
    },
    {
      "cell_type": "markdown",
      "metadata": {
        "id": "HM2FhiBWjyg3"
      },
      "source": [
        "O objetivo do trabalho é ver como foi a expansão da covid e tentar achar padrões. Dessa forma, vamos analisar separadamente os anos de 2020 e 2021. \r\n",
        "\r\n",
        "Em 2020, vamos ver o crescimento dos casos além de outros dados importantes.\r\n",
        "\r\n",
        "Na sequência, faremos observações sobre o surgimento da vacina e a quantidade da população que está sendo vacinada, para que, por fim, façamos uma comparação do último dia de 2020 com o dia 31 de janeiro para vermos, como um mês após a introdução da vacina afetou o número de casos.\r\n",
        "\r\n",
        "Além disso, faremos uma análise especial para o Brasil.\r\n"
      ]
    },
    {
      "cell_type": "markdown",
      "metadata": {
        "id": "cIJn4xNfJ9rj"
      },
      "source": [
        "## Importação dos dados"
      ]
    },
    {
      "cell_type": "markdown",
      "metadata": {
        "id": "xtspzmVnr3o3"
      },
      "source": [
        "Inicialmente, vamos importar as bibliotecas e o nosso arquivo.\r\n",
        "\r\n",
        "Posteriormente, vamos ver a quantidade de entradas e atributos do dataset e ver os tipos dos atributos."
      ]
    },
    {
      "cell_type": "code",
      "metadata": {
        "id": "Vynh4v9OGNVW"
      },
      "source": [
        "# Importar Bibliotecas\r\n",
        "import pandas as pd\r\n",
        "import matplotlib.pyplot as plt\r\n",
        "import seaborn as sns"
      ],
      "execution_count": null,
      "outputs": []
    },
    {
      "cell_type": "code",
      "metadata": {
        "id": "TtKrHnf_GUbg"
      },
      "source": [
        "# Importar arquivo\r\n",
        "df = pd.read_csv(\"https://covid.ourworldindata.org/data/owid-covid-data.csv\")"
      ],
      "execution_count": null,
      "outputs": []
    },
    {
      "cell_type": "code",
      "metadata": {
        "colab": {
          "base_uri": "https://localhost:8080/"
        },
        "id": "kaqphFMuJb7L",
        "outputId": "52a6c7cc-eb1c-4d84-8d3d-8ebd7d266fe0"
      },
      "source": [
        "# Formato do arquivo\r\n",
        "print('O arquivo tem {} entradas e {} atributos!'.format(df.shape[0], df.shape[1]))"
      ],
      "execution_count": null,
      "outputs": [
        {
          "output_type": "stream",
          "text": [
            "O arquivo tem 68533 entradas e 59 atributos!\n"
          ],
          "name": "stdout"
        }
      ]
    },
    {
      "cell_type": "code",
      "metadata": {
        "id": "Wa2cvtCPJqu7",
        "colab": {
          "base_uri": "https://localhost:8080/"
        },
        "outputId": "50fcf554-3027-42a7-da81-4a021ec84e8d"
      },
      "source": [
        "# Tipos dos atributos\r\n",
        "df.dtypes"
      ],
      "execution_count": null,
      "outputs": [
        {
          "output_type": "execute_result",
          "data": {
            "text/plain": [
              "iso_code                                  object\n",
              "continent                                 object\n",
              "location                                  object\n",
              "date                                      object\n",
              "total_cases                              float64\n",
              "new_cases                                float64\n",
              "new_cases_smoothed                       float64\n",
              "total_deaths                             float64\n",
              "new_deaths                               float64\n",
              "new_deaths_smoothed                      float64\n",
              "total_cases_per_million                  float64\n",
              "new_cases_per_million                    float64\n",
              "new_cases_smoothed_per_million           float64\n",
              "total_deaths_per_million                 float64\n",
              "new_deaths_per_million                   float64\n",
              "new_deaths_smoothed_per_million          float64\n",
              "reproduction_rate                        float64\n",
              "icu_patients                             float64\n",
              "icu_patients_per_million                 float64\n",
              "hosp_patients                            float64\n",
              "hosp_patients_per_million                float64\n",
              "weekly_icu_admissions                    float64\n",
              "weekly_icu_admissions_per_million        float64\n",
              "weekly_hosp_admissions                   float64\n",
              "weekly_hosp_admissions_per_million       float64\n",
              "new_tests                                float64\n",
              "total_tests                              float64\n",
              "total_tests_per_thousand                 float64\n",
              "new_tests_per_thousand                   float64\n",
              "new_tests_smoothed                       float64\n",
              "new_tests_smoothed_per_thousand          float64\n",
              "positive_rate                            float64\n",
              "tests_per_case                           float64\n",
              "tests_units                               object\n",
              "total_vaccinations                       float64\n",
              "people_vaccinated                        float64\n",
              "people_fully_vaccinated                  float64\n",
              "new_vaccinations                         float64\n",
              "new_vaccinations_smoothed                float64\n",
              "total_vaccinations_per_hundred           float64\n",
              "people_vaccinated_per_hundred            float64\n",
              "people_fully_vaccinated_per_hundred      float64\n",
              "new_vaccinations_smoothed_per_million    float64\n",
              "stringency_index                         float64\n",
              "population                               float64\n",
              "population_density                       float64\n",
              "median_age                               float64\n",
              "aged_65_older                            float64\n",
              "aged_70_older                            float64\n",
              "gdp_per_capita                           float64\n",
              "extreme_poverty                          float64\n",
              "cardiovasc_death_rate                    float64\n",
              "diabetes_prevalence                      float64\n",
              "female_smokers                           float64\n",
              "male_smokers                             float64\n",
              "handwashing_facilities                   float64\n",
              "hospital_beds_per_thousand               float64\n",
              "life_expectancy                          float64\n",
              "human_development_index                  float64\n",
              "dtype: object"
            ]
          },
          "metadata": {
            "tags": []
          },
          "execution_count": 4
        }
      ]
    },
    {
      "cell_type": "markdown",
      "metadata": {
        "id": "aXYSh-sjKWHM"
      },
      "source": [
        "## Análise inicial "
      ]
    },
    {
      "cell_type": "markdown",
      "metadata": {
        "id": "QbcB1FAjsSOd"
      },
      "source": [
        "### Entradas"
      ]
    },
    {
      "cell_type": "markdown",
      "metadata": {
        "id": "HR6bpCZ5t_2H"
      },
      "source": [
        "Antes de começarmos as análises, vamos olhar as 5 primeiras e as 5 últimas entradas do nosso dataset."
      ]
    },
    {
      "cell_type": "code",
      "metadata": {
        "id": "UTK-6J2hHcry",
        "colab": {
          "base_uri": "https://localhost:8080/",
          "height": 309
        },
        "outputId": "d2239ad2-32f3-4848-ddbe-b772eef33b80"
      },
      "source": [
        "# Visualizar as 5 primeiras entradas\r\n",
        "df.head()"
      ],
      "execution_count": null,
      "outputs": [
        {
          "output_type": "execute_result",
          "data": {
            "text/html": [
              "<div>\n",
              "<style scoped>\n",
              "    .dataframe tbody tr th:only-of-type {\n",
              "        vertical-align: middle;\n",
              "    }\n",
              "\n",
              "    .dataframe tbody tr th {\n",
              "        vertical-align: top;\n",
              "    }\n",
              "\n",
              "    .dataframe thead th {\n",
              "        text-align: right;\n",
              "    }\n",
              "</style>\n",
              "<table border=\"1\" class=\"dataframe\">\n",
              "  <thead>\n",
              "    <tr style=\"text-align: right;\">\n",
              "      <th></th>\n",
              "      <th>iso_code</th>\n",
              "      <th>continent</th>\n",
              "      <th>location</th>\n",
              "      <th>date</th>\n",
              "      <th>total_cases</th>\n",
              "      <th>new_cases</th>\n",
              "      <th>new_cases_smoothed</th>\n",
              "      <th>total_deaths</th>\n",
              "      <th>new_deaths</th>\n",
              "      <th>new_deaths_smoothed</th>\n",
              "      <th>total_cases_per_million</th>\n",
              "      <th>new_cases_per_million</th>\n",
              "      <th>new_cases_smoothed_per_million</th>\n",
              "      <th>total_deaths_per_million</th>\n",
              "      <th>new_deaths_per_million</th>\n",
              "      <th>new_deaths_smoothed_per_million</th>\n",
              "      <th>reproduction_rate</th>\n",
              "      <th>icu_patients</th>\n",
              "      <th>icu_patients_per_million</th>\n",
              "      <th>hosp_patients</th>\n",
              "      <th>hosp_patients_per_million</th>\n",
              "      <th>weekly_icu_admissions</th>\n",
              "      <th>weekly_icu_admissions_per_million</th>\n",
              "      <th>weekly_hosp_admissions</th>\n",
              "      <th>weekly_hosp_admissions_per_million</th>\n",
              "      <th>new_tests</th>\n",
              "      <th>total_tests</th>\n",
              "      <th>total_tests_per_thousand</th>\n",
              "      <th>new_tests_per_thousand</th>\n",
              "      <th>new_tests_smoothed</th>\n",
              "      <th>new_tests_smoothed_per_thousand</th>\n",
              "      <th>positive_rate</th>\n",
              "      <th>tests_per_case</th>\n",
              "      <th>tests_units</th>\n",
              "      <th>total_vaccinations</th>\n",
              "      <th>people_vaccinated</th>\n",
              "      <th>people_fully_vaccinated</th>\n",
              "      <th>new_vaccinations</th>\n",
              "      <th>new_vaccinations_smoothed</th>\n",
              "      <th>total_vaccinations_per_hundred</th>\n",
              "      <th>people_vaccinated_per_hundred</th>\n",
              "      <th>people_fully_vaccinated_per_hundred</th>\n",
              "      <th>new_vaccinations_smoothed_per_million</th>\n",
              "      <th>stringency_index</th>\n",
              "      <th>population</th>\n",
              "      <th>population_density</th>\n",
              "      <th>median_age</th>\n",
              "      <th>aged_65_older</th>\n",
              "      <th>aged_70_older</th>\n",
              "      <th>gdp_per_capita</th>\n",
              "      <th>extreme_poverty</th>\n",
              "      <th>cardiovasc_death_rate</th>\n",
              "      <th>diabetes_prevalence</th>\n",
              "      <th>female_smokers</th>\n",
              "      <th>male_smokers</th>\n",
              "      <th>handwashing_facilities</th>\n",
              "      <th>hospital_beds_per_thousand</th>\n",
              "      <th>life_expectancy</th>\n",
              "      <th>human_development_index</th>\n",
              "    </tr>\n",
              "  </thead>\n",
              "  <tbody>\n",
              "    <tr>\n",
              "      <th>0</th>\n",
              "      <td>AFG</td>\n",
              "      <td>Asia</td>\n",
              "      <td>Afghanistan</td>\n",
              "      <td>2020-02-24</td>\n",
              "      <td>1.0</td>\n",
              "      <td>1.0</td>\n",
              "      <td>NaN</td>\n",
              "      <td>NaN</td>\n",
              "      <td>NaN</td>\n",
              "      <td>NaN</td>\n",
              "      <td>0.026</td>\n",
              "      <td>0.026</td>\n",
              "      <td>NaN</td>\n",
              "      <td>NaN</td>\n",
              "      <td>NaN</td>\n",
              "      <td>NaN</td>\n",
              "      <td>NaN</td>\n",
              "      <td>NaN</td>\n",
              "      <td>NaN</td>\n",
              "      <td>NaN</td>\n",
              "      <td>NaN</td>\n",
              "      <td>NaN</td>\n",
              "      <td>NaN</td>\n",
              "      <td>NaN</td>\n",
              "      <td>NaN</td>\n",
              "      <td>NaN</td>\n",
              "      <td>NaN</td>\n",
              "      <td>NaN</td>\n",
              "      <td>NaN</td>\n",
              "      <td>NaN</td>\n",
              "      <td>NaN</td>\n",
              "      <td>NaN</td>\n",
              "      <td>NaN</td>\n",
              "      <td>NaN</td>\n",
              "      <td>NaN</td>\n",
              "      <td>NaN</td>\n",
              "      <td>NaN</td>\n",
              "      <td>NaN</td>\n",
              "      <td>NaN</td>\n",
              "      <td>NaN</td>\n",
              "      <td>NaN</td>\n",
              "      <td>NaN</td>\n",
              "      <td>NaN</td>\n",
              "      <td>8.33</td>\n",
              "      <td>38928341.0</td>\n",
              "      <td>54.422</td>\n",
              "      <td>18.6</td>\n",
              "      <td>2.581</td>\n",
              "      <td>1.337</td>\n",
              "      <td>1803.987</td>\n",
              "      <td>NaN</td>\n",
              "      <td>597.029</td>\n",
              "      <td>9.59</td>\n",
              "      <td>NaN</td>\n",
              "      <td>NaN</td>\n",
              "      <td>37.746</td>\n",
              "      <td>0.5</td>\n",
              "      <td>64.83</td>\n",
              "      <td>0.511</td>\n",
              "    </tr>\n",
              "    <tr>\n",
              "      <th>1</th>\n",
              "      <td>AFG</td>\n",
              "      <td>Asia</td>\n",
              "      <td>Afghanistan</td>\n",
              "      <td>2020-02-25</td>\n",
              "      <td>1.0</td>\n",
              "      <td>0.0</td>\n",
              "      <td>NaN</td>\n",
              "      <td>NaN</td>\n",
              "      <td>NaN</td>\n",
              "      <td>NaN</td>\n",
              "      <td>0.026</td>\n",
              "      <td>0.000</td>\n",
              "      <td>NaN</td>\n",
              "      <td>NaN</td>\n",
              "      <td>NaN</td>\n",
              "      <td>NaN</td>\n",
              "      <td>NaN</td>\n",
              "      <td>NaN</td>\n",
              "      <td>NaN</td>\n",
              "      <td>NaN</td>\n",
              "      <td>NaN</td>\n",
              "      <td>NaN</td>\n",
              "      <td>NaN</td>\n",
              "      <td>NaN</td>\n",
              "      <td>NaN</td>\n",
              "      <td>NaN</td>\n",
              "      <td>NaN</td>\n",
              "      <td>NaN</td>\n",
              "      <td>NaN</td>\n",
              "      <td>NaN</td>\n",
              "      <td>NaN</td>\n",
              "      <td>NaN</td>\n",
              "      <td>NaN</td>\n",
              "      <td>NaN</td>\n",
              "      <td>NaN</td>\n",
              "      <td>NaN</td>\n",
              "      <td>NaN</td>\n",
              "      <td>NaN</td>\n",
              "      <td>NaN</td>\n",
              "      <td>NaN</td>\n",
              "      <td>NaN</td>\n",
              "      <td>NaN</td>\n",
              "      <td>NaN</td>\n",
              "      <td>8.33</td>\n",
              "      <td>38928341.0</td>\n",
              "      <td>54.422</td>\n",
              "      <td>18.6</td>\n",
              "      <td>2.581</td>\n",
              "      <td>1.337</td>\n",
              "      <td>1803.987</td>\n",
              "      <td>NaN</td>\n",
              "      <td>597.029</td>\n",
              "      <td>9.59</td>\n",
              "      <td>NaN</td>\n",
              "      <td>NaN</td>\n",
              "      <td>37.746</td>\n",
              "      <td>0.5</td>\n",
              "      <td>64.83</td>\n",
              "      <td>0.511</td>\n",
              "    </tr>\n",
              "    <tr>\n",
              "      <th>2</th>\n",
              "      <td>AFG</td>\n",
              "      <td>Asia</td>\n",
              "      <td>Afghanistan</td>\n",
              "      <td>2020-02-26</td>\n",
              "      <td>1.0</td>\n",
              "      <td>0.0</td>\n",
              "      <td>NaN</td>\n",
              "      <td>NaN</td>\n",
              "      <td>NaN</td>\n",
              "      <td>NaN</td>\n",
              "      <td>0.026</td>\n",
              "      <td>0.000</td>\n",
              "      <td>NaN</td>\n",
              "      <td>NaN</td>\n",
              "      <td>NaN</td>\n",
              "      <td>NaN</td>\n",
              "      <td>NaN</td>\n",
              "      <td>NaN</td>\n",
              "      <td>NaN</td>\n",
              "      <td>NaN</td>\n",
              "      <td>NaN</td>\n",
              "      <td>NaN</td>\n",
              "      <td>NaN</td>\n",
              "      <td>NaN</td>\n",
              "      <td>NaN</td>\n",
              "      <td>NaN</td>\n",
              "      <td>NaN</td>\n",
              "      <td>NaN</td>\n",
              "      <td>NaN</td>\n",
              "      <td>NaN</td>\n",
              "      <td>NaN</td>\n",
              "      <td>NaN</td>\n",
              "      <td>NaN</td>\n",
              "      <td>NaN</td>\n",
              "      <td>NaN</td>\n",
              "      <td>NaN</td>\n",
              "      <td>NaN</td>\n",
              "      <td>NaN</td>\n",
              "      <td>NaN</td>\n",
              "      <td>NaN</td>\n",
              "      <td>NaN</td>\n",
              "      <td>NaN</td>\n",
              "      <td>NaN</td>\n",
              "      <td>8.33</td>\n",
              "      <td>38928341.0</td>\n",
              "      <td>54.422</td>\n",
              "      <td>18.6</td>\n",
              "      <td>2.581</td>\n",
              "      <td>1.337</td>\n",
              "      <td>1803.987</td>\n",
              "      <td>NaN</td>\n",
              "      <td>597.029</td>\n",
              "      <td>9.59</td>\n",
              "      <td>NaN</td>\n",
              "      <td>NaN</td>\n",
              "      <td>37.746</td>\n",
              "      <td>0.5</td>\n",
              "      <td>64.83</td>\n",
              "      <td>0.511</td>\n",
              "    </tr>\n",
              "    <tr>\n",
              "      <th>3</th>\n",
              "      <td>AFG</td>\n",
              "      <td>Asia</td>\n",
              "      <td>Afghanistan</td>\n",
              "      <td>2020-02-27</td>\n",
              "      <td>1.0</td>\n",
              "      <td>0.0</td>\n",
              "      <td>NaN</td>\n",
              "      <td>NaN</td>\n",
              "      <td>NaN</td>\n",
              "      <td>NaN</td>\n",
              "      <td>0.026</td>\n",
              "      <td>0.000</td>\n",
              "      <td>NaN</td>\n",
              "      <td>NaN</td>\n",
              "      <td>NaN</td>\n",
              "      <td>NaN</td>\n",
              "      <td>NaN</td>\n",
              "      <td>NaN</td>\n",
              "      <td>NaN</td>\n",
              "      <td>NaN</td>\n",
              "      <td>NaN</td>\n",
              "      <td>NaN</td>\n",
              "      <td>NaN</td>\n",
              "      <td>NaN</td>\n",
              "      <td>NaN</td>\n",
              "      <td>NaN</td>\n",
              "      <td>NaN</td>\n",
              "      <td>NaN</td>\n",
              "      <td>NaN</td>\n",
              "      <td>NaN</td>\n",
              "      <td>NaN</td>\n",
              "      <td>NaN</td>\n",
              "      <td>NaN</td>\n",
              "      <td>NaN</td>\n",
              "      <td>NaN</td>\n",
              "      <td>NaN</td>\n",
              "      <td>NaN</td>\n",
              "      <td>NaN</td>\n",
              "      <td>NaN</td>\n",
              "      <td>NaN</td>\n",
              "      <td>NaN</td>\n",
              "      <td>NaN</td>\n",
              "      <td>NaN</td>\n",
              "      <td>8.33</td>\n",
              "      <td>38928341.0</td>\n",
              "      <td>54.422</td>\n",
              "      <td>18.6</td>\n",
              "      <td>2.581</td>\n",
              "      <td>1.337</td>\n",
              "      <td>1803.987</td>\n",
              "      <td>NaN</td>\n",
              "      <td>597.029</td>\n",
              "      <td>9.59</td>\n",
              "      <td>NaN</td>\n",
              "      <td>NaN</td>\n",
              "      <td>37.746</td>\n",
              "      <td>0.5</td>\n",
              "      <td>64.83</td>\n",
              "      <td>0.511</td>\n",
              "    </tr>\n",
              "    <tr>\n",
              "      <th>4</th>\n",
              "      <td>AFG</td>\n",
              "      <td>Asia</td>\n",
              "      <td>Afghanistan</td>\n",
              "      <td>2020-02-28</td>\n",
              "      <td>1.0</td>\n",
              "      <td>0.0</td>\n",
              "      <td>NaN</td>\n",
              "      <td>NaN</td>\n",
              "      <td>NaN</td>\n",
              "      <td>NaN</td>\n",
              "      <td>0.026</td>\n",
              "      <td>0.000</td>\n",
              "      <td>NaN</td>\n",
              "      <td>NaN</td>\n",
              "      <td>NaN</td>\n",
              "      <td>NaN</td>\n",
              "      <td>NaN</td>\n",
              "      <td>NaN</td>\n",
              "      <td>NaN</td>\n",
              "      <td>NaN</td>\n",
              "      <td>NaN</td>\n",
              "      <td>NaN</td>\n",
              "      <td>NaN</td>\n",
              "      <td>NaN</td>\n",
              "      <td>NaN</td>\n",
              "      <td>NaN</td>\n",
              "      <td>NaN</td>\n",
              "      <td>NaN</td>\n",
              "      <td>NaN</td>\n",
              "      <td>NaN</td>\n",
              "      <td>NaN</td>\n",
              "      <td>NaN</td>\n",
              "      <td>NaN</td>\n",
              "      <td>NaN</td>\n",
              "      <td>NaN</td>\n",
              "      <td>NaN</td>\n",
              "      <td>NaN</td>\n",
              "      <td>NaN</td>\n",
              "      <td>NaN</td>\n",
              "      <td>NaN</td>\n",
              "      <td>NaN</td>\n",
              "      <td>NaN</td>\n",
              "      <td>NaN</td>\n",
              "      <td>8.33</td>\n",
              "      <td>38928341.0</td>\n",
              "      <td>54.422</td>\n",
              "      <td>18.6</td>\n",
              "      <td>2.581</td>\n",
              "      <td>1.337</td>\n",
              "      <td>1803.987</td>\n",
              "      <td>NaN</td>\n",
              "      <td>597.029</td>\n",
              "      <td>9.59</td>\n",
              "      <td>NaN</td>\n",
              "      <td>NaN</td>\n",
              "      <td>37.746</td>\n",
              "      <td>0.5</td>\n",
              "      <td>64.83</td>\n",
              "      <td>0.511</td>\n",
              "    </tr>\n",
              "  </tbody>\n",
              "</table>\n",
              "</div>"
            ],
            "text/plain": [
              "  iso_code continent  ... life_expectancy human_development_index\n",
              "0      AFG      Asia  ...           64.83                   0.511\n",
              "1      AFG      Asia  ...           64.83                   0.511\n",
              "2      AFG      Asia  ...           64.83                   0.511\n",
              "3      AFG      Asia  ...           64.83                   0.511\n",
              "4      AFG      Asia  ...           64.83                   0.511\n",
              "\n",
              "[5 rows x 59 columns]"
            ]
          },
          "metadata": {
            "tags": []
          },
          "execution_count": 5
        }
      ]
    },
    {
      "cell_type": "code",
      "metadata": {
        "id": "jRH5hVWJGcjF",
        "colab": {
          "base_uri": "https://localhost:8080/",
          "height": 309
        },
        "outputId": "d6ad3513-ffb1-47f2-abaf-3b97fcdbc5d8"
      },
      "source": [
        "# Visualizar as 5 últimas entradas\r\n",
        "df.tail()"
      ],
      "execution_count": null,
      "outputs": [
        {
          "output_type": "execute_result",
          "data": {
            "text/html": [
              "<div>\n",
              "<style scoped>\n",
              "    .dataframe tbody tr th:only-of-type {\n",
              "        vertical-align: middle;\n",
              "    }\n",
              "\n",
              "    .dataframe tbody tr th {\n",
              "        vertical-align: top;\n",
              "    }\n",
              "\n",
              "    .dataframe thead th {\n",
              "        text-align: right;\n",
              "    }\n",
              "</style>\n",
              "<table border=\"1\" class=\"dataframe\">\n",
              "  <thead>\n",
              "    <tr style=\"text-align: right;\">\n",
              "      <th></th>\n",
              "      <th>iso_code</th>\n",
              "      <th>continent</th>\n",
              "      <th>location</th>\n",
              "      <th>date</th>\n",
              "      <th>total_cases</th>\n",
              "      <th>new_cases</th>\n",
              "      <th>new_cases_smoothed</th>\n",
              "      <th>total_deaths</th>\n",
              "      <th>new_deaths</th>\n",
              "      <th>new_deaths_smoothed</th>\n",
              "      <th>total_cases_per_million</th>\n",
              "      <th>new_cases_per_million</th>\n",
              "      <th>new_cases_smoothed_per_million</th>\n",
              "      <th>total_deaths_per_million</th>\n",
              "      <th>new_deaths_per_million</th>\n",
              "      <th>new_deaths_smoothed_per_million</th>\n",
              "      <th>reproduction_rate</th>\n",
              "      <th>icu_patients</th>\n",
              "      <th>icu_patients_per_million</th>\n",
              "      <th>hosp_patients</th>\n",
              "      <th>hosp_patients_per_million</th>\n",
              "      <th>weekly_icu_admissions</th>\n",
              "      <th>weekly_icu_admissions_per_million</th>\n",
              "      <th>weekly_hosp_admissions</th>\n",
              "      <th>weekly_hosp_admissions_per_million</th>\n",
              "      <th>new_tests</th>\n",
              "      <th>total_tests</th>\n",
              "      <th>total_tests_per_thousand</th>\n",
              "      <th>new_tests_per_thousand</th>\n",
              "      <th>new_tests_smoothed</th>\n",
              "      <th>new_tests_smoothed_per_thousand</th>\n",
              "      <th>positive_rate</th>\n",
              "      <th>tests_per_case</th>\n",
              "      <th>tests_units</th>\n",
              "      <th>total_vaccinations</th>\n",
              "      <th>people_vaccinated</th>\n",
              "      <th>people_fully_vaccinated</th>\n",
              "      <th>new_vaccinations</th>\n",
              "      <th>new_vaccinations_smoothed</th>\n",
              "      <th>total_vaccinations_per_hundred</th>\n",
              "      <th>people_vaccinated_per_hundred</th>\n",
              "      <th>people_fully_vaccinated_per_hundred</th>\n",
              "      <th>new_vaccinations_smoothed_per_million</th>\n",
              "      <th>stringency_index</th>\n",
              "      <th>population</th>\n",
              "      <th>population_density</th>\n",
              "      <th>median_age</th>\n",
              "      <th>aged_65_older</th>\n",
              "      <th>aged_70_older</th>\n",
              "      <th>gdp_per_capita</th>\n",
              "      <th>extreme_poverty</th>\n",
              "      <th>cardiovasc_death_rate</th>\n",
              "      <th>diabetes_prevalence</th>\n",
              "      <th>female_smokers</th>\n",
              "      <th>male_smokers</th>\n",
              "      <th>handwashing_facilities</th>\n",
              "      <th>hospital_beds_per_thousand</th>\n",
              "      <th>life_expectancy</th>\n",
              "      <th>human_development_index</th>\n",
              "    </tr>\n",
              "  </thead>\n",
              "  <tbody>\n",
              "    <tr>\n",
              "      <th>68528</th>\n",
              "      <td>ZWE</td>\n",
              "      <td>Africa</td>\n",
              "      <td>Zimbabwe</td>\n",
              "      <td>2021-02-08</td>\n",
              "      <td>34658.0</td>\n",
              "      <td>106.0</td>\n",
              "      <td>158.571</td>\n",
              "      <td>1339.0</td>\n",
              "      <td>13.0</td>\n",
              "      <td>15.000</td>\n",
              "      <td>2331.842</td>\n",
              "      <td>7.132</td>\n",
              "      <td>10.669</td>\n",
              "      <td>90.090</td>\n",
              "      <td>0.875</td>\n",
              "      <td>1.009</td>\n",
              "      <td>NaN</td>\n",
              "      <td>NaN</td>\n",
              "      <td>NaN</td>\n",
              "      <td>NaN</td>\n",
              "      <td>NaN</td>\n",
              "      <td>NaN</td>\n",
              "      <td>NaN</td>\n",
              "      <td>NaN</td>\n",
              "      <td>NaN</td>\n",
              "      <td>2557.0</td>\n",
              "      <td>339110.0</td>\n",
              "      <td>22.816</td>\n",
              "      <td>0.172</td>\n",
              "      <td>2631.0</td>\n",
              "      <td>0.177</td>\n",
              "      <td>0.060</td>\n",
              "      <td>16.6</td>\n",
              "      <td>tests performed</td>\n",
              "      <td>NaN</td>\n",
              "      <td>NaN</td>\n",
              "      <td>NaN</td>\n",
              "      <td>NaN</td>\n",
              "      <td>NaN</td>\n",
              "      <td>NaN</td>\n",
              "      <td>NaN</td>\n",
              "      <td>NaN</td>\n",
              "      <td>NaN</td>\n",
              "      <td>84.26</td>\n",
              "      <td>14862927.0</td>\n",
              "      <td>42.729</td>\n",
              "      <td>19.6</td>\n",
              "      <td>2.822</td>\n",
              "      <td>1.882</td>\n",
              "      <td>1899.775</td>\n",
              "      <td>21.4</td>\n",
              "      <td>307.846</td>\n",
              "      <td>1.82</td>\n",
              "      <td>1.6</td>\n",
              "      <td>30.7</td>\n",
              "      <td>36.791</td>\n",
              "      <td>1.7</td>\n",
              "      <td>61.49</td>\n",
              "      <td>0.571</td>\n",
              "    </tr>\n",
              "    <tr>\n",
              "      <th>68529</th>\n",
              "      <td>ZWE</td>\n",
              "      <td>Africa</td>\n",
              "      <td>Zimbabwe</td>\n",
              "      <td>2021-02-09</td>\n",
              "      <td>34781.0</td>\n",
              "      <td>123.0</td>\n",
              "      <td>138.143</td>\n",
              "      <td>1353.0</td>\n",
              "      <td>14.0</td>\n",
              "      <td>14.143</td>\n",
              "      <td>2340.118</td>\n",
              "      <td>8.276</td>\n",
              "      <td>9.294</td>\n",
              "      <td>91.032</td>\n",
              "      <td>0.942</td>\n",
              "      <td>0.952</td>\n",
              "      <td>NaN</td>\n",
              "      <td>NaN</td>\n",
              "      <td>NaN</td>\n",
              "      <td>NaN</td>\n",
              "      <td>NaN</td>\n",
              "      <td>NaN</td>\n",
              "      <td>NaN</td>\n",
              "      <td>NaN</td>\n",
              "      <td>NaN</td>\n",
              "      <td>2447.0</td>\n",
              "      <td>341557.0</td>\n",
              "      <td>22.980</td>\n",
              "      <td>0.165</td>\n",
              "      <td>2386.0</td>\n",
              "      <td>0.161</td>\n",
              "      <td>0.058</td>\n",
              "      <td>17.3</td>\n",
              "      <td>tests performed</td>\n",
              "      <td>NaN</td>\n",
              "      <td>NaN</td>\n",
              "      <td>NaN</td>\n",
              "      <td>NaN</td>\n",
              "      <td>NaN</td>\n",
              "      <td>NaN</td>\n",
              "      <td>NaN</td>\n",
              "      <td>NaN</td>\n",
              "      <td>NaN</td>\n",
              "      <td>NaN</td>\n",
              "      <td>14862927.0</td>\n",
              "      <td>42.729</td>\n",
              "      <td>19.6</td>\n",
              "      <td>2.822</td>\n",
              "      <td>1.882</td>\n",
              "      <td>1899.775</td>\n",
              "      <td>21.4</td>\n",
              "      <td>307.846</td>\n",
              "      <td>1.82</td>\n",
              "      <td>1.6</td>\n",
              "      <td>30.7</td>\n",
              "      <td>36.791</td>\n",
              "      <td>1.7</td>\n",
              "      <td>61.49</td>\n",
              "      <td>0.571</td>\n",
              "    </tr>\n",
              "    <tr>\n",
              "      <th>68530</th>\n",
              "      <td>ZWE</td>\n",
              "      <td>Africa</td>\n",
              "      <td>Zimbabwe</td>\n",
              "      <td>2021-02-10</td>\n",
              "      <td>34864.0</td>\n",
              "      <td>83.0</td>\n",
              "      <td>128.571</td>\n",
              "      <td>1364.0</td>\n",
              "      <td>11.0</td>\n",
              "      <td>13.571</td>\n",
              "      <td>2345.702</td>\n",
              "      <td>5.584</td>\n",
              "      <td>8.650</td>\n",
              "      <td>91.772</td>\n",
              "      <td>0.740</td>\n",
              "      <td>0.913</td>\n",
              "      <td>NaN</td>\n",
              "      <td>NaN</td>\n",
              "      <td>NaN</td>\n",
              "      <td>NaN</td>\n",
              "      <td>NaN</td>\n",
              "      <td>NaN</td>\n",
              "      <td>NaN</td>\n",
              "      <td>NaN</td>\n",
              "      <td>NaN</td>\n",
              "      <td>NaN</td>\n",
              "      <td>NaN</td>\n",
              "      <td>NaN</td>\n",
              "      <td>NaN</td>\n",
              "      <td>NaN</td>\n",
              "      <td>NaN</td>\n",
              "      <td>NaN</td>\n",
              "      <td>NaN</td>\n",
              "      <td>NaN</td>\n",
              "      <td>NaN</td>\n",
              "      <td>NaN</td>\n",
              "      <td>NaN</td>\n",
              "      <td>NaN</td>\n",
              "      <td>NaN</td>\n",
              "      <td>NaN</td>\n",
              "      <td>NaN</td>\n",
              "      <td>NaN</td>\n",
              "      <td>NaN</td>\n",
              "      <td>NaN</td>\n",
              "      <td>14862927.0</td>\n",
              "      <td>42.729</td>\n",
              "      <td>19.6</td>\n",
              "      <td>2.822</td>\n",
              "      <td>1.882</td>\n",
              "      <td>1899.775</td>\n",
              "      <td>21.4</td>\n",
              "      <td>307.846</td>\n",
              "      <td>1.82</td>\n",
              "      <td>1.6</td>\n",
              "      <td>30.7</td>\n",
              "      <td>36.791</td>\n",
              "      <td>1.7</td>\n",
              "      <td>61.49</td>\n",
              "      <td>0.571</td>\n",
              "    </tr>\n",
              "    <tr>\n",
              "      <th>68531</th>\n",
              "      <td>ZWE</td>\n",
              "      <td>Africa</td>\n",
              "      <td>Zimbabwe</td>\n",
              "      <td>2021-02-11</td>\n",
              "      <td>34864.0</td>\n",
              "      <td>0.0</td>\n",
              "      <td>99.000</td>\n",
              "      <td>1364.0</td>\n",
              "      <td>0.0</td>\n",
              "      <td>10.857</td>\n",
              "      <td>2345.702</td>\n",
              "      <td>0.000</td>\n",
              "      <td>6.661</td>\n",
              "      <td>91.772</td>\n",
              "      <td>0.000</td>\n",
              "      <td>0.730</td>\n",
              "      <td>NaN</td>\n",
              "      <td>NaN</td>\n",
              "      <td>NaN</td>\n",
              "      <td>NaN</td>\n",
              "      <td>NaN</td>\n",
              "      <td>NaN</td>\n",
              "      <td>NaN</td>\n",
              "      <td>NaN</td>\n",
              "      <td>NaN</td>\n",
              "      <td>NaN</td>\n",
              "      <td>NaN</td>\n",
              "      <td>NaN</td>\n",
              "      <td>NaN</td>\n",
              "      <td>NaN</td>\n",
              "      <td>NaN</td>\n",
              "      <td>NaN</td>\n",
              "      <td>NaN</td>\n",
              "      <td>NaN</td>\n",
              "      <td>NaN</td>\n",
              "      <td>NaN</td>\n",
              "      <td>NaN</td>\n",
              "      <td>NaN</td>\n",
              "      <td>NaN</td>\n",
              "      <td>NaN</td>\n",
              "      <td>NaN</td>\n",
              "      <td>NaN</td>\n",
              "      <td>NaN</td>\n",
              "      <td>NaN</td>\n",
              "      <td>14862927.0</td>\n",
              "      <td>42.729</td>\n",
              "      <td>19.6</td>\n",
              "      <td>2.822</td>\n",
              "      <td>1.882</td>\n",
              "      <td>1899.775</td>\n",
              "      <td>21.4</td>\n",
              "      <td>307.846</td>\n",
              "      <td>1.82</td>\n",
              "      <td>1.6</td>\n",
              "      <td>30.7</td>\n",
              "      <td>36.791</td>\n",
              "      <td>1.7</td>\n",
              "      <td>61.49</td>\n",
              "      <td>0.571</td>\n",
              "    </tr>\n",
              "    <tr>\n",
              "      <th>68532</th>\n",
              "      <td>ZWE</td>\n",
              "      <td>Africa</td>\n",
              "      <td>Zimbabwe</td>\n",
              "      <td>2021-02-12</td>\n",
              "      <td>35045.0</td>\n",
              "      <td>181.0</td>\n",
              "      <td>102.000</td>\n",
              "      <td>1393.0</td>\n",
              "      <td>29.0</td>\n",
              "      <td>12.857</td>\n",
              "      <td>2357.880</td>\n",
              "      <td>12.178</td>\n",
              "      <td>6.863</td>\n",
              "      <td>93.723</td>\n",
              "      <td>1.951</td>\n",
              "      <td>0.865</td>\n",
              "      <td>NaN</td>\n",
              "      <td>NaN</td>\n",
              "      <td>NaN</td>\n",
              "      <td>NaN</td>\n",
              "      <td>NaN</td>\n",
              "      <td>NaN</td>\n",
              "      <td>NaN</td>\n",
              "      <td>NaN</td>\n",
              "      <td>NaN</td>\n",
              "      <td>NaN</td>\n",
              "      <td>NaN</td>\n",
              "      <td>NaN</td>\n",
              "      <td>NaN</td>\n",
              "      <td>NaN</td>\n",
              "      <td>NaN</td>\n",
              "      <td>NaN</td>\n",
              "      <td>NaN</td>\n",
              "      <td>NaN</td>\n",
              "      <td>NaN</td>\n",
              "      <td>NaN</td>\n",
              "      <td>NaN</td>\n",
              "      <td>NaN</td>\n",
              "      <td>NaN</td>\n",
              "      <td>NaN</td>\n",
              "      <td>NaN</td>\n",
              "      <td>NaN</td>\n",
              "      <td>NaN</td>\n",
              "      <td>NaN</td>\n",
              "      <td>14862927.0</td>\n",
              "      <td>42.729</td>\n",
              "      <td>19.6</td>\n",
              "      <td>2.822</td>\n",
              "      <td>1.882</td>\n",
              "      <td>1899.775</td>\n",
              "      <td>21.4</td>\n",
              "      <td>307.846</td>\n",
              "      <td>1.82</td>\n",
              "      <td>1.6</td>\n",
              "      <td>30.7</td>\n",
              "      <td>36.791</td>\n",
              "      <td>1.7</td>\n",
              "      <td>61.49</td>\n",
              "      <td>0.571</td>\n",
              "    </tr>\n",
              "  </tbody>\n",
              "</table>\n",
              "</div>"
            ],
            "text/plain": [
              "      iso_code continent  ... life_expectancy human_development_index\n",
              "68528      ZWE    Africa  ...           61.49                   0.571\n",
              "68529      ZWE    Africa  ...           61.49                   0.571\n",
              "68530      ZWE    Africa  ...           61.49                   0.571\n",
              "68531      ZWE    Africa  ...           61.49                   0.571\n",
              "68532      ZWE    Africa  ...           61.49                   0.571\n",
              "\n",
              "[5 rows x 59 columns]"
            ]
          },
          "metadata": {
            "tags": []
          },
          "execution_count": 6
        }
      ]
    },
    {
      "cell_type": "markdown",
      "metadata": {
        "id": "f6G87QKY0Mxz"
      },
      "source": [
        "###Tranformar em datetime"
      ]
    },
    {
      "cell_type": "markdown",
      "metadata": {
        "id": "q-n7sjSqT9vU"
      },
      "source": [
        "Anteriormente, verificamos que a coluna date não está em formato datetime. \r\n",
        "\r\n",
        "Para que possamos explorar essa variável, vamos transformá-la para o formato datetime."
      ]
    },
    {
      "cell_type": "code",
      "metadata": {
        "id": "ayiuL6ARpuHI"
      },
      "source": [
        "# transformando a coluna data em datetime\r\n",
        "df.date = pd.to_datetime(df.date)\r\n",
        "df.date = pd.to_datetime(df.date, format=\"%Y-%m-%d\")"
      ],
      "execution_count": null,
      "outputs": []
    },
    {
      "cell_type": "code",
      "metadata": {
        "colab": {
          "base_uri": "https://localhost:8080/"
        },
        "id": "Dsq19XjAT82c",
        "outputId": "8e037cc8-3606-4c13-8b21-7c0d8d133757"
      },
      "source": [
        "# verificando a data mais recente do dataset\r\n",
        "df.date.max()"
      ],
      "execution_count": null,
      "outputs": [
        {
          "output_type": "execute_result",
          "data": {
            "text/plain": [
              "Timestamp('2021-02-12 00:00:00')"
            ]
          },
          "metadata": {
            "tags": []
          },
          "execution_count": 8
        }
      ]
    },
    {
      "cell_type": "markdown",
      "metadata": {
        "id": "5Fu6XIdjqzkP"
      },
      "source": [
        "Ou seja, nosso dataset tem até o dia 12/02/2021."
      ]
    },
    {
      "cell_type": "markdown",
      "metadata": {
        "id": "qqkviIvcb_GJ"
      },
      "source": [
        "### Criação de novas colunas e de subdatasets"
      ]
    },
    {
      "cell_type": "markdown",
      "metadata": {
        "id": "is9nyLoYwzdj"
      },
      "source": [
        "Agora, vamos adicionar duas colunas no dataset, uma delas contendo o mês do registro e a outro com o ano do registro. \r\n",
        "\r\n",
        "Posteriormente, vamos criar um subdataset com os dados de 2020 e um para os dados de 2021 para facilitar nossas análises no futuro.\r\n",
        "\r\n",
        "Por fim, criaremos também um subdataset com os dados que tem a localização igual a “Mundo”, pois nele estão contidas todas as informações do dia no mundo, desta forma, no futuro os dados vão ser necessários.\r\n"
      ]
    },
    {
      "cell_type": "code",
      "metadata": {
        "id": "5_Ikm_XSK2pr"
      },
      "source": [
        "# Adicionar as colunas me e ano no df\r\n",
        "df['mes'] = df.date.dt.month\r\n",
        "df['ano'] = df.date.dt.year"
      ],
      "execution_count": null,
      "outputs": []
    },
    {
      "cell_type": "code",
      "metadata": {
        "id": "R1TZs-ESL-i2"
      },
      "source": [
        "#Criar subdatasets para separar os dados de 2020 e 2021\r\n",
        "df_2020 = df[df['ano']==2020]\r\n",
        "df_2021 = df[df['ano']==2021]"
      ],
      "execution_count": null,
      "outputs": []
    },
    {
      "cell_type": "code",
      "metadata": {
        "id": "TCaouaEWp0A1"
      },
      "source": [
        "# Criar subdatasets para o Mundo nos anos de 2020 e 2021\r\n",
        "df_world_2020 = df_2020[df_2020.location == 'World'].sort_values(by=\"total_cases\", ascending=False)\r\n",
        "df_world_2021 = df_2021[df_2021.location == 'World'].sort_values(by=\"total_cases\", ascending=False)"
      ],
      "execution_count": null,
      "outputs": []
    },
    {
      "cell_type": "code",
      "metadata": {
        "colab": {
          "base_uri": "https://localhost:8080/",
          "height": 117
        },
        "id": "FyuCCvzqqMF7",
        "outputId": "03221c96-f4fa-4b1f-a166-001bfd878396"
      },
      "source": [
        "# Verficar os dados do ultimo dia de 2020\r\n",
        "df_2020.sort_values(by=\"total_cases\", ascending=False).head(1)"
      ],
      "execution_count": null,
      "outputs": [
        {
          "output_type": "execute_result",
          "data": {
            "text/html": [
              "<div>\n",
              "<style scoped>\n",
              "    .dataframe tbody tr th:only-of-type {\n",
              "        vertical-align: middle;\n",
              "    }\n",
              "\n",
              "    .dataframe tbody tr th {\n",
              "        vertical-align: top;\n",
              "    }\n",
              "\n",
              "    .dataframe thead th {\n",
              "        text-align: right;\n",
              "    }\n",
              "</style>\n",
              "<table border=\"1\" class=\"dataframe\">\n",
              "  <thead>\n",
              "    <tr style=\"text-align: right;\">\n",
              "      <th></th>\n",
              "      <th>iso_code</th>\n",
              "      <th>continent</th>\n",
              "      <th>location</th>\n",
              "      <th>date</th>\n",
              "      <th>total_cases</th>\n",
              "      <th>new_cases</th>\n",
              "      <th>new_cases_smoothed</th>\n",
              "      <th>total_deaths</th>\n",
              "      <th>new_deaths</th>\n",
              "      <th>new_deaths_smoothed</th>\n",
              "      <th>total_cases_per_million</th>\n",
              "      <th>new_cases_per_million</th>\n",
              "      <th>new_cases_smoothed_per_million</th>\n",
              "      <th>total_deaths_per_million</th>\n",
              "      <th>new_deaths_per_million</th>\n",
              "      <th>new_deaths_smoothed_per_million</th>\n",
              "      <th>reproduction_rate</th>\n",
              "      <th>icu_patients</th>\n",
              "      <th>icu_patients_per_million</th>\n",
              "      <th>hosp_patients</th>\n",
              "      <th>hosp_patients_per_million</th>\n",
              "      <th>weekly_icu_admissions</th>\n",
              "      <th>weekly_icu_admissions_per_million</th>\n",
              "      <th>weekly_hosp_admissions</th>\n",
              "      <th>weekly_hosp_admissions_per_million</th>\n",
              "      <th>new_tests</th>\n",
              "      <th>total_tests</th>\n",
              "      <th>total_tests_per_thousand</th>\n",
              "      <th>new_tests_per_thousand</th>\n",
              "      <th>new_tests_smoothed</th>\n",
              "      <th>new_tests_smoothed_per_thousand</th>\n",
              "      <th>positive_rate</th>\n",
              "      <th>tests_per_case</th>\n",
              "      <th>tests_units</th>\n",
              "      <th>total_vaccinations</th>\n",
              "      <th>people_vaccinated</th>\n",
              "      <th>people_fully_vaccinated</th>\n",
              "      <th>new_vaccinations</th>\n",
              "      <th>new_vaccinations_smoothed</th>\n",
              "      <th>total_vaccinations_per_hundred</th>\n",
              "      <th>people_vaccinated_per_hundred</th>\n",
              "      <th>people_fully_vaccinated_per_hundred</th>\n",
              "      <th>new_vaccinations_smoothed_per_million</th>\n",
              "      <th>stringency_index</th>\n",
              "      <th>population</th>\n",
              "      <th>population_density</th>\n",
              "      <th>median_age</th>\n",
              "      <th>aged_65_older</th>\n",
              "      <th>aged_70_older</th>\n",
              "      <th>gdp_per_capita</th>\n",
              "      <th>extreme_poverty</th>\n",
              "      <th>cardiovasc_death_rate</th>\n",
              "      <th>diabetes_prevalence</th>\n",
              "      <th>female_smokers</th>\n",
              "      <th>male_smokers</th>\n",
              "      <th>handwashing_facilities</th>\n",
              "      <th>hospital_beds_per_thousand</th>\n",
              "      <th>life_expectancy</th>\n",
              "      <th>human_development_index</th>\n",
              "      <th>mes</th>\n",
              "      <th>ano</th>\n",
              "    </tr>\n",
              "  </thead>\n",
              "  <tbody>\n",
              "    <tr>\n",
              "      <th>67518</th>\n",
              "      <td>OWID_WRL</td>\n",
              "      <td>NaN</td>\n",
              "      <td>World</td>\n",
              "      <td>2020-12-31</td>\n",
              "      <td>83521001.0</td>\n",
              "      <td>722976.0</td>\n",
              "      <td>579679.0</td>\n",
              "      <td>1820019.0</td>\n",
              "      <td>13076.0</td>\n",
              "      <td>10857.571</td>\n",
              "      <td>10714.966</td>\n",
              "      <td>92.751</td>\n",
              "      <td>74.367</td>\n",
              "      <td>233.491</td>\n",
              "      <td>1.678</td>\n",
              "      <td>1.393</td>\n",
              "      <td>1.03</td>\n",
              "      <td>NaN</td>\n",
              "      <td>NaN</td>\n",
              "      <td>NaN</td>\n",
              "      <td>NaN</td>\n",
              "      <td>NaN</td>\n",
              "      <td>NaN</td>\n",
              "      <td>NaN</td>\n",
              "      <td>NaN</td>\n",
              "      <td>NaN</td>\n",
              "      <td>NaN</td>\n",
              "      <td>NaN</td>\n",
              "      <td>NaN</td>\n",
              "      <td>NaN</td>\n",
              "      <td>NaN</td>\n",
              "      <td>NaN</td>\n",
              "      <td>NaN</td>\n",
              "      <td>NaN</td>\n",
              "      <td>9882296.0</td>\n",
              "      <td>5373135.0</td>\n",
              "      <td>NaN</td>\n",
              "      <td>3288475.0</td>\n",
              "      <td>911752.0</td>\n",
              "      <td>0.13</td>\n",
              "      <td>0.07</td>\n",
              "      <td>NaN</td>\n",
              "      <td>117.0</td>\n",
              "      <td>NaN</td>\n",
              "      <td>7.794799e+09</td>\n",
              "      <td>58.045</td>\n",
              "      <td>30.9</td>\n",
              "      <td>8.696</td>\n",
              "      <td>5.355</td>\n",
              "      <td>15469.207</td>\n",
              "      <td>10.0</td>\n",
              "      <td>233.07</td>\n",
              "      <td>8.51</td>\n",
              "      <td>6.434</td>\n",
              "      <td>34.635</td>\n",
              "      <td>60.13</td>\n",
              "      <td>2.705</td>\n",
              "      <td>72.58</td>\n",
              "      <td>0.737</td>\n",
              "      <td>12</td>\n",
              "      <td>2020</td>\n",
              "    </tr>\n",
              "  </tbody>\n",
              "</table>\n",
              "</div>"
            ],
            "text/plain": [
              "       iso_code continent location  ... human_development_index  mes   ano\n",
              "67518  OWID_WRL       NaN    World  ...                   0.737   12  2020\n",
              "\n",
              "[1 rows x 61 columns]"
            ]
          },
          "metadata": {
            "tags": []
          },
          "execution_count": 12
        }
      ]
    },
    {
      "cell_type": "markdown",
      "metadata": {
        "id": "ShkW0FCieQtL"
      },
      "source": [
        "Vemos então que ao fim de 2020 foram 83521001 casos e 1819931.0, o que da uma taxa de mortalidade de 2,1%!"
      ]
    },
    {
      "cell_type": "code",
      "metadata": {
        "colab": {
          "base_uri": "https://localhost:8080/",
          "height": 117
        },
        "id": "r2pQ37Ra1UNB",
        "outputId": "d6994b1d-a1e7-4f0a-b1b1-7d9676c3043f"
      },
      "source": [
        "# analisar total de casos ao fim de janeiro\r\n",
        "df_2021[df_2021.mes == 1].sort_values(by=\"total_cases\", ascending=False).head(1)"
      ],
      "execution_count": null,
      "outputs": [
        {
          "output_type": "execute_result",
          "data": {
            "text/html": [
              "<div>\n",
              "<style scoped>\n",
              "    .dataframe tbody tr th:only-of-type {\n",
              "        vertical-align: middle;\n",
              "    }\n",
              "\n",
              "    .dataframe tbody tr th {\n",
              "        vertical-align: top;\n",
              "    }\n",
              "\n",
              "    .dataframe thead th {\n",
              "        text-align: right;\n",
              "    }\n",
              "</style>\n",
              "<table border=\"1\" class=\"dataframe\">\n",
              "  <thead>\n",
              "    <tr style=\"text-align: right;\">\n",
              "      <th></th>\n",
              "      <th>iso_code</th>\n",
              "      <th>continent</th>\n",
              "      <th>location</th>\n",
              "      <th>date</th>\n",
              "      <th>total_cases</th>\n",
              "      <th>new_cases</th>\n",
              "      <th>new_cases_smoothed</th>\n",
              "      <th>total_deaths</th>\n",
              "      <th>new_deaths</th>\n",
              "      <th>new_deaths_smoothed</th>\n",
              "      <th>total_cases_per_million</th>\n",
              "      <th>new_cases_per_million</th>\n",
              "      <th>new_cases_smoothed_per_million</th>\n",
              "      <th>total_deaths_per_million</th>\n",
              "      <th>new_deaths_per_million</th>\n",
              "      <th>new_deaths_smoothed_per_million</th>\n",
              "      <th>reproduction_rate</th>\n",
              "      <th>icu_patients</th>\n",
              "      <th>icu_patients_per_million</th>\n",
              "      <th>hosp_patients</th>\n",
              "      <th>hosp_patients_per_million</th>\n",
              "      <th>weekly_icu_admissions</th>\n",
              "      <th>weekly_icu_admissions_per_million</th>\n",
              "      <th>weekly_hosp_admissions</th>\n",
              "      <th>weekly_hosp_admissions_per_million</th>\n",
              "      <th>new_tests</th>\n",
              "      <th>total_tests</th>\n",
              "      <th>total_tests_per_thousand</th>\n",
              "      <th>new_tests_per_thousand</th>\n",
              "      <th>new_tests_smoothed</th>\n",
              "      <th>new_tests_smoothed_per_thousand</th>\n",
              "      <th>positive_rate</th>\n",
              "      <th>tests_per_case</th>\n",
              "      <th>tests_units</th>\n",
              "      <th>total_vaccinations</th>\n",
              "      <th>people_vaccinated</th>\n",
              "      <th>people_fully_vaccinated</th>\n",
              "      <th>new_vaccinations</th>\n",
              "      <th>new_vaccinations_smoothed</th>\n",
              "      <th>total_vaccinations_per_hundred</th>\n",
              "      <th>people_vaccinated_per_hundred</th>\n",
              "      <th>people_fully_vaccinated_per_hundred</th>\n",
              "      <th>new_vaccinations_smoothed_per_million</th>\n",
              "      <th>stringency_index</th>\n",
              "      <th>population</th>\n",
              "      <th>population_density</th>\n",
              "      <th>median_age</th>\n",
              "      <th>aged_65_older</th>\n",
              "      <th>aged_70_older</th>\n",
              "      <th>gdp_per_capita</th>\n",
              "      <th>extreme_poverty</th>\n",
              "      <th>cardiovasc_death_rate</th>\n",
              "      <th>diabetes_prevalence</th>\n",
              "      <th>female_smokers</th>\n",
              "      <th>male_smokers</th>\n",
              "      <th>handwashing_facilities</th>\n",
              "      <th>hospital_beds_per_thousand</th>\n",
              "      <th>life_expectancy</th>\n",
              "      <th>human_development_index</th>\n",
              "      <th>mes</th>\n",
              "      <th>ano</th>\n",
              "    </tr>\n",
              "  </thead>\n",
              "  <tbody>\n",
              "    <tr>\n",
              "      <th>67549</th>\n",
              "      <td>OWID_WRL</td>\n",
              "      <td>NaN</td>\n",
              "      <td>World</td>\n",
              "      <td>2021-01-31</td>\n",
              "      <td>102967087.0</td>\n",
              "      <td>382272.0</td>\n",
              "      <td>535650.143</td>\n",
              "      <td>2229392.0</td>\n",
              "      <td>7951.0</td>\n",
              "      <td>14024.714</td>\n",
              "      <td>13209.717</td>\n",
              "      <td>49.042</td>\n",
              "      <td>68.719</td>\n",
              "      <td>286.01</td>\n",
              "      <td>1.02</td>\n",
              "      <td>1.799</td>\n",
              "      <td>NaN</td>\n",
              "      <td>NaN</td>\n",
              "      <td>NaN</td>\n",
              "      <td>NaN</td>\n",
              "      <td>NaN</td>\n",
              "      <td>NaN</td>\n",
              "      <td>NaN</td>\n",
              "      <td>NaN</td>\n",
              "      <td>NaN</td>\n",
              "      <td>NaN</td>\n",
              "      <td>NaN</td>\n",
              "      <td>NaN</td>\n",
              "      <td>NaN</td>\n",
              "      <td>NaN</td>\n",
              "      <td>NaN</td>\n",
              "      <td>NaN</td>\n",
              "      <td>NaN</td>\n",
              "      <td>NaN</td>\n",
              "      <td>99609596.0</td>\n",
              "      <td>55137082.0</td>\n",
              "      <td>11020827.0</td>\n",
              "      <td>4241919.0</td>\n",
              "      <td>4692589.0</td>\n",
              "      <td>1.28</td>\n",
              "      <td>0.71</td>\n",
              "      <td>0.14</td>\n",
              "      <td>602.0</td>\n",
              "      <td>NaN</td>\n",
              "      <td>7.794799e+09</td>\n",
              "      <td>58.045</td>\n",
              "      <td>30.9</td>\n",
              "      <td>8.696</td>\n",
              "      <td>5.355</td>\n",
              "      <td>15469.207</td>\n",
              "      <td>10.0</td>\n",
              "      <td>233.07</td>\n",
              "      <td>8.51</td>\n",
              "      <td>6.434</td>\n",
              "      <td>34.635</td>\n",
              "      <td>60.13</td>\n",
              "      <td>2.705</td>\n",
              "      <td>72.58</td>\n",
              "      <td>0.737</td>\n",
              "      <td>1</td>\n",
              "      <td>2021</td>\n",
              "    </tr>\n",
              "  </tbody>\n",
              "</table>\n",
              "</div>"
            ],
            "text/plain": [
              "       iso_code continent location  ... human_development_index  mes   ano\n",
              "67549  OWID_WRL       NaN    World  ...                   0.737    1  2021\n",
              "\n",
              "[1 rows x 61 columns]"
            ]
          },
          "metadata": {
            "tags": []
          },
          "execution_count": 13
        }
      ]
    },
    {
      "cell_type": "markdown",
      "metadata": {
        "id": "nGN4Lvfte_aX"
      },
      "source": [
        "Fazendo a comparação, temos que no fim de janeiro de 2021 tivemos mais 19.446.086 casos no mundo e mais 409.373 mortes do que no final de 2020."
      ]
    },
    {
      "cell_type": "markdown",
      "metadata": {
        "id": "weGnDQ0uoH7K"
      },
      "source": [
        "### Dados Faltantes"
      ]
    },
    {
      "cell_type": "markdown",
      "metadata": {
        "id": "0-nXPZd8y_aB"
      },
      "source": [
        "Nesse momento, estaremos interessados em ver se existem dados faltantes e a sua quantidade no dataset."
      ]
    },
    {
      "cell_type": "code",
      "metadata": {
        "id": "X3Aj6MXqLVQZ",
        "colab": {
          "base_uri": "https://localhost:8080/"
        },
        "outputId": "a2e5da32-7901-4ce7-c717-e9397de9d902"
      },
      "source": [
        "# Conferir a quantidade de dados faltantes \r\n",
        "df.isnull().sum().sort_values(ascending=False)"
      ],
      "execution_count": null,
      "outputs": [
        {
          "output_type": "execute_result",
          "data": {
            "text/plain": [
              "weekly_icu_admissions_per_million      67846\n",
              "weekly_icu_admissions                  67846\n",
              "people_fully_vaccinated_per_hundred    67601\n",
              "people_fully_vaccinated                67601\n",
              "weekly_hosp_admissions                 67397\n",
              "                                       ...  \n",
              "location                                   0\n",
              "ano                                        0\n",
              "date                                       0\n",
              "mes                                        0\n",
              "iso_code                                   0\n",
              "Length: 61, dtype: int64"
            ]
          },
          "metadata": {
            "tags": []
          },
          "execution_count": 14
        }
      ]
    },
    {
      "cell_type": "code",
      "metadata": {
        "colab": {
          "base_uri": "https://localhost:8080/"
        },
        "id": "0xV-ZLsBLyK-",
        "outputId": "095804fb-d993-453d-80d9-29c4c623b3c5"
      },
      "source": [
        "# Conferir a quantidade de dados faltantes em porcentagem\r\n",
        "df.isnull().sum().sort_values(ascending=False) / df.shape[0]"
      ],
      "execution_count": null,
      "outputs": [
        {
          "output_type": "execute_result",
          "data": {
            "text/plain": [
              "weekly_icu_admissions_per_million      0.989976\n",
              "weekly_icu_admissions                  0.989976\n",
              "people_fully_vaccinated_per_hundred    0.986401\n",
              "people_fully_vaccinated                0.986401\n",
              "weekly_hosp_admissions                 0.983424\n",
              "                                         ...   \n",
              "location                               0.000000\n",
              "ano                                    0.000000\n",
              "date                                   0.000000\n",
              "mes                                    0.000000\n",
              "iso_code                               0.000000\n",
              "Length: 61, dtype: float64"
            ]
          },
          "metadata": {
            "tags": []
          },
          "execution_count": 15
        }
      ]
    },
    {
      "cell_type": "markdown",
      "metadata": {
        "id": "0blg7hIhdb5m"
      },
      "source": [
        "Notamos que existem uma boa quantidade de de atributos que possuem mais de 87% dos seus dados faltantes. No entanto, para alguns fazem sentindo, pois como sabemos a vacina chegou no mundo em dezembro de 2020, então não existem dados antes de dezembro. Por isso, não iremos excluir as colunas que possuem 87% ou mais dos dados faltantes."
      ]
    },
    {
      "cell_type": "markdown",
      "metadata": {
        "id": "Gm7yheGcoP_E"
      },
      "source": [
        "### Verificar a presenca de Outliers"
      ]
    },
    {
      "cell_type": "markdown",
      "metadata": {
        "id": "chq7cSTg02yQ"
      },
      "source": [
        "Por último, iremos visualizar se existem outliers no nosso dataset."
      ]
    },
    {
      "cell_type": "code",
      "metadata": {
        "colab": {
          "base_uri": "https://localhost:8080/",
          "height": 317
        },
        "id": "lzDNKmZHRAzC",
        "outputId": "1b973557-292d-4c44-f0e9-cc8356775a79"
      },
      "source": [
        "# Ver estatisticas do dataset\r\n",
        "df.describe()"
      ],
      "execution_count": null,
      "outputs": [
        {
          "output_type": "execute_result",
          "data": {
            "text/html": [
              "<div>\n",
              "<style scoped>\n",
              "    .dataframe tbody tr th:only-of-type {\n",
              "        vertical-align: middle;\n",
              "    }\n",
              "\n",
              "    .dataframe tbody tr th {\n",
              "        vertical-align: top;\n",
              "    }\n",
              "\n",
              "    .dataframe thead th {\n",
              "        text-align: right;\n",
              "    }\n",
              "</style>\n",
              "<table border=\"1\" class=\"dataframe\">\n",
              "  <thead>\n",
              "    <tr style=\"text-align: right;\">\n",
              "      <th></th>\n",
              "      <th>total_cases</th>\n",
              "      <th>new_cases</th>\n",
              "      <th>new_cases_smoothed</th>\n",
              "      <th>total_deaths</th>\n",
              "      <th>new_deaths</th>\n",
              "      <th>new_deaths_smoothed</th>\n",
              "      <th>total_cases_per_million</th>\n",
              "      <th>new_cases_per_million</th>\n",
              "      <th>new_cases_smoothed_per_million</th>\n",
              "      <th>total_deaths_per_million</th>\n",
              "      <th>new_deaths_per_million</th>\n",
              "      <th>new_deaths_smoothed_per_million</th>\n",
              "      <th>reproduction_rate</th>\n",
              "      <th>icu_patients</th>\n",
              "      <th>icu_patients_per_million</th>\n",
              "      <th>hosp_patients</th>\n",
              "      <th>hosp_patients_per_million</th>\n",
              "      <th>weekly_icu_admissions</th>\n",
              "      <th>weekly_icu_admissions_per_million</th>\n",
              "      <th>weekly_hosp_admissions</th>\n",
              "      <th>weekly_hosp_admissions_per_million</th>\n",
              "      <th>new_tests</th>\n",
              "      <th>total_tests</th>\n",
              "      <th>total_tests_per_thousand</th>\n",
              "      <th>new_tests_per_thousand</th>\n",
              "      <th>new_tests_smoothed</th>\n",
              "      <th>new_tests_smoothed_per_thousand</th>\n",
              "      <th>positive_rate</th>\n",
              "      <th>tests_per_case</th>\n",
              "      <th>total_vaccinations</th>\n",
              "      <th>people_vaccinated</th>\n",
              "      <th>people_fully_vaccinated</th>\n",
              "      <th>new_vaccinations</th>\n",
              "      <th>new_vaccinations_smoothed</th>\n",
              "      <th>total_vaccinations_per_hundred</th>\n",
              "      <th>people_vaccinated_per_hundred</th>\n",
              "      <th>people_fully_vaccinated_per_hundred</th>\n",
              "      <th>new_vaccinations_smoothed_per_million</th>\n",
              "      <th>stringency_index</th>\n",
              "      <th>population</th>\n",
              "      <th>population_density</th>\n",
              "      <th>median_age</th>\n",
              "      <th>aged_65_older</th>\n",
              "      <th>aged_70_older</th>\n",
              "      <th>gdp_per_capita</th>\n",
              "      <th>extreme_poverty</th>\n",
              "      <th>cardiovasc_death_rate</th>\n",
              "      <th>diabetes_prevalence</th>\n",
              "      <th>female_smokers</th>\n",
              "      <th>male_smokers</th>\n",
              "      <th>handwashing_facilities</th>\n",
              "      <th>hospital_beds_per_thousand</th>\n",
              "      <th>life_expectancy</th>\n",
              "      <th>human_development_index</th>\n",
              "      <th>mes</th>\n",
              "      <th>ano</th>\n",
              "    </tr>\n",
              "  </thead>\n",
              "  <tbody>\n",
              "    <tr>\n",
              "      <th>count</th>\n",
              "      <td>6.774900e+04</td>\n",
              "      <td>67747.000000</td>\n",
              "      <td>66746.000000</td>\n",
              "      <td>5.884600e+04</td>\n",
              "      <td>59004.000000</td>\n",
              "      <td>66746.000000</td>\n",
              "      <td>67377.000000</td>\n",
              "      <td>67375.000000</td>\n",
              "      <td>66379.000000</td>\n",
              "      <td>58487.000000</td>\n",
              "      <td>58645.000000</td>\n",
              "      <td>66379.000000</td>\n",
              "      <td>51295.000000</td>\n",
              "      <td>7317.000000</td>\n",
              "      <td>7317.000000</td>\n",
              "      <td>8699.000000</td>\n",
              "      <td>8699.000000</td>\n",
              "      <td>687.000000</td>\n",
              "      <td>687.000000</td>\n",
              "      <td>1136.000000</td>\n",
              "      <td>1136.000000</td>\n",
              "      <td>3.113500e+04</td>\n",
              "      <td>3.093600e+04</td>\n",
              "      <td>30936.000000</td>\n",
              "      <td>31135.000000</td>\n",
              "      <td>3.518400e+04</td>\n",
              "      <td>35184.000000</td>\n",
              "      <td>33483.000000</td>\n",
              "      <td>32971.000000</td>\n",
              "      <td>1.879000e+03</td>\n",
              "      <td>1.545000e+03</td>\n",
              "      <td>9.320000e+02</td>\n",
              "      <td>1.567000e+03</td>\n",
              "      <td>2.720000e+03</td>\n",
              "      <td>1879.000000</td>\n",
              "      <td>1545.000000</td>\n",
              "      <td>932.000000</td>\n",
              "      <td>2720.000000</td>\n",
              "      <td>58775.000000</td>\n",
              "      <td>6.815200e+04</td>\n",
              "      <td>64084.000000</td>\n",
              "      <td>62477.000000</td>\n",
              "      <td>61755.000000</td>\n",
              "      <td>62124.000000</td>\n",
              "      <td>62612.000000</td>\n",
              "      <td>42798.000000</td>\n",
              "      <td>63219.000000</td>\n",
              "      <td>63993.000000</td>\n",
              "      <td>49807.000000</td>\n",
              "      <td>49124.000000</td>\n",
              "      <td>31692.000000</td>\n",
              "      <td>57978.000000</td>\n",
              "      <td>65129.000000</td>\n",
              "      <td>63204.000000</td>\n",
              "      <td>68533.000000</td>\n",
              "      <td>68533.000000</td>\n",
              "    </tr>\n",
              "    <tr>\n",
              "      <th>mean</th>\n",
              "      <td>5.514064e+05</td>\n",
              "      <td>5062.928012</td>\n",
              "      <td>5078.604163</td>\n",
              "      <td>1.707501e+04</td>\n",
              "      <td>129.803522</td>\n",
              "      <td>112.800163</td>\n",
              "      <td>6424.344073</td>\n",
              "      <td>63.039193</td>\n",
              "      <td>62.977377</td>\n",
              "      <td>156.850132</td>\n",
              "      <td>1.350180</td>\n",
              "      <td>1.172285</td>\n",
              "      <td>1.030927</td>\n",
              "      <td>1000.427771</td>\n",
              "      <td>21.505626</td>\n",
              "      <td>5052.915278</td>\n",
              "      <td>145.820843</td>\n",
              "      <td>269.209789</td>\n",
              "      <td>15.262504</td>\n",
              "      <td>2694.062585</td>\n",
              "      <td>97.291785</td>\n",
              "      <td>3.675888e+04</td>\n",
              "      <td>4.102075e+06</td>\n",
              "      <td>143.010642</td>\n",
              "      <td>1.352734</td>\n",
              "      <td>3.555212e+04</td>\n",
              "      <td>1.300610</td>\n",
              "      <td>0.084978</td>\n",
              "      <td>161.504185</td>\n",
              "      <td>3.009230e+06</td>\n",
              "      <td>2.238724e+06</td>\n",
              "      <td>7.217736e+05</td>\n",
              "      <td>1.824891e+05</td>\n",
              "      <td>1.155235e+05</td>\n",
              "      <td>4.509276</td>\n",
              "      <td>3.805437</td>\n",
              "      <td>1.363433</td>\n",
              "      <td>1893.967647</td>\n",
              "      <td>59.066599</td>\n",
              "      <td>1.325372e+08</td>\n",
              "      <td>323.511627</td>\n",
              "      <td>30.591432</td>\n",
              "      <td>8.821299</td>\n",
              "      <td>5.592602</td>\n",
              "      <td>19146.987762</td>\n",
              "      <td>13.221078</td>\n",
              "      <td>256.780307</td>\n",
              "      <td>7.784761</td>\n",
              "      <td>10.567404</td>\n",
              "      <td>32.649033</td>\n",
              "      <td>51.065186</td>\n",
              "      <td>3.039640</td>\n",
              "      <td>73.135877</td>\n",
              "      <td>0.728391</td>\n",
              "      <td>6.684473</td>\n",
              "      <td>2020.127282</td>\n",
              "    </tr>\n",
              "    <tr>\n",
              "      <th>std</th>\n",
              "      <td>3.908817e+06</td>\n",
              "      <td>32259.793694</td>\n",
              "      <td>32010.596223</td>\n",
              "      <td>9.861698e+04</td>\n",
              "      <td>716.780519</td>\n",
              "      <td>647.394282</td>\n",
              "      <td>12844.312990</td>\n",
              "      <td>165.707874</td>\n",
              "      <td>138.722177</td>\n",
              "      <td>282.386078</td>\n",
              "      <td>3.892605</td>\n",
              "      <td>2.773915</td>\n",
              "      <td>0.363442</td>\n",
              "      <td>2801.099505</td>\n",
              "      <td>24.535869</td>\n",
              "      <td>13907.734483</td>\n",
              "      <td>187.315328</td>\n",
              "      <td>513.892049</td>\n",
              "      <td>29.184172</td>\n",
              "      <td>6078.392718</td>\n",
              "      <td>224.403975</td>\n",
              "      <td>1.458693e+05</td>\n",
              "      <td>1.910934e+07</td>\n",
              "      <td>291.437176</td>\n",
              "      <td>3.471148</td>\n",
              "      <td>1.346900e+05</td>\n",
              "      <td>2.615558</td>\n",
              "      <td>0.098635</td>\n",
              "      <td>832.625088</td>\n",
              "      <td>1.322586e+07</td>\n",
              "      <td>8.122290e+06</td>\n",
              "      <td>2.473546e+06</td>\n",
              "      <td>7.692504e+05</td>\n",
              "      <td>4.823723e+05</td>\n",
              "      <td>9.664439</td>\n",
              "      <td>7.438678</td>\n",
              "      <td>3.713444</td>\n",
              "      <td>3613.003671</td>\n",
              "      <td>22.197827</td>\n",
              "      <td>7.023057e+08</td>\n",
              "      <td>1572.114865</td>\n",
              "      <td>9.119853</td>\n",
              "      <td>6.250665</td>\n",
              "      <td>4.269853</td>\n",
              "      <td>19658.006141</td>\n",
              "      <td>19.899752</td>\n",
              "      <td>118.240993</td>\n",
              "      <td>3.916207</td>\n",
              "      <td>10.414968</td>\n",
              "      <td>13.459470</td>\n",
              "      <td>31.771025</td>\n",
              "      <td>2.469427</td>\n",
              "      <td>7.548979</td>\n",
              "      <td>0.150149</td>\n",
              "      <td>3.443843</td>\n",
              "      <td>0.333291</td>\n",
              "    </tr>\n",
              "    <tr>\n",
              "      <th>min</th>\n",
              "      <td>1.000000e+00</td>\n",
              "      <td>-46076.000000</td>\n",
              "      <td>-1121.714000</td>\n",
              "      <td>1.000000e+00</td>\n",
              "      <td>-1918.000000</td>\n",
              "      <td>-232.143000</td>\n",
              "      <td>0.001000</td>\n",
              "      <td>-2153.437000</td>\n",
              "      <td>-276.825000</td>\n",
              "      <td>0.001000</td>\n",
              "      <td>-76.445000</td>\n",
              "      <td>-10.921000</td>\n",
              "      <td>0.000000</td>\n",
              "      <td>0.000000</td>\n",
              "      <td>0.000000</td>\n",
              "      <td>0.000000</td>\n",
              "      <td>0.000000</td>\n",
              "      <td>0.000000</td>\n",
              "      <td>0.000000</td>\n",
              "      <td>0.000000</td>\n",
              "      <td>0.000000</td>\n",
              "      <td>-2.391720e+05</td>\n",
              "      <td>1.000000e+00</td>\n",
              "      <td>0.000000</td>\n",
              "      <td>-6.320000</td>\n",
              "      <td>0.000000e+00</td>\n",
              "      <td>0.000000</td>\n",
              "      <td>0.000000</td>\n",
              "      <td>1.600000</td>\n",
              "      <td>0.000000e+00</td>\n",
              "      <td>0.000000e+00</td>\n",
              "      <td>1.000000e+00</td>\n",
              "      <td>0.000000e+00</td>\n",
              "      <td>1.000000e+00</td>\n",
              "      <td>0.000000</td>\n",
              "      <td>0.000000</td>\n",
              "      <td>0.000000</td>\n",
              "      <td>0.000000</td>\n",
              "      <td>0.000000</td>\n",
              "      <td>8.090000e+02</td>\n",
              "      <td>0.137000</td>\n",
              "      <td>15.100000</td>\n",
              "      <td>1.144000</td>\n",
              "      <td>0.526000</td>\n",
              "      <td>661.240000</td>\n",
              "      <td>0.100000</td>\n",
              "      <td>79.370000</td>\n",
              "      <td>0.990000</td>\n",
              "      <td>0.100000</td>\n",
              "      <td>7.700000</td>\n",
              "      <td>1.188000</td>\n",
              "      <td>0.100000</td>\n",
              "      <td>53.280000</td>\n",
              "      <td>0.394000</td>\n",
              "      <td>1.000000</td>\n",
              "      <td>2020.000000</td>\n",
              "    </tr>\n",
              "    <tr>\n",
              "      <th>25%</th>\n",
              "      <td>6.410000e+02</td>\n",
              "      <td>1.000000</td>\n",
              "      <td>5.286000</td>\n",
              "      <td>3.400000e+01</td>\n",
              "      <td>0.000000</td>\n",
              "      <td>0.000000</td>\n",
              "      <td>123.662000</td>\n",
              "      <td>0.118000</td>\n",
              "      <td>0.924000</td>\n",
              "      <td>5.132000</td>\n",
              "      <td>0.000000</td>\n",
              "      <td>0.000000</td>\n",
              "      <td>0.870000</td>\n",
              "      <td>19.000000</td>\n",
              "      <td>2.988000</td>\n",
              "      <td>75.000000</td>\n",
              "      <td>15.975000</td>\n",
              "      <td>5.006000</td>\n",
              "      <td>1.176000</td>\n",
              "      <td>32.457000</td>\n",
              "      <td>6.890500</td>\n",
              "      <td>1.250000e+03</td>\n",
              "      <td>9.307300e+04</td>\n",
              "      <td>7.495750</td>\n",
              "      <td>0.099000</td>\n",
              "      <td>1.317000e+03</td>\n",
              "      <td>0.099000</td>\n",
              "      <td>0.014000</td>\n",
              "      <td>8.200000</td>\n",
              "      <td>2.576300e+04</td>\n",
              "      <td>2.477300e+04</td>\n",
              "      <td>7.125500e+03</td>\n",
              "      <td>1.997500e+03</td>\n",
              "      <td>1.174750e+03</td>\n",
              "      <td>0.405000</td>\n",
              "      <td>0.440000</td>\n",
              "      <td>0.070000</td>\n",
              "      <td>290.000000</td>\n",
              "      <td>44.440000</td>\n",
              "      <td>2.877800e+06</td>\n",
              "      <td>36.253000</td>\n",
              "      <td>22.200000</td>\n",
              "      <td>3.441000</td>\n",
              "      <td>2.043000</td>\n",
              "      <td>4541.795000</td>\n",
              "      <td>0.500000</td>\n",
              "      <td>167.295000</td>\n",
              "      <td>5.290000</td>\n",
              "      <td>1.900000</td>\n",
              "      <td>21.600000</td>\n",
              "      <td>20.859000</td>\n",
              "      <td>1.300000</td>\n",
              "      <td>67.440000</td>\n",
              "      <td>0.606000</td>\n",
              "      <td>4.000000</td>\n",
              "      <td>2020.000000</td>\n",
              "    </tr>\n",
              "    <tr>\n",
              "      <th>50%</th>\n",
              "      <td>6.825000e+03</td>\n",
              "      <td>54.000000</td>\n",
              "      <td>65.571000</td>\n",
              "      <td>2.160000e+02</td>\n",
              "      <td>1.000000</td>\n",
              "      <td>0.857000</td>\n",
              "      <td>945.926000</td>\n",
              "      <td>5.758000</td>\n",
              "      <td>7.677000</td>\n",
              "      <td>27.598000</td>\n",
              "      <td>0.099000</td>\n",
              "      <td>0.102000</td>\n",
              "      <td>1.040000</td>\n",
              "      <td>120.000000</td>\n",
              "      <td>10.770000</td>\n",
              "      <td>444.000000</td>\n",
              "      <td>62.634000</td>\n",
              "      <td>35.860000</td>\n",
              "      <td>3.730000</td>\n",
              "      <td>289.810000</td>\n",
              "      <td>25.696500</td>\n",
              "      <td>4.801000e+03</td>\n",
              "      <td>4.384300e+05</td>\n",
              "      <td>35.780000</td>\n",
              "      <td>0.450000</td>\n",
              "      <td>5.025500e+03</td>\n",
              "      <td>0.469000</td>\n",
              "      <td>0.048000</td>\n",
              "      <td>20.100000</td>\n",
              "      <td>1.636920e+05</td>\n",
              "      <td>1.455570e+05</td>\n",
              "      <td>3.395450e+04</td>\n",
              "      <td>1.147900e+04</td>\n",
              "      <td>6.604000e+03</td>\n",
              "      <td>1.560000</td>\n",
              "      <td>1.520000</td>\n",
              "      <td>0.400000</td>\n",
              "      <td>803.000000</td>\n",
              "      <td>61.110000</td>\n",
              "      <td>1.019671e+07</td>\n",
              "      <td>83.479000</td>\n",
              "      <td>29.900000</td>\n",
              "      <td>6.378000</td>\n",
              "      <td>3.871000</td>\n",
              "      <td>13111.214000</td>\n",
              "      <td>2.000000</td>\n",
              "      <td>242.648000</td>\n",
              "      <td>7.110000</td>\n",
              "      <td>6.300000</td>\n",
              "      <td>31.400000</td>\n",
              "      <td>49.839000</td>\n",
              "      <td>2.400000</td>\n",
              "      <td>74.530000</td>\n",
              "      <td>0.750000</td>\n",
              "      <td>7.000000</td>\n",
              "      <td>2020.000000</td>\n",
              "    </tr>\n",
              "    <tr>\n",
              "      <th>75%</th>\n",
              "      <td>7.469200e+04</td>\n",
              "      <td>631.000000</td>\n",
              "      <td>653.821250</td>\n",
              "      <td>2.042000e+03</td>\n",
              "      <td>15.000000</td>\n",
              "      <td>11.571000</td>\n",
              "      <td>5773.968000</td>\n",
              "      <td>50.963000</td>\n",
              "      <td>57.039000</td>\n",
              "      <td>163.287000</td>\n",
              "      <td>1.040000</td>\n",
              "      <td>0.910000</td>\n",
              "      <td>1.190000</td>\n",
              "      <td>570.000000</td>\n",
              "      <td>33.494000</td>\n",
              "      <td>2531.500000</td>\n",
              "      <td>207.541500</td>\n",
              "      <td>253.434500</td>\n",
              "      <td>15.781500</td>\n",
              "      <td>1533.576500</td>\n",
              "      <td>94.061500</td>\n",
              "      <td>1.854750e+04</td>\n",
              "      <td>1.851812e+06</td>\n",
              "      <td>149.798000</td>\n",
              "      <td>1.430500</td>\n",
              "      <td>2.026925e+04</td>\n",
              "      <td>1.488000</td>\n",
              "      <td>0.121000</td>\n",
              "      <td>66.600000</td>\n",
              "      <td>8.962575e+05</td>\n",
              "      <td>6.700690e+05</td>\n",
              "      <td>1.908420e+05</td>\n",
              "      <td>7.182100e+04</td>\n",
              "      <td>4.255950e+04</td>\n",
              "      <td>3.750000</td>\n",
              "      <td>3.040000</td>\n",
              "      <td>1.040000</td>\n",
              "      <td>1538.750000</td>\n",
              "      <td>76.850000</td>\n",
              "      <td>3.774216e+07</td>\n",
              "      <td>208.354000</td>\n",
              "      <td>39.100000</td>\n",
              "      <td>14.312000</td>\n",
              "      <td>9.167000</td>\n",
              "      <td>27216.445000</td>\n",
              "      <td>21.200000</td>\n",
              "      <td>325.721000</td>\n",
              "      <td>10.080000</td>\n",
              "      <td>19.300000</td>\n",
              "      <td>41.100000</td>\n",
              "      <td>83.241000</td>\n",
              "      <td>4.000000</td>\n",
              "      <td>78.570000</td>\n",
              "      <td>0.848000</td>\n",
              "      <td>10.000000</td>\n",
              "      <td>2020.000000</td>\n",
              "    </tr>\n",
              "    <tr>\n",
              "      <th>max</th>\n",
              "      <td>1.081890e+08</td>\n",
              "      <td>858062.000000</td>\n",
              "      <td>738534.000000</td>\n",
              "      <td>2.383000e+06</td>\n",
              "      <td>17886.000000</td>\n",
              "      <td>14405.857000</td>\n",
              "      <td>134951.142000</td>\n",
              "      <td>8652.658000</td>\n",
              "      <td>2648.773000</td>\n",
              "      <td>2121.516000</td>\n",
              "      <td>218.329000</td>\n",
              "      <td>63.140000</td>\n",
              "      <td>6.720000</td>\n",
              "      <td>23912.000000</td>\n",
              "      <td>127.183000</td>\n",
              "      <td>132474.000000</td>\n",
              "      <td>1042.535000</td>\n",
              "      <td>3884.488000</td>\n",
              "      <td>188.924000</td>\n",
              "      <td>50887.393000</td>\n",
              "      <td>2645.194000</td>\n",
              "      <td>2.945871e+06</td>\n",
              "      <td>3.124389e+08</td>\n",
              "      <td>3134.152000</td>\n",
              "      <td>327.086000</td>\n",
              "      <td>1.851168e+06</td>\n",
              "      <td>59.929000</td>\n",
              "      <td>0.636000</td>\n",
              "      <td>44258.700000</td>\n",
              "      <td>1.657496e+08</td>\n",
              "      <td>8.442818e+07</td>\n",
              "      <td>2.524223e+07</td>\n",
              "      <td>1.278758e+07</td>\n",
              "      <td>6.179565e+06</td>\n",
              "      <td>71.590000</td>\n",
              "      <td>45.820000</td>\n",
              "      <td>27.910000</td>\n",
              "      <td>30869.000000</td>\n",
              "      <td>100.000000</td>\n",
              "      <td>7.794799e+09</td>\n",
              "      <td>19347.500000</td>\n",
              "      <td>48.200000</td>\n",
              "      <td>27.049000</td>\n",
              "      <td>18.493000</td>\n",
              "      <td>116935.600000</td>\n",
              "      <td>77.600000</td>\n",
              "      <td>724.417000</td>\n",
              "      <td>30.530000</td>\n",
              "      <td>44.000000</td>\n",
              "      <td>78.100000</td>\n",
              "      <td>98.999000</td>\n",
              "      <td>13.800000</td>\n",
              "      <td>86.750000</td>\n",
              "      <td>0.957000</td>\n",
              "      <td>12.000000</td>\n",
              "      <td>2021.000000</td>\n",
              "    </tr>\n",
              "  </tbody>\n",
              "</table>\n",
              "</div>"
            ],
            "text/plain": [
              "        total_cases      new_cases  ...           mes           ano\n",
              "count  6.774900e+04   67747.000000  ...  68533.000000  68533.000000\n",
              "mean   5.514064e+05    5062.928012  ...      6.684473   2020.127282\n",
              "std    3.908817e+06   32259.793694  ...      3.443843      0.333291\n",
              "min    1.000000e+00  -46076.000000  ...      1.000000   2020.000000\n",
              "25%    6.410000e+02       1.000000  ...      4.000000   2020.000000\n",
              "50%    6.825000e+03      54.000000  ...      7.000000   2020.000000\n",
              "75%    7.469200e+04     631.000000  ...     10.000000   2020.000000\n",
              "max    1.081890e+08  858062.000000  ...     12.000000   2021.000000\n",
              "\n",
              "[8 rows x 56 columns]"
            ]
          },
          "metadata": {
            "tags": []
          },
          "execution_count": 16
        }
      ]
    },
    {
      "cell_type": "markdown",
      "metadata": {
        "id": "wJQS4iGJ1Vrn"
      },
      "source": [
        "Pelas estatísticas acima, podemos inferir as seguintes afirmações: \r\n",
        "\r\n",
        "* Existem dados negativos. \r\n",
        "\r\n",
        "* Existem alguns outliers como, por exemplo, o máximo de ‘new_cases’ tem o valor 858062 enquanto 75% do dataset tem o valor de 631. \r\n"
      ]
    },
    {
      "cell_type": "markdown",
      "metadata": {
        "id": "C85u6tXnQ_Em"
      },
      "source": [
        "No entanto, existem explicações. \r\n",
        "\r\n",
        "* Para o caso dos valores negativos, eles significam que quando a organização que registrou os dados, registrava dados a mais, no outro dia eles subtraiam para ter um valor mais aproximado do da realidade. Dessa forma, não vamos excluir os dados negativos, pois eles fazem sentido e são importantes! \r\n",
        "\r\n",
        "* Por outro lado, os outliers são os dados que possuem localização igual a “Mundo ”, assim como já separamos esses dados em subdataframes vamos exclui-los.Para isso, iremos transformar o atributo location no index e depois excluir os dados World.\r\n"
      ]
    },
    {
      "cell_type": "code",
      "metadata": {
        "id": "-7hiGRUGR4df"
      },
      "source": [
        "# Transformar a coluna location no index\r\n",
        "df_2020.set_index('location', inplace=True)\r\n",
        "df_2021.set_index('location', inplace=True)"
      ],
      "execution_count": null,
      "outputs": []
    },
    {
      "cell_type": "code",
      "metadata": {
        "id": "MKO8a28fRmn6"
      },
      "source": [
        "# Excluindo os dados do mundo\r\n",
        "df_2020 = df_2020.drop(\"World\")\r\n",
        "df_2021 = df_2021.drop(\"World\")"
      ],
      "execution_count": null,
      "outputs": []
    },
    {
      "cell_type": "markdown",
      "metadata": {
        "id": "FmTLYzLfomGK"
      },
      "source": [
        "## Análise do Mundo em 2020\r\n",
        "\r\n"
      ]
    },
    {
      "cell_type": "markdown",
      "metadata": {
        "id": "kezCrka_lJ6B"
      },
      "source": [
        "Como vimos, o dia mais recente a ser registrado foi 11-02-2021. Vamos ver  algumas estatísticas dos maiores valores atingidos durante a pandemia até esse dia. "
      ]
    },
    {
      "cell_type": "code",
      "metadata": {
        "colab": {
          "base_uri": "https://localhost:8080/"
        },
        "id": "s3yxZC_cntNW",
        "outputId": "3d24607a-f3ec-4362-ddb9-c8aad461f39f"
      },
      "source": [
        "print('O número total de casos registrados foi de {:.0f} casos!'.format(df.total_cases.max()))\r\n",
        "print('O número máximo de mortes registradas foi de {:.0f} mortes!'.format(df.total_deaths.max()))\r\n",
        "print('O número máximo de descobertas de novos casos em um dia foi de {:.0f} casos!'.format(df_world_2020.new_cases.max()))\r\n",
        "print('O número máximo de mortes em um único dia foi de {:.0f} casos!'.format(df_world_2020.new_deaths.max()))"
      ],
      "execution_count": null,
      "outputs": [
        {
          "output_type": "stream",
          "text": [
            "O número total de casos registrados foi de 108188977 casos!\n",
            "O número máximo de mortes registradas foi de 2383000 mortes!\n",
            "O número máximo de descobertas de novos casos em um dia foi de 759831 casos!\n",
            "O número máximo de mortes em um único dia foi de 15251 casos!\n"
          ],
          "name": "stdout"
        }
      ]
    },
    {
      "cell_type": "markdown",
      "metadata": {
        "id": "KAkkrLJYnUg_"
      },
      "source": [
        "O que são dados assustadores. \r\n",
        "\r\n",
        "Agora, como diria o poeta, “vamos começar pelo começo”.\r\n",
        "\r\n",
        "Então, a primeira coisa que vamos analisar são os dados de 2020."
      ]
    },
    {
      "cell_type": "markdown",
      "metadata": {
        "id": "iHejPBp4nO85"
      },
      "source": [
        "### Quantidade de Casos / Mortes"
      ]
    },
    {
      "cell_type": "markdown",
      "metadata": {
        "id": "dMjpTRvpq5wQ"
      },
      "source": [
        "Em 2020 queremos analisar muitas coisas, desde como foi o crescimento do número de casos e mortes, comparando esses números em cada continente, até análise das mortes com relação ao IDH e expectativa de vida do País. Visto isso, vamos dar uma olhada também nas informações dos hospitais."
      ]
    },
    {
      "cell_type": "code",
      "metadata": {
        "colab": {
          "base_uri": "https://localhost:8080/"
        },
        "id": "wuk1C8Et0m30",
        "outputId": "d5203602-5cb7-4d28-d770-9ca2cbe44d11"
      },
      "source": [
        "print('O número total de casos registrados em 2020 foi de {:.0f} casos!'.format(df_world_2020.total_cases.values[0]))"
      ],
      "execution_count": null,
      "outputs": [
        {
          "output_type": "stream",
          "text": [
            "O número total de casos registrados em 2020 foi de 83521001 casos!\n"
          ],
          "name": "stdout"
        }
      ]
    },
    {
      "cell_type": "markdown",
      "metadata": {
        "id": "FCxTKwcFtgoF"
      },
      "source": [
        "Abaixo, investigaremos o total de novos casos por mês em 2020."
      ]
    },
    {
      "cell_type": "code",
      "metadata": {
        "colab": {
          "base_uri": "https://localhost:8080/",
          "height": 621
        },
        "id": "Fo3FTb_Ejx4B",
        "outputId": "8272dac6-2b7c-46bd-f953-321d3ec7741c"
      },
      "source": [
        "# Casos por mes \r\n",
        "print('No mês de dezembro de 2020 tivemos o maior número de novos casos, com {:.0f} casos!'.format(df_2020[df_2020['mes']==12].new_cases.sum())) \r\n",
        "sns.catplot(x=\"mes\", y=\"new_cases\", estimator=sum ,kind=\"bar\",ci=\"sd\", palette=\"dark\", alpha=.9, height=8, data=df_2020); \r\n",
        "plt.title('Gráfico da quantidade de Casos por Mês');"
      ],
      "execution_count": null,
      "outputs": [
        {
          "output_type": "stream",
          "text": [
            "No mês de dezembro de 2020 tivemos o maior número de novos casos, com 42530807 casos!\n"
          ],
          "name": "stdout"
        },
        {
          "output_type": "display_data",
          "data": {
            "image/png": "[encoded data removed]",
            "text/plain": [
              "<Figure size 576x576 with 1 Axes>"
            ]
          },
          "metadata": {
            "tags": [],
            "needs_background": "light"
          }
        }
      ]
    },
    {
      "cell_type": "markdown",
      "metadata": {
        "id": "_EMuyNdus6Xp"
      },
      "source": [
        "Pelo gráfico acima, é nítido o crescimento gigantesco da quantidade de casos com o passar do tempo em 2020, principalmente,  se compararmos os meses de setembro e dezembro.\r\n",
        "\r\n",
        "A seguir, veremos a quantidade de mortes por mês."
      ]
    },
    {
      "cell_type": "code",
      "metadata": {
        "colab": {
          "base_uri": "https://localhost:8080/"
        },
        "id": "2tfDZla203qk",
        "outputId": "a37a61df-0a5f-477c-e6c2-765645bc0ebf"
      },
      "source": [
        "print('O número total de mortes registradas em 2020 foi de {:.0f} mortes!'.format(df_world_2020.total_deaths.values[0]))"
      ],
      "execution_count": null,
      "outputs": [
        {
          "output_type": "stream",
          "text": [
            "O número total de mortes registradas em 2020 foi de 1820019 mortes!\n"
          ],
          "name": "stdout"
        }
      ]
    },
    {
      "cell_type": "code",
      "metadata": {
        "colab": {
          "base_uri": "https://localhost:8080/",
          "height": 632
        },
        "id": "dUco3igwk8-o",
        "outputId": "6f0522f5-ad8e-418e-a17f-ec70dd13bacb"
      },
      "source": [
        "# Mortes por mes\r\n",
        "print('No mês de dezembro de 2020 tivemos o maior número de mortes, com {:.0f} mortes!!'.format(df_2020[df_2020['mes']==12].new_deaths.sum())) \r\n",
        "sns.catplot(x=\"mes\", y=\"new_deaths\", estimator=sum ,kind=\"bar\", ci=\"sd\", palette=\"dark\", alpha=.9, height=8, data=df_2020);\r\n",
        "plt.title('Gráfico da quantidade de Mortes por Mês');"
      ],
      "execution_count": null,
      "outputs": [
        {
          "output_type": "stream",
          "text": [
            "No mês de dezembro de 2020 tivemos o maior número de mortes, com 803582 mortes!!\n"
          ],
          "name": "stdout"
        },
        {
          "output_type": "display_data",
          "data": {
            "image/png": "[encoded data removed]",
            "text/plain": [
              "<Figure size 576x576 with 1 Axes>"
            ]
          },
          "metadata": {
            "tags": [],
            "needs_background": "light"
          }
        }
      ]
    },
    {
      "cell_type": "markdown",
      "metadata": {
        "id": "KzvD2sRSx07m"
      },
      "source": [
        "O gráfico é muito interessante para ser analisado, pois embora a quantidade de casos tenha crescido constantemente (como vimos no gráfico anterior), vemos que o mês de abril teve um número maior de mortes do que maio, junho, julho, agosto, setembro e outubro.\r\n",
        "\r\n",
        "Fato interessante, mas totalmente explicável. O motivo? A declaração oficial que a covid tinha virado pandemia, veio em meados de março e com ela vieram também lockdown no mundo assim como as campanhas intensivas de conscientização, com isso ainda não estávamos (população e o estado) tão preparados para conter o vírus. Com o tempo, vemos que as medidas surtiram efeito, porém com o aumento gigantesco do número de ocorrências em novembro e dezembro a quantidade de mortes voltou a crescer.\r\n"
      ]
    },
    {
      "cell_type": "markdown",
      "metadata": {
        "id": "MBPtCzAaKSxE"
      },
      "source": [
        "Visto isso, vamos analisar como ficaram os hospitais durante o ano de 2020."
      ]
    },
    {
      "cell_type": "markdown",
      "metadata": {
        "id": "FyjpYhiiKCq3"
      },
      "source": [
        "### Hospitais:"
      ]
    },
    {
      "cell_type": "markdown",
      "metadata": {
        "id": "7vncrPJCM5s-"
      },
      "source": [
        "Acabamos de verificar a quantidade de casos/mortes no mundo. \r\n",
        "\r\n",
        "Nesse momento, queremos investigar como os Hospitais ficaram no ano de 2020.\r\n",
        "\r\n",
        "Começaremos vendo o total de camas de hospitais por milhão de pessoas em cada mês de 2020."
      ]
    },
    {
      "cell_type": "code",
      "metadata": {
        "colab": {
          "base_uri": "https://localhost:8080/",
          "height": 585
        },
        "id": "llEtEyQPJXbx",
        "outputId": "cfa3e144-1c0d-40e3-a7be-40f6adc41bd2"
      },
      "source": [
        "# Total de Pacientes de Hospitais por Milhão de Pessoas\r\n",
        "sns.catplot(x=\"mes\", y=\"hosp_patients_per_million\", estimator=sum ,kind=\"bar\", ci=\"sd\", palette=\"dark\", alpha=.9, height=8, data=df_2020);\r\n",
        "plt.title('Total de Pacientes de Hospitais por Milhão de Pessoas');\r\n",
        "plt.tight_layout()\r\n",
        "plt.show()"
      ],
      "execution_count": null,
      "outputs": [
        {
          "output_type": "display_data",
          "data": {
            "image/png": "[encoded data removed]",
            "text/plain": [
              "<Figure size 576x576 with 1 Axes>"
            ]
          },
          "metadata": {
            "tags": [],
            "needs_background": "light"
          }
        }
      ]
    },
    {
      "cell_type": "markdown",
      "metadata": {
        "id": "vuzpuYI7OOBz"
      },
      "source": [
        "Constatamos então que o gráfico acima, é muito parecido com a quantidade de mortes, vendo que abril teve um pico, em sequência os números baixaram, porém voltaram a subir em outubro.\r\n",
        "\r\n",
        "Em seguida, vamos visualizar o gráfico do Total de Pacientes dos UTIS dos Hospitais por Milhão de Pessoas por mês. "
      ]
    },
    {
      "cell_type": "code",
      "metadata": {
        "colab": {
          "base_uri": "https://localhost:8080/",
          "height": 585
        },
        "id": "6Vsiymx-K_7Q",
        "outputId": "17b929fd-6bfa-4d8d-ad45-06a754e8ab51"
      },
      "source": [
        "#Total de Pacientes dos UTIS dos Hospitais por Milhão de Pessoas\r\n",
        "sns.catplot(x=\"mes\", y=\"icu_patients_per_million\", estimator=sum, kind=\"bar\", ci=\"sd\", palette=\"dark\", alpha=.9, height=8, data=df_2020);\r\n",
        "plt.title('Total de Pacientes dos UTIS dos Hospitais por Milhão de Pessoas');\r\n",
        "plt.tight_layout()\r\n",
        "plt.show()"
      ],
      "execution_count": null,
      "outputs": [
        {
          "output_type": "display_data",
          "data": {
            "image/png": "[encoded data removed]",
            "text/plain": [
              "<Figure size 576x576 with 1 Axes>"
            ]
          },
          "metadata": {
            "tags": [],
            "needs_background": "light"
          }
        }
      ]
    },
    {
      "cell_type": "markdown",
      "metadata": {
        "id": "fQLTj5fyPDKV"
      },
      "source": [
        "Por fim, vamos visualizar o gráfico do Total de Camas de Hospitais por Mil Pessoas. \r\n",
        "\r\n",
        "Com ele, podemos ver que desde março, o número de camas disponibilizadas por mês ficou muito parecida."
      ]
    },
    {
      "cell_type": "code",
      "metadata": {
        "colab": {
          "base_uri": "https://localhost:8080/",
          "height": 585
        },
        "id": "l5yPiBvuLBoK",
        "outputId": "9fdaa5b7-829a-414f-a7bc-fe41a36ca9f2"
      },
      "source": [
        "#Total de Camas de Hospitais por Mil Pessoas\r\n",
        "sns.catplot(x=\"mes\", y=\"hospital_beds_per_thousand\", estimator=sum ,kind=\"bar\", ci=\"sd\", palette=\"dark\", alpha=.9, height=8, data=df_2020);\r\n",
        "plt.title('Total de Camas de Hospitais por Mil Pessoas');\r\n",
        "plt.tight_layout()\r\n",
        "plt.show()"
      ],
      "execution_count": null,
      "outputs": [
        {
          "output_type": "display_data",
          "data": {
            "image/png": "[encoded data removed]",
            "text/plain": [
              "<Figure size 576x576 with 1 Axes>"
            ]
          },
          "metadata": {
            "tags": [],
            "needs_background": "light"
          }
        }
      ]
    },
    {
      "cell_type": "markdown",
      "metadata": {
        "id": "IY63KSKyuMjb"
      },
      "source": [
        "### Análise Geográfica:  \r\n"
      ]
    },
    {
      "cell_type": "markdown",
      "metadata": {
        "id": "ruAi1pZCv71K"
      },
      "source": [
        "#### Por Continente:"
      ]
    },
    {
      "cell_type": "markdown",
      "metadata": {
        "id": "sEN0Ae4bA_JA"
      },
      "source": [
        "Nesse momento, vamos investigar como ficou a distribuição da quantidade de casos/mortes por continentes. "
      ]
    },
    {
      "cell_type": "code",
      "metadata": {
        "colab": {
          "base_uri": "https://localhost:8080/",
          "height": 621
        },
        "id": "SymMFfXh3L3x",
        "outputId": "10f8b15b-5e57-41a8-c721-4d66a3666364"
      },
      "source": [
        "# Total de casos de 2020 em cada continente\r\n",
        "print('Ao fim de 2020, a Europa teve o maior número de casos, com {:.0f} casos!'.format(df_2020[df_2020['continent']=='Europe'].new_cases.sum())) \r\n",
        "sns.catplot(x=\"continent\", y=\"new_cases\", estimator=sum ,kind=\"bar\", ci=\"sd\", palette=\"dark\", alpha=.9, height=8, data=df_2020);\r\n",
        "plt.title('Gráfico da quantidade de Casos por Continente em 2020');"
      ],
      "execution_count": null,
      "outputs": [
        {
          "output_type": "stream",
          "text": [
            "Ao fim de 2020, a Europa teve o maior número de casos, com 23807143 casos!\n"
          ],
          "name": "stdout"
        },
        {
          "output_type": "display_data",
          "data": {
            "image/png": "[encoded data removed]",
            "text/plain": [
              "<Figure size 576x576 with 1 Axes>"
            ]
          },
          "metadata": {
            "tags": [],
            "needs_background": "light"
          }
        }
      ]
    },
    {
      "cell_type": "code",
      "metadata": {
        "colab": {
          "base_uri": "https://localhost:8080/",
          "height": 632
        },
        "id": "ukwTnS-YAqvp",
        "outputId": "de2dc77c-8111-4b1a-d5bc-72899770a2ad"
      },
      "source": [
        "# Total de casos de 2020 em cada continente\r\n",
        "print('Ao fim de 2020, a Europa teve o maior número de mortes por covid, com {:.0f} casos!'.format(df_2020[df_2020['continent']=='Europe'].new_deaths.sum())) \r\n",
        "sns.catplot(x=\"continent\", y=\"new_deaths\", estimator=sum, kind=\"bar\", ci=\"sd\", palette=\"dark\", alpha=.9, height=8, data=df_2020);\r\n",
        "plt.title('Gráfico da quantidade de Mortes por Continente');"
      ],
      "execution_count": null,
      "outputs": [
        {
          "output_type": "stream",
          "text": [
            "Ao fim de 2020, a Europa teve o maior número de mortes por covid, com 545487 casos!\n"
          ],
          "name": "stdout"
        },
        {
          "output_type": "display_data",
          "data": {
            "image/png": "[encoded data removed]",
            "text/plain": [
              "<Figure size 576x576 with 1 Axes>"
            ]
          },
          "metadata": {
            "tags": [],
            "needs_background": "light"
          }
        }
      ]
    },
    {
      "cell_type": "markdown",
      "metadata": {
        "id": "g0UHzovGCj5F"
      },
      "source": [
        "Portanto, percebemos que a Europa lidera em ambos os quesitos acima, seguido pela América do Norte, Asia, América do Sul e Oceania, respectivamente."
      ]
    },
    {
      "cell_type": "markdown",
      "metadata": {
        "id": "2JPruZ9W0pUs"
      },
      "source": [
        "#### Por País:\r\n"
      ]
    },
    {
      "cell_type": "markdown",
      "metadata": {
        "id": "M30cPZ3pFuRT"
      },
      "source": [
        "Na sequência, observaremos quem são os 5 países com o maior número de caso/mortes e as quantidades."
      ]
    },
    {
      "cell_type": "code",
      "metadata": {
        "colab": {
          "base_uri": "https://localhost:8080/",
          "height": 446
        },
        "id": "kskFdCtx2c8J",
        "outputId": "7c5ef3d9-b859-4cdb-b6a4-368f9ac6591a"
      },
      "source": [
        "# Top 5 paises no numero de casos\r\n",
        "top_5_cases = df.loc[df.date == '2020-12-31', ['location', 'total_cases']].sort_values(by=\"total_cases\", ascending=False)[1:13]\r\n",
        "top_5_cases.reset_index(inplace=True)\r\n",
        "top_5_cases.drop([0, 1, 2, 4, 5, 9, 11], inplace=True)\r\n",
        "fig, ax = plt.subplots(figsize=(10,6))\r\n",
        "\r\n",
        "ax.bar('location', 'total_cases', data=top_5_cases)\r\n",
        "\r\n",
        "plt.tight_layout()\r\n",
        "plt.title('Top 5 países no número de casos');"
      ],
      "execution_count": null,
      "outputs": [
        {
          "output_type": "display_data",
          "data": {
            "image/png": "[encoded data removed]",
            "text/plain": [
              "<Figure size 720x432 with 1 Axes>"
            ]
          },
          "metadata": {
            "tags": [],
            "needs_background": "light"
          }
        }
      ]
    },
    {
      "cell_type": "markdown",
      "metadata": {
        "id": "IOWKAywDXcPP"
      },
      "source": [
        "Dessa forma, temos na lista Estados Unidos em primeiro lugar, com cerca de 20 milhões de casos, seguido por Índia, Brasil, Rússia e França.  \r\n",
        "\r\n",
        "Abaixo temos um fato interessante de ser comentado, a comparação do número de casos do EUA com a União Europeia e a América do Sul. Nela, vemos que os EUA sozinhos, tiveram mais casos do que toda a União Europeia e a América do Sul."
      ]
    },
    {
      "cell_type": "code",
      "metadata": {
        "colab": {
          "base_uri": "https://localhost:8080/",
          "height": 369
        },
        "id": "PE3hoQgRbPgW",
        "outputId": "1910d3e6-3f00-4fc6-8852-d06ad4ece6df"
      },
      "source": [
        "# gráfico de barras para total de mortes\r\n",
        "cases_EUA_2020 = df.loc[df.date == '2020-12-31', ['location', 'total_cases']].sort_values(by=\"total_cases\", ascending=False)[1:10]\r\n",
        "cases_EUA_2020.reset_index(inplace=True)\r\n",
        "cases_EUA_2020.drop([0,1,2,6,7,8], inplace=True)\r\n",
        "fig, ax = plt.subplots(figsize=(10,5))\r\n",
        "\r\n",
        "ax.bar('location', 'total_cases', data=cases_EUA_2020)\r\n",
        "\r\n",
        "plt.tight_layout()"
      ],
      "execution_count": null,
      "outputs": [
        {
          "output_type": "display_data",
          "data": {
            "image/png": "[encoded data removed]",
            "text/plain": [
              "<Figure size 720x360 with 1 Axes>"
            ]
          },
          "metadata": {
            "tags": [],
            "needs_background": "light"
          }
        }
      ]
    },
    {
      "cell_type": "markdown",
      "metadata": {
        "id": "lorr1NRJRBmd"
      },
      "source": [
        "Vamos ver os 5 países que possuem o maior número de mortes por covid."
      ]
    },
    {
      "cell_type": "code",
      "metadata": {
        "colab": {
          "base_uri": "https://localhost:8080/",
          "height": 457
        },
        "id": "edkt-MhgIV-j",
        "outputId": "de3ed7de-68c9-4472-9008-7dd40bcc250e"
      },
      "source": [
        "# Top 5 paises no numero de mortes\r\n",
        "top_5_death = df.loc[df.date == '2020-12-31', ['location', 'total_deaths']].sort_values(by=\"total_deaths\", ascending=False)[1:13]\r\n",
        "top_5_death.reset_index(inplace=True)\r\n",
        "top_5_death.drop([0, 1, 2, 3, 5, 10,11], inplace=True)\r\n",
        "fig, ax = plt.subplots(figsize=(10,6))\r\n",
        "\r\n",
        "ax.bar('location', 'total_deaths', data=top_5_death)\r\n",
        "\r\n",
        "plt.tight_layout()\r\n",
        "plt.title('Top 5 países no número de mortes');"
      ],
      "execution_count": null,
      "outputs": [
        {
          "output_type": "display_data",
          "data": {
            "image/png": "[encoded data removed]",
            "text/plain": [
              "<Figure size 720x432 with 1 Axes>"
            ]
          },
          "metadata": {
            "tags": [],
            "needs_background": "light"
          }
        }
      ]
    },
    {
      "cell_type": "markdown",
      "metadata": {
        "id": "GvwYCQgNNbMb"
      },
      "source": [
        "Por fim, verificamos que os Estados Unidos também lideram a lista dos países com a maior quantidade de mortes, seguido por Brasil, Índia, Mexico e Itália.\r\n",
        "\r\n",
        "Fazendo a comparação entre casos/mortes, podemos afirmar que apesar de ter mais casos que o Brasil a Índia possui uma quantidade menor de mortes.  \r\n"
      ]
    },
    {
      "cell_type": "markdown",
      "metadata": {
        "id": "TPuhvwyzQyWh"
      },
      "source": [
        "#### Desenvolvimento de um país"
      ]
    },
    {
      "cell_type": "markdown",
      "metadata": {
        "id": "pi6FaKOQR4HB"
      },
      "source": [
        "Ao fim da análise de 2020, vamos verificar a relação entre o IDH e a Expectativa de vida com o número de casos/mortes.  "
      ]
    },
    {
      "cell_type": "markdown",
      "metadata": {
        "id": "MUQH5Guv5snz"
      },
      "source": [
        "##### IDH"
      ]
    },
    {
      "cell_type": "markdown",
      "metadata": {
        "id": "koM64ng_SvFM"
      },
      "source": [
        "Pelos gráficos abaixo, percebemos uma alta quantidade de casos/mortes para os países cujo IDH converge para 1, mas isso se dá por conta dos grandes números dos EUA. Por outro lado, podemos levar em consideração os outros picos, os quais são para os países de IDH de aproximadamente 0.65 e 0.78.  "
      ]
    },
    {
      "cell_type": "code",
      "metadata": {
        "colab": {
          "base_uri": "https://localhost:8080/",
          "height": 369
        },
        "id": "8XuOoWOFPtvP",
        "outputId": "bfbe42a9-8310-4768-891f-210319179185"
      },
      "source": [
        "#Casos por idh\r\n",
        "fig, ax = plt.subplots(figsize=(12,5))\r\n",
        "df_2020.plot.scatter(x=\"human_development_index\", y=\"total_cases\", ax=ax)\r\n",
        "plt.title('Casos por IDH');\r\n",
        "fig.autofmt_xdate()\r\n",
        "plt.tight_layout()\r\n",
        "plt.show()"
      ],
      "execution_count": null,
      "outputs": [
        {
          "output_type": "display_data",
          "data": {
            "image/png": "[encoded data removed]",
            "text/plain": [
              "<Figure size 864x360 with 1 Axes>"
            ]
          },
          "metadata": {
            "tags": [],
            "needs_background": "light"
          }
        }
      ]
    },
    {
      "cell_type": "code",
      "metadata": {
        "colab": {
          "base_uri": "https://localhost:8080/",
          "height": 369
        },
        "id": "cjkn3nozN94R",
        "outputId": "23c644e0-e3fc-4c2b-a612-16f3ba4f6900"
      },
      "source": [
        "#Mortes por idh\r\n",
        "fig, ax = plt.subplots(figsize=(12,5))\r\n",
        "df_2020.plot.scatter(x=\"human_development_index\", y=\"total_deaths\", ax=ax)\r\n",
        "plt.title('Mortes por IDH');\r\n",
        "fig.autofmt_xdate()\r\n",
        "plt.tight_layout()\r\n",
        "plt.show()"
      ],
      "execution_count": null,
      "outputs": [
        {
          "output_type": "display_data",
          "data": {
            "image/png": "[encoded data removed]",
            "text/plain": [
              "<Figure size 864x360 with 1 Axes>"
            ]
          },
          "metadata": {
            "tags": [],
            "needs_background": "light"
          }
        }
      ]
    },
    {
      "cell_type": "markdown",
      "metadata": {
        "id": "Gi-MKlsFQ3BM"
      },
      "source": [
        "##### Expectativa de Vida"
      ]
    },
    {
      "cell_type": "code",
      "metadata": {
        "colab": {
          "base_uri": "https://localhost:8080/",
          "height": 369
        },
        "id": "ZzEnDEPQPyWw",
        "outputId": "8b97cce7-5ba4-4d1b-96d4-99a605e4a531"
      },
      "source": [
        "#Casos por Expectativa de Vida\r\n",
        "fig, ax = plt.subplots(figsize=(12,5))\r\n",
        "df_2020.plot.scatter(x=\"life_expectancy\", y=\"total_cases\", ax=ax,)\r\n",
        "plt.title('Casos por Expectativa de Vida');\r\n",
        "fig.autofmt_xdate()\r\n",
        "plt.tight_layout()\r\n",
        "plt.show()"
      ],
      "execution_count": null,
      "outputs": [
        {
          "output_type": "display_data",
          "data": {
            "image/png": "[encoded data removed]",
            "text/plain": [
              "<Figure size 864x360 with 1 Axes>"
            ]
          },
          "metadata": {
            "tags": [],
            "needs_background": "light"
          }
        }
      ]
    },
    {
      "cell_type": "code",
      "metadata": {
        "colab": {
          "base_uri": "https://localhost:8080/",
          "height": 369
        },
        "id": "0x9DorbGOP7O",
        "outputId": "ca008c60-c4f4-46c2-bab4-c0b80177b27c"
      },
      "source": [
        "#Mortes por Expectativa de Vida\r\n",
        "fig, ax = plt.subplots(figsize=(12,5))\r\n",
        "df_2020.plot.scatter(x=\"life_expectancy\", y=\"total_deaths\", ax=ax)\r\n",
        "plt.title('Mortes por Expectativa de Vida');\r\n",
        "fig.autofmt_xdate()\r\n",
        "plt.tight_layout()\r\n",
        "plt.show()"
      ],
      "execution_count": null,
      "outputs": [
        {
          "output_type": "display_data",
          "data": {
            "image/png": "[encoded data removed]",
            "text/plain": [
              "<Figure size 864x360 with 1 Axes>"
            ]
          },
          "metadata": {
            "tags": [],
            "needs_background": "light"
          }
        }
      ]
    },
    {
      "cell_type": "markdown",
      "metadata": {
        "id": "FsqKTviv0lzR"
      },
      "source": [
        "Assim, a quantidade de casos/mortes foi maior nos países cuja expectativa de vida é de 70 ou 75 ou 79 anos."
      ]
    },
    {
      "cell_type": "markdown",
      "metadata": {
        "id": "NHYVcjBj6Sb_"
      },
      "source": [
        "Com isso, só falta analisar mais uma coisa, a qual seja talvez a mais importante. \r\n",
        "\r\n",
        "Sim! Isso mesmo, estou falando das Vacinas. \r\n",
        "\r\n",
        "A seguir, vamos ver fazer uma inspeção nos dados e retirar alguns fatos."
      ]
    },
    {
      "cell_type": "markdown",
      "metadata": {
        "id": "qkzXHIw-0Q_x"
      },
      "source": [
        "## Vacina"
      ]
    },
    {
      "cell_type": "markdown",
      "metadata": {
        "id": "7MGjqQVpAYMM"
      },
      "source": [
        "A primeira coisa que vamos verificar é o primeiro dia em que as vacinas foram aplicadas."
      ]
    },
    {
      "cell_type": "code",
      "metadata": {
        "colab": {
          "base_uri": "https://localhost:8080/",
          "height": 117
        },
        "id": "6D2VPOPscpz8",
        "outputId": "5c19fbb8-03fd-468b-bf6e-b67a34835011"
      },
      "source": [
        "# Ver a data da pimeira vacina\r\n",
        "df_vac = df.copy()\r\n",
        "df_vac.dropna(subset=['people_vaccinated'], axis=0, inplace=True)\r\n",
        "df_vac.sort_values(by=\"date\", ascending=True).head(1)"
      ],
      "execution_count": null,
      "outputs": [
        {
          "output_type": "execute_result",
          "data": {
            "text/html": [
              "<div>\n",
              "<style scoped>\n",
              "    .dataframe tbody tr th:only-of-type {\n",
              "        vertical-align: middle;\n",
              "    }\n",
              "\n",
              "    .dataframe tbody tr th {\n",
              "        vertical-align: top;\n",
              "    }\n",
              "\n",
              "    .dataframe thead th {\n",
              "        text-align: right;\n",
              "    }\n",
              "</style>\n",
              "<table border=\"1\" class=\"dataframe\">\n",
              "  <thead>\n",
              "    <tr style=\"text-align: right;\">\n",
              "      <th></th>\n",
              "      <th>iso_code</th>\n",
              "      <th>continent</th>\n",
              "      <th>location</th>\n",
              "      <th>date</th>\n",
              "      <th>total_cases</th>\n",
              "      <th>new_cases</th>\n",
              "      <th>new_cases_smoothed</th>\n",
              "      <th>total_deaths</th>\n",
              "      <th>new_deaths</th>\n",
              "      <th>new_deaths_smoothed</th>\n",
              "      <th>total_cases_per_million</th>\n",
              "      <th>new_cases_per_million</th>\n",
              "      <th>new_cases_smoothed_per_million</th>\n",
              "      <th>total_deaths_per_million</th>\n",
              "      <th>new_deaths_per_million</th>\n",
              "      <th>new_deaths_smoothed_per_million</th>\n",
              "      <th>reproduction_rate</th>\n",
              "      <th>icu_patients</th>\n",
              "      <th>icu_patients_per_million</th>\n",
              "      <th>hosp_patients</th>\n",
              "      <th>hosp_patients_per_million</th>\n",
              "      <th>weekly_icu_admissions</th>\n",
              "      <th>weekly_icu_admissions_per_million</th>\n",
              "      <th>weekly_hosp_admissions</th>\n",
              "      <th>weekly_hosp_admissions_per_million</th>\n",
              "      <th>new_tests</th>\n",
              "      <th>total_tests</th>\n",
              "      <th>total_tests_per_thousand</th>\n",
              "      <th>new_tests_per_thousand</th>\n",
              "      <th>new_tests_smoothed</th>\n",
              "      <th>new_tests_smoothed_per_thousand</th>\n",
              "      <th>positive_rate</th>\n",
              "      <th>tests_per_case</th>\n",
              "      <th>tests_units</th>\n",
              "      <th>total_vaccinations</th>\n",
              "      <th>people_vaccinated</th>\n",
              "      <th>people_fully_vaccinated</th>\n",
              "      <th>new_vaccinations</th>\n",
              "      <th>new_vaccinations_smoothed</th>\n",
              "      <th>total_vaccinations_per_hundred</th>\n",
              "      <th>people_vaccinated_per_hundred</th>\n",
              "      <th>people_fully_vaccinated_per_hundred</th>\n",
              "      <th>new_vaccinations_smoothed_per_million</th>\n",
              "      <th>stringency_index</th>\n",
              "      <th>population</th>\n",
              "      <th>population_density</th>\n",
              "      <th>median_age</th>\n",
              "      <th>aged_65_older</th>\n",
              "      <th>aged_70_older</th>\n",
              "      <th>gdp_per_capita</th>\n",
              "      <th>extreme_poverty</th>\n",
              "      <th>cardiovasc_death_rate</th>\n",
              "      <th>diabetes_prevalence</th>\n",
              "      <th>female_smokers</th>\n",
              "      <th>male_smokers</th>\n",
              "      <th>handwashing_facilities</th>\n",
              "      <th>hospital_beds_per_thousand</th>\n",
              "      <th>life_expectancy</th>\n",
              "      <th>human_development_index</th>\n",
              "      <th>mes</th>\n",
              "      <th>ano</th>\n",
              "    </tr>\n",
              "  </thead>\n",
              "  <tbody>\n",
              "    <tr>\n",
              "      <th>67500</th>\n",
              "      <td>OWID_WRL</td>\n",
              "      <td>NaN</td>\n",
              "      <td>World</td>\n",
              "      <td>2020-12-13</td>\n",
              "      <td>72409307.0</td>\n",
              "      <td>544274.0</td>\n",
              "      <td>624712.286</td>\n",
              "      <td>1613986.0</td>\n",
              "      <td>7454.0</td>\n",
              "      <td>10946.143</td>\n",
              "      <td>9289.439</td>\n",
              "      <td>69.825</td>\n",
              "      <td>80.145</td>\n",
              "      <td>207.059</td>\n",
              "      <td>0.956</td>\n",
              "      <td>1.404</td>\n",
              "      <td>1.01</td>\n",
              "      <td>NaN</td>\n",
              "      <td>NaN</td>\n",
              "      <td>NaN</td>\n",
              "      <td>NaN</td>\n",
              "      <td>NaN</td>\n",
              "      <td>NaN</td>\n",
              "      <td>NaN</td>\n",
              "      <td>NaN</td>\n",
              "      <td>NaN</td>\n",
              "      <td>NaN</td>\n",
              "      <td>NaN</td>\n",
              "      <td>NaN</td>\n",
              "      <td>NaN</td>\n",
              "      <td>NaN</td>\n",
              "      <td>NaN</td>\n",
              "      <td>NaN</td>\n",
              "      <td>NaN</td>\n",
              "      <td>86215.0</td>\n",
              "      <td>86215.0</td>\n",
              "      <td>NaN</td>\n",
              "      <td>NaN</td>\n",
              "      <td>NaN</td>\n",
              "      <td>0.0</td>\n",
              "      <td>0.0</td>\n",
              "      <td>NaN</td>\n",
              "      <td>NaN</td>\n",
              "      <td>NaN</td>\n",
              "      <td>7.794799e+09</td>\n",
              "      <td>58.045</td>\n",
              "      <td>30.9</td>\n",
              "      <td>8.696</td>\n",
              "      <td>5.355</td>\n",
              "      <td>15469.207</td>\n",
              "      <td>10.0</td>\n",
              "      <td>233.07</td>\n",
              "      <td>8.51</td>\n",
              "      <td>6.434</td>\n",
              "      <td>34.635</td>\n",
              "      <td>60.13</td>\n",
              "      <td>2.705</td>\n",
              "      <td>72.58</td>\n",
              "      <td>0.737</td>\n",
              "      <td>12</td>\n",
              "      <td>2020</td>\n",
              "    </tr>\n",
              "  </tbody>\n",
              "</table>\n",
              "</div>"
            ],
            "text/plain": [
              "       iso_code continent location  ... human_development_index  mes   ano\n",
              "67500  OWID_WRL       NaN    World  ...                   0.737   12  2020\n",
              "\n",
              "[1 rows x 61 columns]"
            ]
          },
          "metadata": {
            "tags": []
          },
          "execution_count": 36
        }
      ]
    },
    {
      "cell_type": "markdown",
      "metadata": {
        "id": "1wfw8XxLEP8t"
      },
      "source": [
        "Logo, a primeira vacina registrada no nosso dataset foi na União Europeia dia 13/12/2020!!!\r\n",
        "\r\n",
        "A seguir, vamos conferir a quantidade de vacinas produzidas, além da distribuição por mês."
      ]
    },
    {
      "cell_type": "code",
      "metadata": {
        "colab": {
          "base_uri": "https://localhost:8080/"
        },
        "id": "9vsQOMOCEiY1",
        "outputId": "528303b7-5955-4e27-922f-d1671a79e568"
      },
      "source": [
        "# Total de vacinadas produzidas\r\n",
        "print('Até hoje, {:.0f} vacinas foram produziadas!'.format(df_vac.total_vaccinations.values[-1]))"
      ],
      "execution_count": null,
      "outputs": [
        {
          "output_type": "stream",
          "text": [
            "Até hoje, 165749550 vacinas foram produziadas!\n"
          ],
          "name": "stdout"
        }
      ]
    },
    {
      "cell_type": "code",
      "metadata": {
        "colab": {
          "base_uri": "https://localhost:8080/",
          "height": 441
        },
        "id": "zri-Vc2Cab48",
        "outputId": "f4aa77cd-a72c-487d-f5fc-486d00638864"
      },
      "source": [
        "# Total de vacinas produzidas por mes\r\n",
        "sns.catplot(x=\"mes\", y=\"total_vaccinations\", estimator=sum ,kind=\"bar\", ci=\"sd\", palette=\"dark\", alpha=.9, height=6, data=df_vac);\r\n",
        "plt.title('Total de Vacinas Produzidas');\r\n",
        "fig.autofmt_xdate()\r\n",
        "plt.tight_layout()\r\n",
        "plt.show()"
      ],
      "execution_count": null,
      "outputs": [
        {
          "output_type": "display_data",
          "data": {
            "image/png": "[encoded data removed]",
            "text/plain": [
              "<Figure size 432x432 with 1 Axes>"
            ]
          },
          "metadata": {
            "tags": [],
            "needs_background": "light"
          }
        }
      ]
    },
    {
      "cell_type": "markdown",
      "metadata": {
        "id": "81tFwuLsA8_V"
      },
      "source": [
        "Agora, queremos ver a quantidade de pessoas vacinadas até o dia 11/02/2020."
      ]
    },
    {
      "cell_type": "code",
      "metadata": {
        "colab": {
          "base_uri": "https://localhost:8080/"
        },
        "id": "z9rzl7bPh5E5",
        "outputId": "3f39ea72-f158-4864-cd83-31a90b538083"
      },
      "source": [
        "# Total de pessoas vacinadas registradas\r\n",
        "print('Até hoje, {} pessoas foram vacinadas!'.format(df_vac.people_vaccinated.values[-1]))"
      ],
      "execution_count": null,
      "outputs": [
        {
          "output_type": "stream",
          "text": [
            "Até hoje, 84428181.0 pessoas foram vacinadas!\n"
          ],
          "name": "stdout"
        }
      ]
    },
    {
      "cell_type": "markdown",
      "metadata": {
        "id": "Hm6fsGhBBg0g"
      },
      "source": [
        "E das 78634201, vemos abaixo como foi a distribuição com relação aos meses.\r\n",
        "\r\n",
        "O mês de dezembro de 2020 com poucas pessoas vacinadas ainda, e embora só tenhamos os dados até dia 11/02, a quantidade de pessoas vacinadas em fevereiro já está quase passando o número de janeiro, o que é uma grande vitória para a humanidade!"
      ]
    },
    {
      "cell_type": "code",
      "metadata": {
        "colab": {
          "base_uri": "https://localhost:8080/",
          "height": 513
        },
        "id": "wCjvLoeNCNiK",
        "outputId": "8f7ec75b-9db4-464c-8077-af1e06a803cf"
      },
      "source": [
        "# Total de pessoas vacinadas por Mês \r\n",
        "sns.catplot(x=\"mes\", y=\"people_vaccinated\", estimator=sum, kind=\"bar\", ci=\"sd\", palette=\"dark\", alpha=.9, height=7, data=df_vac);\r\n",
        "plt.title('Total de pessoas vacindas por Mês');\r\n",
        "fig.autofmt_xdate()\r\n",
        "plt.tight_layout()\r\n",
        "plt.show()"
      ],
      "execution_count": null,
      "outputs": [
        {
          "output_type": "display_data",
          "data": {
            "image/png": "[encoded data removed]",
            "text/plain": [
              "<Figure size 504x504 with 1 Axes>"
            ]
          },
          "metadata": {
            "tags": [],
            "needs_background": "light"
          }
        }
      ]
    },
    {
      "cell_type": "markdown",
      "metadata": {
        "id": "CuTMXFsJg9a-"
      },
      "source": [
        "Por último, iremos verificar os dados das que pessoas que foram totalmente vacinadas, ou seja, tomaram duas vacinas!"
      ]
    },
    {
      "cell_type": "code",
      "metadata": {
        "colab": {
          "base_uri": "https://localhost:8080/",
          "height": 513
        },
        "id": "PeKQ7HTWBfuw",
        "outputId": "e25102ea-fdfc-489d-f0a5-071c67915650"
      },
      "source": [
        "# Pessoas totalmente vacinadas\r\n",
        "sns.catplot(x=\"mes\", y=\"people_fully_vaccinated\", estimator=sum ,kind=\"bar\", ci=\"sd\", palette=\"dark\", alpha=.9, height=7, data=df_vac);\r\n",
        "plt.title('Total de Pessoas totalmente vacinadas');\r\n",
        "fig.autofmt_xdate()\r\n",
        "plt.tight_layout()\r\n",
        "plt.show()"
      ],
      "execution_count": null,
      "outputs": [
        {
          "output_type": "display_data",
          "data": {
            "image/png": "[encoded data removed]",
            "text/plain": [
              "<Figure size 504x504 with 1 Axes>"
            ]
          },
          "metadata": {
            "tags": [],
            "needs_background": "light"
          }
        }
      ]
    },
    {
      "cell_type": "markdown",
      "metadata": {
        "id": "oXlE-y7JIRaR"
      },
      "source": [
        "Vemos então que na sequência temporal dos meses, o número de pessoas totalmente vacinadas está subindo cada vez mais, o que é uma ótima notícia!"
      ]
    },
    {
      "cell_type": "markdown",
      "metadata": {
        "id": "kroX_lOPy-Id"
      },
      "source": [
        "## Análise do Mundo em 2021"
      ]
    },
    {
      "cell_type": "markdown",
      "metadata": {
        "id": "DU7204k0y6uT"
      },
      "source": [
        "Por último, iremos fazer uma breve análise dos dados de 2021 e compará-los com os do mês de dezembro para saber se na virada do ano os casos continuam aumentando."
      ]
    },
    {
      "cell_type": "markdown",
      "metadata": {
        "id": "P1u8tdPHZ8BX"
      },
      "source": [
        "Primeiramente, vamos ver a quantidade de casos/mortes de janeiro e fevereiro (até o dia disponível do dataset)."
      ]
    },
    {
      "cell_type": "code",
      "metadata": {
        "colab": {
          "base_uri": "https://localhost:8080/"
        },
        "id": "qe20DzjfpjQ2",
        "outputId": "2618eb0a-966a-4102-ad0e-9b12639c79a0"
      },
      "source": [
        "#Total de novos casos de janeiro de 2021\r\n",
        "print('O número total de novos casos/mortes de janeiro de 2021 foi de {:.0f} casos e {:.0f} mortes!'.format(df_2021[df_2021['mes']==1].new_cases.sum(), df_2021[df_2021['mes']==1].new_deaths.sum()))"
      ],
      "execution_count": null,
      "outputs": [
        {
          "output_type": "stream",
          "text": [
            "O número total de novos casos/mortes de janeiro de 2021 foi de 42979716 casos e 919218 mortes!\n"
          ],
          "name": "stdout"
        }
      ]
    },
    {
      "cell_type": "code",
      "metadata": {
        "colab": {
          "base_uri": "https://localhost:8080/"
        },
        "id": "5udAh72JtUVN",
        "outputId": "45c6b223-281d-44aa-b154-78f8dd949d8b"
      },
      "source": [
        "#Total de novos casos de fevereiro ate o dia 13/02/2021\r\n",
        "print('O número total de novos casos de  fevereiro ate o dia 13/02/2021 foi de {:.0f} casos e {:.0f} mortes!'.format(df_2021[df_2021['mes']==2].new_cases.sum(), df_2021[df_2021['mes']==2].new_deaths.sum()))"
      ],
      "execution_count": null,
      "outputs": [
        {
          "output_type": "stream",
          "text": [
            "O número total de novos casos de  fevereiro ate o dia 13/02/2021 foi de 11713166 casos e 346087 mortes!\n"
          ],
          "name": "stdout"
        }
      ]
    },
    {
      "cell_type": "markdown",
      "metadata": {
        "id": "2AQKph4EmRB_"
      },
      "source": [
        "Logo, até agora em 2021, tivemos 79.360.858 casos e 1.828.286 mortes! \r\n",
        "\r\n",
        "A seguir, veremos os mesmos dados para o mês de dezembro de 2020 com o intuito de compará-los com os dados do mês de janeiro de 2021."
      ]
    },
    {
      "cell_type": "code",
      "metadata": {
        "colab": {
          "base_uri": "https://localhost:8080/"
        },
        "id": "98xExg2Fm5Hh",
        "outputId": "09e64098-7bb1-4cd6-acb3-5097d90e5a27"
      },
      "source": [
        "print('O número total de novos casos/mortes de dezembro de 2020 foi de {:.0f} casos e {:.0f} mortes!'.format(df_2020[df_2020['mes']==12].new_cases.sum(), df_2020[df_2020['mes']==12].new_deaths.sum()))"
      ],
      "execution_count": null,
      "outputs": [
        {
          "output_type": "stream",
          "text": [
            "O número total de novos casos/mortes de dezembro de 2020 foi de 42530807 casos e 803582 mortes!\n"
          ],
          "name": "stdout"
        }
      ]
    },
    {
      "cell_type": "markdown",
      "metadata": {
        "id": "z8l74OI1oOPE"
      },
      "source": [
        "Assim, percebemos que, infelizmente, a virada do ano não impediu o crescimento dos casos e das mortes causadas por covid.\r\n",
        "\r\n",
        "Em seguida, queremos verificar se a Europa ainda continua sendo a líder de casos/mortes do mundo. Para isso, vamos plotar 2 gráficos..."
      ]
    },
    {
      "cell_type": "code",
      "metadata": {
        "colab": {
          "base_uri": "https://localhost:8080/",
          "height": 621
        },
        "id": "W2gsaw-C5DpT",
        "outputId": "e34ba7c4-ec7f-4e09-81e4-8991e7c2cf96"
      },
      "source": [
        "# Total de casos de 2021 em cada continente\r\n",
        "print('Em 2021, a América do Norte teve o maior número de casos, com {:.0f} casos!'.format(df_2021[df_2021['continent']=='North America'].new_cases.sum())) \r\n",
        "sns.catplot(x=\"continent\", y=\"new_cases\", estimator=sum ,kind=\"bar\",  ci=\"sd\", palette=\"dark\", alpha=.9, height=8, data=df_2021);\r\n",
        "plt.title('Gráfico da quantidade de Casos por Continente em 2021');"
      ],
      "execution_count": null,
      "outputs": [
        {
          "output_type": "stream",
          "text": [
            "Em 2021, a América do Norte teve o maior número de casos, com 8512316 casos!\n"
          ],
          "name": "stdout"
        },
        {
          "output_type": "display_data",
          "data": {
            "image/png": "[encoded data removed]",
            "text/plain": [
              "<Figure size 576x576 with 1 Axes>"
            ]
          },
          "metadata": {
            "tags": [],
            "needs_background": "light"
          }
        }
      ]
    },
    {
      "cell_type": "code",
      "metadata": {
        "colab": {
          "base_uri": "https://localhost:8080/",
          "height": 604
        },
        "id": "V1L5j7EnDfy1",
        "outputId": "4134596c-049e-4da9-816a-d8ba8fc493c9"
      },
      "source": [
        "# Total de casos de 2020 e 2021 em cada continente\r\n",
        "sns.catplot(x=\"continent\", y=\"new_cases\", estimator=sum ,kind=\"bar\",  ci=\"sd\", palette=\"dark\", alpha=.9, height=8, data=df);\r\n",
        "plt.title('Gráfico do Total de Casos por Continente em 2020 e 2021');"
      ],
      "execution_count": null,
      "outputs": [
        {
          "output_type": "display_data",
          "data": {
            "image/png": "[encoded data removed]",
            "text/plain": [
              "<Figure size 576x576 with 1 Axes>"
            ]
          },
          "metadata": {
            "tags": [],
            "needs_background": "light"
          }
        }
      ]
    },
    {
      "cell_type": "code",
      "metadata": {
        "colab": {
          "base_uri": "https://localhost:8080/",
          "height": 632
        },
        "id": "rdQl9zc3p1_Q",
        "outputId": "08d26f29-c981-43cd-fe76-9c4cd4934156"
      },
      "source": [
        "# Total de mortes de 2021 em cada continente\r\n",
        "print('Em 2021, a América do Norte teve o maior número de mortes, com {:.0f} mortes!'.format(df_2021[df_2021['continent']=='Europe'].new_deaths.sum())) \r\n",
        "sns.catplot(x=\"continent\", y=\"new_deaths\", estimator=sum ,kind=\"bar\",  ci=\"sd\", palette=\"dark\", alpha=.9, height=8, data=df_2021);\r\n",
        "plt.title('Gráfico da quantidade de Mortes por Continente');"
      ],
      "execution_count": null,
      "outputs": [
        {
          "output_type": "stream",
          "text": [
            "Em 2021, a América do Norte teve o maior número de mortes, com 216458 mortes!\n"
          ],
          "name": "stdout"
        },
        {
          "output_type": "display_data",
          "data": {
            "image/png": "[encoded data removed]",
            "text/plain": [
              "<Figure size 576x576 with 1 Axes>"
            ]
          },
          "metadata": {
            "tags": [],
            "needs_background": "light"
          }
        }
      ]
    },
    {
      "cell_type": "markdown",
      "metadata": {
        "id": "JqtJeOoQqmtM"
      },
      "source": [
        "Portanto, vemos que (muito por conta dos EUA) a América do Norte passou a Europa e se tornou o continente com o maior número de novos casos, porém a Europa continuando sendo o líder no quesito quantidade de casos e mortes!"
      ]
    },
    {
      "cell_type": "markdown",
      "metadata": {
        "id": "Tr05Gftwq9jC"
      },
      "source": [
        "Uma observação final sobre a gravidade do número de casos dos EUA, podemos ver pelo gráfico abaixo que sozinhos em 2021 já possuem mais casos que toda a Ásia!!! "
      ]
    },
    {
      "cell_type": "code",
      "metadata": {
        "colab": {
          "base_uri": "https://localhost:8080/",
          "height": 369
        },
        "id": "Mt7raCvL5e0d",
        "outputId": "90c97707-8390-449d-8765-c25df8796594"
      },
      "source": [
        "# gráfico de barras para total de mortes\r\n",
        "cases_EUA = df.loc[df.date == '2021-01-31', ['location', 'total_cases']].sort_values(by=\"total_cases\", ascending=False)[1:7]\r\n",
        "cases_EUA.reset_index(inplace=True)\r\n",
        "cases_EUA.drop([0,1], inplace=True)\r\n",
        "fig, ax = plt.subplots(figsize=(10,5))\r\n",
        "\r\n",
        "ax.bar('location', 'total_cases', data=cases_EUA)\r\n",
        "\r\n",
        "plt.tight_layout()\r\n",
        "# E no ultimo dia de Janeiro de 2021,  EUA ja tem um numero total de casos maior que o da india!"
      ],
      "execution_count": null,
      "outputs": [
        {
          "output_type": "display_data",
          "data": {
            "image/png": "[encoded data removed]",
            "text/plain": [
              "<Figure size 720x360 with 1 Axes>"
            ]
          },
          "metadata": {
            "tags": [],
            "needs_background": "light"
          }
        }
      ]
    },
    {
      "cell_type": "markdown",
      "metadata": {
        "id": "0-_RQWHQXpDx"
      },
      "source": [
        "## Analise do Brasil\r\n"
      ]
    },
    {
      "cell_type": "markdown",
      "metadata": {
        "id": "DTpb6sfjs-pJ"
      },
      "source": [
        "Ao fim, deste projeto vamos agora ver uma análise especifica para o Brasil.\r\n",
        "\r\n",
        "Primeiramente, vamos criar um subdataframe só com os dados do Brasil.\r\n"
      ]
    },
    {
      "cell_type": "code",
      "metadata": {
        "id": "UsuGHJJDXrIk"
      },
      "source": [
        "# Criar um subdataframe só com os dados do Brasil\r\n",
        "df_brasil_2020 = df_2020.loc[\"Brazil\"].sort_values(by=\"total_cases\", ascending=True).copy()\r\n",
        "df_brasil_2021 = df_2021.loc[\"Brazil\"].sort_values(by=\"total_cases\", ascending=True).copy()"
      ],
      "execution_count": null,
      "outputs": []
    },
    {
      "cell_type": "markdown",
      "metadata": {
        "id": "hdKkpt4OtbVd"
      },
      "source": [
        "Criado o subdataset, queremos agora visualizar qual foi a primeira ocorrência de covid registrada no nosso país."
      ]
    },
    {
      "cell_type": "code",
      "metadata": {
        "colab": {
          "base_uri": "https://localhost:8080/",
          "height": 148
        },
        "id": "EazaZw0qteJC",
        "outputId": "21603ef8-e833-4935-e18f-1fff58dfcbed"
      },
      "source": [
        "df_brasil_2020.head(1)"
      ],
      "execution_count": null,
      "outputs": [
        {
          "output_type": "execute_result",
          "data": {
            "text/html": [
              "<div>\n",
              "<style scoped>\n",
              "    .dataframe tbody tr th:only-of-type {\n",
              "        vertical-align: middle;\n",
              "    }\n",
              "\n",
              "    .dataframe tbody tr th {\n",
              "        vertical-align: top;\n",
              "    }\n",
              "\n",
              "    .dataframe thead th {\n",
              "        text-align: right;\n",
              "    }\n",
              "</style>\n",
              "<table border=\"1\" class=\"dataframe\">\n",
              "  <thead>\n",
              "    <tr style=\"text-align: right;\">\n",
              "      <th></th>\n",
              "      <th>iso_code</th>\n",
              "      <th>continent</th>\n",
              "      <th>date</th>\n",
              "      <th>total_cases</th>\n",
              "      <th>new_cases</th>\n",
              "      <th>new_cases_smoothed</th>\n",
              "      <th>total_deaths</th>\n",
              "      <th>new_deaths</th>\n",
              "      <th>new_deaths_smoothed</th>\n",
              "      <th>total_cases_per_million</th>\n",
              "      <th>new_cases_per_million</th>\n",
              "      <th>new_cases_smoothed_per_million</th>\n",
              "      <th>total_deaths_per_million</th>\n",
              "      <th>new_deaths_per_million</th>\n",
              "      <th>new_deaths_smoothed_per_million</th>\n",
              "      <th>reproduction_rate</th>\n",
              "      <th>icu_patients</th>\n",
              "      <th>icu_patients_per_million</th>\n",
              "      <th>hosp_patients</th>\n",
              "      <th>hosp_patients_per_million</th>\n",
              "      <th>weekly_icu_admissions</th>\n",
              "      <th>weekly_icu_admissions_per_million</th>\n",
              "      <th>weekly_hosp_admissions</th>\n",
              "      <th>weekly_hosp_admissions_per_million</th>\n",
              "      <th>new_tests</th>\n",
              "      <th>total_tests</th>\n",
              "      <th>total_tests_per_thousand</th>\n",
              "      <th>new_tests_per_thousand</th>\n",
              "      <th>new_tests_smoothed</th>\n",
              "      <th>new_tests_smoothed_per_thousand</th>\n",
              "      <th>positive_rate</th>\n",
              "      <th>tests_per_case</th>\n",
              "      <th>tests_units</th>\n",
              "      <th>total_vaccinations</th>\n",
              "      <th>people_vaccinated</th>\n",
              "      <th>people_fully_vaccinated</th>\n",
              "      <th>new_vaccinations</th>\n",
              "      <th>new_vaccinations_smoothed</th>\n",
              "      <th>total_vaccinations_per_hundred</th>\n",
              "      <th>people_vaccinated_per_hundred</th>\n",
              "      <th>people_fully_vaccinated_per_hundred</th>\n",
              "      <th>new_vaccinations_smoothed_per_million</th>\n",
              "      <th>stringency_index</th>\n",
              "      <th>population</th>\n",
              "      <th>population_density</th>\n",
              "      <th>median_age</th>\n",
              "      <th>aged_65_older</th>\n",
              "      <th>aged_70_older</th>\n",
              "      <th>gdp_per_capita</th>\n",
              "      <th>extreme_poverty</th>\n",
              "      <th>cardiovasc_death_rate</th>\n",
              "      <th>diabetes_prevalence</th>\n",
              "      <th>female_smokers</th>\n",
              "      <th>male_smokers</th>\n",
              "      <th>handwashing_facilities</th>\n",
              "      <th>hospital_beds_per_thousand</th>\n",
              "      <th>life_expectancy</th>\n",
              "      <th>human_development_index</th>\n",
              "      <th>mes</th>\n",
              "      <th>ano</th>\n",
              "    </tr>\n",
              "    <tr>\n",
              "      <th>location</th>\n",
              "      <th></th>\n",
              "      <th></th>\n",
              "      <th></th>\n",
              "      <th></th>\n",
              "      <th></th>\n",
              "      <th></th>\n",
              "      <th></th>\n",
              "      <th></th>\n",
              "      <th></th>\n",
              "      <th></th>\n",
              "      <th></th>\n",
              "      <th></th>\n",
              "      <th></th>\n",
              "      <th></th>\n",
              "      <th></th>\n",
              "      <th></th>\n",
              "      <th></th>\n",
              "      <th></th>\n",
              "      <th></th>\n",
              "      <th></th>\n",
              "      <th></th>\n",
              "      <th></th>\n",
              "      <th></th>\n",
              "      <th></th>\n",
              "      <th></th>\n",
              "      <th></th>\n",
              "      <th></th>\n",
              "      <th></th>\n",
              "      <th></th>\n",
              "      <th></th>\n",
              "      <th></th>\n",
              "      <th></th>\n",
              "      <th></th>\n",
              "      <th></th>\n",
              "      <th></th>\n",
              "      <th></th>\n",
              "      <th></th>\n",
              "      <th></th>\n",
              "      <th></th>\n",
              "      <th></th>\n",
              "      <th></th>\n",
              "      <th></th>\n",
              "      <th></th>\n",
              "      <th></th>\n",
              "      <th></th>\n",
              "      <th></th>\n",
              "      <th></th>\n",
              "      <th></th>\n",
              "      <th></th>\n",
              "      <th></th>\n",
              "      <th></th>\n",
              "      <th></th>\n",
              "      <th></th>\n",
              "      <th></th>\n",
              "      <th></th>\n",
              "      <th></th>\n",
              "      <th></th>\n",
              "      <th></th>\n",
              "      <th></th>\n",
              "      <th></th>\n",
              "    </tr>\n",
              "  </thead>\n",
              "  <tbody>\n",
              "    <tr>\n",
              "      <th>Brazil</th>\n",
              "      <td>BRA</td>\n",
              "      <td>South America</td>\n",
              "      <td>2020-02-26</td>\n",
              "      <td>1.0</td>\n",
              "      <td>1.0</td>\n",
              "      <td>NaN</td>\n",
              "      <td>NaN</td>\n",
              "      <td>NaN</td>\n",
              "      <td>NaN</td>\n",
              "      <td>0.005</td>\n",
              "      <td>0.005</td>\n",
              "      <td>NaN</td>\n",
              "      <td>NaN</td>\n",
              "      <td>NaN</td>\n",
              "      <td>NaN</td>\n",
              "      <td>NaN</td>\n",
              "      <td>NaN</td>\n",
              "      <td>NaN</td>\n",
              "      <td>NaN</td>\n",
              "      <td>NaN</td>\n",
              "      <td>NaN</td>\n",
              "      <td>NaN</td>\n",
              "      <td>NaN</td>\n",
              "      <td>NaN</td>\n",
              "      <td>NaN</td>\n",
              "      <td>NaN</td>\n",
              "      <td>NaN</td>\n",
              "      <td>NaN</td>\n",
              "      <td>NaN</td>\n",
              "      <td>NaN</td>\n",
              "      <td>NaN</td>\n",
              "      <td>NaN</td>\n",
              "      <td>NaN</td>\n",
              "      <td>NaN</td>\n",
              "      <td>NaN</td>\n",
              "      <td>NaN</td>\n",
              "      <td>NaN</td>\n",
              "      <td>NaN</td>\n",
              "      <td>NaN</td>\n",
              "      <td>NaN</td>\n",
              "      <td>NaN</td>\n",
              "      <td>NaN</td>\n",
              "      <td>5.56</td>\n",
              "      <td>212559409.0</td>\n",
              "      <td>25.04</td>\n",
              "      <td>33.5</td>\n",
              "      <td>8.552</td>\n",
              "      <td>5.06</td>\n",
              "      <td>14103.452</td>\n",
              "      <td>3.4</td>\n",
              "      <td>177.961</td>\n",
              "      <td>8.11</td>\n",
              "      <td>10.1</td>\n",
              "      <td>17.9</td>\n",
              "      <td>NaN</td>\n",
              "      <td>2.2</td>\n",
              "      <td>75.88</td>\n",
              "      <td>0.765</td>\n",
              "      <td>2</td>\n",
              "      <td>2020</td>\n",
              "    </tr>\n",
              "  </tbody>\n",
              "</table>\n",
              "</div>"
            ],
            "text/plain": [
              "         iso_code      continent       date  ...  human_development_index  mes   ano\n",
              "location                                     ...                                    \n",
              "Brazil        BRA  South America 2020-02-26  ...                    0.765    2  2020\n",
              "\n",
              "[1 rows x 60 columns]"
            ]
          },
          "metadata": {
            "tags": []
          },
          "execution_count": 50
        }
      ]
    },
    {
      "cell_type": "markdown",
      "metadata": {
        "id": "g-gxgTenYjlg"
      },
      "source": [
        "Logo, tivemos o primeiro caso registrado no brasil no dia 26/02/2020!\r\n",
        "\r\n",
        "Na sequência, vamos verificar como ficou a distribuição dos casos e das mortes no Brasil durante 2020."
      ]
    },
    {
      "cell_type": "code",
      "metadata": {
        "colab": {
          "base_uri": "https://localhost:8080/",
          "height": 532
        },
        "id": "oR4m9nRGZJcR",
        "outputId": "3ae67b27-1b0d-4784-c5bb-eca6bccdbcc0"
      },
      "source": [
        "sns.catplot(x=\"mes\", y=\"new_cases\", estimator=sum ,kind=\"bar\", ci=\"sd\", palette=\"dark\", alpha=.9, height=7,data=df_brasil_2020);\r\n",
        "plt.title(\"Distribuição dos casos por mês no Brasil durante 2020\");"
      ],
      "execution_count": null,
      "outputs": [
        {
          "output_type": "display_data",
          "data": {
            "image/png": "[encoded data removed]",
            "text/plain": [
              "<Figure size 504x504 with 1 Axes>"
            ]
          },
          "metadata": {
            "tags": [],
            "needs_background": "light"
          }
        }
      ]
    },
    {
      "cell_type": "markdown",
      "metadata": {
        "id": "npY03QJ6wh1v"
      },
      "source": [
        "Diante do gráfico acima, percebemos que, em comparação com o gráfico do mundo visto anteriormente, o vírus demorou a chegar no Brasil. Aqui, tivemos nosso primeiro pico da covid entre maio e junho. \r\n",
        "\r\n",
        "Outro fato, a ser percebido, é que também ao contrário do mundo, no Brasil os números de casos não cresceram constantemente, como se pode perceber tivemos uma crescente até julho, porém os números de casos de agosto, setembro, outubro e novembro foram menores.\r\n",
        "\r\n",
        "Por outro lado, como podemos ver abaixo, o numero de novos casos cresceu de dezembro para janeiro."
      ]
    },
    {
      "cell_type": "code",
      "metadata": {
        "colab": {
          "base_uri": "https://localhost:8080/"
        },
        "id": "K11X51-QxGU4",
        "outputId": "5bf1a7c5-49c6-4399-93e8-d11e6cc8d909"
      },
      "source": [
        "print('O número total de novos casos de dezembro de 2020 foi de {:.0f} casos !'.format(df_brasil_2020[df_brasil_2020['mes']==12].new_cases.sum()))\r\n",
        "print('O número total de novos casos de janeiro de 2021 foi de {:.0f} casos !'.format(df_brasil_2021[df_brasil_2021['mes']==1].new_cases.sum()))"
      ],
      "execution_count": null,
      "outputs": [
        {
          "output_type": "stream",
          "text": [
            "O número total de novos casos de dezembro de 2020 foi de 1340095 casos !\n",
            "O número total de novos casos de janeiro de 2021 foi de 1528758 casos !\n"
          ],
          "name": "stdout"
        }
      ]
    },
    {
      "cell_type": "markdown",
      "metadata": {
        "id": "nb-rO0qAzddi"
      },
      "source": [
        "Visto isso, iremos observar a  distribuição das mortes por mês."
      ]
    },
    {
      "cell_type": "code",
      "metadata": {
        "colab": {
          "base_uri": "https://localhost:8080/",
          "height": 543
        },
        "id": "CU9__FpPZ0wK",
        "outputId": "dd16406f-b6b4-4e4d-d77e-c97f0eed864e"
      },
      "source": [
        "sns.catplot(x=\"mes\", y=\"new_deaths\", estimator=sum, kind=\"bar\", ci=\"sd\", palette=\"dark\", alpha=.9, height=7,data=df_brasil_2020);\r\n",
        "plt.title(\"Distribuição das mortes por mês no Brasil durante 2020\");"
      ],
      "execution_count": null,
      "outputs": [
        {
          "output_type": "display_data",
          "data": {
            "image/png": "[encoded data removed]",
            "text/plain": [
              "<Figure size 504x504 with 1 Axes>"
            ]
          },
          "metadata": {
            "tags": [],
            "needs_background": "light"
          }
        }
      ]
    },
    {
      "cell_type": "markdown",
      "metadata": {
        "id": "CAZANFliXlNg"
      },
      "source": [
        "Com o gráfico acima, é perceptível que a distribuição das mortes por mês é bem parecida que com a de casos. Em julho tivemos a maior quantidade de mortes de 2020, nos meses seguintes a quantidade foi diminuindo constantemente até novembro, porém em dezembro com o aumento dos casos, a quantidade de mortes também aumentou.  \r\n",
        "\r\n",
        "Abaixo faremos a comparação para ver se o número de casos/mortes aumentou de dezembro para janeiro."
      ]
    },
    {
      "cell_type": "code",
      "metadata": {
        "colab": {
          "base_uri": "https://localhost:8080/"
        },
        "id": "eBMXfhY0U5VI",
        "outputId": "fc389d50-8b43-4d8a-a326-2760026f7fd3"
      },
      "source": [
        "print('O número total de novas mortes de dezembro de 2020 foi de {:.0f} mortes !'.format(df_brasil_2020[df_brasil_2020['mes']==12].new_deaths.sum()))\r\n",
        "print('O número total de novas mortes de janeiro de 2021 foi de {:.0f} mortes !'.format(df_brasil_2021[df_brasil_2021['mes']==1].new_deaths.sum()))"
      ],
      "execution_count": null,
      "outputs": [
        {
          "output_type": "stream",
          "text": [
            "O número total de novas mortes de dezembro de 2020 foi de 21829 mortes !\n",
            "O número total de novas mortes de janeiro de 2021 foi de 29555 mortes !\n"
          ],
          "name": "stdout"
        }
      ]
    },
    {
      "cell_type": "markdown",
      "metadata": {
        "id": "L71vZISAZEYe"
      },
      "source": [
        "Ou seja, a quantidade de mortes aumentou também!"
      ]
    },
    {
      "cell_type": "markdown",
      "metadata": {
        "id": "nH6-18KSaelQ"
      },
      "source": [
        "Por último, iremos visualizar os dados relacionados as vacinas no Brasil.\r\n",
        "\r\n",
        " Vamos ver a quantidade de vacinas que temos e o total de pessoas parcialemente vacinadas e totalmente vacinadas."
      ]
    },
    {
      "cell_type": "code",
      "metadata": {
        "colab": {
          "base_uri": "https://localhost:8080/",
          "height": 532
        },
        "id": "XDwmT3ZgaUFd",
        "outputId": "b7fa642f-8edc-4f50-d7d8-5eaaf9902511"
      },
      "source": [
        "# Total de pessoas vacinadas por mês no Brasil durante 2021\r\n",
        "sns.catplot(x=\"mes\", y=\"people_vaccinated\", estimator=sum ,kind=\"bar\", ci=\"sd\", palette=\"dark\", alpha=.9, height=7,data=df_brasil_2021);\r\n",
        "plt.title(\"Distribuição de pessoas vacinadas por mês no Brasil durante 2021\");"
      ],
      "execution_count": null,
      "outputs": [
        {
          "output_type": "display_data",
          "data": {
            "image/png": "[encoded data removed]",
            "text/plain": [
              "<Figure size 504x504 with 1 Axes>"
            ]
          },
          "metadata": {
            "tags": [],
            "needs_background": "light"
          }
        }
      ]
    },
    {
      "cell_type": "markdown",
      "metadata": {
        "id": "bfNa1oJuiVIx"
      },
      "source": [
        "Assim, vemos que embora só tenhamos dados ate dia 12/02/2021, no mês de fevereiro já houveram mais pessoas vacinadas do que em janeiro."
      ]
    },
    {
      "cell_type": "markdown",
      "metadata": {
        "id": "O1elOOqwkWIJ"
      },
      "source": [
        "Iremos ver agora os dados das pessoas totalmente vacinadas."
      ]
    },
    {
      "cell_type": "code",
      "metadata": {
        "colab": {
          "base_uri": "https://localhost:8080/",
          "height": 543
        },
        "id": "2D9IVwDFcI6G",
        "outputId": "e5601e40-0f7a-4cc3-f4ba-6c4ad9d01b7d"
      },
      "source": [
        "# Total de novos casos por mes\r\n",
        "sns.catplot(x=\"mes\", y=\"people_fully_vaccinated\", estimator=sum ,kind=\"bar\", ci=\"sd\", palette=\"dark\", alpha=.9, height=7,data=df_brasil_2021);\r\n",
        "plt.title(\"Distribuição de pessoas totalmente vacinadas por mês no Brasil durante 2021\");"
      ],
      "execution_count": null,
      "outputs": [
        {
          "output_type": "display_data",
          "data": {
            "image/png": "[encoded data removed]",
            "text/plain": [
              "<Figure size 504x504 with 1 Axes>"
            ]
          },
          "metadata": {
            "tags": [],
            "needs_background": "light"
          }
        }
      ]
    },
    {
      "cell_type": "code",
      "metadata": {
        "colab": {
          "base_uri": "https://localhost:8080/"
        },
        "id": "z_GTKPfricwD",
        "outputId": "e33647e7-a85a-46fa-a644-9d1962cd411d"
      },
      "source": [
        "# Pessoas totalmente vacinadas em janeiro\r\n",
        "df_brasil_2021[df_brasil_2021['mes']==1].people_fully_vaccinated.sum()"
      ],
      "execution_count": null,
      "outputs": [
        {
          "output_type": "execute_result",
          "data": {
            "text/plain": [
              "0.0"
            ]
          },
          "metadata": {
            "tags": []
          },
          "execution_count": 57
        }
      ]
    },
    {
      "cell_type": "code",
      "metadata": {
        "colab": {
          "base_uri": "https://localhost:8080/"
        },
        "id": "C8k0eWG1jZQc",
        "outputId": "a2549741-c119-4548-bf77-5bdc280b341d"
      },
      "source": [
        "# Pessoas totalmente vacinadas em fevereiro\r\n",
        "df_brasil_2021[df_brasil_2021['mes']==2].people_fully_vaccinated.sum()"
      ],
      "execution_count": null,
      "outputs": [
        {
          "output_type": "execute_result",
          "data": {
            "text/plain": [
              "322224.0"
            ]
          },
          "metadata": {
            "tags": []
          },
          "execution_count": 58
        }
      ]
    },
    {
      "cell_type": "markdown",
      "metadata": {
        "id": "QrUCn15PkjTP"
      },
      "source": [
        "Assim, vimos que ninguém foi totalmente vacinado em janeiro aqui no Brasil, porém em fevereiro já temos 322224 pessoas totalmente vacinadas!"
      ]
    },
    {
      "cell_type": "markdown",
      "metadata": {
        "id": "Lxbr6O68oWhT"
      },
      "source": [
        "Ao fim, iremos ver o total de vacinas do Brasil."
      ]
    },
    {
      "cell_type": "code",
      "metadata": {
        "colab": {
          "base_uri": "https://localhost:8080/",
          "height": 532
        },
        "id": "8Th4J_E0akUr",
        "outputId": "068fc662-1004-48e2-ddb9-eb95b7719f00"
      },
      "source": [
        "# Total de novos casos por mes\r\n",
        "sns.catplot(x=\"mes\", y=\"total_vaccinations\", estimator=sum ,kind=\"bar\", ci=\"sd\", palette=\"dark\", alpha=.9, height=7,data=df_brasil_2021);\r\n",
        "plt.title(\"Distribuição do total de vacinas por mês no Brasil durante 2021\");"
      ],
      "execution_count": null,
      "outputs": [
        {
          "output_type": "display_data",
          "data": {
            "image/png": "[encoded data removed]",
            "text/plain": [
              "<Figure size 504x504 with 1 Axes>"
            ]
          },
          "metadata": {
            "tags": [],
            "needs_background": "light"
          }
        }
      ]
    },
    {
      "cell_type": "markdown",
      "metadata": {
        "id": "ekxIImp4O5IN"
      },
      "source": [
        "## Conclusão"
      ]
    },
    {
      "cell_type": "markdown",
      "metadata": {
        "id": "FWNO0Q_n_KJn"
      },
      "source": [
        "Dessa forma, chegamos ao final do nosso projeto."
      ]
    },
    {
      "cell_type": "markdown",
      "metadata": {
        "id": "bv8QLvd1_MsF"
      },
      "source": [
        "No primeiro momento, analisamos a quantidade de casos/mortes nos países em 2020 a partir dos gráficos abaixo:"
      ]
    },
    {
      "cell_type": "markdown",
      "metadata": {
        "id": "hrtz1Bie_r7V"
      },
      "source": [
        "![image.png](data:image/png;base64,iVBORw0KGgoAAAANSUhEUgAABI4AAAJNCAYAAABXxz65AAAgAElEQVR4AezdC9wcVX3/cdRqtaggQbEiIckTAuQeah5E+WsIGKNR6ctwURQVUBAiUi2JeAHlokgjSrmaUm5ioYCiFBLU1qJEEhCoIuClNUYDDUpIuBMIIef/+o2Z7c5k95zfzvW3s595vR52Z86ZmTPvmZBfvjs7z1aOCQEEEEAAAQQQQKCjwOtf//qOy1mIAAIIIIAAAggMisBWg3KgHCcCCCCAAAIIINCrAMFRr2L0RwABBBBAAIGmCRAcNe2McjwIIIAAAgggUJgAwVFhlGwIAQQQQAABBPpUgOCoT08cw0YAAQQQQACB8gUIjso3Zg+DK/C2t73NnX/++QmAa6+91r32ta91W2+9tfuv//ovN378eHfTTTcl+hQ988EPftB99rOfLXqzlW9v9uzZ7tJLL+2435UrV7qtttrKPfvssx3bQwtl3f/5n/8JdQu25x1HcAd06CqwceNGt++++7o3v/nNbsOGDV370YBAJwGCo04qLEMAAQQQQAABBJxzBEdcBgh0F7jyyivd8PCw+6u/+iv3yle+Mnp/3nnnuU2bNnVfaXPLZZdd5t73vvdt0W/MmDHuu9/97hbLy1zQj8HR5z//+Y5+3ZzyBjYWgiM5ZhnHWWedlThMmZfl0p51Kur4su4/63o777yze+ELX+jWrFmT2MTUqVMjEznv8fSFL3zBfeMb33BXXXWVO+GEE+LFvCKgEiA4UjHRCQEEEEAAAQQGUYDgaBDPOsesEfjKV77iXvWqV7lrrrnGPfbYY1FYJHcIHXLIIe7pp5/uuAm54yGeJGB64okn4tnW6wte8IJC7mxpbVDxhuAojFRUsJInwJJgaNy4cW6PPfZIDHjatGnR8izBUXwHVlHHlxhYgTMSxj733HNbbFGCIzE5++yzW22/+MUvomVyTO3BUasDbxDIIEBwlAGNVQZbgNuqiz3/3FZdrGc/b+3xxx93r3vd69zcuXP7+TAYe8MECI4adkI5nEIEHnnkkeguo29961ve7Ukg89GPftRJ7SR3Jf37v/+7u+GGG5zcDfGyl70s+kpa/I99CZvk62nyj13pK3ceyST/MJb1ZJLg6Ytf/GLU9tKXvjQKEFatWhW13XLLLdHfIS9/+cujV5nvNknAJWGDbOOggw5yBx98cOurauvWrXNz5sxx22+/vdt2222j9/fdd1+3TUVfp+u2rUsuucS98Y1vTKzbHlB0s5AV4oBFvnq20047uREjRrjTTjst2taNN94Y3WXyF3/xF5HZ5MmTo+XyFaQLL7wwei9Wf//3fx+tN3r0aHfuuedGtnFQcvHFF7vddtstMpD2r3/969F68X/+4R/+wb361a92f/3Xf+0uuuiiaN34q2pyrmTbMi4JD4866ij31FNPxasmXkPjkGvp8MMPj/b1mte8JjoP7QFj+8bkWpG71GTc99xzT9Qkr7vvvnu0PL6WpOGf/umf3NDQkHvFK17h3vnOd7r//d//bW1KzoF4jB071o0aNcr9v//3/1rXnVyD//qv/xr1vf76692UKVPcNtts4/baay931113tbbx5S9/2cl45RqS4OY//uM/Wm3tb+TPgPjst99+Ud83velN7ve//32ri++6lfP5mc98xr3hDW9wL37xizsGqvLn49RTT42u+Xijcm7kWmkPjnznTO5WkmtejlO89t57744hVbx9XgdTgOBoMM/7QB81t1XXd/rjv/C1I4iLprjI0a4X92svzuJlWV7zjuM3v/mNO+CAA6LiTQraSZMmuTPPPDMqgLOMp5/WkXMgX19oP4fyvXpZJm3t04c//GH3n//5n06K1QsuuKC9ifcI1CZAcFQbPTs2LCDBhdwZ1P7/9k7DlX80y997P/nJT6J/iK5fv9798Ic/dHJHhNw9If8Ql78PvvOd77RWT//d3R4cyd8PEydOdL/+9a+jO5x+/vOfu4ceesitXbs2CnnkazgypiuuuCKal7b09Mwzz7iRI0e6r371q9FzXuSOKQlg4mccyToSiD355JPRnVTy9/f++++f3kw0H9pWKDiSZze1W0gIE1vEtYf83SihjBzri170IvfLX/4y2nenmqo9OJK/R3fddVcnwZr4zJgxI/p7Nz5nElr99re/jRx/9KMfuZe85CXuzjvvjLYt51fGcvfdd0d3hb33ve+N1o2Do7/7u7+LwhjZrtxt9o53vKPrV59C4/jbv/1bd+SRR0b7+dOf/uSmT5++RYgV48fHLOHhggULosXz5893X/rSlxLBkVxjErTJ8Uhg8rGPfSwKh+LtyDUmQY6MPw680tedhItybd56661RvSYBnlyLsj25/uQ5XHEYJedKLDtN8mdAwqUf//jH0bof//jHW2Fi6LqV8ynhnIRjct46PZco/vMh4ZVcGxK67bjjjlE4JcckY5PJd87ka2sSbsn25efmm29Wfd200/GyrLkCyaq9ucfJkSEQCXBbdb0XQvwXvnYUcdEUFzna9eJ+6SIgXt7ra55xSCEhn1h+4hOfcKtXr452LQWHFGEPP/xwr0Mx27/bOZJzIMXMv/3bv7XGft1117VuoW4t5A0CRgUIjoyeGIZVq8Dll1/udthhh8QY5I4MuWNB7oyQfyTLJP9oPvTQQxP90jPHHXdc9I/aeHn67+74H8bSLn+fdHr+kQRGEji0T/JnV4Kb9CRjk7to2p/DJGOPg6N0/5/97GfR3+Pp5TIf2lYoOEpvs90irj3a73aSY5QPQGXqVFO1B0f77LNP4kOY73//+4ngKL1vCcfiZwcddthh7lOf+lSri3wAFp8XcZM7wtqDkmXLlkV37rRWaHvjG8cf//jHKAyLwxtZTUI/Cbk6TfEx/+EPf4gCFQk5JFiRcEzuRJJ2meQOJgmU4knuaJZwMA5R5FgkXGqf4uOLl8mdcp/73Ofi2ehVrj8J2SRAk1BJ7oTrFOa0ryR/BuSOtniSsTz/+c+Pxhy6buV8nnjiifGqHV/jPx9y15EEQBL6SSgmdZkckxxz6JzJPt71rnd1vKOp405ZOJACBEcDedoH86C5rfr/zrvvFu1QkcNt1c71clu1FDJvf/vb/w+/wzv5NFMKcPlUVm6Xjm+/lq6LFy+ObsGWT6vkluiFCxe2ttDtNmwpEOSTJSlq5KsA8umsfGrYaZKiRAoNKUalrxQO8glYPEnII7/RRv4xIH3jTzqlXYoVuVVb7qCST0E7hUdStEgxI8cYT/JVtPgW6niZz1QKNLm1W3zkE0T5WgETAlUJEBxVJc1++klgyZIlXe84krsd4t+CJv9olq/atE9yF4h8TV3+DpE7f+Tvl/e///2tLul/wMf/MJYOcldMp7/P5O+i9r9npK/8Yz3+aldr485FwYt8Lbp9es973tMKjuROI7kDRsYmfy/Kj4yp09enJMTxbStUU8ndLBKSyNfi5O+4v/zLv2xZxMFR+9+t7cFQHKK0H0d7u9xtJDVbPMmHVnIc8fbkHO65557RV5PkHMgDluOg5K1vfWv0Va54XbnLJj4vcleQvJd14h8Zu3zFq9PkG8dtt93mnve857W2I9sTb6k7Ok3txyyB1PHHH+9mzpwZdW0PjuT6kq+itU9SZ8mdbzLJ+P/7v/+7vbl1fPFC+XqlXG/xMcqrzEuwJdO//Mu/RHcOyYeDcq3Fdx/F68ev8mdAxtk+yfmWcx+6buV8Sq3nm+I/H/L1N7lmZSzxnXdynHIdhc6Z3DX2yU9+0slXFuXn9NNP9+2StgEVIDga0BM/iIfNbdV/PuvcVl3tbdVSqMhzBHyTPDtA/tKWwkw+bZTv08eTPF9AbhmWSZ67EN9G7rsN+3vf+1703Ae5o0lCJAl74rud4u3Gr1KUSCAV347+7ne/O/rUTtrlE0b5VPEHP/hB9InaGWecET0vQK4hmaRYkbHKJ33tnxbG25ZXKVpk23LLu4xHjiG+/V3a4sl3q7oU9FL8y9ca5GsOS5cujVfjFYHSBQiOSidmB30oIP8/l78fOj3jKB0cpe/kkefKyD/q4wBDvroj/+iPJ/m7If5KlCyL/2Es73u540juIup0x5HcMZK+40ieIROP85RTTok+KHnggQeiIckdRzKmeLzxOOU1tK2rr746epZSvI5ss/345DlO8pU5+btNJqkBYotQcCS/ISvuG2+/PTiSQKr9a9/yd3l8HFJvSAgiX9OL75iRO45igw996EOJO44kZInHLX8Xy7r3339/vFvvq28cUpvIHWqdbDtttD04knMroZN8hUym9uAofceRPIQ9fcdR+zUm68fHF+9XwsNOwWPcHr8++uijTuqU9vAzbpPXXu84ar9u289n+zbb37f/+ZD+ErzJ8YqpHJNcR72cM6nZ5IPHbs9sat837wdL4P+q9j46brl9Ui7oCRMmBEctn7rLP2zkZ5dddolS4+BKdGikALdV//m0clv1nx2quq1aChUJLbWTFOPyF73cgSOT3IItD6yUwqR9ShdF7bdhS6gk/79bvnx5VCy0r5d+L0VG++3o9957b/Spo3yyKsXzgQce2FpFCg8JmeJPkqVYkdDLN8WF2BFHHBEdhxSx8rwGKdikTabQreryNYePfOQjrv12fd8+aUOgSAGCoyI12VaTBOTDBPkgIP6tavJ3RPy1rvjvCflHcxxGxMcud1vEf3fIHSdS07cHIPHfG3H/9n8YyzOO5C5XCTLkgxF5RpI8k0h+5I4QuQtE/sEsDzeW+fSvKJdtyocf8nerfC1LQpNvf/vbiWccyVec5I4VCXPkDlz5YEPG1CncCG1LPoCRO3LFRbYnz5FpPz459jj4SFuEgiP5+1QevC3u8dQeNJx//vnRHcvyd6d8aCN35sTHIR9WydelJPgSR7n7SMKg+FzJvHzwJTWB3IEl56d93BL2SX0gd7LIJCGSfGjVafKNQ/rLnc6yPalz5FjkK3Ayrk5Te3AkH1jJV8XiD67agyNZLteZuEtI1v5cIdlu+7HE+5Hjla/zxdPtt98ePcdI7gwSIwlj5A4usZO7t6TWkm3LNSD/Nv3ABz4Qr5p4lT8DEubIh17SV/5tKkGlTKHrtv18JjbaNtP+50PsZNwytQdHMu87Z/IQcKnL5Djlw0D50FKeOcmEQLtAXwZH8g9f+dRdExy1H6z8mkL5g800mALyl2C3BzmmPx3jturuvwGE26p7u606dMeRBDQS3MinjlJYSKErBU387ICf/vSnUVElt0LL17Uk8JIpdBv2P/7jP0Z3HclXuyR0SQdP8f8FpChpv51bCiPZv4Q58v3+9O3Vclv7N7/5zWh1KVbkE0zfFBdn8v9tKZTkkzS5g6o9OArdqi6f0ErYJJ8Qy+3r8T84fPulDYGiBAiOipJkO00UkL8P5KvOEjrIP9SHh4fdokWLon8gy/F2Co4kaJKv1MhXsOU3Oc2bN08dHMnfmfL1Z/lNWLK+fE0s/lBB/mEuv6ZdvjYlr767U+Uf1/Kb3WQb8vVn+YlDE/nKkfzdKF+9kg9h5MMb+busU3Akx+jblrTLXSvyd7E8TFk+xIz/XpQ2n0UoOJLQQYIjqQ/kt7rJ1B40yHglpNhuu+0iL/m7vv04ZF6CP6k75G4Z+YpTbCDbkq8rSQ3T6beqSQj26U9/Ovpak9Qu8lvOpO7oNIXGIR+USb0htbicOzkv8XOc0ttrD47Sbe3BkbRJsCa1lfyWMLnO4utE2trPQbwd6S+BiXhcddVV0WL54E+uMVkmbfJ1SAmOJLCU616un3j7vq+qxb9VTa4peSTB7373u3i30XXa7bptP5+tFVJv2oOj9qZ0cOQ7Z3LXm2xH7iKU8yAfHDIhkBboy+BIDkL+Z9oeHMk/suT7uPIHT36F4K9+9av0sUb/YAn9I2eLlVjQGAFuq/7zqeS26vAlXeRt1VLISMHSbZLvoUvBJUWEfNIT33GUvoVaPhWVv9il8JQpfcdR+jbseH/yaaAUHvFzC+Ll8au0td9xJF9rk+ccdLrjSMaXvuMo/hXJ8fbSr3FxJuvK9+aliJP37cFRL7eqyz8E5BkQaZ/0fplHoCgBgqOiJNkOAoMh0CksG4wj5yg7CXA9dFJhWT8KNCY4ktsv44ecyR0R8sC09kkeGCZJsfxjiGlwBbitOnyLNrdVO1fkbdUSasunUXLnTvy8BAk9JFCSkOi8886LvkordwRJ+HP00Ue3PgmTW5rl09z4a2v//M//HH1KK3+Cfbdhy11K8v9BCZtkmxKqn3TSSR3/4EtwJJ8uxbejy6dp8hvfZJJbseXTJ/meu2xLHswt4Y+MS6Zun3JFjZv/EwdHMisP/Y4f/N0eHEmb71Z1eUZE/EmhrC/PQ1ixYkX7bniPQGkCBEel0bJhBBopQFDQyNOa+aC4HjLTsaIxgUYER/JsD/mHRPwsI3mVT/DbJ3lq/cc+9rH2RbwfUAFuq+a26ipvq5Y/ZhLASCAjt4vLbdiTJ092X/va16IgW/7/JaGJ3O4st+5fdtllieBIQh+5DV3GLLdLt9963+02bAl65BkQcku03B5/yCGHONlPp0mCo/bfqvaOd7wj8UyIa6+9NnpGgoxbvioXBz+yrV6Do/b9p4Mj363q8rwJudNJjkfuWJKvQTAhUJUAwVFV0uwHgWYIEBQ04zwWdRRcD0VJsp26BRoRHMkn9XI3kW+S78vecsstvi60ITCwAvylNrCnPvE8hMFV4MgR6C5AcNTdhhYEEEAAAQQQGAyBRgRHcqrkgavydQaZ5PkZP//5z1tnUJ53JJ+My3ImBBDYUoDgaEuTQVkidxxdeOGFg3K4HCcCPQsQHPVMxgoIIIAAAggg0DCBvgyO3vOe90R3GMmvuZZnc8hzP+TBsvKVDvkKyO677+5OPvnk1qmSJ/C3P/y11cAbBBCIBAiOBvdCIDga3HPPkesECI6STlJrMSGAAAIIIIDAYAn0ZXA0WKeIo0UAAQQQQACBugQIjpLyf/M3f5NcwBwCCCCAAAIINF6A4Kjxp5gDRAABBBBAAIGsAgRHSTmCo6QHcwgggAACCAyCQN8FR9wiPQiXJceIAAIIIICADQGCo+R5IDhKejCHAAIIIIDAIAj0XXBEwTIIlyXHiAACCCCAgA0BgqPkeaAOS3owhwACCCCAwCAIEBwNwlnmGBFAAAEEEEAgkwDBUZKN4CjpwRwCCCCAAAKDIEBwNAhnmWNEAAEEEEAAgUwCBEdJNoKjpAdzCCCAAAIIDIIAwdEgnGWOEQEEEEAAAQQyCRAcJdkIjpIezCGAAAIIIDAIAgRHg3CWOUYEEEAAAQQQyCRAcJRkIzhKejCHAAIIIIDAIAgQHA3CWeYYEUAAAQQQQCCTAMFRko3gKOnBHAIIIIAAAoMgQHA0CGeZY0QAAQQQQACBTAIER0k2gqOkB3MIIIAAAggMggDB0SCcZY4RAQQQQAABBDIJEBwl2QiOkh7MIYAAAgggMAgCBEeDcJY5RgQQQAABBBDIJEBwlGQjOEp6MIcAAggggMAgCBAcDcJZ5hgRQAABBBBAIJMAwVGSjeAo6cEcAggggAACgyBAcDQIZ5ljRAABBBBAAIFMAgRHSTaCo6QHcwgggAACCAyCAMHRIJxljhEBBBBAAAEEMgkQHCXZCI6SHswhgAACCCAwCAIER4NwljlGBBBAAAEEEMgkQHCUZCM4SnowhwACCCCAwCAIEBwNwlnmGBFAAAEEEEAgkwDBUZKN4CjpwRwCCCCAAAKDIEBwNAhnmWNEAAEEEEAAgUwCBEdJNoKjpAdzCCCAAAIIDIIAwdEgnGWOEQEEEEAAAQQyCRAcJdkIjpIezCGAAAIIIDAIAgRHg3CWOUYEEEAAAQQQyCRAcJRkIzhKejCHAAIIIIDAIAgQHA3CWeYYEUAAAQQQQCCTAMFRko3gKOnBHAIIIIAAAoMgQHA0CGeZY0QAAQQQQACBTAIER0k2gqOkB3MIIIAAAggMggDB0SCcZY4RAQQQQAABBDIJEBwl2QiOkh7MIYAAAgggMAgCBEeDcJY5RgQQQAABBBDIJEBwlGQjOEp6MIcAAggggMAgCBAcDcJZ5hgRQAABBBBAIJNAFcHRV7/6VTd+/Hg3YcIE9573vMetX7/e/e53v3PDw8NuaGjIHXTQQe6ZZ56Jxv/0009H87Jc2leuXNk6ri996UtR/3Hjxrnvfe97reU33nijk2Wyzumnn95a3m0frQ4d3hAcdUBhEQIIIIAAAjUKzJ8/3x166KFOXsuaCI7KkmW7CCCAAAIIIND3AmUHR/fff78bNWqUe+qppyKrAw880F1yySVOXq+88spo2VFHHeXOP//86P15553nZF4maZdQSaZ7773XTZ482UmwJIHQmDFj3MaNG6Mfeb9ixYoofJI+0lembvuIGrv8h+CoCwyLEUAAAQQQyChwxSF7ujw/f/uWGW7mzJlOXvNsxzd8giOfDm0IIIAAAgggUItAFZ+eaQ6siuDota99rVu7dq179tln3Zw5c6K7hUaMGBHNyxiXLVvmZs2aFQ1XXmVeJukv/TZt2uTkbiP5iae4X/u60hb3k3W67SPeRqdXgqNOKixDAAEEEEAgu0CesEfWJTjqYE/B0gGFRQgggAACCDRMQG65lk/P5LXOqezgSI7trLPOcltvvbXbfvvt3SGHHOLWrFkTfa0sPu5Vq1ZFX2OTefk623333Rc3RXcWSf958+a5yy+/vLX88MMPd9dcc030c8QRR7SWf+Mb34j6+vbR6tzhDXVYBxQWIYAAAgggkEMgb3B06Ow3R+GRvObZlu8QuOPIp0MbAggggAACCGQSyFO4FPnpmWwrz1R2cLRu3Tq3zz77uAcffNBt2LDB7b///lEAJM8jiqe6g6NFixY5CYzkZ+TIkfGweEUAAQQQQACBAgTy1kxFre87FIIjnw5tCCCAAAIIIJBJIG8RU9SnZ9aDo6uvvtrJ3UHxdNlll7mPfvSjXb9GFn8FTfrzVbVYjVcEEEAAAQT6VyBvzVTU+j5BgiOfDm0IIIAAAgggkEmgqCKmiO1kOoDNK5V9x9Gtt94a/Ua1J598MnpW0Qc+8AF39tlnuwMOOCDxcGx5KLZM5557buLh2PKAa5nuueeexMOxR48eHT0YW8IleS8PzJbfzCYPx5a+MnXbR9TY5T98Va0LDIsRQAABBBDIKFBErVPENnzDJzjy6dCGAAIIIIAAApkEiihgitpGpgPYvFLZwZHs5qSTTnK77rpr9Pyi97///dFvRpPfgjZ9+vToWUcS8MhvS5Np/fr1UeAjX2WTdukXT6eddlr0zKNx48a5JUuWxIvd4sWL3S677BK1SZ946raPuL3TK8FRJxWWIYAAAgggkF2gqHon73Z8R0Bw5NOhDQEEEEAAAQQyCeQtXopcP9MBbF6piuAoz/iqXpfgqGpx9ocAAggg0HSBImuePNvyORMc+XRoQwABBBBAAIFMAnkKl6LXzXQAm1ciOErqERwlPZhDAAEEEEAgr0DRdU/W7fmOg+DIp0MbAggggAACCGQSyFq0lLFepgPYvBLBUVKP4CjpwRwCCCCAAAJ5BcqofbJs03ccBEc+HdoQQAABBBBAIJNAloKlrHUyHcDmlQiOknoER0kP5hBAAAEEEMgrUFb90+t2fcdBcOTToQ0BBBBAAAEEMgn0WqyU2T/TAWxeieAoqUdwlPRgDgEEEEAAgbwCZdZAvWzbdxwERz4d2hBAAAEEEEAgk0AvhUrZfTMdwOaVCI6SegRHSQ/mEEAAAQQQyCtQdh2k3b7vOAiOfDq0IYAAAggggEAmAW2RUkW/TAeweSWCo6QewVHSgzkEEEAAAQTyClRRC2n24TsOgiOfDm0IIIAAAgggkElAU6BU1SfTAWxeieAoqUdwlPRgDgEEEEAAgbwCVdVDof34joPgyKdDGwIIIIAAAghkEggVJ1W2ZzqAzSsRHCX1CI6SHswhgAACCCCQV6DKmsi3L99xEBz5dGhDAAEEEEAAgUwCvsKk6rZMB7B5JYKjpB7BUdKDOQQQQAABBPIKVF0Xdduf7zgIjnw6tCGAAAIIIIBAJoFuRUkdyzMdwOaVCI6SegRHSQ/mEEAAAQQQyCtQR23UaZ++4yA48unQhgACCCCAAAKZBDoVJHUty3QAm1ciOErqERwlPZhDAAEEEEAgr0Bd9VF6v77jIDjy6dCGAAIIIIAAApkE0sVInfOZDmDzSgRHST2Co6QHcwgggAACCOQVqLNGat+37zgIjnw6tCGAAAIIIIBAJoH2QqTu95kOYPNKBEdJPYKjpAdzCCCAAAII5BWou06K9+87DoIjnw5tCCCAAAIIIJBJIC5CLLxmOoDNKxEcJfUIjpIezCGAAAIIIJBXwEKtJGPwTQRHPh3aEEAAAQQQQCCTgJUiKFQIhQ6O4CgpRHCU9GAOAQQQQACBvAJWaibfcRAc+XRoQwABBBBAAIFMAlaKIIKjTKev60oER11paEAAAQQQQCCTgJWayTd4giOfDm0IIIAAAgggkEnAShFEcJTp9HVdieCoKw0NCCCAAAIIZBKwUjP5Bk9w5NOhDQEEEEAAAQQyCVgpggiOMp2+risRHHWloQEBBBBAAIFMAlZqJt/gCY58OrQhgAACCCCAQCYBK0UQwVGm09d1JYKjrjQ0IIAAAgggkEnASs3kGzzBkU+HNgQQQAABBBDIJGClCCI4ynT6uq5EcNSVhgYEEEAAAQQyCVipmXyDJzjy6dCGAAIIIIAAApkErBRBBEeZTl/XlQiOutLQgAACCCCAQCYBKzWTb/ClB0cbN250U6dOdXPmzNliHE8//bQ76KCD3NDQkBseHnYrV67cok96AQVLWoR5BBBAAAEE7AlYKYIIjoq9NqjDivVkawgggAACCFipmXxnovTg6Mwzz3Tvfe97OwZH5513njvqqKOi8V155ZVRiOQbrLRRsISEaEcAAQQQQKB+AStFEMFRsdcCdVixnmwNAQQQQAABKzWT70yUGhzdd999bgmgPyUAACAASURBVObMme6HP/xhx+Bo1qxZbtmyZdH4nn32WTdixAi3adMm33gJjrw6NCKAAAIIIGBDwEoRRHBU7PVAcFSsJ1tDAAEEEEDASs3kOxOlBkdz5851d9xxh7vppps6BkcTJkxwEi7F05gxY9yaNWvi2Y6vFCwdWViIAAIIIICAKQErRRDBUbGXBXVYsZ5sDQEEEEAAASs1k+9MlBYcXX/99e7oo4+O9p03OFq0aFF0p5EUKyNHjvQdD20IIIAAAgggYEDAShFEcFTsxUBwVKwnW0MAAQQQQMBKzeQ7E6UFRyeccILbcccd3c477+x22GEH95KXvMS9733vS4yFr6olOJhBAAEEEECgNIH58+e7Qw891MlrFZOVIojgqNizTXBUrCdbQwABBBBAwErN5DsTpQVH7TvtdsfRueeem3g49oEHHti+Wsf3FCwdWViIAAIIIICAV0BCI3nuoLxWMVkpggiOij3b1GHFerI1BBBAAAEErNRMvjNReXB04oknuuuuuy4a0/r1690BBxzghoaG3PTp092KFSt8Y43aKFiCRHRAAAEEEGiYwG5vPNHl/XnTjLdHwZG85t2WhtdKEURwpDlb+j7UYXoreiKAAAIIIKARsFIz+cZaSXDkG0CvbRQsvYrRHwEEEECg3wXyBj2y/htmvNtJaCSveben8bRSBBEcac6Wvg91mN6KnggggAACCGgErNRMvrESHPl0aEMAAQQQQMCAQN6gp+j1NSRWiiCCI83Z0vchONJb0RMBBBBAAAGNgJWayTdWgiOfDm0IIIAAAggYECg6+Mm7PQ2JlSKI4EhztvR9CI70VvREAAEEEEBAI2ClZvKNleDIp0MbAggggAACBgTyBj1Fr68hsVIEERxpzpa+D8GR3oqeCCCAAAIIaASs1Ey+sRIc+XRoQwABBBBAwIBA0cFP3u1pSKwUQQRHmrOl70NwpLeiJwIIIIAAAhoBKzWTb6wERz4d2hBAAAEEEDAgkDfoKXp9DYmVIojgSHO29H0IjvRW9EQAAQQQQEAjYKVm8o2V4MinQxsCCCCAAAIGBIoOfvJuT0NipQgiONKcLX0fgiO9FT0RQAABBBDQCFipmXxjJTjy6dCGAAIIIICAAYG8QU/R62tIrBRBBEeas6XvQ3Ckt6InAggggAACGgErNZNvrARHPh3aEEAAAQQQMCBQdPCTd3saEitFEMGR5mzp+xAc6a3oiQACCCCAgEbASs3kGyvBkU+HNgQQQAABBAwI5A16il5fQ2KlCCI40pwtfR+CI70VPRFAAAEEENAIWKmZfGMlOPLp0IYAAggggIABgaKDn7zb05BYKYIIjjRnS9+H4EhvRU8EEEAAAQQ0AlZqJt9YCY58OrQhgAACCCBgQCBv0FP0+hoSK0UQwZHmbOn7EBzpreiJAAIIIICARsBKzeQbK8GRT4c2BBBAAAEEDAgUHfzk3Z6GxEoRRHCkOVv6PgRHeit6IoAAAgggoBGwUjP5xkpw5NOhDQEEEEAAAQMCeYOeotfXkFgpggiONGdL34fgSG9FTwQQQAABBDQCVmom31gJjnw6tCGAAAIIIGBAoOjgJ+/2NCRWiiCCI83Z0vchONJb0RMBBBBAAAGNgJWayTdWgiOfDm0IIIAAAggYEMgb9BS9vobEShFEcKQ5W/o+BEd6K3oigAACCCCgEbBSM/nGSnDk06ENAQQQQAABAwJFBz95t6chsVIEERxpzpa+D8GR3oqeCCCAAAIIaASs1Ey+sRIc+XRoQwABBBBAwIBA3qCn6PU1JFaKIIIjzdnS9yE40lvREwEEEEAAAY2AlZrJN1aCI58ObQgggAACCBgQKDr4ybs9DYmVIojgSHO29H0IjvRW9EQAAQQQQEAjYKVm8o2V4MinQxsCCCCAAAIGBPIGPUWvryGxUgQRHGnOlr4PwZHeip4IIIAAAghoBKzUTL6xEhz5dGhDAAEEEEDAgEDRwU/e7WlIrBRBBEeas6XvQ3Ckt6InAggggAACGgErNZNvrARHPh3aEEAAAQQQMCCQN+gpen0NiZUiiOBIc7b0fQiO9Fb0RAABBBBAQCNgpWbyjZXgyKdDGwIIIIAAAgYEig5+8m5PQ2KlCCI40pwtfR+CI70VPRFAAAEEENAIWKmZfGMlOPLp0IYAAggggIABgbxBT9Hra0isFEEER5qzpe9DcKS3oicCCCCAAAIaASs1k2+sBEc+HdoQQAABBBAwIFB08JN3exoSK0UQwZHmbOn7EBzpreiJAAIIIICARsBKzeQbK8GRT4c2BBBAAAEEDAjkDXqKXl9DYqUIIjjSnC19H4IjvRU9EUAAAQQQ0AhYqZl8YyU48unQhgACCCCAgAGBooOfvNvTkFgpgqwHR7/+9a/dlClTWj8ve9nL3Ne+9jW3du1at99++7mxY8dGr+vWrYvYN23a5I499lg3NDTkJk2a5O68887W6bj00kuj/rKOvI+nO+64w02cODFaR9aVbcjUbR/xep1eCY46qbAMAQQQQACB7AJWaibfERAc+XRoQwABBBBAwIBA3qCn6PU1JFaKIOvBUbvlxo0b3Q477OB+//vfu/nz57vTTz89apbXBQsWRO8XL17sZs+eHYU/y5cvd8PDw9FyCYFGjx4dhUESMsn7OGyaPn26k74SGMm6S5Ysidbpto+osct/CI66wLAYAQQQQACBjAJWaibf8AmOfDq0IYAAAgggYECg6OAn7/Y0JFaKoH4Kjr7//e+7N7zhDRHvuHHj3OrVq6P38irzMh155JHuiiuuiN7Lf+J+skza4inuJ+vuuuuu8eJo3bhfvK40tu+j1bnDG4KjDigsQgABBBBAIIeAlZrJdwgERz4d2hBAAAEEEDAgkDfoKXp9DYmVIqifgqPDDjvMnXPOORHvNtts02KWO4Xi+Tlz5rilS5e22mbOnOluv/12t3DhQnfqqae2lp9yyinRMmnbd999W8tvvvlmJ9uQKd6mvG/fR6vz5jeLFi1yEhjJz8iRI9PNzCOAAAIIIIBADgErNZPvEAiOfDq0IYAAAgggYECg6OAn7/Y0JFaKoH4Jjp555hk3YsQI98c//jHibQ91ZMG2224bLS8rOGrfR7SjLv/hjqMuMCxGAAEEEEAgo4CVmsk3fIIjnw5tCCCAAAIIGBDIG/QUvb6GxEoR1C/B0Xe/+133lre8pUXb7Wtk8VfQ4o5xP76qFovwigACCCCAQH8JWKmZfGoERz4d2hBAAAEEEDAgUHTwk3d7GhIrRVC/BEcHH3ywu/jii1u0xx9/fOLh2PIga5luuOGGxMOx5cHXMsnDsUeNGhU9EFseii3vZZlM6YdjywO2Zeq2j6ixy3+446gLDIsRQAABBBDIKGClZvINn+DIp0MbAggggAACBgTyBj1Fr68hsVIE9UNw9MQTT7jtttvOPfLIIy3ahx56yMnzi8aOHRs9oygOgeRZRMccc4wbM2aMmzhxYvR8o3iliy66yA0NDUU/7SGUPOdowoQJ0Trz5s2Lnmck63TbR7y9Tq8ER51UWIYAAggggEB2ASs1k+8ICI58OrQhgAACCCBgQKDo4Cfv9jQkVoqgfgiONJ5W+hAcWTkTjAMBBBBAoCkCVmomnyfBkU+HNgQQQAABBAwI5A16il5fQ2KlCCI40pwtfR+CI70VPRFAAAEEENAIWKmZfGMlOPLp0IYAAggggIABgaKDn7zb05BYKYIIjjRnS9+H4EhvRU8EEEAAAQQ0AlZqJt9YCY58OrQhgAACCCBgQCBv0FP0+hoSK0UQwZHmbOn7EBzpreiJAAIIIICARsBKzeQbK8GRT4c2BBBAAAEEDAgUHfzk3Z6GxEoRRHCkOVv6PgRHeit6IoAAAgggoBGwUjP5xkpw5NOhDQEEEEAAAQMCeYOeotfXkFgpggiONGdL34fgSG9FTwQQQAABBDQCVmom31gJjnw6tCGAAAIIIGBAoOjgJ+/2NCRWiiCCI83Z0vchONJb0RMBBBBAAAGNgJWayTdWgiOfDm0IIIAAAggYEMgb9BS9vobEShFEcKQ5W/o+BEd6K3oigAACCCCgEbBSM/nGSnDk06ENAQQQQAABAwJFBz95t6chsVIEERxpzpa+D8GR3oqeCCCAAAIIaASs1Ey+sRIc+XRoQwABBBBAwIBA3qCn6PU1JFaKIIIjzdnS9yE40lvREwEEEEAAAY2AlZrJN1aCI58ObQgggAACCBgQKDr4ybs9DYmVIojgSHO29H0IjvRW9EQAAQQQQEAjYKVm8o2V4MinQxsCCCCAAAIGBPIGPUWvryGxUgQRHGnOlr4PwZHeip4IIIAAAghoBKzUTL6xEhz5dGhDAAEEEEDAgEDRwU/e7WlIrBRBBEeas6XvQ3Ckt6InAggggAACGgErNZNvrARHPh3aEEAAAQQQMCCQN+gpen0NiZUiiOBIc7b0fQiO9Fb0RAABBBBAQCNgpWbyjZXgyKdDGwIIIIAAAgYEig5+8m5PQ2KlCCI40pwtfR+CI70VPRFAAAEEENAIWKmZfGMlOPLp0IYAAggggIABgbxBT9Hra0isFEEER5qzpe9DcKS3oicCCCCAAAIaASs1k2+sBEc+HdoQQAABBBAwIFB08JN3exoSK0UQwZHmbOn7EBzpreiJAAIIIICARsBKzeQba2nB0fr169306dPd5MmT3fjx491JJ520xTguueQSt/3227spU6ZEPxdeeOEWfdILKFjSIswjgAACCDRdIG/QU/T6Gm8rRRDBkeZs6ftQh+mt6IkAAggggIBGwErN5BtracHRpk2b3OOPPx7te8OGDW54eNgtX748MRYJjubNm5dYFpqhYAkJ0Y4AAggg0DSBooOfvNvT+FopggiONGdL34c6TG9FTwQQQAABBDQCVmom31hLC47ad/rkk0+6adOmuVtvvbV9sSM4SnAwgwACCCCAQEeBvEFP0et3HGRqoZUiiOAodWJyzhIc5QRkdQQQQAABBFICVmqm1LASs6UGRxs3boy+grb11lu7BQsWJHYsMxIcvfrVr3aTJk1yc+fOdatWrdqiT3oBBUtahHkEEEAAgaYLFB385N2exttKEURwpDlb+j7UYXoreiKAAAIIIKARsFIz+cZaanAU7/jhhx92M2bMcHfffXe8KHp96KGH3NNPPx29//rXv+722WefRHs8s2jRIieFivyMHDkyXswrAggggAACAyGQN+gpen0NupUiiOBIc7b0fQiO9Fb0RAABBBBAQCNgpWbyjbWS4EgGcPLJJ7uFCxd2HYvcnfTyl7+8a3vcQMESS/CKAAIIIDAoAkUHP3m3p3G3UgQRHGnOlr4PdZjeip4IIIAAAghoBKzUTL6xlhYcPfjgg07uNJLpqaeecnvvvbe7/vrrE2NZvXp1a/7aa691e+65Z2u+2xsKlm4yLEcAAQQQaKpA3qCn6PU1zlaKIIIjzdnS96EO01vREwEEEEAAAY2AlZrJN9bSgqO77rrLTZ06NXp+0YQJE6I7jmQgJ554orvuuuuiMZ1wwglu/PjxbvLkydFX2X71q1/5xhq1UbAEieiAAAIIINAwgaKDn7zb0/BaKYIIjjRnS9+HOkxvRU8EEEAAAQQ0AlZqJt9YSwuOfDvN00bBkkePdRFAAAEE+lEgb9BT9PoaQytFEMGR5mzp+1CH6a3oiQACCCCAgEbASs3kGyvBkU+HNgQQQAABBAwIFB385N2ehsRKEURwpDlb+j4ER3oreiKAAAIIIKARsFIz+cZKcOTToQ0BBBBAAAEDAnmDnqLX15BYKYIIjjRnS9+H4EhvRU8EEEAAAQQ0AlZqJt9YCY58OrQhgAACCCBgQKDo4Cfv9jQkVooggiPN2dL3ITjSW9ETAQQQQAABjYCVmsk3VoIjnw5tCCCAAAIIGBDIG/QUvb6GxEoRRHCkOVv6PgRHeit6IoAAAgggoBGwUjP5xkpw5NOhDQEEEEAAAQMCRQc/ebenIbFSBBEcac6Wvg/Bkd6KnggggAACCGgErNRMvrESHPl0aEMAAQQQQMCAQN6gp+j1NSRWiiCCI83Z0vchONJb0RMBBBBAAAGNgJWayTdWgiOfDm0IIIAAAggYECg6+Mm7PQ2JlSKI4EhztvR9CI70VvREAAEEEEBAI2ClZvKNleDIp0MbAggggAACBgTyBj1Fr68hsVIEERxpzpa+D8GR3oqeCCCAAAIIaASs1Ey+sRIc+XRoQwABBBBAwIBA0cFP3u1pSKwUQQRHmrOl70NwpLeiJwIIIIBAvQJ5652i1g8pWKmZfOMkOPLp0IYAAggggIABgaIKl6K2oyGxUgQRHGnOlr4PwZHeip4IIIAAAvUKFFX35N1OSMFKzeQbJ8GRT4c2BBBAAAEEDAjkLViKXl9DYqUIIjjSnC19H4IjvRU9EUAAAQTqFSi6/sm6vZCClZrJN06CI58ObQgggAACCBgQyFqolLWehsRKEURwpDlb+j4ER3oreiKAAAII1CtQVh3U63ZDClZqJt84CY58OrQhgAACCCBgQKDXAqXs/hoSK0UQwZHmbOn7EBzpreiJAAIIIFCvQNn1kHb7IQUrNZNvnARHPh3aEEAAAQQQMCCgLUyq6qchsVIEERxpzpa+D8GR3oqeCCCAAAL1ClRVF4X2E1KwUjP5xklw5NOhDQEEEEAAAQMCoYKk6nYNiZUiiOBIc7b0fQiO9Fb0RAABBBCoV6Dq+qjb/kIKVmom3zgJjnw6tCGAAAIIIGBAoFshUtdyDYmVIojgSHO29H0IjvRW9EQAAQQQqFegrjopvd+QgpWayTdOgiOfDm0IIIAAAggYEEgXIHXPa0isFEEER5qzpe9DcKS3oicCCCCAQL0CdddL8f5DClZqJt84CY58OrQhgAACCCBgQCAuPKy8akisFEEER5qzpe9DcKS3oicCCCCAQL0C/VI3WamZfGeL4MinQxsCCCCAAAIGBKwUPvE4NCRWiiCCI83Z0vchONJb0RMBBBBAoF6BuG6p+zWkYKVm8o2T4MinQxsCCCCAAAIGBOoueNL715BYKYIIjjRnS9+H4EhvRU8EEEAAgXoF0vVLXfMhBSs1k2+cBEc+HdoQQAABBBAwIFBXodNtvxoSK0UQwZHmbOn7EBzpreiJAAIIIFCvQLc6purlIQUrNZNvnARHPh3aEEAAAQQQMCBQdYET2p+GxEoRRHCkOVv6PgRHeit6IoAAAgjUKxCqZ6pqDylYqZl84yQ48unQhgACCCCAgAGBqgob7X40JFaKIIIjzdnS9yE40lvREwEEEECgXgFtXVN2v5CClZrJN06CI58ObQgggAACCBgQKLug6XX7GhIrRRDBkeZs6fsQHOmt6IkAAgggUK9Ar/VNWf1DClZqJt84CY58OrQhgAACCCBgQKCsQibrdjUkVooggiPN2dL3ITjSW9ETAQQQQKBegax1TtHrhRSs1Ey+cRIc+XRoQwABBBBAwIBA0QVM3u1pSKwUQQRHmrOl70NwpLeiJwIIIIBAvQJ5652i1g8pWKmZfOMkOPLp0IYAAggggIABgaIKl6K2oyGxUgQRHGnOlr4PwZHeip4IIIAAAvUKFFX35N1OSMFKzeQbJ8GRT4c2BBBAAAEEDAjkLViKXl9DYqUIIjjSnC19H4IjvRU9EUAAAQTqFSi6/sm6vZCClZrJN06CI58ObQgggAACCBgQyFqolLWehsRKEURwpDlb+j4ER3oreiKAAAII1CtQVh3U63ZDClZqJt84CY58OrQhgAACCCBgQKDXAqXs/hoSK0UQwZHmbOn7EBzpreiJAAIIIFCvQNn1kHb7IQUrNZNvnARHPh3aEEAAAQQQMCCgLUyq6qchsVIE9UNw9PDDD7u5c+e6XXfd1e22225u2bJlbu3atW6//fZzY8eOjV7XrVsXsW/atMkde+yxbmhoyE2aNMndeeedrdNx6aWXRv1lHXkfT3fccYebOHFitI6sK9uQqds+4vU6vRIcdVJhGQIIIICARYGq6qLQfkI2Vmom3zgJjnw6tCGAAAIIIGBAIFSQVN2uIbFSBPVDcPSBD3zAXXjhhRHrM8884yRImj9/vjv99NOjZfK6YMGC6P3ixYvd7Nmzo/Bn+fLlbnh4OFouIdDo0aOjMEhCJnkfh03Tp0930lcCI1l3yZIl0Trd9hE1dvkPwVEXGBYjgAACCJgTqLo+6ra/EIyVmsk3ToIjnw5tCCCAAAIIGBDoVojUtVxDYqUIsh4cPfLII27UqFGtu4Bi23HjxrnVq1dHs/Iq8zIdeeSR7oorroi7RculXZZJWzzF/aRN7mSKp/Z+3fYR9+30SnDUSYVlCCCAAAIWBeqqk9L7DdlYqZl84yQ48unQhgACCCCAgAGBdAFS97yGxEoRZD04+tnPfubkjqAPfvCDburUqe6II45wTzzxhNtmm21azHKnUDw/Z84ct3Tp0lbbzJkz3e233+4WLlzoTj311NbyU045JVombfvuu29r+c033+xkGzLF25T37ftodd78ZtGiRU4CI/kZOXJkupl5BBBAAAEETArUXS/F+w/hWKmZfOMkOPLp0IYAAggggIABgbjwsPKqIbFSBFkPjiTYecELXuBuvfXWiPXjH/+4+9znPpcIdaRh2223jdrLCo7a9xHtqMt/uOOoCwyLEUAAAQTMCfRL3WSlZvKdQIIjnw5tCCCAAAIIGBCwUvjE49CQWCmCrAdHDzzwgNt5551bpHJH0Nvf/vbWV9Ckga+qtXh4gwACCCCAgFogrlvqfg0N2ErN5BsnwZFPhzYEEEAAAQQMCNRd8KT3ryGxUgRZD47Ecu+993a//vWvI9bPf/7z7vjjj49+2h+OLQ+ylumGG25IPBxbvuYmkzwcW56VJA/Elh95L8tkSj8cWx6wLZPsp9M+osYu/+GOoy4wLEYAAQQQMCeQrl/qmg/BWKmZfOMkOPLp0IYAAggggIABgboKnW771ZBYKYL6ITiS5xxJIDNp0iS3//77R8HPQw895OT5RWPHjo2eURSHQPIsomOOOcaNGTPGTZw4MXq+UXw+LrroIjc0NBT9XHzxxfHiqM+ECROidebNm9d6EHe3fbRW7PCG4KgDCosQQAABBEwKdKtjql4ewrFSM/nGSXDk06ENAQQQQAABAwJVFzih/WlIrBRB/RAcaTyt9CE4snImGAcCCCCAQEggVM9U1R4ap5WayTdOgiOfDm0IIIAAAggYEKiqsNHuR0NipQgiONKcLX0fgiO9FT0RQAABBOoV0NY1ZfcLKVipmXzjJDjy6dCGAAIIIICAAYGyC5pet68hsVIEERxpzpa+D8GR3oqeCCCAAAL1CvRa35TVP6RgpWbyjZPgyKdDGwIIIIAAAgYEyipksm5XQ2KlCCI40pwtfR+CI70VPRFAAAEE6hXIWucUvV5IwUrN5BsnwZFPhzYEEEAAAQQMCBRdwOTdnobEShFEcKQ5W/o+BEd6K3oigAACCNQrkLfeKWr9kIKVmsk3ToIjnw5tCCCAAAIIGBAoqnApajsaEitFEMGR5mzp+xAc6a3oiQACCCBQr0BRdU/e7YQUrNRMvnESHPl0aEMAAQQQQMCAQN6Cpej1NSRWiiCCI83Z0vchONJb0RMBBBBAoF6BouufrNsLKVipmXzjJDjy6dCGAAIIIICAAYGshUpZ62lIrBRBBEeas6XvQ3Ckt6InAggggEC9AmXVQb1uN6RgpWbyjZPgyKdDGwIIIIAAAgYEei1Qyu6vIbFSBBEcac6Wvg/Bkd6KnggggAAC9QqUXQ9ptx9SsFIz+cZJcOTToQ0BBBBAAAEDAtrCpKp+GhIrRRDBkeZs6fsQHOmt6IkAAgggUK9AVXVRaD8hBSs1k2+cBEc+HdoQQAABBBAwIBAqSKpu15BYKYIIjjRnS9+H4EhvRU8EEEAAgXoFqq6Puu0vpGClZvKNk+DIp0MbAggggAACBgS6FSJ1LdeQWCmCCI40Z0vfh+BIb0VPBBBAAIF6Beqqk9L7DSlYqZl84ywtOFq/fr2bPn26mzx5shs/frw76aSTthjH008/7Q466CA3NDTkhoeH3cqVK7fok15AwZIWYR4BBBBAoOkC6QKk7nmNt5UiiOBIc7b0fajD9Fb0RAABBBCoV6Dueinef0jBSs3kG2dpwdGmTZvc448/Hu17w4YNUTC0fPnyxFjOO+88d9RRR0XLrrzyyihESnToMEPB0gGFRQgggAACjRaICw8rrxpsK0UQwZHmbOn7UIfpreiJAAIIIFCvQL/UTVZqJt/ZKi04at/pk08+6aZNm+ZuvfXW9sVu1qxZbtmyZdGyZ5991o0YMcJJ4OSbKFh8OrQhgAACCDRRwErhE49DY2ylCCI40pwtfR/qML0VPRFAAAEE6hWI65a6X0MKVmom3zhLDY42btzopkyZ4rbeemu3YMGCLcYxYcIEd99997WWjxkzxq1Zs6Y1H79ZtGiRk0JFfkaOHBkv5hUBBBBAAIGBEKi74EnvX4NupQgiONKcLX0fgiO9FT0RQAABBOoVSNcvdc2HFKzUTL5xlhocxTt++OGH3YwZM9zdd98dL4petcFR+0oULO0avEcAAQQQGASBugqdbvvVmFspggiONGdL34c6TG9FTwQQQACBegW61TFVLw8pWKmZfOOsJDiSAZx88slu4cKFibHwVbUEBzMIIIAAAgh0FKi6wAntr+MgUwutFEEER6kTk3OW4CgnIKsjgAACCFQmEKpnqmoPHbCVmsk3ztKCowcffNDJnUYyPfXUU27vvfd2119/fWIs5557buLh2AceeGCivdMMBUsnFZYhgAACCDRZoKrCRrsfjbWVIojgSHO29H2ow/RW9EQAAQQQqFdAW9eU3S+kYKVm8o2ztODorrvuclOnTnWTJk1y8pU0ueNIphNPPNFdd9110fv169e7Aw44wA0NDbnp06e7FStW+MYatVGwBInogAACCCDQX1J2vgAAIABJREFUMIGyC5pet6/htVIEERxpzpa+D3WY3oqeCCCAAAL1CvRa35TVP6RgpWbyjbO04Mi30zxtFCx59FgXAQQQQKAfBcoqZLJuV2NopQgiONKcLX0f6jC9FT0RQAABBOoVyFrnFL1eSMFKzeQbJ8GRT4c2BBBAAAEEDAgUXcDk3Z6GxEoRRHCkOVv6PgRHeit6IoAAAgjUK5C33ilq/ZCClZrJN06CI58ObQgggAACCBgQKKpwKWo7GhIrRRDBkeZs6fsQHOmt6IkAAgggUK9AUXVP3u2EFKzUTL5xEhz5dGhDAAEEEEDAgEDegqXo9TUkVooggiPN2dL3ITjSW9ETAQQQQKBegaLrn6zbCylYqZl84yQ48unQhgACCCCAgAGBrIVKWetpSKwUQQRHmrOl70NwpLeiJwIIIIBAvQJl1UG9bjekYKVm8o2T4MinQxsCCCCAAAIGBHotUMruryGxUgQRHGnOlr4PwZHeip4IIIAAAvUKlF0PabcfUrBSM/nGSXDk06ENAQQQQAABAwLawqSqfhoSK0UQwZHmbOn7EBzpreiJAAIIIFCvQFV1UWg/IQUrNZNvnARHPh3aEEAAAQQQMCAQKkiqbteQWCmCCI40Z0vfh+BIb0VPBBBAAIF6Baquj7rtL6RgpWbyjZPgyKdDGwIIIIAAAgYEuhUidS3XkFgpggiONGdL34fgSG9FTwQQQACBegXqqpPS+w0pWKmZfOMkOPLp0IYAAggggIABgXQBUve8hsRKEURwpDlb+j4ER3oreiKAAAII1CtQd70U7z+kYKVm8o2T4MinQxsCCCCAAAIGBOLCw8qrhsRKEURwpDlb+j4ER3oreiKAAAII1CvQL3WTlZrJd7YIjnw6tCGAAAIIIGBAwErhE49DQ2KlCCI40pwtfR+CI70VPRFAAAEE6hWI65a6X0MKVmom3zgJjnw6tCGAAAIIIGBAoO6CJ71/DYmVIojgSHO29H0IjvRW9EQAAQQQqFcgXb/UNR9SsFIz+cZJcOTToQ0BBBBAAAEDAnUVOt32qyGxUgQRHGnOlr4PwZHeip4IIIAAAvUKdKtjql4eUrBSM/nGSXDk06ENAQQQQAABAwJVFzih/WlIrBRBBEeas6XvQ3Ckt6InAggggEC9AqF6pqr2kIKVmsk3ToIjnw5tCCCAAAIIGBCoqrDR7kdDYqUIIjjSnC19H4IjvRU9EUAAAQTqFdDWNWX3CylYqZl84yQ48unQhgACCCCAgAGBsguaXrevIbFSBBEcac6Wvg/Bkd6KnggggAAC9Qr0Wt+U1T+kYKVm8o2T4MinQxsCCCCAAAIGBMoqZLJuV0NipQgiONKcLX0fgiO9FT0RQAABBOoVyFrnFL1eSMFKzeQbJ8GRT4c2BBBAAAEEDAgUXcDk3Z6GxEoRRHCkOVv6PgRHeit6IoAAAgjUK5C33ilq/ZCClZrJN06CI58ObQgggAACCBgQKKpwKWo7GhIrRRDBkeZs6fsQHOmt6IkAAgggUK9AUXVP3u2EFKzUTL5xEhz5dGhDAAEEEEDAgEDegqXo9TUkVooggiPN2dL3ITjSW9ETAQQQQKBegaLrn6zbCylYqZl84yQ48unQhgACCCCAgAGBrIVKWetpSKwUQQRHmrOl70NwpLeiJwIIIIBAvQJl1UG9bjekYKVm8o2T4MinQxsCCCCAQCMFdj16vrP0E0LutUApu39ovNJupQgiONKcLX0fgiO9FT0RQAABBOoVKLse0m4/pGClZvKNk+DIp0MbAggggEAjBSyFRjKW0KQtTKrqFxqvtFspggiONGdL34fgSG9FTwQQQACBegWqqotC+wkpWKmZfOMkOPLp0IYAAggg0EgBgqMTXajI8bVrLgorRRDBkeZs6fsQHOmt6IkAAgggUK+Ar5apsi2kYKVm8o2T4MinQxsCCCCAQCMFCI4IjrQX9utf/3pt14HoR3A0EKeZg0QAAQQaIVBlOOTbVwiT4CgklKGdgiUDGqsggAACCCQECI4IjhIXhGeG4CiJQx2W9GAOAQQQQMCugC/MqbItJERwFBLK0E7BkgGNVRBAAAEEEgIERwRHiQvCM0NwlMShDkt6MIcAAgggYFegynDIt6+QEMFRSChDOwVLBjRWQQABBBBICBAcERwlLgjPDMFREoc6LOnBHAIIIICAXQFfmFNlW0iI4CgklKGdgiUDGqsggAACCCQECI4IjhIXhGeG4CiJQx2W9GAOAQQQQMCuQJXhkG9fISGCo5BQhnYKlgxorIIAAgggkBAgOCI4SlwQnhmCoyQOdVjSgzkEEEAAAbsCvjCnyraQEMFRSChDOwVLBjRWQQABBBBICBAcERwlLgjPDMFREoc6LOnBHAIIIICAXYEqwyHfvkJCBEchoQztFCwZ0FgFAQQQQCAhQHBEcJS4IDwzBEdJHOqwpAdzCCCAAAJ2BXxhTpVtISGCo5BQhnYKlgxorIIAAgggkBAgOCI4SlwQnhmCoyQOdVjSgzkEEEAAAbsCVYZDvn2FhAiOQkIZ2ilYMqCxCgIIIIBAQoDgiOAocUF4ZgiOkjjUYUkP5hBAAAEE7Ar4wpwq20JCBEchoQztFCwZ0FgFAQQQQCAhQHBEcJS4IDwzVQRHO++8s5s4caKbMmWKi+uctWvXuv3228+NHTs2el23bl00yk2bNrljjz3WDQ0NuUmTJrk777yzNfpLL7006i/ryPt4uuOOO6LtyzqyrmxDpm77iNfr9BqPr1MbyxBAAAEEELAkUGU45NtXyITgKCSUoZ2CJQMaqyCAAAIIJAQIjgiOEheEZ6aq4GjNmjWJUcyfP9+dfvrp0TJ5XbBgQfR+8eLFbvbs2VH4s3z5cjc8PBwtlxBo9OjRURgkIZO8j8Om6dOnO+krgZGsu2TJkmidbvuIGrv8hzqsCwyLEUAAAQTMCfjCnCrbQjAERyGhDO0ULBnQWAUBBBBAICFAcERwlLggPDN1BUfjxo1zq1evjkYmrzIv05FHHumuuOKK1ojjfrJM2uIp7ifr7rrrrvHiaN24X7yuNLbvo9W5wxvqsA4oLEIAAQQQMClQZTjk21cIh+AoJJShnYIlAxqrIIAAAggkBAiOCI4SF4RnporgaNSoUW7atGlujz32cIsWLYpGs80227RGJXcKxfNz5sxxS5cubbXNnDnT3X777W7hwoXu1FNPbS0/5ZRTomXStu+++7aW33zzzU62IVO8TXnfvo9W5w5vqMM6oLAIAQQQQMCkgC/MqbIthENwFBLK0E7BkgGNVRBAAAEEEgIERwRHiQvCM1NFcHT//fdHI/jTn/7kJk+e7H784x8nQh1p3HbbbaM+ZQVH7fuIdtT2HwmzpP6Sn5EjR7a18BYBBBBAAAG7AlWGQ759hYQIjkJCGdoJjjKgsQoCCCCAQEKA4IjgKHFBeGaqCI7ad//5z38+ulOo29fI4q+gxevE/fiqWizCKwIIIIAAAn8W8IU5VbaFzgfBUUgoQzvBUQY0VkEAAQQQSAgQHBEcJS4Iz0zZwdETTzzhHnvssWgE8n6vvfZyN954ozv++OMTD8eWB1nLdMMNNyQeji0PvpZJHo4tX3mTB2LLj7yXZTKlH44tD9iWqds+osYu/6EO6wLDYgQQQAABcwJVhkO+fYVgCI5CQhnaKVgyoLEKAggggEBCgOCI4ChxQXhmyg6OVqxYEX09Tb6iNn78eHfaaadFo3nooYecPL9o7Nix0TOK4hBInkV0zDHHuDFjxriJEydGzzeKh3/RRRe5oaGh6Ofiiy+OF0d9JkyYEK0zb9686HlG0thtH60VO7yhDuuAwiIEEEAAAZMCvjCnyrYQDsFRSChDOwVLBjRWQQABBBBICBAcERwlLgjPTNnBkWfXJpuow0yeFgaFAAIIINBBoMpwyLevDkNLLCI4SnAUM0PBUowjW0EAAQQGWYDgiOBIe/0THCWlqMOSHswhgAACCNgV8IU5VbaFhAiOQkIZ2ilYMqCxCgIIIIBAQoDgiOAocUF4ZgiOkjjUYUkP5hBAAAEE7ApUGQ759hUSIjgKCWVop2DJgMYqCCCAAAIJAYIjgqPEBeGZIThK4lCHJT2YQwABBBCwK+ALc6psCwkRHIWEMrRTsGRAYxUEEEAAgYQAwRHBUeKC8MwQHCVxqMOSHswhgAACCNgVqDIc8u0rJERwFBLK0E7BkgGNVRBAAAEEEgIERwRHiQvCM0NwlMShDkt6MIcAAgggYFfAF+ZU2RYSIjgKCWVop2DJgMYqCCCAAAIJAYIjgqPEBeGZIThK4lCHJT2YQwABBBCwK1BlOOTbV0iI4CgklKGdgiUDGqsggAACCCQECI4IjhIXhGeG4CiJQx2W9GAOAQQQQMCugC/MqbItJDTQwdGqVavcjBkz3O677+7Gjx/vzjrrrC28brrpJvfyl7/cTZkyJfo5+eSTt+iTXkDBkhZhHgEEEECgVwGCI4Ij7TVDcJSUog5LejCHAAIIIGBXoMpwyLevkNBAB0erV692d955Z2T02GOPuV122cXde++9CTMJjubMmZNYFpqhYAkJ0Y4AAgggEBIgOCI4Cl0jcTvBUSzx51fqsKQHcwgggAACdgV8YU6VbSGhgQ6O0jjvete73A9+8IPEYoKjBAczCCCAAAIVCRAcERxpLzWCo6QUwVHSgzkEEEAAAbsCVYZDvn2FhAiONgutXLnS7bTTTu7RRx9NmElwtN1227nJkye72bNnu3vuuSfRHs8sWrTISaEiPyNHjowX84oAAggggEAmAYIjgiPthUNwlJQiOEp6MIcAAgggYFfAF+ZU2RYSIjhyzj3++ONujz32cN/+9re38JIgSdplWrx4sRs7duwWfdILKFjSIswjgAACCPQqQHBEcKS9ZgiOklLUYUkP5hBAAAEE7ApUGQ759hUSGvjgaMOGDW7WrFnuzDPPDFlF7TvvvLNbs2aNty8Fi5eHRgQQQAABhQDBEcGR4jKJuhAcJaWow5IezCGAAAII2BXwhTlVtoWEBjo42rRpkzv00EPdcccd19XpgQcecNJPpttuuy36Ols8320lCpZuMixHAAEEENAKEBwRHGmvFYKjpBR1WNKDOQQQQAABuwJVhkO+fYWEBjo4Wrp0qdtqq63cpEmT3JQpU6If+TraBRdcEP0I3jnnnOPGjx8fPeNozz33dLfcckvINHrOUbATHRBAAAEEEPAIEBwRHHkuj0QTwVGCgzosycEcAggggIBhAV+YU2VbiGigg6MQTtZ2PunKKsd6CCCAAAKxAMERwVF8LYReCY6SQtRhSQ/mEEAAAQTsClQZDvn2FRIiOAoJZWinYMmAxioIIIAAAgkBgiOCo8QF4ZkhOEriUIclPZhDAAEEELAr4AtzqmwLCTUmOHriiSfcc889Fx3vb37zG3fdddc5efB1HRMFSx3q7BMBBBBolgDBEcGR9orOGhytW7fO3XXXXdrd9E0/6rC+OVXmBzp//vzoeajyyoQAAgiUIVBlOOTbV+jYGhMc7bHHHu7JJ590999/v5PffHbAAQe4Qw45JHT8pbRTsJTCykYRQACBgRIgOCI40l7wvQRHb37zm92jjz7q1q5d60aNGuWGh4fdJz7xCe2u+qIfdVhfnKa+GKT8Ep2ZM2dG4VFfDJhBIoBA3wn4wpwq20JwjQmOpk2bFh3r2Wef7c4444zovTzwuo6JgqUOdfaJAAIINEuA4IjgSHtF9xIcTZ06NdrshRde6E466aTovfySkCZN1GFNOpv5juXLk3d3eX7e8eY3RcGRvObZTr6jYG0EEGiyQJXhkG9fIePGBEdSCC1btszJbz675557ouOeOHFi6PhLaadgKYWVjSKAAAIDJUBwRHCkveB7CY6kNlq9erV7y1ve4n76059GuyA40krTr98E8oQ9su6Be7/RSWgkr3m21W9ujBcBBKoT8IU5VbaFjrgxwdGPfvQj9853vtN9+ctfjo55xYoV7thjjw0dfyntBEelsLJRBBBAYKAECI4IjrQXfC/B0dVXX+0kKDr66KOjzUu99O53v1u7q77oRx3WF6epkkHmCXuKXLeSg2UnCCDQlwJVhkO+fYXwGhMcxQcqzzmqe6JgqfsMsH8EEECg/wUIjgiOtFdxL8GRdpv93I86rJ/PXrFjLzL8ybOtYo+KrSGAQJMEfGFOlW0h08YER/I1td13393ttNNO0TH//Oc/b32aFkIoup2CpWhRtocAAggMngDBEcGR9qrvJTh68MEH3Re/+EX3kY98xB122GGtH+2++qEfdVg/nKVqxpgn7Cly3WqOlr0ggEA/ClQZDvn2FbJrTHAkvxVk1apVLn7ooxz4hAkTQsdfSjsFSymsbBQBBBAYKAGCI4Ij7QXfS3C01157uQULFrirrrrKfetb32r9aPfVD/2ow/rhLFUzxiLDnzzbquZo2QsCCPSjgC/MqbItZNeo4EgOtj04mjx5cuj4S2mnYCmFlY0igAACAyVAcERwpL3gewmO6vqNs9pjKaIfdVgRis3YRp6wp8h1m6HJUSCAQBkCVYZDvn2Fjq0xwdHcuXPdLbfc4qZNm+Y2bNjgFi5c6A4++ODQ8ZfSTsFSCisbRQABBAZKgOCI4Eh7wfcSHH32s591ixcv1m66L/tRh/XlaStl0EWGP3m2VcrBsVEEEGiEgC/MqbIthNmY4GjNmjXukEMOca961avcK1/5Sve+973PPfTQQ6HjL6WdgqUUVjaKAAIIDJQAwRHBkfaC1wRHL33pS93LXvYyJ6/Pe97z3Itf/OLWvCxv0kQd1qSzme9Y8oQ9Ra6b7yhYGwEEmixQZTjk21fIuDHBUehAq2ynYKlSm30hgAACzRQgOCI40l7ZmuBIu60m9KMOa8JZLOYYigx/8myrmKNhKwgg0EQBX5hTZVvItjHB0fz5892jjz4afU1t5syZbvvtt3eXX3556PhLaadgKYWVjSKAAAIDJUBwRHCkveB7CY6kRkpPnZal+/TTPHVYP52tcseaJ+wpct1yj5KtI4BAPwtUGQ759hUybExwFD/s8dprr3WHH364e+SRRxwPxw6dftoRQAABBKwKEBwRHGmvTU1wtH79+ugr/FIbrVu3zq1duzb6Wblypdt11121u+qLfgRHfXGaKhlkkeFPnm1VcrDsBAEE+lLAF+ZU2RbCa0xwNGHChOhYjzjiCHfjjTdG7wmOQqefdgQQQAABqwIERwRH2mtTExydddZZbtSoUe5FL3qRGz16dPRe5qVWOuecc7S76ot+BEd9cZoqGWSesKfIdSs5WHaCAAJ9KVBlOOTbVwivMcHRpz71qegTs6lTp0ZfV3vwwQfd8PBw6PhLaadgKYWVjSKAAAIDJUBwRHCkveA1wVG8rbPPPjt+29hX6rDGntqeD6zI8CfPtnoeOCsggMDACPjCnCrbQuCNCY7kQOW2640bN0bH/OSTT7oHHnggdPyltFOwlMLKRhFAAIGBEiA4IjjSXvC9BEeyzbvvvttdddVV7rLLLmv9aPfVD/2ow/rhLFUzxjxhT5HrVnO07AUBBPpRoMpwyLevkF2jgiMrhRAFS+iyox0BBBBAICRAcERwFLpG4vZegqMvfOELbsaMGe5Vr3qV+9CHPuR22GEHN3fu3HhTjXilDmvEaSzkIIoMf/Jsq5CDYSMIINBIAV+YU2VbCLcxwZGlQoiCJXTZ0Y4AAgggEBIgOCI4Cl0jcXsvwdHEiRPdc8891/oFIn/84x/dfvvtF2+qEa/UYY04jYUcRJ6wp8h1CzkYNoIAAo0UqDIc8u0rhNuY4MhSIUTBErrsaEcAAQQQCAkQHBEcha6RuL2X4Gj69OnRanvssYd79NFH3aZNm/itajEkr40TKDL8ybOtxsFyQAggUJiAL8ypsi10QI0JjiwVQgRHocuOdgQQQACBkADBEcFR6BqJ23sJjo4++mj38MMPuwsuuMCNHTvWyS8Vka+sNWmiDmvS2cx3LHnCniLXzXcUrI0AAk0WqDIc8u0rZNyY4MhSIUTBErrsaEcAAQQQCAkQHBEcha6RuL2X4CheR15Xrlzp7rrrrvZFjXhPHdaI01jIQRQZ/uTZViEHw0YQQKCRAr4wp8q2EG5jgqP2A627EKJgaT8bvEcAAQQQyCJAcERwpL1uegmO5Ktpl19+uTv55JOjzf/hD39wt912m3ZXfdGPOqwvTlMlg8wT9hS5biUHy04QQKAvBaoMh3z7CuE1Jji69tpr3SOPPNI6XrkN+zvf+U5rvso3FCxVarMvBBBAoJkCBEcER9oru5fg6KMf/ag75phj3G677RZtft26de51r3uddld90Y86rC9OUyWDLDL8ybOtSg6WnSCAQF8K+MKcKttCeI0JjqZMmbLFscr39uuYKFjqUGefCCCAQLMECI4IjrRXdC/B0bRp06LNttdIkydP1u6qL/pRh/XFaapkkHnCniLXreRg2QkCCPSlQJXhkG9fIbzGBEeTJk3a4ljlN63VMVGw1KHOPhFAAIFmCRAcERxpr+hegqPh4WG3ceNGFwdIDz74YPSAbO2++qEfdVg/nKVqxlhk+JNnW9UcLXtBAIF+FPCFOVW2hewaExwddthh7hOf+IT77W9/G/3I+w9+8IOh4y+lnYKlFFY2igACCAyUAMERwZH2gu8lOPrmN7/p3vnOd7odd9zRfeYzn3Hjxo1zV199tXZXfdGPOqwvTlMlg8wT9hS5biUHy04QQKAvBaoMh3z7CuE1Jjh64okn3Kc+9SknxYJ8V//Tn/60k2V1TBQsdaizTwQQQKBZAgRHBEfaK7qX4Ei2+atf/cqde+657pxzznG//OUvtbvpm37UYX1zqkofaJHhT55tlX6g7AABBPpWwBfmVNkWAmxMcBQ60I997GOhLoW1U7AURsmGEEAAgYEVIDgiONJe/JrgaO3atc73o91XP/SjDuuHs1TNGPOEPUWuW83RshcEEOhHgSrDId++QnYDExzF3+UPgRTRTsFShCLbQAABBAZbgOCI4Ej7J0ATHI0aNcqNHj3ayevzn/98N2LECLfddttF72VZkybqsCadzXzHUmT4k2db+Y6CtRFAoMkCvjCnyraQMcFRSChDOwVLBjRWQQABBBBICBAcERwlLgjPjCY4ilf/8Ic/7BYvXhzPuiVLlrgjjzyyNd+EN9RhTTiLxRxDnrCnyHWLORq2ggACTRSoMhzy7StkS3AUEsrQTsGSAY1VEEAAAQQSAgRHBEeJC8Iz00tw1Ok3znZa5tmd+SbqMPOnqLIBFhn+5NlWZQfMjhBAoO8EfGFOlW0huIEJjqZOnRqyKKydgqUwSjaEAAIIDKwAwRHBkfbi7yU4mjVrljv11FPdypUro5/TTjvNybImTdRhTTqb+Y4lT9hT5Lr5joK1EUCgyQJVhkO+fYWMGxMc/fa3v/Ue6yWXXOJtL7KRgqVITbaFAAIIDKYAwRHBkfbK7yU4kgdkf/zjH3fygZo8//G4446LHpqt3Vc/9KMO64ezVM0Yiwx/8myrmqNlLwgg0I8CvjCnyraQXWOCoze96U1uzJgx7uCDD45+xewvfvGL0LGX1k7BUhotG0YAAQQGRoDgiOBIe7H3EhyFtlnlb6ENjSVrO3VYVrnmrZcn7Cly3ebJckQIIFCUQJXhkG9foeNpTHAkB/rMM8+4n/zkJ05uu95pp53cK17xitDxl9JOwVIKKxtFAAEEBkqA4IjgSHvBFxkcVflbaLXH12s/6rBexZrbv8jwJ8+2mivMkSGAQF4BX5hTZVvoOBoTHC1dutR96Utfcm9729vcXnvt5Y4++mh3xRVXhI6/lHYKllJY2SgCCCAwUAIERwRH2gue4CgpRR2W9BjkuTxhT5HrDvI54NgRQMAvUGU45NuXf5TONSY4esELXuCGh4fdd77znejOo9CBl9lOwVKmLttGAAEEBkOA4IjgSHulExwlpajDkh6DPFdk+JNnW4N8Djh2BBDwC/jCnCrb/KNsUHD08MMPuxtuuMEtWLDA7bPPPm7fffd1n/vc50LHX0o7BUsprGwUAQQQGCgBgiOCI+0FX2Rw5PsttBs3boweqj1nzpxoaL/73e+iD+2GhobcQQcd1Prg7umnn47mZbl8qCe/wS2e5O5wWT5u3Dj3ve99L17sbrzxxmiZtJ1++umt5d320erQ4Q11WAeUAV2UJ+wpct0B5eewEUBAIVBlOOTbV2iojbnjSA70l7/8pbvgggvcIYcc4kaNGuXkgdl1TBQsdaizTwQQQKBZAgRHBEfaK7qX4CjPb6E988wz3Xvf+14XB0cHHnigu/LKK6NhHnXUUe7888+P3p933nlO5mWSdgmVZLr33nvd5MmTnQRLEgjJLzWRMEp+5P2KFSui8En6SF+Zuu0jauzyH+qwLjADuLjI8CfPtgaQnkNGAAGlgC/MqbItNNzGBEejR4+Onm/0xS9+0cnzjuRB2XVNFCx1ybNfBBBAoDkCBEcER9qruZfgKOtvob3vvvvczJkz3Q9/+MMoONq0aZMbMWKEe/bZZ6NhLlu2zM2aNSt6L68yL5O0Sz/pL3cbyU88xf3a15W2uJ9vH/E2Or1Sh3VSGcxlecKeItcdTH2OGgEENAJVhkO+fYXG2pjg6Lnnngsda2XtFCyVUbMjBBBAoLECBEcER9qLu5fgSLaZ5bfQzp07191xxx3upptuioKjNWvWRF85i8e4atUqN2HChGhWXiVoiie5m0j6z5s3z11++eXxYnf44Ye7a665Jvo54ogjWsu/8Y1vRH19+2h13vxm0aJFTuov+Rk5cmS6mfkBFSgy/MmzrQHl57ARQEAh4AtzqmwLDbUxwdFvfvOb6JOwuGi566673Kmnnho6/lLaCY5KYWWjCCCAwEAJEBwRHGkv+F6Coyy/hfb666+PflutjMdqcNRuRR3WrjHY7/OEPUWuO9hngaNHAAGfQJXhkG9fvjFKW2OCI7mn9Ot5AAAgAElEQVT1+rbbbose2hgfdBwixfNVvVKwVCXNfhBAAIHmChAcERxpr+5egqMsv4X2hBNOcDvuuKPbeeed3Q477OBe8pKXRM+T5Ktq2jNEv7oEigx/8myrruNnvwggYF/AF+ZU2RaSakxw9LrXvS461vbfBjJlypTQ8ZfSTnBUCisbRQABBAZKgOCI4Eh7wfcSHOX9LbTxHUcytgMOOCDxcGx5KLZM5557buLh2PKAa5nuueeexMOx5fmU8mBseQ6SvJcHZsvX6OTh2NJXpm77iBq7/Ic6rAvMAC7OE/YUue4A0nPICCCgFKgyHPLtKzTcxgRHs2fPdvKbQqZNmxYds3xnXpbVMVGw1KHOPhFAAIFmCRAcERxpr+hegiPZZp7fQtseHMlvQZs+fXr0rCMJeOS3pcm0fv36KPAZGhqK2qVfPJ122mnRb1AbN26cW7JkSbzYLV682O2yyy5Rm/SJp277iNs7vVKHdVIZzGVFhj95tjWY+hw1AghoBHxhTpVtobE2JjiSwmLfffeNbp9+zWte4974xje63//+96HjL6WdgqUUVjaKAAIIDJQAwRHBkfaC7yU4svRbaLXH12s/6rBexZrbP0/YU+S6zRXmyBBAIK9AleGQb1+h42hMcCSfcn3zm9908inVJz/5SfeFL3zBnXzyyaHjL6WdgqUUVjaKAAIIDJQAwRHBkfaC7yU4svRbaLXH12s/6rBexZrbv8jwJ8+2mivMkSGAQF4BX5hTZVvoOBoTHL31rW91Bx98sDvjjDPcV77yldZPCKCMdgqWMlTZJgIIIDBYAgRHBEfaK76X4MjSb6HVHl+v/ajDehVrbv88YU+R6zZXmCNDwKaAlRpKo1NlOOTbV2isjQmOsvwGtVWrVrkZM2a43Xff3Y0fP96dddZZW3ht2rTJHXvssdH39ydNmuTuvPPOLfqkF1CwpEWYRwABBBDoVcBK0ROPIzR+XzFSR1tovNJupQiSceSZegmOLP0W2jzH7FuXOsynM1htRYY/ebY1WOocLQL1C8S1S92vGok6aqRO+wyN1UrN5BvnVr7GuO0jH/mI+8UvfhHPql5Xr17dCoIee+yx6KGM9957b2JdeVijPGRbAqTly5e74eHhRHunGQqWTiosQwABBBDoRaDuYie9/9DYOxUhdS4LjVfarRRBVQZHln4LreYcZelDHZZFrZnr5Al7ily3mbocFQJ2BdI1TF3zGqE6a6X2fYfGaqVm8o1TFRzJXUMvfOELnfyWDrkzaOLEidGrb8Pptne9613uBz/4QWLxkUce6a644orWMtm+BE6+iYLFp0MbAggggIBGoK4ip9t+Q2NuLz4svA+NV9qtFEFVBkeWfgut5hxl6UMdlkWtmesUGf7k2VYzdTkqBOwKdKtlql6uEbJQM8kYQpOVmsk3TlVwJL9BrdOPb8PtbStXrnQ77bSTe/TRR9sXuzlz5rilS5e2ls2cOdPdfvvtrfn4zaJFi5wUKvIzcuTIeDGvCCCAAAIIZBKourgJ7S90EFYKn3gcofFKu5UiqMrgyNJvodWcoyx9CI6yqDVznTxhT5HrNlOXo0LArkCopqmqXSMU1y11v4bGaqVm8o1TFRz5NhBqe/zxx90ee+zhvv3tb2/RVRscta9IwdKuwXsEEEAAgSwCVRU12v2EjqHugie9/9B4pd1KEVRlcGTpt9BqzlGWPtRhWdSauU6R4U+ebTVTl6NCwK6AtrYpu59GKF2/1DUfGquVmsk3zlKDow0bNrhZs2a5M888s+MY+KpaRxYWIoAAAgiULFB2MdPr9kOHW1eh022/ofFKu5UiqMrgyNJvodWcoyx9CI6yqDVznTxhT5HrNlOXo0LArkCvNU5Z/TVC3eqYqpeHxmqlZvKNs7TgSB54feihh7rjjjuu6/5vuOGGxMOxp0+f3rVv3EDBEkvwigACCCCQVaCsIibrdkPHUXWBE9pfaLzSbqUIqjI4yvJbaDWWlvpQh1k6G/WOpcjwJ8+26lVg7wgMnkDWWqfo9TTyoXqmqvbQWK3UTL5xlhYcybOLttpqq+gh2lOmTHHyI79F7YILLoh+ZFASLh1zzDFuzJgx0QO3Oz3fKD14Cpa0CPMIIIAAAr0KFF285N1eaPxVFTba/YTGK+1WiqAqg6Msv4VWY2mpD3WYpbNR71jyhD1FrluvAntHYPAE8tY8Ra2vkdfWNWX3C43VSs3kG2dpwZFvp3naKFjy6LEuAggggIAIFFW0FLWd0Fkpu6Dpdfuh8Uq7lSKoyuCoiN9Cq7Gtsw91WJ36tvZdZPiTZ1u2VBgNAs0XKKr2ybsdjXSv9U1Z/UNjtVIz+cZJcOTToQ0BBBBAoJECeYuVotcPIZdVyGTdbmi80m6lCKoyOOr0G2hlWZMmgqMmnc18x5In7Cly3XxHwdoIINCrQNE1UNbtacadtc4per3QWK3UTL5xEhz5dGhDAAEEEGikQNYipaz1QshFFzB5txcar7RbKYKqDI40Lv3eh+Co389gceMvMvzJs63ijogtIYCARqCsWqjX7WrGmrfeKWr90Fit1Ey+cRIc+XRoQwABBBBopECvxUnZ/UPIRRUuRW0nNF5pt1IEERxpzpa+D8GR3qrpPfOEPUWu23Rnjg8BawJl10Ta7Wtciqp78m4nNFYrNZNvnARHPh3aEEAAAQQaKaAtSqrqF0LOW7AUvX5ovNJupQgiONKcLX0fgiO9VdN7Fhn+5NlW0505PgSsCVRVG4X2o3Epuv7Jur3QWK3UTL5xEhz5dGhDAAEEEGikQKgYqbo9hJy1UClrvdB4pd1KEURwpDlb+j4ER3qrpvfME/YUuW7TnTk+BKwJVF0jddufxqWsOqjX7YbGaqVm8o2T4MinQxsCCCCAQCMFuhUhdS0PIfdaoJTdPzReabdSBBEcac6Wvg/Bkd6q6T2LDH/ybKvpzhwfAtYE6qqV0vvVuJRdD2m3HxqrlZrJN06CI58ObQgggAACjRRIFx91z4eQtYVJVf1C45V2K0UQwZHmbOn7EBzprZreM0/YU+S6TXfm+BCwJlB3zRTvX+NSVV0U2k9orFZqJt84CY58OrQhgAACCDRSIC46rLyGkEMFSdXtofFKu5UiiOBIc7b0fQiO9FZN71lk+JNnW0135vgQsCbQL7WTuFVdH3XbX+gcWqmZfOMkOPLp0IYAAggg0EgBK0VPPI4QcrdCpK7lofFKu5UiiOBIc7b0fQiO9FZN75kn7Cly3aY7c3wIWBOIa5e6XzUuddVJ6f2GxmqlZvKNk+DIp0MbAggggEAjBeoudtL7DyGnC5C650PjlXYrRRDBkeZs6fsQHOmtmt6zyPAnz7aa7szxIWBNIF3D1DWvcam7Xor3HxqrlZrJN06CI58ObQgggAACjRSoq8jptt8Qclx4WHkNjVfarRRBBEeas6XvQ3Ckt2p6zzxhT5HrNt2Z40PAmkC3Wqbq5RqXfqmbrNRMPlOCI58ObQgggAACjRSourgJ7S+EbKXwiccRGq+0WymCCI40Z0vfh+BIb9X0nkWGP3m21XRnjg8BawKhmqaqdo1LXLfU/Roaq5WayTdOgiOfDm0IIIAAAo0UqKqo0e4nhFx3wZPef2i80m6lCCI40pwtfR+CI71V03vmCXuKXLfpzhxfPoH999/fWfjJdxS21tbWNmX306ik65e65kNjtVIz+cZJcOTToQ0BBBBAoJECZRczvW4/hFxXodNtv6HxSruVIojgSHO29H0IjvRWTe9ZZPiTZ1tNd+b48glYCI1kDE2aeq1xyuqvMe1Wx1S9PDRWKzWTb5wERz4d2hBAAAEEGilQVhGTdbsh5KoLnND+QuOVditFEMGR5mzp+xAc6a2a3jNP2FPkuk135vjyCRAc5fPrtHbWWqfo9TqNLb0sVM9U1Z4eV3reSs2UHlf7PMFRuwbvEUAAAQQGQqDo4iXv9kLoVRU22v2ExivtVooggiPN2dL3ITjSWzW9Z5HhT55tNd2Z48snQHCUz6/T2nlrnqLW7zS29DJtXVN2v/S40vNWaqb0uNrnCY7aNXiPAAIIIDAQAkUVLUVtJ4RedkHT6/ZD45V2K0UQwZHmbOn7EBzprZreM0/YU+S6TXfm+PIJEBzl8+u0dlG1T97tdBpbelmv9U1Z/dPjSs9bqZnS42qfJzhq1+A9AggggMBACOQtVopeP4ReViGTdbuh8Uq7lSKI4EhztvR9CI70Vk3vWWT4k2dbTXfm+PIJEBzl8+u0dtE1UNbtdRpbelnWOqfo9dLjSs9bqZnS42qfJzhq1+A9AggggEAmgWvOGHZWfjQHkLVIKWu90JiLLmDybi80Xmm3UgQRHGnOlr4PwZHequk984Q9Ra7bdGeOL58AwVE+v05rl1UL9brdTmNLL8tb7xS1fnpc6XkrNVN6XO3zBEftGrxHAAEEEMgkYCU0knFopl6Lk7L7h8ZcVOFS1HZC45V2K0UQwZHmbOn7EBzprZres8jwJ8+2mu7M8eUTIDjK59dp7bJrIu32O40tvayouifvdtLjSs9bqZnS42qfJzhq1+A9AggggEAmAYKj+U5b6HTqF0LPW7AUvX5ovNJupQgiONKcLX0fgiO9VdN75gl7ily36c4cXz4BgqN8fp3W7lTH1LGs09jSy4quf7JuLz2u9LyVmik9rvZ5gqN2Dd4jgAACCGQSIDgiOEpfOFaKIIKj9JnJN09wlM+vSWsXGf7k2VaTTDmW4gUIjoo3rSMk6rRPzZFlDXqKXi80Vis1k2+cBEc+HdoQQAABBFQCBEcER+kLxUoRRHCUPjP55gmO8vk1ae08YU+R6zbJlGMpXoDgqHjTTiFOHcs0R1Z0AJR1e6GxWqmZfOMkOPLp0IYAAgggoBIgOCI4Sl8oVooggqP0mck3T3CUz69JaxcZ/uTZVpNM++lYLj7oDGfhJ2RGcBQS6r29jpCo0z41I88a9BS9XmisVmom3zgJjnw6tCGAAAIIqAQIjgiO0heKlSKI4Ch9ZvLNExzl82vS2nnCniLXbZJpPx2LhdBIxhCa+ik4slJLhUw7hTh1LAuNU9qLDoCybi80Vis1k2+cBEc+HdoQQAABBFQCVoodGYdmqqPA8e0zNOashUpZ64XGK+1WiiCCI83Z0vchONJbNb1nkeFPnm013dnq8REc7e96CaU059FKLRUaq6+eqbItNE5pL6sO6nW7obFaqZl84yQ48unQhgACCCCgErBS7BAcnVhJkaS5KKwUQQRHmrOl70NwpLdqes88YU+R6zbd2erxERwRHFUZEnXal+bPRq8BT1n9Q2O1UjP5xklw5NOhDQEEEEBAJUBwxFfV0heKlSKI4Ch9ZvLNExzl82vS2kWGP3m21STTfjoWgiOCo05hTpXLNH9eygqCet1uaKxWaibfOAmOfDq0IYAAAgioBAiOCI7SF4qVIojgKH1m8s0THOXza9LaecKeItdtkmk/HQvBEcFRlSFRp31p/rz0GvCU1T80Vis1k2+cBEc+HdoQQAABBFQCBEcER+kLxUoRRHCUPjP55gmO8vk1ae0iw58822qSaT8dC8ERwVGnMKfKZZo/L2UFQb1uNzRWKzWTb5wERz4d2hBAAAEEVAIERwRH6QvFShFEcJQ+M/nmCY7y+TVp7TxhT5HrNsm0n46F4IjgqMqQqNO+NH9eeg14yuofGquVmsk3ToIjnw5tCCCAAAIqAYIjgqP0hWKlCCI4Sp+ZfPMER/n8mrR2keFPnm01ybSfjoXgiOCoU5hT5TLNn5eygqBetxsaq5WayTdOgiOfDm0IIIAAAioBgiOCo/SFYqUIIjhKn5l88wRH+fyatHaesKfIdZtk2k/HQnBEcFRlSNRpX5o/L70GPGX1D43VSs3kGyfBkU+HNgQQQAABlQDBEcFR+kKxUgQRHKXPTL55gqN8fk1au8jwJ8+2mmTaT8dCcERw1CnMqXKZ5s9LWUFQr9sNjdVKzeQbJ8GRT4c2BBBAAAGVAMERwVH6QrFSBBEcpc9MvnmCo3x+TVo7T9hT5LpNMu2nYyE4IjiqMiTqtC/Nn5deA56y+ofGaqVm8o2T4MinQxsCCCCAgEqA4IjgKH2hWCmCCI7SZybfPMFRPr8mrV1k+JNnW00y7adjITgiOOoU5lS5TPPnpawgqNfthsZqpWbyjZPgyKdDGwIIIICASoDgiOAofaFYKYIIjtJnJt88wVE+vyatnSfsKXLdJpn207EQHBEcVRkSddqX5s9LrwFPWf1DY7VSM/nGSXDk06ENAQQQQEAlQHBEcJS+UKwUQQRH6TOTb57gKJ9fk9YuMvzJs60mmfbTsRAcERx1CnOqXKb581JWENTrdkNjtVIz+cZJcOTToQ0BBBCoSWD//XsrSMrsryEgOCI4Sl8nVooggqP0mck3T3CUz69Ja+cJe4pct0mm/XQsBEe91Wmac2ullgqNtcpwyLev0DilvdeAp6z+obFaqZl84yQ48unQhgACCNQkUGYQ1Ou2NQRWih0Zh2byFSJ1tIXGXFYhk3W7ofFKu5UiiOBIc7b0fQiO9FZN71lk+JNnW013tnp8BEcER3XUS+371PzZyFrnFL1eaKxWaibfOAmOfDq0IYAAAjUJ9BrulNlfQ0BwxB1H6evEShFEcJQ+M/nmCY7y+TVp7TxhT5HrNsm0n46F4IjgqD3EqeO95s9L0QFQ1u2FxmqlZvKNk+DIp0MbAgggUJNAmUFQr9vWEBAcERylrxMrRRDBUfrM5JsnOMrn16S1iwx/8myrSab9dCwERwRHdYRF7fvU/HnJGvQUvV5orFZqJt84CY58OrQhgAACNQn0Gu6U2V9D8P/bO/eYS6oy3WMkJsYLRMQhQUToBhSai3oaL0fPQIPgsY2aKIqXHoMkoLaXP6SJJooRiegQxRvjEBEVvCRDNBpFxgsxQEY0ghMdcMwooDBBR0QHUQFF1slbTn1n79qr1vNWrdtbtZ+dNHvXetd6128/VV/z9PPtC4MjBkfd68SKCWJw1D0zcccMjuL0m9PqmLAn5do5aTql58LgiMHRYohT47Hm5yV1ADS2H2K14plCnAyOQuqwRgWoABWopEDOIGhob40EDI4YHHWvEysmiMFR98zEHTM4itNvTqtThj8xveak6ZSeC4MjBkc1wqLFPTU/L2ODntTrEKsVzxTiZHAUUoc1KkAFqEAlBYaGOznnayRgcMTgqHudWDFB1oOje+65x23dutUdccQR7tBDD3VnnXVWI+XNN9/sjj76aLdp0yb3kpe8xN13333N+L333tscy7jUb7nllg3p3/3udzfzDz74YPfP//zPG+NXXHGFkzFZc+65526M9+2xMcHzgMGRR5Q1HYoJe1KuXVP5qz9tBkcMjhZDnBqPNT8EqQOgsf0QqxXPFOJkcBRShzUqQAWoQCUFcgZBQ3trJGBwxOCoe51YMUHWg6MHHnjA3X333Y18f/rTn5ow6Nprr3UnnXSS+9znPteMn3766e4f/uEfmscXXHCBk2O5SV1CJbndeOONTfgkwZIEQgceeKC7//77mz/y+KabbmrCJwmoZK7c+vZoij3/YXDUI8waDqcMf2J6raH0Jp4ygyMGRzXCosU9NT8IY4Oe1OsQqxXPFOJkcBRShzUqQAWoQCUFhoY7OedrJGBwxOCoe51YMUHWg6NF3f7whz+4Jz3pSe473/mO22uvvdyf//znpvztb3/bnXDCCc1juZdjuUld5kn4JK82kj/trZ23uFZq7TxZ07dH28N3z+DIp8p6jsWEPSnXrqf69Z81gyMGR4shTo3Hmp+C1AHQ2H6I1YpnCnEyOAqpwxoVoAJUoJICOYOgob01EjA4YnDUvU6smKApBEfyyqAjjzzSPexhD3Nnnnmmu+OOO5q3lbWa3nrrre6www5rDuX+tttua0vNK4tk/s6dO92ll166Mf7qV7/aXXbZZc2fU089dWP8kksuaeaG9tiY/D8PLrzwQieBkfx53OMe1y3zeE0VSBn+xPQqIf+uXbvcjh07nNzz9lcFGBwxOKoRFi3uqflZHBv0pF6HWK14phAng6OQOqxRASpABSopMDTcyTlfIwGDIwZH3evEigmaQnDUavfb3/7WHXPMMe6aa64xFRy1fHLPVxwtqrHej2PCnpRrS5wFCY22bdvWhEcl9pvCHgyOGBwthjg1Hmt+TlIHQGP7IVYrninEyeAopA5rVIAKUIFKCuQMgob21kjA4IjBUfc6sWKCphQciYbvfOc73d///d/3vo2sfQuazOVb1bpXHY9LKpAy/InppXnOpz3rTBfz58Rj/28THMl9TB8N61TmMDhicFQjLFrcU/OzMjboSb0OsVrxTCHObMHRKaec4vbee++Nl1Z3Ib71rW+5Rz7ykc1Ls+Xl2WKUNDf+pkujEudQASowdQWGhjs552u0ZHDE4Kh7nVgxQdaDo1/96ldOXmkktz/+8Y/umc98pvvyl7/sXvziFy99OLZ8KLbcPvKRjyx9OLZ8wLXcbrjhhqUPxz7ggAOaD8aWcEkeywdmyzezyYdjy1y59e3RFHv+Qx/WI8waDseEPSnXaqSPCXtk7fZjXugkNJL7mF4a1qnMYXDE4GgxxKnxWPOzkjoAGtsPsVrxTCHObMHRVVdd5a6//vpgcLR9+/YQm7dGw+KVhYNUgArMTIGcQdDQ3hppGRwxOOpeJ1ZMkPXg6Ac/+IE76qij3OGHH954pvYXafItaFu3bm3esiYBj3xbmtzuueeeJvDZtGlTU5d57e2cc85pPvPo4IMPdl/96lfbYXf55Ze7gw46qKnJnPbWt0db993Th/lUWc+xlOFPTC+N+jFhT8q1GtapzGFwxOCoRli0uKfmZ2Vs0JN6HWK14plCnNmCI9n0lltuYXAUUp81KkAFqECPAkPDnZzzexCXhhkcMThauiCcc1ZMkPXgqKub9WMGR9bPUDm+mLAn5VrNM04Z/sT00rBOZQ6DIwZHiyFOjcean5XUAdDYfojVimcKcVYNjh71qEc1L5l+znOes/GyaR8sv83DpwrHqAAVmLMCOYOgob01OjM4YnDUvU6smCAGR90zE3fM4ChOvzmtThn+xPTSaBoT9qRcq2GdyhwGRwyOaoRFi3tqflbGBj2p1yFWK54pxFktOLrrrrvc3Xff3bDJS6g3b94c4tyo0bBsSMEHVIAKzFiBoeFOzvkamRkcMTjqXidWTBCDo+6ZiTumD4vTb06rY8KelGs1mqYMf2J6aVinMofBEYOjxRCnxmPNz0rqAGhsP8RqxTOFOKsFR12o/fff391xxx3d4ZVjGpYVSThABajADBXIGQQN7a2Rl8ERg6PudWLFBDE46p6ZuGP6sDj95rQ6ZfgT00ujaUzYk3KthnUqcxgcMTiqERYt7qn5WRkb9KReh1iteKYQZ7Xg6Be/+IV74IEHGrbvfve7br/99ts4DgHTsITUYY0KUIG5KDA03Mk5X6MpgyMGR93rxIoJYnDUPTNxx/RhcfrNaXVM2JNyrUbTlOFPTC8N61TmMDhicLQY4tR4rPlZSR0Aje2HWK14phBntuDo5JNPdvvss4/bfffd3b777usuuugi99GPfrT5I0Af/vCH3aGHHtp8xtFTn/pU9y//8i8hzo0aDcuGFHxABajAjBXIGQQN7a2RmcERg6PudWLFBDE46p6ZuGP6sDj95rQ6ZfgT00ujaUzYk3KthnUqcxgcMTiqERYt7qn5WRkb9KReh1iteKYQZ7bgKLRpTI2GJUY9rqUCVGCsArt27XI7duxwcl/iNjTcyTlf83wZHDE46l4nVkwQg6PumYk7pg+L029Oq2PCnpRrNZqmDH9iemlYpzKHwRGDo8UQp8Zjzc9K6gBobD/EasUzhTgZHIXUYY0KUIFZKJDC3Lzg+Oe5bdu2ObmP7acRNWcQNLS3hpfBEYOj7nVixQQxOOqembhjBkdx+s1pdcrwJ6aXRtOYsCflWg3rVObEeqFU65FeQz1PrvmIU+pWvBRirRES+fZEnFIfG/SkXodYrXimECeDo5A6rFEBKjALBVKYEwZH4UvBitkRDs3NZ0BqjiHm1AYmth/ilboVE8TgSHO29HMYHOm1mvvMmLAn5VqNzinDn5heGtapzEnhrVL0QHrlCoKG9kWcUrfipRBrTb+0uDfilHqs30m1HrFa8UwhTgZHIXVYowJUYBYKpDAmrzjxpObVRnIf208j6lBDknO+hteK2WFw9PYiJklzTVgxQQyONGdLP4fBkV6ruc9MGf7E9NLoHBP2pFyrYZ3KnFgvlGo90iunPxrSG3FK3YqXQqyL4U3Nx4hT6qmCn9g+iNWKZwpxMjgKqcMaFaACs1AglTlJ1Ucj6hAzknuuhteK2WFwxODIZ74013DfnKc97Wl9pbUcZ3C0lqfd+6Rjwp6Ua71wncGU4U9Mrw7WpA9TeaLYPkjE3B5J2x9xSt2Kl0KsNcOixb0Rp9RjA59U6xGrz7vUGAtxMjgKqcMaFaACs1Ag1pSkXq8RVWtESszT8FoxOwyOGBz5jJbmGu6bw+BoWRkGR8t6rPNRyvAnppfmHMSEPSnXalinMie1NxrbD+lVwidp9kCcUrfipRDrYnhT8zHilHqq4Ce2D2L1eZcaYyFOBkchdVijAlRgFgqMNSO51mlE1ZiQUnM0vFbMDoMjBkc+o6W5hvvmMDhaVobB0bIe63wUE/akXKs5BynDn5heiPWU4w93Fv4gTqnn8khD+yLWUl4J7YM4pW7FSyHWmmHR4t6IU+qxgU+q9YjV511qjIU4GRyF1GGNClCBWSgw1ITknq8RFRmQknUNrxWzw+CIwZHPaGmu4b45DI6WlWFwtKzHOh+lDH9iemnOQUzYk3ItYrUQGgmD5pbbK2n7I9aSfim0F+KUuhUvhVgXw5uajxGn1FMFP7F9EKvPu9QYC3EyOAqpwxoVoAKzUEBrPkrN04gaMh+laxpeK2aHwRGDI+OW/FAAACAASURBVJ/R0lzDfXMYHC0rw+BoWY91PooJe1Ku1ZyDlOFPTC/EyuDovYNfyYQ0Le2Z+vZDnFK34qUQa82waHFvxCn12MAn1XrE6vMuNcZCnAyOQuqwRgWowCwUKBUIaffRiNpnPGqMa3itmB0GRwyOfEZLcw33zWFwtKwMg6NlPdb5KGX4E9NLcw5iwp6UaxErgyMGRxb8FLpOF8Obmo8Rp9RTBT+xfRCrz7vUGAtxMjgKqcMaFaACs1BAG+iUmqcRtUZA1LenhteC0WkZNLw1jY5vb8Qca1hSr0e8Uq9hePr21PD2zWFwtKwMg6NlPdb5KCbsSblWcw5Shj8xvRArgyMGR62XqXmPrlOfj6kxhjilntr/jO2HWPv8S+nxECeDo5A6rFEBKjALBUoFQtp9NKL2hTg1xjW8NQ1Od28Nbw2DE9oTMY81KrnWIV6plzY7of00vH1zGBwtK8PgaFmPdT5KGf7E9NKcg5iwJ+VaxMrgiMFR19PUOEbXacjPlKwhTqnn8kFD+yLWkIcpWQtxMjgKqcMaFaACs1BAG+iUmqcRtUZA1LenhreGsenbU8Nb0tho9kLMQw1K7vmIV+oljQ7aS8PbN4fB0bIyDI6W9Vjno5iwJ+VazTlIGf7E9EKsDI4YHPV5m5Lj6DrV+JoScxCn1HP7IW1/xIp8TKl6iJPBUUgd1qgAFZiFAqUCIe0+GlH7Qpwa4xrekoYG7aXhLWFohuyBmLXGpNQ8xCv1UiZHs4+Gt28Og6NlZRgcLeuxzkcpw5+YXppzEBP2pFyLWBkcMThCHqdEHV2nQ/xNzrmIU+qlfBHaB7FqvEyJOSFOBkchdVijAlRgFgpoA51S8zSi1giI+vbU8JYwMto9NLw5jcyY3ogZGZLSdcQr9RIGR7uHhrdvDoOjZWUYHC3rsc5HMWFPyrWac5Ay/InphVgZHDE40nqdnPPQdTrG5+RYgzilXtof9e2HWLV+Jve8ECeDo5A6rFEBKjALBUoFQtp9NKL2hTg1xjW8OQ3M0N4a3hwGJqYnYu4zIrXGEa/Uc5ubIf01vH1zGBwtK8PgaFmPdT5KGf7E9NKcg5iwJ+VaxMrgiMHRUM+TYz66TmP8Tsq1iFPqtXxSd1/EOsTT5Jwb4mRwFFKHNSpABWahgDbQKTVPI2qNgKhvTw1vDuMytqeGN6VxSdELMXcNSO1jxCv1nMZmaG8Nb98cBkfLyjA4WtZjnY9iwp6UazXnIGX4E9MLsTI4YnA01vukXIeu0xS+J0UPxCn12n6p3R+xDvU1ueaHOBkchdRhjQpQgVkoUCoQ0u6jEbUvxKkxruFNaVhie2l4UxiWlD0Qc2s8rNwjXqnnMjVj+mp4++YwOFpWhsHRsh7rfJQy/InppTkHMWFPyrWIlcERg6NYD5RiPbpOU/qfmF6IU+pT8U1jvE2ONSFNGRyF1GGNClCBWSigDXRKzdOIWiMg6ttTw5vCqKTqoeGNMSo51iJmK8an5UC8Us9haMb21PD2zWFwtKwMg6NlPdb5KCbsSblWcw5Shj8xvRArgyMGR6m8UEwfdJ3m8EFjeiJOqbe+pfY9Yh3rb1KvC3EyOAqpwxoVoAKzUKBUIKTdRyNqX4hTY1zDG2NQUq/V8I4xKDnXIObahqe7P+KVemozE9NPw9s3h8HRsjIMjpb1WOejlOFPTC/NOYgJe1KuRawMjhgcpfZEY/qh6zSnHxrSG3FKvetfah0j1hiPk3JtiJPBUUgd1qgAFZiFAtpAp9Q8jag1AqK+PTW8Y4xJrjUa3iHGpMRcxFzL6PTti3ilntLIxPbS8PbNYXC0rAyDo2U91vkoJuxJuVZzDlKGPzG9ECuDIwZHubzRkL7oOi3hizR7IE6p9/mY0uOINdbnpFof4mRwFFKHNSpABWahQKlASLuPRtS+EKfGuIZ3iCHJPVfDqzEkJecg5tIGB+2HeKWeysSk6KPh7ZvD4GhZGQZHy3qs81HK8Ceml+YcxIQ9KdciVgZHDI5yeyRNf3SdlvRHob0Qp9SRnylVR6wpvE6KHiFOBkchdVijAlRgFgpoA51S8zSi1giI+vbU8GqMSKk5Gt6QEalRQ8yljI12H8Qr9RQGJlUPDW/fHAZHy8owOFrWY52PYsKelGs15yBl+BPTC7EyOGJwVMorhfZB12kNn+TbE3FKXetrcs9DrKn8TmyfECeDo5A6rFEBKjALBUoFQtp9NKL2hTg1xjW8IQNSuqbh9RmQmmOIObehGdof8Uo91rykXK/h7ZvD4GhZGQZHy3qs81HK8Ceml+YcxIQ9KdciVgZHDI5Keybffug6remXFvdGnFIf6m9yzUesKT1PTK8QJ4OjkDqsUQEqMAsFtIFOqXkaUWsERH17anh9xqPWmIZ30XhYeIyYcxmZsX0Rr9RjjEvqtRrevjkMjpaVYXC0rMc6H8WEPSnXas5ByvAnphdiZXDE4KiWd1rcF12nFnyTMGhuY31O6nWINbXvGdsvxMngKKQOa1SACsxCgVKBkHYfjah9IU6NcQ3vouGo/VjDa8X0tByIObWBie2HeKU+1rTkWKfh7ZvD4GhZGQZHy3qs81HK8Ceml+YcxIQ9KdciVgZHDI5qeyjZH91a71L7HnFKPdbvpFqPWHN4nzE9Q5wMjkLqsEYFqMAsFNAGOqXmaUStERD17anhtWB0WgYNb22z090fMacyLqn6IF6pjzEsudZoePvmMDhaVobB0bIe63wUE/akXKs5BynDn5heiJXBEYOj1svUvEfXadfD1DpGnFJP5Xti+yDWXP5naN8QJ4OjkDqsUQEqMAsFSgVC2n00ovaFODXGNbw1DU53bw1vLZPTty9ijjUsqdcjXqkPNSs552t4++YwOFpWhsHRsh7rfJQy/InppTkHMWFPyrWIlcERg6Oup6lxjK7TPi9TehxxSj21/xnbD7Hm9EBDeoc4GRyF1GGNClCBWSigDXRKzdOIWiMg6ttTw1vD2PTtqeEtbW7Qfoh5rFHJtQ7xSn2IUck9V8PbN4fB0bIyDI6W9Vjno5iwJ+VazTlIGf7E9EKsDI4YHPV5m5Lj6DpFnqZUHXFKPZcPGtoXseb2Qdr+IU4GRyF1WKMCVGAWCpQKhLT7aETtC3FqjGt4SxoatJeGt5Sp0e6DmIcalNzzEa/UtSalxDwNb98cBkfLyjA4WtZjnY9Shj8xvTTnICbsSbkWsTI4YnCEPE6JOrpOtd4m9zzEKfXcfkjbH7GW8EKaPUKcDI5C6rBGBajALBTQBjql5mlErREQ9e2p4S1hZLR7aHhzm5mh/RGz1piUmod4pa4xKKXmaHj75jA4WlaGwdGyHut8FBP2pFyrOQcpw5+YXoiVwRGDI63XyTkPXadDPU6u+YhT6qV8EdoHsZbyQ2ifECeDo5A6rFEBKjALBUoFQtp9NKL2hTg1xjW8OQ3M0N4a3lwmZmxfxIwMSek64pU6Micl6xrevjkMjpaVYXC0rMc6H6UMf2J6ac5BTNiTci1iZXDE4Gio58kxH12nY71O6nWIU+ql/VHffoi1pCcK7RXiZHAUUoc1KkAFZqGANtApNU8jao2AqG9PDW8O4zK2p4Y3tXmJ7YeY+4xIrXHEK/WQMSld0/D2zWFwtKwMg6NlPdb5KCbsSblWcw5Shj8xvRArgyMGR2O9T8p16DqN9Typ1iNOqdfySd19EWtpX9S3X4iTwVFIHdaoABWYhQKlAiHtPhpR+0KcGuMa3pSGJbaXhjeVaUnVBzF3DUjtY8Qr9T5TUmNcw9s3h8HRsjIMjpb1WOejlOFPTC/NOYgJe1KuRawMjhgcxXqgFOvRdZrK+8T2QZxSr+2X2v0Raw1v5NszxMngKKQOa1SACsxCAW2gU2qeRtQaAVHfnhreFEYlVQ8Nb6xZSb0eMbfGw8o94pW6z5DUGtPw9s1hcLSsDIOjZT3W+Sgm7Em5VnMOUoY/Mb0QK4MjBkepvFBMH3SdpvZAY/shTqlPxTfV8kfdfUOaMjgKqcMaFaACs1CgVCCk3Ucjal+IU2NcwxtjUFKv1fCONSm51iFmK8an5UC8Uu+akZrHGt6+OQyOlpVhcLSsxzofpQx/YnppzkFM2JNyLWJlcMTgKLUnGtMPXae5vNDQvohT6q1vqX2PWGt6pMW9Q5wMjkLqsEYFqMAsFNAGOqXmaUStERD17anhHWNMcq3R8A41J7nnI+bahqe7P+KV+qIRqf1Yw9s3h8HRsjIMjpb1WOejmLAn5VrNOUgZ/sT0QqwMjhgc5fJGQ/qi6zS3J9L2R5xS7/qXWseItbZPavcPcTI4CqnDGhWgArNQoFQgpN1HI2pfiFNjXMM7xJDknqvh1ZqSUvMQcy2j07cv4pV6a0Is3Gt4++YwOFpWhsHRsh7rfJQy/InppTkHMWFPyrWIlcERg6PcHknTH12npbwR2gdxSr3Px5QeR6wWvJIwhG4MjkLqsEYFqMAsFNAGOqXmaUStERD17anh1RiRUnM0vMiMlK4j5tIGB+2HeKVuxQQhI4SeC4OjZYUYHC3rsc5HMWFPyrWac5Ay/InphVgZHDE4KuWVQvug67S0R+rbD3FKHfmZUnXEasUzhTgZHIXUYY0KUIFZKFAqENLuoxG1L8SpMa7hDRmQ0jUNb58JqTWOmEsZG+0+iFfqVkwQgyPN2dLPYXCk12ruM1OGPzG9NDrHhD0p1yJWBkcMjkp7Jt9+6Dqt5ZW6+yJOqWt9Te55iNWKZwpxMjgKqcMaFaACs1BAG+iUmqcRtUZA1LenhtdnPGqNaXi75qP2MWLObWiG9ke8Urdighgcac6Wfg6DI71Wc58ZE/akXKvROWX4E9MLsTI4YnBUyzst7ouu09qeqd0fcUp9qL/JNR+xWvFMIU4GRyF1WKMCVGAWCpQKhLT7aETtC3FqjGt4Fw1H7cca3tZ0WLlHzLmMzNi+iFfqVkwQgyPN2dLPYXCk12ruM1OGPzG9NDrHhD0p1yJWBkcMjmp7KNkf3abineR5jPU5qdchTa14phAng6OQOqxRASowCwW0gU6peRpRawREfXtqeC0YnZZBw2vF9LQciDm1gYnth3ilbsUEMTjSnC39HAZHeq3mPjMm7Em5VqNzyvAnphdiZXDE4Kj1MjXv0XXaepfa94hT6rF+J9V6xGrFM4U4GRyF1GGNClCBWShQKhDS7qMRtS/EqTGu4a1pcLp7a3hrm53u/og5lXFJ1QfxSt2KCWJwpDlb+jkMjvRazX1myvAnppdG55iwJ+VaxMrgiMFR19PUOEbXadfD1DpGnFJP5Xti+yBWK54pxMngKKQOa1SACsxCAW2gU2qeRtQaAVHfnhreGsamb08Nby2T07cvYo41LKnXI16pWzFBDI40Z0s/h8GRXqu5z4wJe1Ku1eicMvyJ6YVYGRwxOOrzNiXH0XXa52VKjyNOqaf2P2P7IVYrninEyeAopA5rVIAKzEKBUoGQdh+NqH0hTo1xDW9JQ4P20vCWNjdoP8Q81qjkWod4pW7FBDE40pwt/RwGR3qt5j4zZfgT00ujc0zYk3ItYmVwxOAIeZwSdXSdIk9Tqo44pZ7LBw3ti1iteKYQJ4OjkDqsUQEqMAsFtIFOqXkaUWsERH17anhLGBntHhreUqZGuw9iHmpQcs9HvFK3YoIYHGnOln4OgyO9VnOfGRP2pFyr0Tll+BPTC7EyOGJwpPU6Oeeh61TrbXLPQ5xSz+2HtP0RqxXPFOJkcBRShzUqQAVmoUCpQEi7j0bUvhCnxriGN6eBGdpbw5vbzAztj5i1xqTUPMQrdSsmiMGR5mzp5zA40ms195kpw5+YXhqdY8KelGsRK4MjBkdDPU+O+eg6Hepxcs1HnFIv5YvQPojVimcKcTI4CqnDGhWgArNQQBvolJqnEbVGQNS3p4Y3h3EZ21PDm8vEjO2LmJEhKV1HvFK3YoIYHGnOln4OgyO9VnOfGRP2pFyr0Tll+BPTC7EyOGJwNNb7pFyHrtOxXif1OsQp9dL+qG8/xGrFM4U4GRyF1GGNClCBWShQKhDS7qMRtS/EqTGu4U1pWGJ7aXhTm5fYfoi5z4jUGke8UrdigqwHR7feeqs75phj3BOf+ER36KGHug984AONvHfeeac7/vjj3ebNm5v73/zmN834Aw884N7whje4TZs2ucMPP9xdf/31G6fjk5/8ZDNf1sjj9nbddde5LVu2NGtkrfSQW98e7TrfPYMjnyrrOZYy/InppVE/JuxJuRaxMjhicBTrgVKsR9dprOdJtR5xSr2WT+rui1iteKYQJ4OjkDqsUQEqMAsFtIFOqXkaUWsERH17anhTGJVUPTS8qUxLqj6IuWtAah8jXqlbMUHWg6Pbb799I/z53e9+5w466CB34403ul27drlzzz23kVruzzzzzObx5Zdf7p7znOc04c+1117rjj766GZcQqADDjigCYMkZJLHbdi0detWJ3MlMJK1X/3qV5s1fXs0xZ7/MDjqEWYNh2PCnpRrNdKnDH9ieiFWBkcMjlJ5oZg+6DpN5X1i+yBOqdf2S+3+iNWKZwpxZguOTjnlFLf33nu7ww47zLt/6Ddm3gX/M0jDElKHNSpABXwKlAqEtPv4GLtjfSFOjfEum+84xqCkXuvj647FmpXU67t83ePWeFi57/L5jq2YIOvBUVe75z//+e7rX/+6O/jgg52ESnKTezmW22mnneY++9nPNo/lP+08GZNae2vnydpDDjmkHW7WtvPatVJc3GNjsucBfZhHlDUdShn+xPTSyB8T9qRci1gZHDE4Su2JxvRD12lqDzS2H+KU+lR8kxXPFNI0W3B01VVXNb9B6wuO+n5jFoKVGg0LUoh1KkAFugpoA51S87p8vuMaAVHfnj6+7tgYY5JrTZfNdzzWpORa52NcHLNifFqORba+x1ZM0JSCo1tuucXtt99+7q677nJ77LHHhrTyy7b2ePv27e6aa67ZqG3bts1973vfc+edd55717vetTF+9tlnN2NSO+644zbGr776aic95Nb2lMeLe2xM9jygD/OIsqZDMWFPyrUa+VOGPzG9ECuDIwZHubzRkL7oOs3lhYb2RZxSb31L7XvEasUzhTizBUeyqRigvuCo/U1YC7f4W692zHdPw+JThWNUgAqEFCgVCGn3CbG2tb4Qp8Z4yxS6H2JIcs8Ncba1oeYk9/yWq+++tuHp7t/HuThuxQRNJTi6++673ZOf/GT3+c9/vpFxMdSRgT333LMZzxUcLe7RbLTwnwsvvLD5xZ14sMc97nELFT5cZwVShj8xvTTnICbsSbkWsTI4YnCU2yNp+qPrNLcn0vZHnFLv+pdax4jVimcKcVYLjvqMjw+WhsWnCseoABXQKqANdErN03DXCIj69tTwaoxIqTkaXq0pKTUPMdcyOn37Il6pWzFBUwiO/vSnP7kTTjjBve9979uQdvEXaotvI+v7xRvfqrYhHR8UUiAm7Em5VvN0U4Y/Mb0QK4MjBkelvFJoH3SdlvJGaB/EKfU+H1N6HLFa8UwhzkkER4tPgK84WlSDj6kAFdAoUCoQ0u6jYe4LcWqMa3hDBqR0TcOLzEjpOmIubXDQfohX6lZMkPXgSN4itmPHDvemN71pSdYzzjhj6cOx5YOs5faVr3xl6cOx5YOv5SYfjv34xz+++UBs+VBseSxjcut+OLZ8XIDc+vZoij3/oQ/rEWYNh1OGPzG9NNLHhD0p1yJWBkcMjkp7Jt9+6Dot7ZH69kOcUkd+plQdsVrxTCHOasFR32/MQrBSo2FBCrFOBahAVwFtoFNqXpfPd1wjIOrb08fXHfMZj1pjXTbfcZ8JqTXuY1wcK2VstPsssvU9tmKCrAdH8nlFu+22mzv88MPdkUce2fyRYOfXv/61k88v2rx5c/MZRW0IJEHT6173OnfggQe6LVu2NJ9v1J6Dj3/8427Tpk3Nn4svvrgdbubIRwfImp07dzafZyTFvj02Fnoe0Id5RFnToZiwJ+Vajfwpw5+YXoiVwRGDo1reaXFfdJ3W8krdfRGn1LW+Jvc8xGrFM4U4qwVHfb8xC8FKjYYFKcQ6FaACXQVKBULafbp8vuO+EKfGuI+vO7ZoOGo/7rL5jrvmo/axj3FxLLehGdp/ka3vsRUTZD046tPP6jh9mNUzU54rZfgT00vzzGPCnpRrESuDIwZHtT2U7I9utT1Tuz/ilPpQf5NrPmK14plCnNmCo5NPPtnts88+bvfdd3f77ruvu+iii9xHP/rR5o8AhX5jFgKmYQmpwxoVoAI+BbSBTql5PsbuWI2AqG/PLpvv2ILRaRl8fN2x1nRYue/ydY9zGZmxfbt8vmMrJojBke/sjB+jDxuv3dxWxoQ9KddqdE0Z/sT0QqwMjhgctV6m5j26TqfineR5jPU5qdchTa14phBntuAotGlMjYYlRj2upQLrqUCpQEi7j+Ys9IU4NcY1vDUNTndvDa8V09NyIObUBia2H+KVuhUTxOBIc7b0c+jD9FrNfWbK8Ceml0bnmLAn5VrEyuCIwVHX09Q4Rtdp611q3yNOqcf6nVTrEasVzxTiZHAUUoc1KkAFZqGANtApNU8jao2AqG9PDW8NY9O3p4a3ttnp7o+YUxmXVH0Qr9StmCAGR5qzpZ/D4Eiv1dxnxoQ9KddqdE4Z/sT0QqwMjhgc9XmbkuPoOu16mFrHiFPqqXxPbB/EasUzhTgZHIXUYY0KUIFZKFAqENLuoxG1L8SpMa7hLWlo0F4a3lomp29fxBxrWFKvR7xSt2KCGBxpzpZ+DoMjvVZzn5ky/InppdE5JuxJuRaxMjhicIQ8Tok6uk77vEzpccQp9dT+Z2w/xGrFM4U4GRyF1GGNClCBWSigDXRKzdOIWiMg6ttTw1vCyGj30PCWNjdoP8Q81qjkWod4pW7FBDE40pwt/RwGR3qt5j4zJuxJuVajc8rwJ6YXYmVwxOBI63VyzkPXKfI0peqIU+q5fNDQvojVimcKcTI4CqnDGhWgArNQoFQgpN1HI2pfiFNjXMOb08AM7a3hLWVqtPsg5qEGJfd8xCt1KyaIwZHmbOnnMDjSazX3mSnDn5heGp1jwp6UaxErgyMGR0M9T4756DrVepvc8xCn1HP7IW1/xGrFM4U4GRyF1GGNClCBWSigDXRKzdOIWiMg6ttTw5vDuIztqeHNbWaG9kfMWmNSah7ilboVE8TgSHO29HMYHOm1mvvMmLAn5VqNzinDn5heiJXBEYOjsd4n5Tp0nQ71OLnmI06pl/JFaB/EasUzhTgZHIXUYY0KUIFZKFAqENLuoxG1L8SpMa7hTWlYYntpeHOZmLF9ETMyJKXriFfqVkwQgyPN2dLPYXCk12ruM1OGPzG9NDrHhD0p1yJWBkcMjmI9UIr16Dod63VSr0OcUi/tj/r2Q6xWPFOIk8FRSB3WqAAVmIUC2kCn1DyNqDUCor49NbwpjEqqHhre1OYlth9i7jMitcYRr9StmCAGR5qzpZ/D4Eiv1dxnxoQ9KddqdE4Z/sT0QqwMjhgcpfJCMX3QdRrreVKtR5xSr+WTuvsiViueKcTJ4CikDmtUgArMQoFSgZB2H42ofSFOjXENb4xBSb1Ww5vKtKTqg5i7BqT2MeKVuhUTxOBIc7b0cxgc6bWa+8yU4U9ML43OMWFPyrWIlcERg6PUnmhMP3SdpvI+sX0Qp9Rr+6V2f8RqxTOFOBkchdRhjQpQgVkooA10Ss3TiFojIOrbU8M7xpjkWqPhjTUrqdcj5tZ4WLlHvFK3YoIYHGnOln4OgyO9VnOfGRP2pFyr0Tll+BPTC7EyOGJwlMsbDemLrtPUHmhsP8Qp9an4JiueKaQpg6OQOqxRASowCwVKBULafTSi9oU4NcY1vEMMSe65Gt6xJiXXOsRsxfi0HIhX6lZMEIMjzdnSz2FwpNdq7jNThj8xvTQ6x4Q9KdciVgZHDI5yeyRNf3Sd5vJCQ/siTqm3vqX2PWK14plCnAyOQuqwRgWogFcBK8ZGODQ3baBTap6GuUZA1LenhldjRErN0fAONSe55yPm2oanuz/ilboVE8TgSHO29HMYHOm1mvvMmLAn5VqNzinDn5heiNWKv0KcUi/lmdA+iLXP25QeR5xSL+WT0D6INbcn0vZHnFLv+pdax4jVimcKcTI4CqnDGhWgAl4FrBgbBkcvcCWMj/ci6AwiE1Ky3kHzHmpNSal5XsiFwVpGp2/fBbTeh1ZMEIOj3lM0qsDgaJRss1yUMvyJ6aURNybsSbkWsVrxV4hT6ijQKVVHrCV8kmYPxCn1kl4ptBdiLeWN0D6IU+p9Pqb0OGK14plCnAyOQuqwRgWogFcBK8aGwRGDI5/x8V60nUFkRkrXO3grh6UNDtpvBdAzYMUEMTjynJyIIQZHEeLNbGlM2JNyrUbWlOFPTC/EasVfIU6plwqG0D6IVRPqlJiDOKXu8zQ1xhBraY/Utx/ilDryM6XqiNWKZwpxMjgKqcMaFaACXgWsGBsGRwyOfIbKe9F2BvtMSK3xDt7KYSljo91nBdAzYMUEMTjynJyIIQZHEeLNbGnK8Ceml0bWmLAn5VrEasVfIU6po0CnVB2xlgiFNHsgTqn7PE2NMcRayyt190WcUtf6mtzzEKsVzxTiZHAUUoc1KkAFvApYMTYMjhgc+QyV96LtDHbNR+3jDt7KYW5DM7T/CqBnwIoJYnDkOTkRQwyOIsSb2dKYsCflWo2sKcOfmF6I1Yq/QpxSLxUMoX0QqybUKTEHcUrd52lqjCHW2p6p3R9xSn2ov8k1H7Fa8UwhTgZHIXVYowJUwKuAFWPD4IjBkc9QeS/azmBrOqzcd/BWDnMZmbF9VwA9A1ZMEIMjz8mJGGJwFCHezJamDH9iemlkjQl7Uq5FrFb8FeKUOgp0StURa4lQSLMH4pS6z9PUGEOsU/FO8jzG+pzU65CmVjxTiJPBUUgd1qgAFfAqYMXYMDhicOQzVN6LY4DE8wAAIABJREFUtjNoxfS0HB28lcPUBia23wqgZ8CKCWJw5Dk5EUMMjiLEm9nSmLAn5VqNrCnDn5heiNWKv0KcUi8VDKF9EKsm1CkxB3FK3edpaowh1ta71L5HnFKP9Tup1iNWK54pxMngKKQOa1SACngVsGJsGBwxOPIZKu9F2xmsbXa6+3fwVg5TGZdUfVYAPQNWTBCDI8/JiRhicBQh3syWpgx/YnppZI0Je1KuRaxW/BXilDoKdErVEWuJUEizB+KUus/T1BhDrF0PU+sYcUo9le+J7YNYrXimECeDo5A6rFEBKuBVwIqxYXDE4MhnqLwXbWewlsnp27eDt3IYa1hSr18B9AxYMUEMjjwnJ2KIwVGEeDNbGhP2pFyrkTVl+BPTC7Fa8VeIU+qlgiG0D2LVhDol5iBOqfs8TY0xxNrnZUqPI06pp/Y/Y/shViueKcTJ4CikDmtUgAp4FbBibBgcMTjyGSrvRdsZLG1u0H4dvJXDsUYl17oVQM+AFRPE4MhzciKGGBxFiDezpSnDn5heGlljwp6UaxGrFX+FOKWOAp1SdcRaIhTS7IE4pe7zNDXGECvyNKXqiFPquXzQ0L6I1YpnCnEyOAqpwxoVoAJeBawYGwZHDI58hsp70XYGS5ka7T4dvJXDoQYl9/wVQM+AFRPE4MhzciKGGBxFiDezpTFhT8q1GllThj8xvRCrFX+FOKVeKhhC+yBWTahTYg7ilLrP09QYQ6xab5N7HuKUem4/pO2PWK14phAng6OQOqxRASrgVcCKsWFwxODIZ6i8F21nMLeZGdq/g7dyqDUmpeatAHoGrJggBkeekxMxxOAoQryZLU0Z/sT00sgaE/akXItYrfgrxCl1FOiUqiPWEqGQZg/EKXWfp6kxhliHepxc8xGn1Ev5IrQPYrXimUKcDI5C6rBGBaiAVwErxobBEYMjn6HyXrSdwVwmZmzfDt7KITIkpesrgJ4BKyaIwZHn5EQMMTiKEG9mS2PCnpRrNbKmDH9ieiFWK/4KcUq9VDCE9kGsmlCnxBzEKXWfp6kxhljHep3U6xCn1Ev7o779EKsVzxTiZHAUUoc1KkAFvApYMTYMjhgc+QyV96LtDKY2L7H9Ongrh31GpNb4CqBnwIoJYnDkOTkRQwyOIsSb2dKU4U9ML42sMWFPyrWI1Yq/QpxSR4FOqTpiLREKafZAnFL3eZoaY4g11vOkWo84pV7LJ3X3RaxWPFOIk8FRSB3WqAAV8CpgxdgwOGJw5DNU3ou2M5jKtKTq08FbOewakNrHK4CeASsmiMGR5+REDDE4ihBvZktjwp6UazWypgx/YnohViv+CnFKvVQwhPZBrJpQp8QcxCl1n6epMYZYU3mf2D6IU+q1/VK7P2K14plCnAyOQuqwRgWogFcBK8aGwRGDI5+h8l60ncFYs5J6fQdv5bA1HlbuVwA9A1ZMEIMjz8mJGGJwFCHezJamDH9iemlkjQl7Uq5FrFb8FeKUOgp0StURa4lQSLMH4pS6z9PUGEOsqT3Q2H6IU+pT8U1WPFNIUwZHIXVYowJUwKuAFWPD4IjBkc9QeS/azuBYk5JrXQdv5dCK8Wk5VgA9A1ZMEIMjz8mJGGJwFCHezJbGhD0p12pkTRn+xPRCrFb8FeKUeqlgCO2DWDWhTok5iFPqPk9TYwyx5vJCQ/siTqm3vqX2PWK14plCnAyOQuqwRgWogFcBK8aGwRGDI5+h8l60ncGh5iT3/A7eymFtw9PdfwXQM2DFBDE48pyciCEGRxHizWxpyvAnppdG1piwJ+VaxGrFXyFOqaNAp1QdsZYIhTR7IE6p+zxNjTHEmtsTafsjTql3/UutY8RqxTOFOBkchdRhjQpQAa8CVowNgyMGRz5D5b1oO4NaU1JqXgdv5bCW0enbdwXQM2DFBDE48pyciCEGRxHizWxpTNiTcq1G1pThT0wvxGrFXyFOqZcKhtA+iFUT6pSYgzil7vM0NcYQaylvhPZBnFLv8zGlxxGrFc8U4mRwFFKHNSpABbwKWDE2DI4YHPkMlfei7QwiM1K63sFbOSxtcNB+K4CeASsmiMGR5+REDDE4ihBvZktThj8xvTSyxoQ9KdciViv+CnFKHQU6peqItUQopNkDcUrd52lqjCHW0h6pbz/EKXXkZ0rVEasVzxTiZHAUUoc1KkAFvApYMTYMjhgc+QyV96LtDPaZkFrjHbyVw1LGRrvPCqBnwIoJYnDkOTkRQwyOIsSb2dKYsCflWo2sKcOfmF6I1Yq/QpxSLxUMoX0QqybUKTEHcUrd52lqjCHWWl6puy/ilLrW1+Seh1iteKYQJ4OjkDqsUQEq4FXAirFhcMTgyGeovBdtZ7BrPmofd/BWDnMbmqH9VwA9A1ZMEIMjz8mJGGJwFCHezJamDH9iemlkjQl7Uq5FrFb8FeKUOgp0StURa4lQSLMH4pS6z9PUGEOstT1Tuz/ilPpQf5NrPmK14plCnAyOQuqwRgWogFcBK8aGwRGDI5+h8l60ncHWdFi57+CtHOYyMmP7rgB6BqyYIAZHnpMTMcTgKEK8mS2NCXtSrtXImjL8iemFWK34K8Qp9VLBENoHsWpCnRJzEKfUfZ6mxhhinYp3kucx1uekXoc0teKZQpwMjkLqsEYFqIBXASvGhsERgyOfofJetJ1BK6an5ejgrRymNjCx/VYAPQNWTBCDI8/JiRhicBQh3syWpgx/YnppZI0Je1KuRaxW/BXilDoKdErVEWuJUEizB+KUus/T1BhDrK13qX2POKUe63dSrUesVjxTiJPBUUgd1qgAFfAqYMXYMDhicOQzVN6LtjNY2+x09+/grRymMi6p+qwAegasmCAGR56TEzHE4ChCvJktjQl7Uq7VyJoy/InphVit+CvEKfVSwRDaB7FqQp0ScxCn1H2epsYYYu16mFrHiFPqqXxPbB/EasUzhTgZHIXUYY0KUAGvAlaMDYMjBkc+Q+W9aDuDtUxO374dvJXDWMOSev0KoGfAiglicOQ5ORFDDI4ixJvZ0pThT0wvjawxYU/KtYjVir9CnFJHgU6pOmItEQpp9kCcUvd5mhpjiLXPy5QeR5xST+1/xvZDrFY8U4iTwVFIHdaoABXwKmDF2DA4YnDkM1Tei7YzWNrcoP06eCuHY41KrnUrgJ4BKyaIwZHn5EQMMTiKEG9mS2PCnpRrNbKmDH9ieiFWK/4KcUq9VDCE9kGsmlCnxBzEKXWfp6kxhliRpylVR5xSz+WDhvZFrFY8U4iTwVFIHdaoABXwKmDF2DA4YnDkM1Tei7YzWMrUaPfp4K0cDjUoueevAHoGrJggBkeekxMxxOAoQryZLU0Z/sT00sgaE/akXItYrfgrxCl1FOiUqiPWEqGQZg/EKXWfp6kxhli13ib3PMQp9dx+SNsfsVrxTCFOBkchdVijAlTAq4AVY8PgiMGRz1B5L9rOYG4zM7R/B2/lUGtMSs1bAfQMWDFBDI48JydiiMFRhHgzWxoT9qRcq5E1ZfgT0wuxWvFXiFPqpYIhtA9i1YQ6JeYgTqn7PE2NMcQ61OPkmo84pV7KF6F9EKsVzxTiZHAUUoc1KkAFvApYMTYMjhgc+QyV96LtDOYyMWP7dvBWDpEhKV1fAfQMWDFBDI48JydiiMFRhHgzW5oy/InppZE1JuxJuRaxWvFXiFPqKNApVUesJUIhzR6IU+o+T1NjDLGO9Tqp1yFOqZf2R337IVYrninEyeAopA5rVIAKeBWwYmwYHDE48hkq70XbGUxtXmL7dfBWDvuMSK3xFUDPgBUTxODIc3IihhgcRYg3s6UxYU/KtRpZU4Y/Mb0QqxV/hTilXioYQvsgVk2oU2IO4pS6z9PUGEOssZ4n1XrEKfVaPqm7L2K14plCnAyOQuqwRgUKKRBjQlKv1TxlK8aGwRGDI5+h0lzDqUxLqj6IuWtAah8jXqlbMUEMjjRnSz+HwZFeq7nPTBn+xPTS6JzaK43th1it+CvEKXUU6JSqI9YSoZBmD8QpdZ+nqTGGWFN5n9g+iFPqtf1Suz9iteKZQpwMjkLqsEYFCikw1oDkWKd5ylaMDYMjBkc+Q6W5hmPNSur1iLk1HlbuEa/UrZggBkeas6Wfw+BIr9XcZ8aEPSnXanTO4ZfG9ESsVvwV4pR6qWAI7YNYNaFOiTmIU+o+T1NjDLGm9kBj+yFOqU/FN1nxTCFNGRyF1GGNChRSYIz5yLVG85StGBsGRwyOfIZKcw2PNSm51iFmK8an5UC8Urdighgcac6Wfg6DI71Wc5+ZMvyJ6aXROZdnGtoXsVrxV4hT6ijQKVVHrCVCIc0eiFPqPk9TYwyx5vJCQ/siTqm3vqX2PWK14plCnAyOQuqwRgUKKTDUeOScr3nKVowNgyMGRz5DpbmGh5qT3PMRc23D090f8UrdiglicKQ5W/o5DI70Ws19ZkzYk3KtRuecvmlIb8RqxV8hTqmXCobQPohVE+qUmIM4pe7zNDXGEGtuT6Ttjzil3vUvtY4RqxXPFOJkcBRShzUqUEiBIaYj91zNU7ZibBgcMTjyGSrNNaw1JaXmIeZaRqdvX8QrdSsmiMGR5mzp5zA40ms195kpw5+YXhqdc3snbX/EasVfIU6po0CnVB2xlgiFNHsgTqn7PE2NMcRayhuhfRCn1Pt8TOlxxGrFM4U4GRyF1GGNChRSQGs4SszTPGUrxobBEYMjn6HSXMPIjJSuI+bSBgfth3ilbsUEMTjSnC39HAZHeq3mPjMm7Em5VqNzCf+k2QOxWvFXiFPqpYIhtA9i1YQ6JeYgTqn7PE2NMcRa2iP17Yc4pY78TKk6YrXimUKcDI5C6rBGBQopoDEbpeZonrIVY8PgiMGRz1BpruE+E1JrHDGXMjbafRCv1K2YIAZHmrOln8PgSK/V3GemDH9ieml0LuWh0D6I1Yq/QpxSR4FOqTpiLREKafZAnFL3eZoaY4i1llfq7os4pa71NbnnIVYrninEyeAopA5rk1QgxnzkWKsRERmNknUNrxVjw+CIwZHPUGmu4a75qH2MmHMbmqH9Ea/UrZggBkeas6Wfw+BIr9XcZ+bwTGN6anQu6aNCeyFWK/4KcUq9VDCE9kGsmlCnxBzEKXWfp6kxhlhre6Z2f8Qp9aH+Jtd8xGrFM4U4GRyF1GFtkgqMMR0512hEDJmM0jUNrxVjw+CIwZHPUGmu4dZ0WLlHzLmMzNi+iFfqVkwQgyPN2dLPYXCk12rszP91xv92Fv4g/pzeaUhvxCn10l6qbz/EasVfIU6po0CnVB2xlgiFNHsgTqn7PE2NMcQ6Fe8kz2Osz0m9DmlqxTOFOLMGR1dccYU7+OCD3aZNm9y55567wvGJT3zCPfrRj3ZHHnlk8+djH/vYypzuAA1LVxEedxUYYjZKzO3y+Y77DEaNcR9fd8yKsWFwxODIZ6i616vv2IrpaTl8jItjqQ1MbL9Ftr7HVkwQg6O+MzRunD5snG5DVlkIjYQB3Up4KM0eiFPqNfyUb0/EasVfIU6plwqG0D6IVRPqlJiDOKXu8zQ1xhBr611q3yNOqcf6nVTrEasVzxTizBYc3X///e7AAw90N910k7vvvvvcEUcc4W688cYlFgmOdu7cuTSGDmhYkEKsa0xGyTmaM+IzF7XGNLxWjA2DIwZHPkOluYZrm53u/og5lXFJ1QfxSt2KCWJwpDlb+jn0YXqtxs5kcPREN8SnaXSu5am6+yJWK/4KcUodBTql6oi1RCik2QNxSt3naWqMIdauh6l1jDilnsr3xPZBrFY8U4gzW3D07W9/251wwgkbe7/73e928mfxxuBoUQ0+TqXAELNRYq7meXWNRc1jDa8VY8PgiMGRz1BpruFaJqdvX8Qca1hSr0e8Urdighgcac6Wfg6DI71WY2cyOGJwVNtnaa7dUsEQ2gexakKdEnMQp9R9nqbGGGLt8zKlxxGn1FP7n7H9EKsVzxTizBYcXXbZZe7UU0/d2PuSSy5ZeXWRBEf77LOPO/zww92LXvQid+utt27MX3xw4YUXOjEq8udxj3vcYomPqcCKAiXCoCF7rAB6BmoGRd29PXgrQ7UNzeL+K3CeAWQ6Stc9iCtDJUyMdo8VOM9ADWPTt6cHb2WotLlB+60AdgbGGpVc6zp43kMrJsh6cHTKKae4vffe2x122GEbOt55553u+OOPd5s3b27uf/Ob3zS1Bx54wL3hDW9oPgJAvNP111+/seaTn/xkM1/WyOP2dt1117ktW7Y0a2St9JBb3x7tur57Bkd9yqQbZ3DE4GjR59R4rLmaS3unvv0Qq9br5J6HOKXe52tKjyNW5GlK1RGn1HP5oKF9EasVzxTirBoc/frXv3b33ntvw/eP//iP7thjjw2xNjUaFijR2k8YEuqUmKs5Id3wpuaxhreGienbU8PbZzZqjWuYcxuYIf01vKVNTWg/DW8pU6PdBzEPNSi55yNeqVsxQdaDo6uuuqoJgBaDo127dm18NqR8RuSZZ57ZSH755Ze75zznOU34c+2117qjjz66GZcQ6IADDmjCIAmZ5HEbNm3dutXJXAmMZO1Xv/rVZk3fHk0x8B/6sIA4iUoMjhgc9XmeUuOaS7mWh+rui1iH+J2ccxGn1EPepmQNsWq9Te55iFPquf2Qtj9iteKZQpzZgiPNW9UWweQzkR75yEcuDnkf07B4ZeHgggIlwqAheyyg9T6sGRR19+6FXCiUMi6afRaweh92TUbt417QhUJO8zK09wJW78OShgbt1Qu5UMhtZob2X0DzPtQak1LzvJCdQSsmyHpwJLLdcsstS684ki8Wuf322xtF5V6O5Xbaaae5z372s81j+U87T8ak1t7aebL2kEMOaYebte28dq0UF/fYmNzzgD6sR5iEwwyOGBxp/E/OOZrLubaXavdHrEM9T675iFPqyN+UqiPWoR4n13zEKfVSvgjtg1iteKYQZ7bg6M9//nPzG6+bb75548Oxb7jhhiWW1hTJ4Be+8AX31Kc+danuO6Bh8anCsUUFhoQ6JeYusvU97oY3NY/7GBfHc5qVob0Xufoet+bCyn0f5+J4LuMypu8iV9/jUmZGs08f4+J4LhMztu8im+8xMiSl6z7G7pgVEzTF4GiPPfbYkFNeKdQeb9++3V1zzTUbtW3btrnvfe977rzzznPvete7NsbPPvvsZkxqxx133Mb41Vdf7aSH3Nqe8nhxj43JCw/4kQELYhR4yOCIwdFQL5R6vuYyn4qnGuN7cqzRaKrxOCXmINaxXif1OsQp9dL+qG8/xGrFM4U4swVHsqm8pPqggw5qvl3tnHPOaTje/va3uy996UvN47e85S3u0EMPbb5x7ZhjjnH//u//HmJtagyOoERrP6FEGDRkD80JqRkUdffW8KY2KDH9NLxWzE3LoWHOYVrG9tTwljAy2j00vKnNS2w/xNxnRGqNI16pWzFBUw+ORMs999yzkTxXcLS4R7NR4D/0YQFxEpUYHDE4ivFFKdZqLuXW09S+R6xjvU/qdYhT6lqfk3seYo31PKnWI06p1/JJ3X0RqxXPFOLMGhyFNh5bo2EZq9z6rBsS6pSYq1G+G97UPNbwpjAlqXpoeGubmu7+GubUhiWmn4Y3t4kZ0l/Dm8q0pOqDmLsGpPYx4pW6FRM0xeCo721k7VvQWv3beXyrWqvIPO4ZHDE4SuWRxvbR/CR1vU2tY8Qa439SrkWcUh/idXLORaypvE9sH8Qp9dp+qd0fsVrxTCFOBkchdVibpAIlwqAhe2hErBkUdffW8I41IjnWaXhrmZm+fTXMKc1KbC8Nb04DM7S3hjfWrKRej5hb42HlHvFK3YoJmmJwdMYZZyx9OLZ8kLXcvvKVryx9OLZ88LXc5MOxH//4xzcfiC0fii2PZUxu3Q/HlleDy61vj6YY+A9/gRcQJ1GJwRGDoxx+aUhPzaXc53FKjyPWWA+Uaj3ilPpQv5NrPmJN7YHG9kOcUp+Kb7LimUKaMjgKqcPaJBUYEuqUmKsRsRve1DzW8A4xH7nnanhLmxi0n4Y5lVFJ0UfDm8u8jOmr4R1rUnKtQ8xWjE/LgXilbsUEWQ+OTj75ZLfPPvu43Xff3e27777uoosucvKts/L5RZs3b24+o6gNgeSziF73utc1HwGwZcuW5vON2nPx8Y9/3G3atKn5c/HFF7fDzRz5xrYDDzzQ7dy5s/k8Iyn27bGxsOcBg6MeYRIOMzhicJTbO6H+mssZeZ1SdcSawgel6IE4pT7G8+RYg1hzeaGhfRGn1FvfUvsesVrxTCFOBkchdVibpAIlwqAhe2hErBkUdffW8CLDUbKu4S1lXrT7aJhTmJRUPTS8OYzL2J4a3qHmJPd8xFzb8HT3R7xSt2KCrAdHGi0tzWFwlP9sMDhicFTSR/n20lzlWs+Tex5iTeWFYvsgTqmP9T2p1yHW3J5I2x9xSr3rX2odI1YrninEyeAopA5rk1RgSKhTYq5GxG54U/NYw+szGbXGNLy5TcvQ/hrmWIOScr2GN7Vpiemn4dWaklLzEHMto9O3L+KVuhUTxOBIc7b0cxgc6bUaO5PBEYOjWp6q3Vdz7Q71PrnmI9aUfiimF+KUeoz3SbkWsZbyRmgfxCn1Ph9TehyxWvFMIU4GRyF1WJukAiXCoCF7aESsGRR199bwtsbCwr2GN5dZGdtXwxxjTlKv1fCmNCyxvTS8yIyUriPm0gYH7Yd4pW7FBDE40pwt/RwGR3qtxs5kcMTgqLa/0ly7Yz1Q6nWINbUnGtsPcUo91v+kWo9YS3ukvv0Qp9SRnylVR6xWPFOIk8FRSB3WJqnAkFCnxFyNiN3wpuaxhre2oVncX8Ob2qTE9tMwjzUmOdZpeFOZlRR9NLx9JqTWOGIuZWy0+yBeqVsxQQyONGdLP4fBkV6rsTMZHDE4WvQ5NR5rrt1YL5RqPWLN4YvG9EScUk/hgVL0QKy1vFJ3X8Qpda2vyT0PsVrxTCFOBkchdVibpAIlwqAhe2hErBkUdffW8NYwMX17anhTmZNUfTTMY0xJrjUa3hRGJVUPDW/XfNQ+Rsy5Dc3Q/ohX6lZMEIMjzdnSz2FwpNdq7EwGRwyO+jxPqXHNtZvKE8X2Qay5vNHQvohT6ql8UGwfxFrbM7X7I06pD/U3ueYjViueKcTJ4CikDmuTVGBIqFNirkbEbnhT81jDW8q4aPbR8MaaktTrNcxDDUnO+RreWJOScr2GtzUdVu4Rcy4jM7Yv4pW6FRPE4EhztvRzGBzptRo7k8ERgyON/8k5R3PtpvZGY/sh1pz+aEhvxCn1lF4ophdinYp3kucx1uekXoc0teKZQpwMjkLqsDZJBUqEQUP20IhYMyjq7q3hzWlWhvbW8I41I7nWaZiHmJHcczW8MQYl9VoNrxXT03Ig5tQGJrYf4pW6FRPE4EhztvRzGBzptRo7k8ERg6OhXij1fM21m8sjDe2LWHN7JG1/xCn11H5obD/E2nqX2veIU+qxfifVesRqxTOFOBkchdRhbZIKDAl1SszViNgNb2oea3hTG5SYfhreoSYk93wNs9aIlJin4R1rTnKs0/DWNjvd/RFzKuOSqg/ilboVE8TgSHO29HMYHOm1GjuTwRGDoxhflGKt5trN7ZW0/RFrCZ+k2QNxSj2HJxrTE7F2PUytY8Qp9VS+J7YPYrXimUKcDI5C6rA2SQVKhEFD9tCIWDMo6u6t4U1hSlL10PBqzUepeRpmjQkpNUfDO8aY5Fqj4a1lcvr2RcyxhiX1esQrdSsmiMGR5mzp5zA40ms1diaDIwZHqTzS2D6aa7eUZ0L7INZSXgntgzilnssXDe2LWPu8TOlxxCn11P5nbD/EasUzhTgZHIXUYW2SCgwJdUrM1YjYDW9qHmt4xxqRHOs0vMh0lK5rmJEBKVnX8A41JTnna3hLmxu0H2Iea1RyrUO8Urdighgcac6Wfg6DI71WY2cyOGJwlMMvDempuXZLe6e+/RBrSb8U2gtxSj2nNxrSG7EiT1OqjjilnssHDe2LWK14phAng6OQOqxNUoESYdCQPTQi1gyKuntreIeYj9xzNbx9ZqPWuIY5ZD5K1zS8QwxJ7rka3lKmRrsPYh5qUHLPR7xSt2KCGBxpzpZ+DoMjvVZjZzI4YnCU2zuh/pprt5aH6u6LWEt7pr79EKfUc/sjbX/EqvU2uechTqnn9kPa/ojVimcKcTI4CqnD2iQVGBLqlJirEbEb3tQ81vAiw1GyruHtmozaxxrmPuNRY1zDqzUjJeZpeHObmaH9EbPWmJSah3ilbsUEMTjSnC39HAZHeq3GzmRwxOCopI/y7aW5dmt7qXZ/xFrDN/n2RJxSL+GRNHsg1qEeJ9d8xCn1Ur4I7YNYrXimECeDo5A6rE1SgRJh0JA9NCLWDIq6e2t4fSaj1piGtzUXVu41zD7TUWtMw6sxIqXmaHhzmZixfREzMiSl64hX6lZMEIMjzdnSz2FwpNdq7EwGRwyOanmqdl/NtTsVT1XLO3X31WhayiehfRDrWK+Teh3ilHppf9S3H2K14plCnAyOQuqwNkkFhoQ6JeZqROyGNzWPNbytsbBwr+G1Ym5aDg1z13DUPNbwIhNSsq7hTW1eYvsh5j4jUmsc8UrdiglicKQ5W/o5DI70Wo2dyeCIwVFtf6W5dltPU/sesdb0T4t7I06pl/RKob0Qa6znSbUecUq9lk/q7otYrXimECeDo5A6rE1SgRJh0JA9NCLWDIq6e2t4axuaxf01vLVNTXd/DfOi2aj9WMMbMiClaxreVKYlVR/E3DUgtY8Rr9StmCAGR5qzpZ/D4Eiv1diZDI4YHC36nBqPNddu19vUOkastT1Uuz/ilHppv9S3H2JN5X1i+yBOqdf2S+3+iNWKZwpxMjgKqcPaJBUYEuqUmKsRsRve1DzW8NYwMX17anhrmZm+fTXMrdGwcK/h7TMfNcY1vLFmJfV6xNwaDyv3iFfdTnQgAAAgAElEQVTqVkwQgyPN2dLPYXCk12rsTAZHDI76PE+pcc212+dxSo8jVgs+Shg0txqeybcnYk3tgcb2Q5xSn4pvsuKZQpoyOAqpw9okFSgRBg3ZQyNizaCou7eGt5Rx0eyj4S1tYtB+GmYrRmdqZkcMkOY21qTkWoeYrRiflgPxSt2KCWJwpDlb+jkMjvRajZ3J4IjBkcb/5JyjuXaR1ylVR6xW/BTilLovxKkxhlhzeaGhfRGn1FvfUvsesVrxTCFOBkchdVibpAJDQp0SczUidsObmsca3pxmZWhvDW8p86LdR8NsxegwONrlhhqZMfPRNVHb8HT3R7xSt2KCGBxpzpZ+DoMjvVZjZzI4YnA01Aulnq+5drWeJ/c8xGrFTyFOqdcIiXx7ItYxPifHGsQp9a5/qXWMWK14phAng6OQOqxNUoESYdCQPTQi1gyKuntreFMblJh+Gt7cpmVofw2zFaPD4IjBkc9kaa5hKyaIwZHmbOnnMDjSazV2JoMjBkcxvijFWs21O9T75JqPWK34KcQpdV+IU2MMseYIgcb0RJxS93mYGmOI1YpnCnEyOAqpw9okFRgS6pSYqxGxG97UPNbwpjAlqXpoeHOZlbF9NcxWjA6DIwZHPoOluYatmCAGR5qzpZ/D4Eiv1diZDI4YHKXySGP7aK7dsR4o9TrEasVPIU6p1wiJfHsi1jEhT441iFPqPg9TYwyxWvFMIU4GRyF1WJukAiXCoCF7aESsGRR199bwjjUiOdZpeFOblNh+GmYrRofBEYMjn8HSXMNWTBCDI83Z0s9hcKTXauxMBkcMjnL4pSE9NddurBdKtR6xWvFTiFPqvhCnxhhizRECjemJOKXu8zA1xhCrFc8U4mRwFFKHtUkqMCTUKTFXI2I3vKl5rOEdYj5yz9XwpjInqfpomK0YHQZHDI58BktzDVsxQQyONGdLP4fBkV6rsTMZHDE4yu2dUH/NtZvKE8X2QaxW/BTilHqNkMi3J2IdE/LkWIM4pe7zMDXGEKsVzxTiZHAUUoe1SSpQIgwasodGxJpBUXdvDS8yHCXrGt5YU5J6vYbZitFhcMTgyGewNNewFRPE4EhztvRzGBzptRo7k8ERg6OSPsq3l+baTe2NxvZDrFb8FOKUui/EqTGGWHOEQGN6Ik6p+zxMjTHEasUzhTgZHIXUYW2SCgwJdUrM1YjYDW9qHmt4fSaj1piGd6wZybVOw2zF6DA4YnDkM1iaa9iKCWJwpDlb+jkMjvRajZ3J4IjBUS1P1e6ruXZzeaShfRGrFT+FOKVeIyTy7YlYx4Q8OdYgTqn7PEyNMcRqxTOFOBkchdRhbZIKlAiDhuyhEbFmUNTdW8PbGgsL9xreoSYk93wNsxWjw+CIwZHPYGmuYSsmiMGR5mzp5zA40ms1diaDIwZHtf2V5trN7ZW0/RGrFT+FOKXuC3FqjCHWHCHQmJ6IU+o+D1NjDLFa8UwhTgZHIXVYm6QCQ0KdEnM1InbDm5rHGt7ahmZxfw2v1nyUmqdhtmJ0GBwxOPIZLM01bMUEMTjSnC39HAZHeq3GzmRwxOBo0efUeKy5dkt5JrQPYrXipxCn1GuERL49EeuYkCfHGsQpdZ+HqTGGWK14phAng6OQOqwlU2DXrl1ux44dTu5z30qEQUP20DzfmkFRd28Nbw0T07enhheZjtJ1DbMVo8PgiMGRz2BprmErJojBkeZs6ecwONJrNXYmgyMGR32ep9S45tot7Z369kOsVvwU4pS6L8SpMYZYc4RAY3oiTqn7PEyNMcRqxTOFOBkchdRhLZkCEhpt27atCY+SNe1pNCTUKTG3B3NpuBve1DxeAus5KGVcNPv0IC4N95mNWuNLcD0HVowOgyMGRz6D1XPZLg1bMUEMjpZOS/QBg6NoCWEDBkcMjjT+J+cceJE652p5qO6+iNWKn0KcUq8REvn2RKxjQp4caxCn1H0epsYYYrXimUKcDI5C6rDWKJDCwPzt/z2mCY7kPrYfOi0lwqAheyBeqdcMirp7a3hzmpWhvTW8XZNR+1jDbMXoMDhicOQzWJpr2IoJYnCkOVv6OQyO9FqNnRnrk1KtR/xDvFDOuYhT6l2vU+sYsQ71QLnmI06p1/ZS7f6I1YqfQpxS94U4NcYQa44QaExPxCl1n4epMYZYrXimECeDo5A6rDUKpDAg/+cFxzgJjeQ+th86LTnNyZjeiFfqtQyMb18Nby6jMqavhrc1F1buNcxWjA6DIwZHPoOluYatmCAGR5qzpZ/D4Eiv1diZsT4p1XrEP8YT5ViDOKXu8zs1xhDrGB+UYw3ilPpUPJUVP6XRtEZI5NsTsY4JeXKsQZxS93mYGmOI1YpnCnEyOAqpw1qjQCoDkqoPOi05TElMT8Qr9RrmpW9PDW8OkzK2p4bXirlpOTTMVowOgyMGRz6DpbmGrZggBkeas6Wfw+BIr9XYman8UmwfxB/jjVKuRZxS7/M8pccR61gvlHod4pR662lq3yNWK34KcUrdF+LUGEOsOUKgMT0Rp9R9HqbGGGK14plCnAyOQuqw1igQazxSr0enJaUZSdEL8Uq9tHEJ7afhTW1QYvppeGubmu7+GmYrRofBEYMjn8HSXMNWTBCDI83Z0s9hcKTXauzM1L5pbD/En8IjpeiBOKUe8j0la4g1xg+lXIs4pd71NrWOEasVP4U4pV4jJPLtiVjHhDw51iBOqfs8TI0xxGrFM4U4GRyF1GGtUWCs4ci1Dp2WFCYkZQ/EK/WSpgXtpeFNaU5ie2l4a5mZvn01zFaMDoMjBkc+g6W5hq2YIAZHmrOln8PgSK/V2Jm5/NPQvog/pVeK6YU4pY68T6k6Yo31RKnWI06p93mc0uOI1YqfQpxS94U4NcYQa44QaExPxCl1n4epMYZYrXimECeDo5A6rDUKDDUaueej0xJjPnKsRbxSL2VYNPtoeFMZkxR9NLylTQzaT8NsxegwOGJw5DNYmmvYiglicKQ5W/o5DI70Wo2dmdtHafsj/hyeaUxPxCl1jf8pMQexpvBFKXogTqkjr1Oqjlit+CnEKfUaIZFvT8Q6JuTJsQZxSt3nYWqMIVYrninEyeAopA5rjQJag1FqHjotY0xHzjWIV+olzIp2Dw1vClOSqoeGt5R50e6jYbZidBgcMTjyGSzNNWzFBDE40pwt/RwGR3qtxs4s5afQPog/p3ca0htxSl3rgXLPQ6ypvFFsH8Qpda3nyT0PsVrxU4hT6r4Qp8YYYs0RAo3piTil7vMwNcYQqxXPFOJkcBRSh7VGAWQsStfRaRliNkrMRbxSz21UhvTX8MYakpTrNby5TcvQ/hpmK0aHwRGDI5/B0lzDVkwQgyPN2dLPYXCk12rszNK+qm8/xF/CQ2n2QJxSH+KDcs5FrCn9UUwvxCn1od4n13zEasVPIU6p1wiJfHsi1jEhT441iFPqPg9TYwyxWvFMIU4GRyF1WGsU6DMUtcbRadGYjJJzEK/Uc5qUob01vDFmJPVaDW8uszK2r4bZitFhcMTgyGewNNewFRPE4EhztvRzGBzptRo7s5a/6u6L+Et6qdBeiFPqQ71QrvmINbVHGtsPcUp9rAdKvQ6xWvFTiFPqvhCnxhhizRECjemJOKXu8zA1xhCrFc8U4mRwFFKHtUaBrpGofYxOS8hc1KghXqnnMihj+mp4xxqRHOs0vKlNSmw/DbMVo8PgiMGRz2BprmErJojBkeZs6ecwONJrNXZmbZ/V7o/4a3gq356IU+pj/FCONYg1h08a0xNxSj3WC6Vaj1it+CnEKfUaIZFvT8Q6JuTJsQZxSt3nYWqMIVYrninEyeAopA5rjQKtgbByj06Lz1TUHEO8Us9hTsb21PCOMSG51mh4U5mTVH00zFaMDoMjBkc+g6W5hq2YIAZHmrOln8PgSK/V2Jn0W090Q3ybRuexnij1OsSayysN7Ys4pZ7KE8X2QaxW/BTilLovxKkxhlhzhEBjeiJOqfs8TI0xxGrFM4U4GRyF1GGtUcCKgWk50GkZYjZKzEW8Uk9tTGL6aXiHGpCc8zW8saYk9XoNsxWjw+CIwZHPYGmuYSsmiMGR5mzp5zA40ms1dmbrd2rfI/4SHkqzB+KUeowvSrkWseb0S0N6I06pp/ZGY/shVit+CnFKvUZI5NsTsY4JeXKsQZxS93mYGmOI1YpnCnEyOAqpw1qjQG3j0t0fnRaNySg5B/FKPaUpie2l4R1iPnLP1fCONSO51mmYrRgdBkcMjnwGS3MNWzFBDI40Z0s/h8GRXquxM7u+p9Yx4i/ppUJ7IU6px3qjVOsRa27PpO2POKWeyyMN7YtYrfgpxCl1X4hTYwyx5giBxvREnFL3eZgaY4jVimcKcTI4CqnDWqNALcPSty86LSFzUaOGeKWeypCk6KPh1RqPEvM0vENNSO75GmYrRofBEYMjn8HSXMNWTBCDI83Z0s9hcKTXauzMPv9Tehzx1/BUvj0Rp9RT+KMUPRBrCd+k2QNxSj23V9L2R6xW/BTilHqNkMi3J2IdE/LkWIM4pe7zMDXGEKsVzxTiZHAUUoe1RoHSRgXth06Lz1TUHEO8Uk9hRlL10PBqTEepORperfkoNU/DbMXoMDhicOQzWJpr2IoJYnCkOVv6OQyO9FqNnYl8UKk64q/prRb3RpxST+WRYvsg1lLeCe2DOKVeyjOhfRCrFT+FOKXuC3FqjCHWHCHQmJ6IU+o+D1NjDLFa8UwhTgZHIXVYaxQoZVC0+6DTsmgmLDxGvFKPNSIp12t4keEoWdfwItNRuq5htmJ0GBwxOPIZLM01bMUEMTjSnC39HAZHeq3GztT6odzzEL8FjyUMmltKnxTTC7GW9E+hvRCn1Et7p779EKsVP4U4pV4jJPLtiVjHhDw51iBOqfs8TI0xxGrFM4U4GRyF1GGtUSC3MRnaH50WK0am5UC8Uo8xIanXanhDZqN0TcPbZzZqjWuYrRgdBkcMjnwGS3MNWzFBDI40Z0s/h8GRXquxM4f6olzzEX/rc2rfI06pp/ZKY/sh1tIeqm8/xCn1Wh6quy9iteKnEKfUfSFOjTHEmiMEGtMTcUrd52FqjCFWK54pxMngKKQOa40CuQzJ2L7otNQ2MN39Ea/UxxqQHOs0vH1Go8a4hrdrMmofa5itGB0GRwyOfAZLcw1bMUEMjjRnSz+HwZFeq7Ezx/qj1OsQf9fv1DpGnFLP4ZfG9ESsNXyUb0/EKfXaXqrdH7Fa8VOIU+o1QiLfnoh1TMiTYw3ilLrPw9QYQ6xWPFOIk8FRSB3WGgVSG5HYfui01DIuffsiXqmPMR+51mh4fSaj1piGtzUXVu41zFaMDoMjBkc+g6W5hq2YIAZHmrOln8PgSK/V2JmxPinVesTf53tKjyNOqefyTEP7ItZaXqq7L+KU+lQ8lRU/pdHUF+LUGEOsOUKgMT0Rp9R9HqbGGGK14plCnAyOQuqw1iiQyoCk6oNOS2nDgvZDvFIfajxyztfwdg1GzWMNrxVz03JomK0YHQZHDI58BktzDVsxQQyONGdLP4fBkV6rsTNT+aXYPogf+Z9SdcQp9Zy+aUhvxFrTTy3ujTil3nqa2veI1YqfQpxSrxES+fZErGNCnhxrEKfUfR6mxhhiteKZQpxZg6MrrrjCHXzwwW7Tpk3u3HPPXeG499573Ute8pKmfvTRR7tbbrllZU53gIalq0j+41jjkXo9esaljIp2H8Qr9SGmI/dcDe+iuaj9WMNb29R099cwWzE6DI4YHPkMluYatmKCGBxpzpZ+Dn2YXquxM1P7prH9EL/WB+Wehzilnts7afsj1tqeqt0fcUq9621qHSNWK34KcUrdF+LUGEOsOUKgMT0Rp9R9HqbGGGK14plCnNmCo/vvv98deOCB7qabbnL33XefO+KII9yNN964xHLBBRe4008/vRn73Oc+14RISxM8B3MwLFYuDK2ZHms4cq3zXBZLQ7kNytD+S3A9B1rDUWJeD+LScGssLNwvgfUc1DIzffv2YC4NWzE6DI4YHPkM1tLF2nMwtf/X9TwN97SnPa2vtJbjc/Bh1k9cLv80tC/SaagfyjUfcUq9hH/S7IFYLfgqYdDc+jxO6XHEasVPIU6p1wiJfHsi1jEhT441iFPqPg9TYwyxWvFMIc5swdG3v/1td8IJJ2zs/e53v9vJn8Wb1GWe3P785z+7vfbayz3wwAOLU1Yez8GwWLkwGBw90eUyMYt9Vy5iz4DGbJSa48FbGbJibKZmbloztSKoZ8CK0WFwxODIZ7A8l+zK0NT+X7fyBP5ngMHRsjJz8GHLz8je0dCAJ9d8pMyi16n5GHFKvZSHQvsgViv+CnFKvfU0te8RqxU/hTil7gtxaowh1hwh0JieiFPqPg9TYwyxWvFMIc5swdFll13mTj311I29L7nkErdz586NY3lw2GGHudtuu21jTF6hdMcdd2wctw8uvPBCJ0ZF/jz84Q/feNyOpbjff//9s/RNwdbXY2rM5P3rNdx3PmPHp6avPN+pMZM37zXMa4L6dv8ezPkzd+KJJ7Y2I3jP4GhZHjlHvOVVIFcQNLQvepY1w6LFvRGn1FGgU6qOWBkcvXdwIIU0ZXB09OBACmk6JuTJsQZxSr1GSOTbE7EyOEoUHCGhU9SnaISmxkzeFFdqf4+p6SvPZGrM5O2//lJVqHEqJf19qK9fl9Aog6NldaZ2DS3TT+NoaMCTaz5SazG8qfkYcUq9VDCE9kGsDI4YHNV4hVF3T3Sd5giBxvREnFL3hTg1xhDrWgdHud6qhkQfW5+iEZoaM3nHXp26dVPTV57V1JjJq7sWY2ZR4xj18FrqizXqzmBwtKzI1K6hZfppHOUKgob2RWrVDIsW90acUkeBTqk6YmVwxOCoG+LUOEbX6ZiQJ8caxCn1GiGRb0/EutbBkXxm0QEHHOBuvvnmjQ/HvuGGG5Y0+8hHPrL04dgnnXTSUr3kwRSN0NSYyZv3ip6avqLG1JjJm/ca5jVBfbsKWPiZY3C0fFYsnJNlovkdDQ14cs1Hyi6GNzUfI06plwqG0D6IlcERg6MaQVF3T3Sd5giBxvREnFL3hTg1xhDrWgdHIs7ll1/uDjrooObb1c4555xGr7e//e3uS1/6UvP4nnvucS9+8Yvdpk2b3NatW5tvYEOi5qrL5yhN7TY1ZvLmvcKmpq+oMTVm8ua9hnlNUN+uAhZ+5hgcLZ+VqQZHUzDlrdK5gqChfVuevvuaYdHi3n18i+Mo0ClVX2TyPWZwxOCoG+LUOPZdm4tjY0KeHGsWmfoe1wiJfHv28bXjU/h/VLYPx25F4D0VoAJUgApQASpABaaqwNyDoyuuuMIdfPDBzS/xzj33XHiaGBw91cUYfCiwc25owJNrPmJdDG9qPkacUi8VDKF9ECuDIwZHNYKi7p7oOs0RAo3piTil7gtxaowh1pj/r6RcG+JkcBRShzUqQAWoABWgAlRgrRWYc3B0//33N68Kv+mmmzY+VuDGG28Mnm8GRwyO2gukZli0uHfLE7pHgU6peohRagyOGBx1Q5wax+g6HRPy5FiDOKVeIyTy7YlYU4Y/Mb1CnAyOQuqwRgWoABWgAlSACqy1AnMOjjRfZNI9+QyOGBy118RieFPzccsTui8VDKF9QoxSY3DE4KhGUNTdE12nOUKgMT0Rp9R9IU6NMcQaE/akXBviXPvg6JRTTnF77723O+yww0I6mandeuut7phjjnFPfOIT3aGHHuo+8IEPmGHrA5HPspLPsDriiCMa5rPOOqtvqqlx+U3sUUcd5bZv326Kywez//77uy1btrgjjzxyEh84/dvf/ta96EUvcocccoh7whOe4OQfL5ZvP/7xjxttRV/584hHPMKdf/75lpHd+9///ubnTf5uO/nkk538HFq+yd9lwip/r1nV1vf/izvvvNMdf/zxbvPmzc39b37zGzMy+3j/6Z/+qdH4QQ96kPve975nhlVAfLxnnHFG8/fE4Ycf7l74whc6+buj9G3OwdFll13mTj311A1JL7nkErdz586N4/aBfNaUBEby5+EPf/jG43Ys9l7+Hxbbo8T6qXCKFlNhnQonNf3rz3/qn7OpnP+pcPI65XWa+mdU+p144omNHVj74Oiqq65y119//WSCo9tvv73hlbP3u9/9rvnwcfSy8tb41bp/4IEH3N13391s/6c//ckdffTR7tprr62Fo973fe97n3vZy142meDojjvuUD+32hP/7u/+zn3sYx9rMO67774q/xgcq4EEin/zN3/jfvazn41tkX3df/7nf7rHP/7x7o9//GOzl3xj5Sc+8Yns+47d4N/+7d+av4P/8Ic/OPlGzuOOO8795Cc/Gdsu2zrf/y927drl2s+Fkfszzzwz2/5DG/t4f/SjHzkJQv/2b//WXHDk4/3a177WXBPy3EXbGvoyOBp65Q2fL8Z0CrepcIqWU2GdCic1zfMTOpXzPxVOXqe8TvMo8Neuax8ciQy33HLLZIKj7sXw/Oc/333961/vDps9ln8YPulJT3Lf+c53zDIK2G233ea2bdvmrrzySgZHic/Uf//3fzehhgSKU7zJP2Sf8YxnmEaX4Oixj32sk1fDSBAjr5oTbqs3eRXMq1/96g28s88+2733ve/dOLb0oPv/C/lQYQn05Sb3cmzp1uVt2SwGR8LWxyu1L3zhC+7lL395+xSK3c85OBrzVrUcwk/lH2VT4ZRzNBXWqXBS0xw/+bxOc6g6lZ+pqXDyZ///X6UMjoBR/f9S2XskBnu//fZzd911lz24DpG8SkPe4vOwhz2sym+MOzjwUN5Gdd1117lvfetbkwiO5NUlEsg9+clPNv8V9//6r//avHXxVa96VfNWQHmbxO9//3t4TqxMkLfTfPjDH7aC08shb/2Sn7dHP/rRVf6x3QvmKcirYA466CD361//2km4LP9Qf/3rX++ZWX+oG2zsscceG1AShi4ebxQqPujytihTDI6e97znuUsvvbR9CsXu5xwcSbB8wAEHuJtvvnnjw7FvuOGGYtq2G03lHxBT4RRdp8I6FU5q2v60pr2fyvmfCiev07TXZ9ttKuc/NyeDo4kGR/LWLwkJPv/5z7fX9CTu5fMp5DOa5K0pVm9f/vKX3Wtf+9oGbyrBkbzCRG7/9V//1XyWlLzlw+pNPlflwQ9+8Marzt74xje6t73tbVZxl7jkbXV77bWX++Uvf7k0bu1APmfn2GOPdb/61a+cvD30BS94QZV/cA/R5aKLLmr+TnvWs57lXvOa17g3velNQ5YXm9sNYrpB0Z577lmMRbNRl7ddM7Xg6Jxzzmk+46jGKxXnHBzJ9XD55Zc3we2BBx7oROcaN/kMpSncpsIpWk6FdSqc1DTPT+hUzv9UOHmd8jrNo8BfuzI4mmBwJP8QPOGEE5x8Bs8Ub+985zvdeeedZxb9LW95i9t3332bD5aUz7J56EMf6l7xileY5e2CveMd7zCt7y9+8YtG25b76quvds997nPbQ9P3X/ziF92zn/1s04wC133r16c+9amNMNQ8vHPurW99q7vgggtMonaDGL5VLe1p6uor3eXzuSS8kVej1bjNPTiqoSn3pAJUgApQASpABaalAIOjiQVH8tvWHTt2mP1tvO/yl1c9tN+EIx/W+8xnPtPJq3qmcJvCK47kbV7yQelyk8dPf/rT3RVXXGFaXrkG5AN65SZBl3xz0hRuL33pS93FF19sHlU+Q0y+nUz+oS1/Z8iHkX/oQx8yzS2vlpPbz3/+8+ZbtNq/M6xBd4MNuXYXPxxbPizb0q3L27JN5RVH8neZfIuo/H+k1o3BUS3luS8VoAJUgApQASpgRYG1D47ka6r32Wcft/vuuzevMpG3S1i+XXPNNW633XZz8tXE7VeDy8vMLd9+8IMfNJ9lI8zyddvyiqOp3KYQHN10003N29OOOOKIJiyo9VaDIedUPudI3ocr14S8jcrSV5j3PQ8J5R71qEc5+XDvKdzOOuusJoCRn7lXvvKV7t577zWNLWGiBARyHX/zm980yer7/4V8LpN8kP7mzZubb4OTDyS3cvPxygdMyysqH/KQh7jHPOYxzatXLfNu2rSp+aD39v93p59+enFcBkfFJeeGVIAKUAEqQAWogDEF1j44MnY+iEMFqAAVoAJUgAoYUoDBUb6TIV82sPfee5v/Zttbb721+XxGCbfl1Zzy5QNWb/fcc0/zBRTtL5PklwiWb/LlKUcddZT5LyLZf//93ZYtW5pf2ub+ANqY8yWv1pUveDnkkEPcE57wBCffnGjtJq84b38ZIPePeMQj3Pnnn28Nc4Pn/e9/f/NzL7+Ik1/IyM+YxZv8vSSM8neUNT19f9fLL9qOP/745hdvcm/ll8g+VvkICNH1QQ96kJPParVw83HKq+DlZ19+Mf/CF75w4x0/qXgZHKVSkn2oABWgAlSAClCB2SnA4CjfKZUvcrj++uvNB0e33357wylKyFvD5Vsgb7zxxnzCRHSWtyfLF6jITT4T8+ijj3bXXnttRMe8S+XzOl/2spdNIji644478oqRoLu8Nf1jH/tY00m+0MPq277bpyrBoXye6M9+9rN2yNS9fPmMfHOxfNSG3E466aTmc/dMQTrXfOmQhEbyEQXybZnHHXec+8lPfmIG0/d3vby1f/Gt/meeeaYJXh+rfPuvBJ6W3ubv4/za177WnH8RUvRMrSmDIxOXKCGoABWgAlSAClABiwowOMp7Vvo+hyvvrnHdn//857uvf/3rcU0KrJZ/RD7pSU/a+BbTAlsO2uK2225r3up75ZVXMjgapJx/sryVXkKOGt8+6SfCo/IP3Wc84xl4YqUZEhw99rGPdfLqGAlktm/f7oTZ2q37pShnn322e+9732sKs/t3veUvF+mytkJaCo6EqY9TavLRBC9/+ctb9CT3DI6SyMgmVIAKUAEqQAWowBwVYHCU96yGjG/encd1F4qhjqUAAAiTSURBVN799tvP3XXXXeMaFFglr+KQtwA97GEPS/4b55T48paq6667zk3h8yQlkJEQ7slPfrKz+tXs8vmRW7duda961auat/+deuqpzZempDxnqXvJ220+/OEPp26btJ+8BUx+lh796Ecn/4d4KlB5RYy8ElI+d1ECY/n/1utf//pU7ZP06f5dv8cee2z0lbBz8XijUOlBl7XFmFJw9LznPc9deumlLXqSewZHSWRkEypABagAFaACVGCOCjA4yntW+wx63l3HdZe3gElw8PnPf35cg8Kr5G1KxxxzTPM2lsJbw+3k23Vf+9rXNvOmEBzJK0/kJt8AKp8fJW8TsXaTz1558IMfvPEKsze+8Y3ubW97mzXMDR55K91ee+3lfvnLX26MWXsgn7tz7LHHNt/sKW/9lC90Sf2P8VTPWb7gSf5+etaznuVe85rXmPsG7u7f9d2gaM8990wlRXSfLmvbcCrBkXxRknzGUepXHzI4aq8E3lMBKkAFqAAVoAJUoKMAg6OOIIkP+wx64m2i28k/Gk844QQnn8kzpZt8k+15551nDvktb3lL8w2P8qHT8hk3D33oQ90rXvEKc5w+oHe84x0mNf3FL37hRM/2dvXVV7vnPve57aG5+y9+8Yvu2c9+tjmuRaDuW8A+9alPbQSei/OsPX7rW9/qLrjgAlNY3b/r+Va1+NPT1VQ6fuITn2hecSavPEt9Y3CUWlH2owJUgApQASpABWajAIOjvKfSZ3zz7ji8u/zWdseOHeZ+g+97Jr/61a82PhBZPtD3mc98ppNX91i+WX/F0e9///vmQ9FFQ3n89Kc/3V1xxRUmJZXzLR/iKzcJuORblqzeXvrSl7qLL77YKl7D9Z3vfKf5Ni35R7j8PSAfPv6hD33IJLO8Gk5uP//5z5tv1rL2wejdv+vl2lz8cGz5sGwrty5ry2X9FUfy95J8+6f8fyDHjcFRDlXZkwpQASpABagAFZiFAgyO8p1G+WrrffbZx+2+++7Nq0/krRYWb9dcc43bbbfdmq84br9G/PLLL7eI6n7wgx80n28jX8cs37IkrziyfrMeHN10003N29PkLWryldzyNhCrN/mco6c85SnNtSpvq7LyFeddvSSAe9SjHuXkA72t384666wmiJGfp1e+8pXu3nvvNYksoaGEBnKdfvOb3zTF6Pu7Xj6Padu2bW7z5s3Nt8DJB5BbuPlY5YOm9913X/eQhzzEPeYxj2lefVqb1ce5adOm5sPc2/9PnX766UkxGRwllZPNqAAVyKmA/AbgkEMOaT74UT4EUL4t4Bvf+EbzjRzyP57vfve7zW8D5cMW5QMijzrqKCcvhZbbDTfc0IzJX6ZiqP/jP/4jJyp7UwEqMBMFGBzN5ETyaVABKkAFqAAVoAKjFWBwNFo6LqQCVKC0AhIcyQc//vCHP3R/+ctfmg8BlJBIXj4sAZH8dk3e191+cKG8TFcCJvnNlny7xKc//ekGWT6QUV7CzxsVoAJUACnA4AgpxDoVoAJUgApQASowdwUYHM39DPP5UYEZKSDBkbyyqL3JZ060YZC8lFxeTSQv0ZaXE7cv05SvTZavKf3MZz7TvMT8Pe95D19t1ArIeypABaACDI6gRJxABagAFaACVIAKzFwBBkczP8F8elRgTgp0P6zuVa96lbvsssuap9jW5KtI2w+G7D73n/70p+6DH/xgEz5deeWV3TKPqQAVoAIrCjA4WpGEA1SAClABKkAFqMCaKcDgaM1OOJ8uFZiyAm041D4HX3Akb1XbuXNn8/Y1mff973+/mS6vSJK3tMntzW9+szv//PObx/wPFaACVCCkAIOjkDqsUQEqQAWoABWgAuugAIOjdTjLfI5UYCYKaIIj+eyi0047zW3ZsqV5a9r27dubZy9f+SnfhiJvYTvxxBOdlW9vmMmp4dOgArNVgMHRbE8tnxgVoAJUgApQASqgVIDBkVIoTqMCVIAKUAEqQAXWTwEGR+t3zvmMqQAVoAJUgApQgWUFGBwt68EjKkAFqAAVoAJUgApsKMDgaEMKPqACVIAKUAEqQAXWVAEGR2t64vm0qQAVoAJUgApQAawAgyOsEWdQASowXQXkYwAOOeQQJ58bedBBB7mXv/zl7hvf+IZ7xjOe0XyZyHe/+133+9//3p1yyilu69at7qijjnJf/OIXmyd8ww03NGPyMQCHH344v7V2upcByakAVIDBEZSIE6gAFaACVIAKUIF1VYDB0bqeeT5vKrAeCkhw9OAHP9j98Ic/dH/5y1+cfDuthETyhSISEL3gBS9w8sUjl156aSPIb3/72yZgkjDp9a9/vfv0pz/djN93331OPmeSNypABeapAIOjeZ5XPisqQAWoABWgAlQggQIMjhKIyBZUgAqYVUCCo82bN2/w7dixYyMMkm+klVcTPeUpT3GHHXZY81iO99tvP/ejH/3IfeYzn2m+eOQ973kPX220oSAfUIF5KsDgaJ7nlc+KClABKkAFqAAVSKAAg6MEIrIFFaACZhXQfGOtvArpxz/+sfc5/PSnP3Uf/OAHm/Dpyiuv9M7hIBWgAtNXgMHR9M8hnwEVoAJUgApQASqQSQEGR5mEZVsqQAVMKKAJjuStajt37mzevibQ3//+9xt2eUWSvKVNbm9+85vd+eef3zzmf6gAFZifAgyO5ndO+YyoABWgAlSAClCBRAowOEokJNtQASpgUgFNcCSfXXTaaae5LVu2NG9N2759e/Nczj333OZY3r524oknujvvvNPkcyQUFaAC8QrsJoaIf6gBrwFeA7wGeA3wGuA1wGvgaSvOSjThjQpQASpABagAFaAC66wAX3G0zmefz50KUAEqQAWoABUIKsDgKCgPi1SAClABKkAFqMAaKMDgaA1OMp8iFaACVIAKUAEqME4BBkfjdOMqKkAFqAAVoAJUYD4K/D9EXJ/25PEFmwAAAABJRU5ErkJggg==)"
      ]
    },
    {
      "cell_type": "markdown",
      "metadata": {
        "id": "mtszj91pABoJ"
      },
      "source": [
        "Com eles, conseguimos afirmar que o número de casos subiu constantemente com o passar dos meses, enquanto a quantidade de mortes teve uma variação."
      ]
    },
    {
      "cell_type": "markdown",
      "metadata": {
        "id": "X-0Uzcy9AciY"
      },
      "source": [
        "Posteriormente, vimos alguns dados dos hospitais e como ficou a lotação dele durante 2020, como podemos ver no gráfico abaixo."
      ]
    },
    {
      "cell_type": "markdown",
      "metadata": {
        "id": "4MNKSdOHAdG5"
      },
      "source": [
        "![image.png](data:image/png;base64,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)"
      ]
    },
    {
      "cell_type": "markdown",
      "metadata": {
        "id": "tLNTgdFnEEsS"
      },
      "source": [
        "Além disso, verificamos qual continente teve mais casos de covid em 2020 e em 2021, sendo a Europa como vemos abaixo."
      ]
    },
    {
      "cell_type": "markdown",
      "metadata": {
        "id": "wVk6AVrjD6pw"
      },
      "source": [
        "![image.png](data:image/png;base64,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)"
      ]
    },
    {
      "cell_type": "markdown",
      "metadata": {
        "id": "77xHVhmnEp7w"
      },
      "source": [
        "Na sequência, mostramos que até hoje, 84428181.0 pessoas foram vacinadas!\r\n",
        "\r\n",
        "E por fim, vimos que comparado a dezembro de 2020, janeiro de 2021 teve números de casos/mortes mais altos o que é um problema!"
      ]
    },
    {
      "cell_type": "markdown",
      "metadata": {
        "id": "NTvBCoUdGV-z"
      },
      "source": [
        "Com isso, espero ter conseguido chamar sua atenção para o problema que a covid ainda ee para todo ser humano. Vimos ao fim, que os números voltaram a crescer em janeiro desse ano e logo temos que redobrar nossos cuidados todos os dias.\r\n",
        "\r\n",
        "Lavem as mãos, usem álcool em gel e máscara!\r\n",
        "\r\n",
        "“E por hoje e só pessoal!”\r\n"
      ]
    }
  ]
}