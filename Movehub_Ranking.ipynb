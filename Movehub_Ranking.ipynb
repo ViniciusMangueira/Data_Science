{
  "nbformat": 4,
  "nbformat_minor": 0,
  "metadata": {
    "colab": {
      "name": "Movehub Ranking.ipynb",
      "provenance": [],
      "authorship_tag": "ABX9TyMqueiqPl3aOA6OUvh7l3+r",
      "include_colab_link": true
    },
    "kernelspec": {
      "name": "python3",
      "display_name": "Python 3"
    }
  },
  "cells": [
    {
      "cell_type": "markdown",
      "metadata": {
        "id": "view-in-github",
        "colab_type": "text"
      },
      "source": [
        "<a href=\"https://colab.research.google.com/github/ViniciusMangueira/Data_Science/blob/main/Movehub_Ranking.ipynb\" target=\"_parent\"><img src=\"https://colab.research.google.com/assets/colab-badge.svg\" alt=\"Open In Colab\"/></a>"
      ]
    },
    {
      "cell_type": "markdown",
      "metadata": {
        "id": "F4bikMs_VrAB"
      },
      "source": [
        "# Projeto"
      ]
    },
    {
      "cell_type": "markdown",
      "metadata": {
        "id": "16UoJX7aVt4h"
      },
      "source": [
        "## Importação dos Dados"
      ]
    },
    {
      "cell_type": "markdown",
      "metadata": {
        "id": "dgjgfQrIXXaF"
      },
      "source": [
        "Inicialmente, vamos importar os dados e na sequência ver o formato do arquivo."
      ]
    },
    {
      "cell_type": "code",
      "metadata": {
        "id": "Yb3Svx4AKn9B"
      },
      "source": [
        "# Bibliotecas\r\n",
        "import pandas as pd\r\n",
        "import missingno as msno\r\n",
        "import seaborn as sns"
      ],
      "execution_count": 1,
      "outputs": []
    },
    {
      "cell_type": "code",
      "metadata": {
        "id": "pa2DUy0KKq1c"
      },
      "source": [
        "# Importar arquivos \r\n",
        "df1 = pd.read_csv(\"/content/cities.csv\")\r\n",
        "df2 = pd.read_csv(\"/content/movehubcostofliving.csv\")\r\n",
        "df3 = pd.read_csv(\"/content/movehubqualityoflife.csv\")"
      ],
      "execution_count": 35,
      "outputs": []
    },
    {
      "cell_type": "code",
      "metadata": {
        "colab": {
          "base_uri": "https://localhost:8080/"
        },
        "id": "-LxUl3mFLp6g",
        "outputId": "be2c4a29-dbb7-4c94-dcc1-e88927f03418"
      },
      "source": [
        "print(f\"O df1 tem {df1.shape[0]} entradas e {df1.shape[1]} variáveis.\")\r\n",
        "print(f\"O df2 tem {df2.shape[0]} entradas e {df2.shape[1]} variáveis.\")\r\n",
        "print(f\"O df3 tem {df3.shape[0]} entradas e {df3.shape[1]} variáveis.\")"
      ],
      "execution_count": 3,
      "outputs": [
        {
          "output_type": "stream",
          "text": [
            "O df1 tem 3543 entradas e 2 variáveis.\n",
            "O df2 tem 216 entradas e 7 variáveis.\n",
            "O df3 tem 216 entradas e 7 variáveis.\n"
          ],
          "name": "stdout"
        }
      ]
    },
    {
      "cell_type": "markdown",
      "metadata": {
        "id": "HheyWtRMYYE6"
      },
      "source": [
        "Dessa forma, pelo número de entradas muito diferente, percebemos que nem todas as cidades do df1 estão catalogadas nos datasets df2 e df3.\r\n",
        "\r\n",
        "Para termos uma ideia melhor, vamos colocar as entradas para serem exibidas por ordem alfabética do nome da cidade e, posteriormente, ver as 5 primeiras entradas de cada dataset."
      ]
    },
    {
      "cell_type": "code",
      "metadata": {
        "id": "4uHgH98IZL5q"
      },
      "source": [
        "df1 = df1.sort_values(by=\"City\", ascending=True).reset_index(drop=True)\r\n",
        "df2 = df2.sort_values(by=\"City\", ascending=True).reset_index(drop=True)\r\n",
        "df3 = df3.sort_values(by=\"City\", ascending=True).reset_index(drop=True)"
      ],
      "execution_count": 4,
      "outputs": []
    },
    {
      "cell_type": "code",
      "metadata": {
        "colab": {
          "base_uri": "https://localhost:8080/",
          "height": 204
        },
        "id": "Pz7MGh0SR3be",
        "outputId": "8b09abe9-258d-4151-a2c9-70a2da486158"
      },
      "source": [
        "# Ver as 5 primeiras entradas do df1\r\n",
        "df1.head()"
      ],
      "execution_count": 5,
      "outputs": [
        {
          "output_type": "execute_result",
          "data": {
            "text/html": [
              "<div>\n",
              "<style scoped>\n",
              "    .dataframe tbody tr th:only-of-type {\n",
              "        vertical-align: middle;\n",
              "    }\n",
              "\n",
              "    .dataframe tbody tr th {\n",
              "        vertical-align: top;\n",
              "    }\n",
              "\n",
              "    .dataframe thead th {\n",
              "        text-align: right;\n",
              "    }\n",
              "</style>\n",
              "<table border=\"1\" class=\"dataframe\">\n",
              "  <thead>\n",
              "    <tr style=\"text-align: right;\">\n",
              "      <th></th>\n",
              "      <th>City</th>\n",
              "      <th>Country</th>\n",
              "    </tr>\n",
              "  </thead>\n",
              "  <tbody>\n",
              "    <tr>\n",
              "      <th>0</th>\n",
              "      <td>A Coruña</td>\n",
              "      <td>Spain</td>\n",
              "    </tr>\n",
              "    <tr>\n",
              "      <th>1</th>\n",
              "      <td>Aachen</td>\n",
              "      <td>Germany</td>\n",
              "    </tr>\n",
              "    <tr>\n",
              "      <th>2</th>\n",
              "      <td>Aalborg</td>\n",
              "      <td>Denmark</td>\n",
              "    </tr>\n",
              "    <tr>\n",
              "      <th>3</th>\n",
              "      <td>Aarhus</td>\n",
              "      <td>Denmark</td>\n",
              "    </tr>\n",
              "    <tr>\n",
              "      <th>4</th>\n",
              "      <td>Aba</td>\n",
              "      <td>Nigeria</td>\n",
              "    </tr>\n",
              "  </tbody>\n",
              "</table>\n",
              "</div>"
            ],
            "text/plain": [
              "       City  Country\n",
              "0  A Coruña    Spain\n",
              "1    Aachen  Germany\n",
              "2   Aalborg  Denmark\n",
              "3    Aarhus  Denmark\n",
              "4       Aba  Nigeria"
            ]
          },
          "metadata": {
            "tags": []
          },
          "execution_count": 5
        }
      ]
    },
    {
      "cell_type": "code",
      "metadata": {
        "colab": {
          "base_uri": "https://localhost:8080/",
          "height": 204
        },
        "id": "H0p2bdTIYwXg",
        "outputId": "1db875b9-8779-4b06-b1ad-bfeced86f138"
      },
      "source": [
        "# Ver as 5 primeiras entradas do df2\r\n",
        "df2.head()"
      ],
      "execution_count": 6,
      "outputs": [
        {
          "output_type": "execute_result",
          "data": {
            "text/html": [
              "<div>\n",
              "<style scoped>\n",
              "    .dataframe tbody tr th:only-of-type {\n",
              "        vertical-align: middle;\n",
              "    }\n",
              "\n",
              "    .dataframe tbody tr th {\n",
              "        vertical-align: top;\n",
              "    }\n",
              "\n",
              "    .dataframe thead th {\n",
              "        text-align: right;\n",
              "    }\n",
              "</style>\n",
              "<table border=\"1\" class=\"dataframe\">\n",
              "  <thead>\n",
              "    <tr style=\"text-align: right;\">\n",
              "      <th></th>\n",
              "      <th>City</th>\n",
              "      <th>Cappuccino</th>\n",
              "      <th>Cinema</th>\n",
              "      <th>Wine</th>\n",
              "      <th>Gasoline</th>\n",
              "      <th>Avg Rent</th>\n",
              "      <th>Avg Disposable Income</th>\n",
              "    </tr>\n",
              "  </thead>\n",
              "  <tbody>\n",
              "    <tr>\n",
              "      <th>0</th>\n",
              "      <td>Aachen</td>\n",
              "      <td>2.05</td>\n",
              "      <td>6.88</td>\n",
              "      <td>4.26</td>\n",
              "      <td>1.33</td>\n",
              "      <td>767.23</td>\n",
              "      <td>1619.72</td>\n",
              "    </tr>\n",
              "    <tr>\n",
              "      <th>1</th>\n",
              "      <td>Aberdeen</td>\n",
              "      <td>1.99</td>\n",
              "      <td>6.98</td>\n",
              "      <td>5.98</td>\n",
              "      <td>1.37</td>\n",
              "      <td>1195.74</td>\n",
              "      <td>1743.78</td>\n",
              "    </tr>\n",
              "    <tr>\n",
              "      <th>2</th>\n",
              "      <td>Abu Dhabi</td>\n",
              "      <td>2.67</td>\n",
              "      <td>6.23</td>\n",
              "      <td>13.73</td>\n",
              "      <td>0.30</td>\n",
              "      <td>1779.93</td>\n",
              "      <td>2135.92</td>\n",
              "    </tr>\n",
              "    <tr>\n",
              "      <th>3</th>\n",
              "      <td>Addis Ababa</td>\n",
              "      <td>0.46</td>\n",
              "      <td>2.29</td>\n",
              "      <td>4.18</td>\n",
              "      <td>0.72</td>\n",
              "      <td>653.77</td>\n",
              "      <td>124.22</td>\n",
              "    </tr>\n",
              "    <tr>\n",
              "      <th>4</th>\n",
              "      <td>Adelaide</td>\n",
              "      <td>2.49</td>\n",
              "      <td>11.42</td>\n",
              "      <td>10.08</td>\n",
              "      <td>0.95</td>\n",
              "      <td>1382.26</td>\n",
              "      <td>2911.69</td>\n",
              "    </tr>\n",
              "  </tbody>\n",
              "</table>\n",
              "</div>"
            ],
            "text/plain": [
              "          City  Cappuccino  Cinema  ...  Gasoline  Avg Rent  Avg Disposable Income\n",
              "0       Aachen        2.05    6.88  ...      1.33    767.23                1619.72\n",
              "1     Aberdeen        1.99    6.98  ...      1.37   1195.74                1743.78\n",
              "2    Abu Dhabi        2.67    6.23  ...      0.30   1779.93                2135.92\n",
              "3  Addis Ababa        0.46    2.29  ...      0.72    653.77                 124.22\n",
              "4     Adelaide        2.49   11.42  ...      0.95   1382.26                2911.69\n",
              "\n",
              "[5 rows x 7 columns]"
            ]
          },
          "metadata": {
            "tags": []
          },
          "execution_count": 6
        }
      ]
    },
    {
      "cell_type": "code",
      "metadata": {
        "colab": {
          "base_uri": "https://localhost:8080/",
          "height": 204
        },
        "id": "TO98Op-QZUbQ",
        "outputId": "300c5533-5bdc-45e7-f190-9962987ed779"
      },
      "source": [
        "# Ver as 5 primeiras entradas do df3\r\n",
        "df3.head()"
      ],
      "execution_count": 7,
      "outputs": [
        {
          "output_type": "execute_result",
          "data": {
            "text/html": [
              "<div>\n",
              "<style scoped>\n",
              "    .dataframe tbody tr th:only-of-type {\n",
              "        vertical-align: middle;\n",
              "    }\n",
              "\n",
              "    .dataframe tbody tr th {\n",
              "        vertical-align: top;\n",
              "    }\n",
              "\n",
              "    .dataframe thead th {\n",
              "        text-align: right;\n",
              "    }\n",
              "</style>\n",
              "<table border=\"1\" class=\"dataframe\">\n",
              "  <thead>\n",
              "    <tr style=\"text-align: right;\">\n",
              "      <th></th>\n",
              "      <th>City</th>\n",
              "      <th>Movehub Rating</th>\n",
              "      <th>Purchase Power</th>\n",
              "      <th>Health Care</th>\n",
              "      <th>Pollution</th>\n",
              "      <th>Quality of Life</th>\n",
              "      <th>Crime Rating</th>\n",
              "    </tr>\n",
              "  </thead>\n",
              "  <tbody>\n",
              "    <tr>\n",
              "      <th>0</th>\n",
              "      <td>Aachen</td>\n",
              "      <td>81.64</td>\n",
              "      <td>60.55</td>\n",
              "      <td>73.25</td>\n",
              "      <td>11.69</td>\n",
              "      <td>90.52</td>\n",
              "      <td>15.34</td>\n",
              "    </tr>\n",
              "    <tr>\n",
              "      <th>1</th>\n",
              "      <td>Aberdeen</td>\n",
              "      <td>81.89</td>\n",
              "      <td>49.70</td>\n",
              "      <td>82.86</td>\n",
              "      <td>34.31</td>\n",
              "      <td>76.77</td>\n",
              "      <td>24.22</td>\n",
              "    </tr>\n",
              "    <tr>\n",
              "      <th>2</th>\n",
              "      <td>Abu Dhabi</td>\n",
              "      <td>86.40</td>\n",
              "      <td>68.03</td>\n",
              "      <td>48.02</td>\n",
              "      <td>53.42</td>\n",
              "      <td>80.80</td>\n",
              "      <td>10.86</td>\n",
              "    </tr>\n",
              "    <tr>\n",
              "      <th>3</th>\n",
              "      <td>Addis Ababa</td>\n",
              "      <td>59.88</td>\n",
              "      <td>6.38</td>\n",
              "      <td>63.89</td>\n",
              "      <td>85.59</td>\n",
              "      <td>28.41</td>\n",
              "      <td>26.04</td>\n",
              "    </tr>\n",
              "    <tr>\n",
              "      <th>4</th>\n",
              "      <td>Adelaide</td>\n",
              "      <td>87.29</td>\n",
              "      <td>72.03</td>\n",
              "      <td>56.25</td>\n",
              "      <td>12.01</td>\n",
              "      <td>91.54</td>\n",
              "      <td>41.32</td>\n",
              "    </tr>\n",
              "  </tbody>\n",
              "</table>\n",
              "</div>"
            ],
            "text/plain": [
              "          City  Movehub Rating  ...  Quality of Life  Crime Rating\n",
              "0       Aachen           81.64  ...            90.52         15.34\n",
              "1     Aberdeen           81.89  ...            76.77         24.22\n",
              "2    Abu Dhabi           86.40  ...            80.80         10.86\n",
              "3  Addis Ababa           59.88  ...            28.41         26.04\n",
              "4     Adelaide           87.29  ...            91.54         41.32\n",
              "\n",
              "[5 rows x 7 columns]"
            ]
          },
          "metadata": {
            "tags": []
          },
          "execution_count": 7
        }
      ]
    },
    {
      "cell_type": "markdown",
      "metadata": {
        "id": "BeOJCm_kbtY3"
      },
      "source": [
        "Pela visualização acima, notamos que das 5 cidades que a aparecem no df1 apenas Aachen (Alemanha) aparece no df2 e no df3."
      ]
    },
    {
      "cell_type": "markdown",
      "metadata": {
        "id": "ygPyAfqyiG0X"
      },
      "source": [
        "## Análise Inicial"
      ]
    },
    {
      "cell_type": "markdown",
      "metadata": {
        "id": "qRraHhONdsVN"
      },
      "source": [
        "### Dados Faltantes"
      ]
    },
    {
      "cell_type": "markdown",
      "metadata": {
        "id": "ps6t2k-geKKg"
      },
      "source": [
        "Nesse momento, estamos interessados em saber se existem dados faltantes nos datasets. Para isso, utilizaremos a biblioteca **MissingNo** que nos proporcionará uma visualização interativa dos famosos dados ‘NaN’.\r\n",
        "\r\n",
        "Vale lembrar, para os que nunca viram essa biblioteca, que para sabermos a quantidade de valores faltantes basta olharmos o número que fica em cima da barra da variável e compará-lo com o númerona parte superior direita, se forem iguais não existem dados faltantes e caso sejam diferentes temos valores faltantes. "
      ]
    },
    {
      "cell_type": "markdown",
      "metadata": {
        "id": "-7KMgVHQhNgD"
      },
      "source": [
        "Por exemplo, para o **df1**, temos as variáveis `City` e `Country` com 3543 e 3540 valores, respectivamente. Ao olharmos pra parte superior direita vemos que o total de entradas são 3543 e, desta forma, percebemos que não existem dados nulos para `City` e já para `Country` temos 3 valores faltantes."
      ]
    },
    {
      "cell_type": "code",
      "metadata": {
        "colab": {
          "base_uri": "https://localhost:8080/",
          "height": 357
        },
        "id": "v5Afc7Woeaep",
        "outputId": "7d01c517-739e-4395-fbbd-9b2980c07787"
      },
      "source": [
        "# Dados faltantes de df1\r\n",
        "msno.bar(df1, figsize=(7, 4));"
      ],
      "execution_count": 22,
      "outputs": [
        {
          "output_type": "display_data",
          "data": {
            "image/png": "[encoded data removed]",
            "text/plain": [
              "<Figure size 504x288 with 3 Axes>"
            ]
          },
          "metadata": {
            "tags": [],
            "needs_background": "light"
          }
        }
      ]
    },
    {
      "cell_type": "markdown",
      "metadata": {
        "id": "EBjapC4rhbEX"
      },
      "source": [
        "Na sequência, vemos que para **df2** e **df3** não existem valores nulos para nenhuma coluna."
      ]
    },
    {
      "cell_type": "code",
      "metadata": {
        "colab": {
          "base_uri": "https://localhost:8080/",
          "height": 437
        },
        "id": "vokY6IqIewT3",
        "outputId": "39854981-cbc0-451e-8ac6-a740b1caebe5"
      },
      "source": [
        "# Dados faltantes de df2\r\n",
        "msno.bar(df2, figsize=(7, 4));"
      ],
      "execution_count": 23,
      "outputs": [
        {
          "output_type": "display_data",
          "data": {
            "image/png": "[encoded data removed]",
            "text/plain": [
              "<Figure size 504x288 with 3 Axes>"
            ]
          },
          "metadata": {
            "tags": [],
            "needs_background": "light"
          }
        }
      ]
    },
    {
      "cell_type": "code",
      "metadata": {
        "colab": {
          "base_uri": "https://localhost:8080/",
          "height": 398
        },
        "id": "1-qQpU1xewhN",
        "outputId": "b6ce3b82-e7ea-4105-dcc9-3e588e513fee"
      },
      "source": [
        "# Dados faltantes de df3\r\n",
        "msno.bar(df3, figsize=(7, 4));"
      ],
      "execution_count": 24,
      "outputs": [
        {
          "output_type": "display_data",
          "data": {
            "image/png": "[encoded data removed]",
            "text/plain": [
              "<Figure size 504x288 with 3 Axes>"
            ]
          },
          "metadata": {
            "tags": [],
            "needs_background": "light"
          }
        }
      ]
    },
    {
      "cell_type": "markdown",
      "metadata": {
        "id": "xQVaMQ96hkng"
      },
      "source": [
        "### Outliers"
      ]
    },
    {
      "cell_type": "markdown",
      "metadata": {
        "id": "J-g_W5cCjLLQ"
      },
      "source": [
        "Ao fim de nossa breve análise inicial, queremos saber se existem outliers no nosso dataset para podermos tratá-los a fim de que, no futuro, eles não atrapalhem nossos insights.\r\n",
        "\r\n",
        "Ao fim de nossa breve análise inicial, queremos saber se existem outliers no nosso dataset para podermos tratá-los a fim de que, no futuro, eles não atrapalhem nossos insights. Assim, vamos usar o famigerado método *describe*."
      ]
    },
    {
      "cell_type": "code",
      "metadata": {
        "colab": {
          "base_uri": "https://localhost:8080/",
          "height": 173
        },
        "id": "k8ics0EGhn2r",
        "outputId": "a84d4a3f-906e-4369-a345-844693497577"
      },
      "source": [
        "# Estatísticas do df1\r\n",
        "df1.describe()"
      ],
      "execution_count": 25,
      "outputs": [
        {
          "output_type": "execute_result",
          "data": {
            "text/html": [
              "<div>\n",
              "<style scoped>\n",
              "    .dataframe tbody tr th:only-of-type {\n",
              "        vertical-align: middle;\n",
              "    }\n",
              "\n",
              "    .dataframe tbody tr th {\n",
              "        vertical-align: top;\n",
              "    }\n",
              "\n",
              "    .dataframe thead th {\n",
              "        text-align: right;\n",
              "    }\n",
              "</style>\n",
              "<table border=\"1\" class=\"dataframe\">\n",
              "  <thead>\n",
              "    <tr style=\"text-align: right;\">\n",
              "      <th></th>\n",
              "      <th>City</th>\n",
              "      <th>Country</th>\n",
              "    </tr>\n",
              "  </thead>\n",
              "  <tbody>\n",
              "    <tr>\n",
              "      <th>count</th>\n",
              "      <td>3543</td>\n",
              "      <td>3540</td>\n",
              "    </tr>\n",
              "    <tr>\n",
              "      <th>unique</th>\n",
              "      <td>3489</td>\n",
              "      <td>175</td>\n",
              "    </tr>\n",
              "    <tr>\n",
              "      <th>top</th>\n",
              "      <td>City</td>\n",
              "      <td>China</td>\n",
              "    </tr>\n",
              "    <tr>\n",
              "      <th>freq</th>\n",
              "      <td>24</td>\n",
              "      <td>435</td>\n",
              "    </tr>\n",
              "  </tbody>\n",
              "</table>\n",
              "</div>"
            ],
            "text/plain": [
              "        City Country\n",
              "count   3543    3540\n",
              "unique  3489     175\n",
              "top     City   China\n",
              "freq      24     435"
            ]
          },
          "metadata": {
            "tags": []
          },
          "execution_count": 25
        }
      ]
    },
    {
      "cell_type": "markdown",
      "metadata": {
        "id": "fjNpaZWGkfdR"
      },
      "source": [
        "Na sequência, temos as estatísticas do df2. Nela podemos perceber a presença de outliers nas colunas `Cinema`, `Wine` e `Avg Rent`. Por exemplo, em `Cinema` enquanto 75% dos dados tem o valor de 7.85 o máximo tem 79.49 e já em `Wine` 75% tem o valor 8.47 o máximo tem 26.15."
      ]
    },
    {
      "cell_type": "code",
      "metadata": {
        "colab": {
          "base_uri": "https://localhost:8080/",
          "height": 297
        },
        "id": "hR6pN5q-hvcQ",
        "outputId": "4ec2f4c7-d0b0-4968-e72e-5c887456abfc"
      },
      "source": [
        "# Estatísticas do df2\r\n",
        "df2.describe()"
      ],
      "execution_count": 26,
      "outputs": [
        {
          "output_type": "execute_result",
          "data": {
            "text/html": [
              "<div>\n",
              "<style scoped>\n",
              "    .dataframe tbody tr th:only-of-type {\n",
              "        vertical-align: middle;\n",
              "    }\n",
              "\n",
              "    .dataframe tbody tr th {\n",
              "        vertical-align: top;\n",
              "    }\n",
              "\n",
              "    .dataframe thead th {\n",
              "        text-align: right;\n",
              "    }\n",
              "</style>\n",
              "<table border=\"1\" class=\"dataframe\">\n",
              "  <thead>\n",
              "    <tr style=\"text-align: right;\">\n",
              "      <th></th>\n",
              "      <th>Cappuccino</th>\n",
              "      <th>Cinema</th>\n",
              "      <th>Wine</th>\n",
              "      <th>Gasoline</th>\n",
              "      <th>Avg Rent</th>\n",
              "      <th>Avg Disposable Income</th>\n",
              "    </tr>\n",
              "  </thead>\n",
              "  <tbody>\n",
              "    <tr>\n",
              "      <th>count</th>\n",
              "      <td>216.000000</td>\n",
              "      <td>216.000000</td>\n",
              "      <td>216.000000</td>\n",
              "      <td>216.000000</td>\n",
              "      <td>216.000000</td>\n",
              "      <td>216.000000</td>\n",
              "    </tr>\n",
              "    <tr>\n",
              "      <th>mean</th>\n",
              "      <td>1.981481</td>\n",
              "      <td>6.775602</td>\n",
              "      <td>7.079722</td>\n",
              "      <td>1.001898</td>\n",
              "      <td>1092.979213</td>\n",
              "      <td>1413.530463</td>\n",
              "    </tr>\n",
              "    <tr>\n",
              "      <th>std</th>\n",
              "      <td>0.737131</td>\n",
              "      <td>5.632751</td>\n",
              "      <td>3.325691</td>\n",
              "      <td>0.351713</td>\n",
              "      <td>664.778486</td>\n",
              "      <td>912.013027</td>\n",
              "    </tr>\n",
              "    <tr>\n",
              "      <th>min</th>\n",
              "      <td>0.460000</td>\n",
              "      <td>1.810000</td>\n",
              "      <td>2.130000</td>\n",
              "      <td>0.070000</td>\n",
              "      <td>120.680000</td>\n",
              "      <td>120.680000</td>\n",
              "    </tr>\n",
              "    <tr>\n",
              "      <th>25%</th>\n",
              "      <td>1.320000</td>\n",
              "      <td>4.397500</td>\n",
              "      <td>4.260000</td>\n",
              "      <td>0.735000</td>\n",
              "      <td>609.015000</td>\n",
              "      <td>549.860000</td>\n",
              "    </tr>\n",
              "    <tr>\n",
              "      <th>50%</th>\n",
              "      <td>2.085000</td>\n",
              "      <td>6.540000</td>\n",
              "      <td>6.540000</td>\n",
              "      <td>0.950000</td>\n",
              "      <td>980.650000</td>\n",
              "      <td>1535.415000</td>\n",
              "    </tr>\n",
              "    <tr>\n",
              "      <th>75%</th>\n",
              "      <td>2.490000</td>\n",
              "      <td>7.850000</td>\n",
              "      <td>8.472500</td>\n",
              "      <td>1.320000</td>\n",
              "      <td>1388.095000</td>\n",
              "      <td>2053.812500</td>\n",
              "    </tr>\n",
              "    <tr>\n",
              "      <th>max</th>\n",
              "      <td>4.480000</td>\n",
              "      <td>79.490000</td>\n",
              "      <td>26.150000</td>\n",
              "      <td>1.690000</td>\n",
              "      <td>5052.310000</td>\n",
              "      <td>4266.110000</td>\n",
              "    </tr>\n",
              "  </tbody>\n",
              "</table>\n",
              "</div>"
            ],
            "text/plain": [
              "       Cappuccino      Cinema  ...     Avg Rent  Avg Disposable Income\n",
              "count  216.000000  216.000000  ...   216.000000             216.000000\n",
              "mean     1.981481    6.775602  ...  1092.979213            1413.530463\n",
              "std      0.737131    5.632751  ...   664.778486             912.013027\n",
              "min      0.460000    1.810000  ...   120.680000             120.680000\n",
              "25%      1.320000    4.397500  ...   609.015000             549.860000\n",
              "50%      2.085000    6.540000  ...   980.650000            1535.415000\n",
              "75%      2.490000    7.850000  ...  1388.095000            2053.812500\n",
              "max      4.480000   79.490000  ...  5052.310000            4266.110000\n",
              "\n",
              "[8 rows x 6 columns]"
            ]
          },
          "metadata": {
            "tags": []
          },
          "execution_count": 26
        }
      ]
    },
    {
      "cell_type": "markdown",
      "metadata": {
        "id": "ERFvqTqrk6Dy"
      },
      "source": [
        "Por fim, nas estatísticas do df3 vemos que os dados estão bem distribuídos e não existem outliers que vão nos atrapalhar."
      ]
    },
    {
      "cell_type": "code",
      "metadata": {
        "colab": {
          "base_uri": "https://localhost:8080/",
          "height": 297
        },
        "id": "LeZ1x2l1h4UK",
        "outputId": "aa9c0b5f-57d0-4337-b21d-88da5ba702aa"
      },
      "source": [
        "# Estatísticas do df3\r\n",
        "df3.describe()"
      ],
      "execution_count": 27,
      "outputs": [
        {
          "output_type": "execute_result",
          "data": {
            "text/html": [
              "<div>\n",
              "<style scoped>\n",
              "    .dataframe tbody tr th:only-of-type {\n",
              "        vertical-align: middle;\n",
              "    }\n",
              "\n",
              "    .dataframe tbody tr th {\n",
              "        vertical-align: top;\n",
              "    }\n",
              "\n",
              "    .dataframe thead th {\n",
              "        text-align: right;\n",
              "    }\n",
              "</style>\n",
              "<table border=\"1\" class=\"dataframe\">\n",
              "  <thead>\n",
              "    <tr style=\"text-align: right;\">\n",
              "      <th></th>\n",
              "      <th>Movehub Rating</th>\n",
              "      <th>Purchase Power</th>\n",
              "      <th>Health Care</th>\n",
              "      <th>Pollution</th>\n",
              "      <th>Quality of Life</th>\n",
              "      <th>Crime Rating</th>\n",
              "    </tr>\n",
              "  </thead>\n",
              "  <tbody>\n",
              "    <tr>\n",
              "      <th>count</th>\n",
              "      <td>216.000000</td>\n",
              "      <td>216.000000</td>\n",
              "      <td>216.000000</td>\n",
              "      <td>216.000000</td>\n",
              "      <td>216.000000</td>\n",
              "      <td>216.000000</td>\n",
              "    </tr>\n",
              "    <tr>\n",
              "      <th>mean</th>\n",
              "      <td>79.676713</td>\n",
              "      <td>46.477176</td>\n",
              "      <td>66.442824</td>\n",
              "      <td>45.240370</td>\n",
              "      <td>59.994537</td>\n",
              "      <td>41.338611</td>\n",
              "    </tr>\n",
              "    <tr>\n",
              "      <th>std</th>\n",
              "      <td>6.501011</td>\n",
              "      <td>20.614519</td>\n",
              "      <td>14.416412</td>\n",
              "      <td>25.369741</td>\n",
              "      <td>22.019376</td>\n",
              "      <td>16.416409</td>\n",
              "    </tr>\n",
              "    <tr>\n",
              "      <th>min</th>\n",
              "      <td>59.880000</td>\n",
              "      <td>6.380000</td>\n",
              "      <td>20.830000</td>\n",
              "      <td>0.000000</td>\n",
              "      <td>5.290000</td>\n",
              "      <td>9.110000</td>\n",
              "    </tr>\n",
              "    <tr>\n",
              "      <th>25%</th>\n",
              "      <td>75.070000</td>\n",
              "      <td>28.815000</td>\n",
              "      <td>59.420000</td>\n",
              "      <td>24.410000</td>\n",
              "      <td>42.752500</td>\n",
              "      <td>29.375000</td>\n",
              "    </tr>\n",
              "    <tr>\n",
              "      <th>50%</th>\n",
              "      <td>81.060000</td>\n",
              "      <td>49.220000</td>\n",
              "      <td>67.685000</td>\n",
              "      <td>37.210000</td>\n",
              "      <td>65.150000</td>\n",
              "      <td>41.140000</td>\n",
              "    </tr>\n",
              "    <tr>\n",
              "      <th>75%</th>\n",
              "      <td>84.020000</td>\n",
              "      <td>61.607500</td>\n",
              "      <td>77.207500</td>\n",
              "      <td>67.675000</td>\n",
              "      <td>78.617500</td>\n",
              "      <td>51.327500</td>\n",
              "    </tr>\n",
              "    <tr>\n",
              "      <th>max</th>\n",
              "      <td>100.000000</td>\n",
              "      <td>91.850000</td>\n",
              "      <td>95.960000</td>\n",
              "      <td>92.420000</td>\n",
              "      <td>97.910000</td>\n",
              "      <td>85.700000</td>\n",
              "    </tr>\n",
              "  </tbody>\n",
              "</table>\n",
              "</div>"
            ],
            "text/plain": [
              "       Movehub Rating  Purchase Power  ...  Quality of Life  Crime Rating\n",
              "count      216.000000      216.000000  ...       216.000000    216.000000\n",
              "mean        79.676713       46.477176  ...        59.994537     41.338611\n",
              "std          6.501011       20.614519  ...        22.019376     16.416409\n",
              "min         59.880000        6.380000  ...         5.290000      9.110000\n",
              "25%         75.070000       28.815000  ...        42.752500     29.375000\n",
              "50%         81.060000       49.220000  ...        65.150000     41.140000\n",
              "75%         84.020000       61.607500  ...        78.617500     51.327500\n",
              "max        100.000000       91.850000  ...        97.910000     85.700000\n",
              "\n",
              "[8 rows x 6 columns]"
            ]
          },
          "metadata": {
            "tags": []
          },
          "execution_count": 27
        }
      ]
    },
    {
      "cell_type": "markdown",
      "metadata": {
        "id": "wttecDuSl2u9"
      },
      "source": [
        "### Concatenação dos Datasets df2 e df3"
      ]
    },
    {
      "cell_type": "code",
      "metadata": {
        "id": "PcdM5deKFoJ7"
      },
      "source": [
        "#df1.groupby('Country', inplace=True)"
      ],
      "execution_count": 9,
      "outputs": []
    },
    {
      "cell_type": "markdown",
      "metadata": {
        "id": "bgWLAYLomIjl"
      },
      "source": [
        "Para facilitar o trabalho futuro, vamos concatenar df2 com df3."
      ]
    },
    {
      "cell_type": "code",
      "metadata": {
        "id": "JRhVkHARRSuH"
      },
      "source": [
        "#df2.set_index('City', inplace=True)\r\n",
        "#df3.set_index('City', inplace=True)"
      ],
      "execution_count": 10,
      "outputs": []
    },
    {
      "cell_type": "code",
      "metadata": {
        "colab": {
          "base_uri": "https://localhost:8080/",
          "height": 419
        },
        "id": "zl3cSENrMeOq",
        "outputId": "9a921374-5c5a-4900-f00a-ff969ad6e2dc"
      },
      "source": [
        "# Excluir a coluna City que ficaria duplicada\r\n",
        "df3.drop(columns='City', inplace=True)\r\n",
        "\r\n",
        "# Concatenação dos datasets df2 e df3\r\n",
        "df_concat = pd.concat(objs=[df2, df3], axis=1)\r\n",
        "df_concat"
      ],
      "execution_count": 11,
      "outputs": [
        {
          "output_type": "execute_result",
          "data": {
            "text/html": [
              "<div>\n",
              "<style scoped>\n",
              "    .dataframe tbody tr th:only-of-type {\n",
              "        vertical-align: middle;\n",
              "    }\n",
              "\n",
              "    .dataframe tbody tr th {\n",
              "        vertical-align: top;\n",
              "    }\n",
              "\n",
              "    .dataframe thead th {\n",
              "        text-align: right;\n",
              "    }\n",
              "</style>\n",
              "<table border=\"1\" class=\"dataframe\">\n",
              "  <thead>\n",
              "    <tr style=\"text-align: right;\">\n",
              "      <th></th>\n",
              "      <th>City</th>\n",
              "      <th>Cappuccino</th>\n",
              "      <th>Cinema</th>\n",
              "      <th>Wine</th>\n",
              "      <th>Gasoline</th>\n",
              "      <th>Avg Rent</th>\n",
              "      <th>Avg Disposable Income</th>\n",
              "      <th>Movehub Rating</th>\n",
              "      <th>Purchase Power</th>\n",
              "      <th>Health Care</th>\n",
              "      <th>Pollution</th>\n",
              "      <th>Quality of Life</th>\n",
              "      <th>Crime Rating</th>\n",
              "    </tr>\n",
              "  </thead>\n",
              "  <tbody>\n",
              "    <tr>\n",
              "      <th>0</th>\n",
              "      <td>Aachen</td>\n",
              "      <td>2.05</td>\n",
              "      <td>6.88</td>\n",
              "      <td>4.26</td>\n",
              "      <td>1.33</td>\n",
              "      <td>767.23</td>\n",
              "      <td>1619.72</td>\n",
              "      <td>81.64</td>\n",
              "      <td>60.55</td>\n",
              "      <td>73.25</td>\n",
              "      <td>11.69</td>\n",
              "      <td>90.52</td>\n",
              "      <td>15.34</td>\n",
              "    </tr>\n",
              "    <tr>\n",
              "      <th>1</th>\n",
              "      <td>Aberdeen</td>\n",
              "      <td>1.99</td>\n",
              "      <td>6.98</td>\n",
              "      <td>5.98</td>\n",
              "      <td>1.37</td>\n",
              "      <td>1195.74</td>\n",
              "      <td>1743.78</td>\n",
              "      <td>81.89</td>\n",
              "      <td>49.70</td>\n",
              "      <td>82.86</td>\n",
              "      <td>34.31</td>\n",
              "      <td>76.77</td>\n",
              "      <td>24.22</td>\n",
              "    </tr>\n",
              "    <tr>\n",
              "      <th>2</th>\n",
              "      <td>Abu Dhabi</td>\n",
              "      <td>2.67</td>\n",
              "      <td>6.23</td>\n",
              "      <td>13.73</td>\n",
              "      <td>0.30</td>\n",
              "      <td>1779.93</td>\n",
              "      <td>2135.92</td>\n",
              "      <td>86.40</td>\n",
              "      <td>68.03</td>\n",
              "      <td>48.02</td>\n",
              "      <td>53.42</td>\n",
              "      <td>80.80</td>\n",
              "      <td>10.86</td>\n",
              "    </tr>\n",
              "    <tr>\n",
              "      <th>3</th>\n",
              "      <td>Addis Ababa</td>\n",
              "      <td>0.46</td>\n",
              "      <td>2.29</td>\n",
              "      <td>4.18</td>\n",
              "      <td>0.72</td>\n",
              "      <td>653.77</td>\n",
              "      <td>124.22</td>\n",
              "      <td>59.88</td>\n",
              "      <td>6.38</td>\n",
              "      <td>63.89</td>\n",
              "      <td>85.59</td>\n",
              "      <td>28.41</td>\n",
              "      <td>26.04</td>\n",
              "    </tr>\n",
              "    <tr>\n",
              "      <th>4</th>\n",
              "      <td>Adelaide</td>\n",
              "      <td>2.49</td>\n",
              "      <td>11.42</td>\n",
              "      <td>10.08</td>\n",
              "      <td>0.95</td>\n",
              "      <td>1382.26</td>\n",
              "      <td>2911.69</td>\n",
              "      <td>87.29</td>\n",
              "      <td>72.03</td>\n",
              "      <td>56.25</td>\n",
              "      <td>12.01</td>\n",
              "      <td>91.54</td>\n",
              "      <td>41.32</td>\n",
              "    </tr>\n",
              "    <tr>\n",
              "      <th>...</th>\n",
              "      <td>...</td>\n",
              "      <td>...</td>\n",
              "      <td>...</td>\n",
              "      <td>...</td>\n",
              "      <td>...</td>\n",
              "      <td>...</td>\n",
              "      <td>...</td>\n",
              "      <td>...</td>\n",
              "      <td>...</td>\n",
              "      <td>...</td>\n",
              "      <td>...</td>\n",
              "      <td>...</td>\n",
              "      <td>...</td>\n",
              "    </tr>\n",
              "    <tr>\n",
              "      <th>211</th>\n",
              "      <td>Warsaw</td>\n",
              "      <td>1.66</td>\n",
              "      <td>5.19</td>\n",
              "      <td>5.19</td>\n",
              "      <td>1.18</td>\n",
              "      <td>726.59</td>\n",
              "      <td>664.31</td>\n",
              "      <td>76.76</td>\n",
              "      <td>35.77</td>\n",
              "      <td>63.33</td>\n",
              "      <td>86.16</td>\n",
              "      <td>51.82</td>\n",
              "      <td>32.03</td>\n",
              "    </tr>\n",
              "    <tr>\n",
              "      <th>212</th>\n",
              "      <td>Washington</td>\n",
              "      <td>2.37</td>\n",
              "      <td>7.85</td>\n",
              "      <td>7.85</td>\n",
              "      <td>0.69</td>\n",
              "      <td>2451.63</td>\n",
              "      <td>2484.32</td>\n",
              "      <td>81.74</td>\n",
              "      <td>56.61</td>\n",
              "      <td>64.44</td>\n",
              "      <td>30.55</td>\n",
              "      <td>76.92</td>\n",
              "      <td>51.43</td>\n",
              "    </tr>\n",
              "    <tr>\n",
              "      <th>213</th>\n",
              "      <td>Wellington</td>\n",
              "      <td>2.20</td>\n",
              "      <td>8.82</td>\n",
              "      <td>8.27</td>\n",
              "      <td>1.17</td>\n",
              "      <td>1515.65</td>\n",
              "      <td>1763.67</td>\n",
              "      <td>81.06</td>\n",
              "      <td>49.11</td>\n",
              "      <td>73.72</td>\n",
              "      <td>30.55</td>\n",
              "      <td>79.83</td>\n",
              "      <td>27.38</td>\n",
              "    </tr>\n",
              "    <tr>\n",
              "      <th>214</th>\n",
              "      <td>Zagreb</td>\n",
              "      <td>1.12</td>\n",
              "      <td>3.70</td>\n",
              "      <td>4.48</td>\n",
              "      <td>1.23</td>\n",
              "      <td>504.36</td>\n",
              "      <td>605.23</td>\n",
              "      <td>73.84</td>\n",
              "      <td>26.71</td>\n",
              "      <td>52.78</td>\n",
              "      <td>83.45</td>\n",
              "      <td>47.59</td>\n",
              "      <td>32.29</td>\n",
              "    </tr>\n",
              "    <tr>\n",
              "      <th>215</th>\n",
              "      <td>Zurich</td>\n",
              "      <td>3.28</td>\n",
              "      <td>12.59</td>\n",
              "      <td>8.40</td>\n",
              "      <td>1.31</td>\n",
              "      <td>2378.61</td>\n",
              "      <td>4197.55</td>\n",
              "      <td>85.89</td>\n",
              "      <td>79.58</td>\n",
              "      <td>78.33</td>\n",
              "      <td>18.04</td>\n",
              "      <td>97.91</td>\n",
              "      <td>15.35</td>\n",
              "    </tr>\n",
              "  </tbody>\n",
              "</table>\n",
              "<p>216 rows × 13 columns</p>\n",
              "</div>"
            ],
            "text/plain": [
              "            City  Cappuccino  Cinema  ...  Pollution  Quality of Life  Crime Rating\n",
              "0         Aachen        2.05    6.88  ...      11.69            90.52         15.34\n",
              "1       Aberdeen        1.99    6.98  ...      34.31            76.77         24.22\n",
              "2      Abu Dhabi        2.67    6.23  ...      53.42            80.80         10.86\n",
              "3    Addis Ababa        0.46    2.29  ...      85.59            28.41         26.04\n",
              "4       Adelaide        2.49   11.42  ...      12.01            91.54         41.32\n",
              "..           ...         ...     ...  ...        ...              ...           ...\n",
              "211       Warsaw        1.66    5.19  ...      86.16            51.82         32.03\n",
              "212   Washington        2.37    7.85  ...      30.55            76.92         51.43\n",
              "213   Wellington        2.20    8.82  ...      30.55            79.83         27.38\n",
              "214       Zagreb        1.12    3.70  ...      83.45            47.59         32.29\n",
              "215       Zurich        3.28   12.59  ...      18.04            97.91         15.35\n",
              "\n",
              "[216 rows x 13 columns]"
            ]
          },
          "metadata": {
            "tags": []
          },
          "execution_count": 11
        }
      ]
    },
    {
      "cell_type": "markdown",
      "metadata": {
        "id": "DHTL1AHtdhgW"
      },
      "source": [
        "Em seguida, vamos dar uma olhada nas informações do df_concat."
      ]
    },
    {
      "cell_type": "code",
      "metadata": {
        "colab": {
          "base_uri": "https://localhost:8080/"
        },
        "id": "aeOxpTRgWd-p",
        "outputId": "292980e0-9cb7-4fdd-d08b-fb8403c96ea2"
      },
      "source": [
        "df_concat.info()"
      ],
      "execution_count": 12,
      "outputs": [
        {
          "output_type": "stream",
          "text": [
            "<class 'pandas.core.frame.DataFrame'>\n",
            "RangeIndex: 216 entries, 0 to 215\n",
            "Data columns (total 13 columns):\n",
            " #   Column                 Non-Null Count  Dtype  \n",
            "---  ------                 --------------  -----  \n",
            " 0   City                   216 non-null    object \n",
            " 1   Cappuccino             216 non-null    float64\n",
            " 2   Cinema                 216 non-null    float64\n",
            " 3   Wine                   216 non-null    float64\n",
            " 4   Gasoline               216 non-null    float64\n",
            " 5   Avg Rent               216 non-null    float64\n",
            " 6   Avg Disposable Income  216 non-null    float64\n",
            " 7   Movehub Rating         216 non-null    float64\n",
            " 8   Purchase Power         216 non-null    float64\n",
            " 9   Health Care            216 non-null    float64\n",
            " 10  Pollution              216 non-null    float64\n",
            " 11  Quality of Life        216 non-null    float64\n",
            " 12  Crime Rating           216 non-null    float64\n",
            "dtypes: float64(12), object(1)\n",
            "memory usage: 22.1+ KB\n"
          ],
          "name": "stdout"
        }
      ]
    },
    {
      "cell_type": "markdown",
      "metadata": {
        "id": "1xu2F1DDnbDQ"
      },
      "source": [
        "## Histograma das Variáveis"
      ]
    },
    {
      "cell_type": "markdown",
      "metadata": {
        "id": "R5COEtVyL7jO"
      },
      "source": [
        "Abaixo vemos o histograma das variáveis numéricas do dataset *df_concat*. Com ele podemos ver novamente a presença de outliers nas variáveis que já listamos."
      ]
    },
    {
      "cell_type": "code",
      "metadata": {
        "colab": {
          "base_uri": "https://localhost:8080/",
          "height": 716
        },
        "id": "9i89qzv8ndin",
        "outputId": "742c7a51-7f55-4a75-8d12-17d6ea9c10b4"
      },
      "source": [
        "# Histograma\r\n",
        "df_concat.hist(bins=30, figsize=(15,12));"
      ],
      "execution_count": 32,
      "outputs": [
        {
          "output_type": "display_data",
          "data": {
            "image/png": "[encoded data removed]",
            "text/plain": [
              "<Figure size 1080x864 with 12 Axes>"
            ]
          },
          "metadata": {
            "tags": [],
            "needs_background": "light"
          }
        }
      ]
    },
    {
      "cell_type": "markdown",
      "metadata": {
        "id": "yds0ERHHMDba"
      },
      "source": [
        "Assim para uma melhor visualização, vamos excluir os outliers."
      ]
    },
    {
      "cell_type": "code",
      "metadata": {
        "id": "FcYr8ESFMHRj"
      },
      "source": [
        "#Remover os outliers\r\n",
        "df_clean = df_concat.copy()\r\n",
        "df_clean.drop(df_clean[df_clean['Cinema']> 30].index, axis=0, inplace=True)\r\n",
        "df_clean.drop(df_clean[df_clean['Avg Rent']>3500].index, axis=0, inplace=True)\r\n",
        "df_clean.drop(df_clean[df_clean['Wine']>15].index, axis=0, inplace=True)"
      ],
      "execution_count": 120,
      "outputs": []
    },
    {
      "cell_type": "markdown",
      "metadata": {
        "id": "r5Gka2gWN5qf"
      },
      "source": [
        "Plotando novamente o histograma, só que agora sem os outliers, percebemos uma melhora na qualidade da visualização que nos permite entender melhor os dados."
      ]
    },
    {
      "cell_type": "code",
      "metadata": {
        "colab": {
          "base_uri": "https://localhost:8080/",
          "height": 716
        },
        "id": "fJc80IdDMY0a",
        "outputId": "acb7514b-c517-42f9-dc2b-4b5aa9cde6e6"
      },
      "source": [
        "# Histograma\r\n",
        "df_clean.hist(bins=30, figsize=(15,12));"
      ],
      "execution_count": 121,
      "outputs": [
        {
          "output_type": "display_data",
          "data": {
            "image/png": "[encoded data removed]",
            "text/plain": [
              "<Figure size 1080x864 with 12 Axes>"
            ]
          },
          "metadata": {
            "tags": [],
            "needs_background": "light"
          }
        }
      ]
    },
    {
      "cell_type": "markdown",
      "metadata": {
        "id": "_-q2iy-ekVbk"
      },
      "source": [
        "Por exemplo, para a variável `Wine`, temos 2 picos no gráfico um para valores um pouco maiores do que 4 e outro para o valor 8. Além disso, notamos que os preços sem os outliers variam do valor 2 ate aproximadamente o valor 14. \r\n",
        "\r\n",
        "Um insight interessante sobre isso, seria o cuidado ao colocar o valor do vinho maior do que 10, pois vemos uma pouca quantidade e isso pode significar que outros locais tentaram vender acima não conseguiram e posteriormente baixaram o preço! \r\n"
      ]
    },
    {
      "cell_type": "markdown",
      "metadata": {
        "id": "VGSiOj4kjNu_"
      },
      "source": [
        "## Movehub Rating"
      ]
    },
    {
      "cell_type": "markdown",
      "metadata": {
        "id": "vJe0BO3nWfnl"
      },
      "source": [
        "Na sequência, analisaremos quais são as 10 cidades mais bem classificadas pela Movehub."
      ]
    },
    {
      "cell_type": "code",
      "metadata": {
        "colab": {
          "base_uri": "https://localhost:8080/",
          "height": 359
        },
        "id": "wKHf1oIgTxNO",
        "outputId": "93612909-7030-4b14-cb8c-913e8d70abe5"
      },
      "source": [
        "# Ver as 10 Cidades que tem a maior classificação pela Movehub Rating\r\n",
        "df_concat.sort_values(by='Movehub Rating', ascending=False).head(10)"
      ],
      "execution_count": 40,
      "outputs": [
        {
          "output_type": "execute_result",
          "data": {
            "text/html": [
              "<div>\n",
              "<style scoped>\n",
              "    .dataframe tbody tr th:only-of-type {\n",
              "        vertical-align: middle;\n",
              "    }\n",
              "\n",
              "    .dataframe tbody tr th {\n",
              "        vertical-align: top;\n",
              "    }\n",
              "\n",
              "    .dataframe thead th {\n",
              "        text-align: right;\n",
              "    }\n",
              "</style>\n",
              "<table border=\"1\" class=\"dataframe\">\n",
              "  <thead>\n",
              "    <tr style=\"text-align: right;\">\n",
              "      <th></th>\n",
              "      <th>City</th>\n",
              "      <th>Cappuccino</th>\n",
              "      <th>Cinema</th>\n",
              "      <th>Wine</th>\n",
              "      <th>Gasoline</th>\n",
              "      <th>Avg Rent</th>\n",
              "      <th>Avg Disposable Income</th>\n",
              "      <th>Movehub Rating</th>\n",
              "      <th>Purchase Power</th>\n",
              "      <th>Health Care</th>\n",
              "      <th>Pollution</th>\n",
              "      <th>Quality of Life</th>\n",
              "      <th>Crime Rating</th>\n",
              "    </tr>\n",
              "  </thead>\n",
              "  <tbody>\n",
              "    <tr>\n",
              "      <th>115</th>\n",
              "      <td>London</td>\n",
              "      <td>2.49</td>\n",
              "      <td>11.26</td>\n",
              "      <td>6.98</td>\n",
              "      <td>1.40</td>\n",
              "      <td>2590.76</td>\n",
              "      <td>1992.89</td>\n",
              "      <td>100.00</td>\n",
              "      <td>53.17</td>\n",
              "      <td>69.53</td>\n",
              "      <td>57.95</td>\n",
              "      <td>47.89</td>\n",
              "      <td>50.14</td>\n",
              "    </tr>\n",
              "    <tr>\n",
              "      <th>66</th>\n",
              "      <td>Dubai</td>\n",
              "      <td>2.62</td>\n",
              "      <td>6.23</td>\n",
              "      <td>12.77</td>\n",
              "      <td>0.31</td>\n",
              "      <td>1981.57</td>\n",
              "      <td>2313.91</td>\n",
              "      <td>98.44</td>\n",
              "      <td>69.64</td>\n",
              "      <td>67.78</td>\n",
              "      <td>30.81</td>\n",
              "      <td>85.16</td>\n",
              "      <td>19.36</td>\n",
              "    </tr>\n",
              "    <tr>\n",
              "      <th>154</th>\n",
              "      <td>Paris</td>\n",
              "      <td>2.56</td>\n",
              "      <td>8.95</td>\n",
              "      <td>5.11</td>\n",
              "      <td>1.32</td>\n",
              "      <td>2131.21</td>\n",
              "      <td>2045.96</td>\n",
              "      <td>95.92</td>\n",
              "      <td>47.08</td>\n",
              "      <td>83.33</td>\n",
              "      <td>59.18</td>\n",
              "      <td>52.62</td>\n",
              "      <td>53.75</td>\n",
              "    </tr>\n",
              "    <tr>\n",
              "      <th>156</th>\n",
              "      <td>Perth</td>\n",
              "      <td>2.87</td>\n",
              "      <td>11.43</td>\n",
              "      <td>10.08</td>\n",
              "      <td>0.97</td>\n",
              "      <td>2083.14</td>\n",
              "      <td>3358.55</td>\n",
              "      <td>95.38</td>\n",
              "      <td>62.11</td>\n",
              "      <td>80.56</td>\n",
              "      <td>23.53</td>\n",
              "      <td>74.62</td>\n",
              "      <td>50.01</td>\n",
              "    </tr>\n",
              "    <tr>\n",
              "      <th>190</th>\n",
              "      <td>Sydney</td>\n",
              "      <td>2.35</td>\n",
              "      <td>12.10</td>\n",
              "      <td>10.75</td>\n",
              "      <td>1.00</td>\n",
              "      <td>2788.71</td>\n",
              "      <td>2755.12</td>\n",
              "      <td>94.53</td>\n",
              "      <td>54.82</td>\n",
              "      <td>71.27</td>\n",
              "      <td>18.48</td>\n",
              "      <td>74.32</td>\n",
              "      <td>32.80</td>\n",
              "    </tr>\n",
              "    <tr>\n",
              "      <th>128</th>\n",
              "      <td>Melbourne</td>\n",
              "      <td>2.35</td>\n",
              "      <td>12.10</td>\n",
              "      <td>10.08</td>\n",
              "      <td>0.95</td>\n",
              "      <td>2073.06</td>\n",
              "      <td>2623.41</td>\n",
              "      <td>92.58</td>\n",
              "      <td>55.48</td>\n",
              "      <td>76.67</td>\n",
              "      <td>30.28</td>\n",
              "      <td>68.99</td>\n",
              "      <td>48.75</td>\n",
              "    </tr>\n",
              "    <tr>\n",
              "      <th>64</th>\n",
              "      <td>Doha</td>\n",
              "      <td>2.78</td>\n",
              "      <td>6.28</td>\n",
              "      <td>14.32</td>\n",
              "      <td>0.18</td>\n",
              "      <td>2221.74</td>\n",
              "      <td>2775.58</td>\n",
              "      <td>90.73</td>\n",
              "      <td>81.96</td>\n",
              "      <td>68.06</td>\n",
              "      <td>83.45</td>\n",
              "      <td>80.28</td>\n",
              "      <td>27.17</td>\n",
              "    </tr>\n",
              "    <tr>\n",
              "      <th>144</th>\n",
              "      <td>New York</td>\n",
              "      <td>2.58</td>\n",
              "      <td>8.50</td>\n",
              "      <td>9.81</td>\n",
              "      <td>0.69</td>\n",
              "      <td>3268.84</td>\n",
              "      <td>2530.09</td>\n",
              "      <td>90.53</td>\n",
              "      <td>55.56</td>\n",
              "      <td>51.39</td>\n",
              "      <td>12.01</td>\n",
              "      <td>61.94</td>\n",
              "      <td>47.33</td>\n",
              "    </tr>\n",
              "    <tr>\n",
              "      <th>67</th>\n",
              "      <td>Dublin</td>\n",
              "      <td>2.39</td>\n",
              "      <td>8.31</td>\n",
              "      <td>8.52</td>\n",
              "      <td>1.39</td>\n",
              "      <td>1278.72</td>\n",
              "      <td>1918.09</td>\n",
              "      <td>90.45</td>\n",
              "      <td>50.13</td>\n",
              "      <td>41.12</td>\n",
              "      <td>30.54</td>\n",
              "      <td>65.27</td>\n",
              "      <td>48.31</td>\n",
              "    </tr>\n",
              "    <tr>\n",
              "      <th>26</th>\n",
              "      <td>Berlin</td>\n",
              "      <td>1.88</td>\n",
              "      <td>6.82</td>\n",
              "      <td>3.84</td>\n",
              "      <td>1.36</td>\n",
              "      <td>916.42</td>\n",
              "      <td>1772.57</td>\n",
              "      <td>89.54</td>\n",
              "      <td>68.72</td>\n",
              "      <td>65.48</td>\n",
              "      <td>16.05</td>\n",
              "      <td>91.17</td>\n",
              "      <td>24.18</td>\n",
              "    </tr>\n",
              "  </tbody>\n",
              "</table>\n",
              "</div>"
            ],
            "text/plain": [
              "          City  Cappuccino  Cinema  ...  Pollution  Quality of Life  Crime Rating\n",
              "115     London        2.49   11.26  ...      57.95            47.89         50.14\n",
              "66       Dubai        2.62    6.23  ...      30.81            85.16         19.36\n",
              "154      Paris        2.56    8.95  ...      59.18            52.62         53.75\n",
              "156      Perth        2.87   11.43  ...      23.53            74.62         50.01\n",
              "190     Sydney        2.35   12.10  ...      18.48            74.32         32.80\n",
              "128  Melbourne        2.35   12.10  ...      30.28            68.99         48.75\n",
              "64        Doha        2.78    6.28  ...      83.45            80.28         27.17\n",
              "144   New York        2.58    8.50  ...      12.01            61.94         47.33\n",
              "67      Dublin        2.39    8.31  ...      30.54            65.27         48.31\n",
              "26      Berlin        1.88    6.82  ...      16.05            91.17         24.18\n",
              "\n",
              "[10 rows x 13 columns]"
            ]
          },
          "metadata": {
            "tags": []
          },
          "execution_count": 40
        }
      ]
    },
    {
      "cell_type": "markdown",
      "metadata": {
        "id": "MsUEPu61XX2L"
      },
      "source": [
        "Pelo ranking, Londres recebe a nota máxima (100) e é a cidade no topo da classificação. \r\n",
        "\r\n",
        "No entanto, ela merece? Vamos analisar rapidamente...\r\n",
        "\r\n",
        "Para isso, iremos considerar principalmente as variáveis `Avg Rent`,`Health Care`, `Pollution`, `Quality of Life`\te `Crime Rating` para, posteriormente, compararmos com Dubai, Peth e Berlin que estão na segunda, quarta e decima posição respectivamente.\r\n"
      ]
    },
    {
      "cell_type": "markdown",
      "metadata": {
        "id": "pykwdCzXbnXI"
      },
      "source": [
        "A primeira coisa a se destacar são os valores dos atributos destacados de Londres. Ela recebe 47.89 para qualidade de vida (pelo histograma acima vemos que tem países chegando a quase 100 o que torna esse valor de Londres péssimo), uma taxa criminal (50.14) acima da média dos outros países, uma poluição relativamente alta (57.95), um aluguel médio altíssimo (2590.76) e por fim uma taxa de cuidado de saúde de (69.53) que é relativamente boa (mas existem muitas cidades melhores como vimos no histograma).\r\n",
        "\r\n",
        "Comparando agora a cidade da Rainha com Dubai (segunda colocada no ranking), vemos que a cidade localizada nos Emirados Árabes Unidos tem números muito melhores para `Pollution`, `Quality of Life`, `Crime Rating` e `Avg Rating`, tendo um resultado pouco pior em `Health Care`.\r\n",
        "\r\n",
        "Esse padrão segue para Perth e Berlin que, ao todo, possuem números melhores nos atributos comparados.\r\n",
        "\r\n",
        "Assim, vemos que embora Londres esteja no topo do ranking existem cidades com uma qualidade de vida no geral bem melhor!\r\n"
      ]
    },
    {
      "cell_type": "markdown",
      "metadata": {
        "id": "EtRRt06QsZDM"
      },
      "source": [
        "## K-Means"
      ]
    },
    {
      "cell_type": "markdown",
      "metadata": {
        "id": "R2aEum8Q-ezM"
      },
      "source": [
        "### Elbow"
      ]
    },
    {
      "cell_type": "code",
      "metadata": {
        "id": "tPWnLlavt4Hi"
      },
      "source": [
        "X = df_concat[['Avg Rent','Quality of Life']]"
      ],
      "execution_count": 90,
      "outputs": []
    },
    {
      "cell_type": "code",
      "metadata": {
        "colab": {
          "base_uri": "https://localhost:8080/",
          "height": 307
        },
        "id": "--3qyAYnzint",
        "outputId": "e2259787-c26c-42c0-9255-ad0c7bdeb348"
      },
      "source": [
        "wcss = [] #Lista da distancia\r\n",
        "from sklearn.cluster import KMeans\r\n",
        "for i in range(1, 10):\r\n",
        "        kmeans = KMeans(n_clusters=i, random_state=0)\r\n",
        "        kmeans.fit(X) #FAZ O TREINAMENTO, OU SEJA, VOCE COLOCA A BASE DE DADOS QUE VOCE DESEJA TREINAR\r\n",
        "        wcss.append(kmeans.inertia_) #Salva o valor da distancia entre cada dado na lista wcss\r\n",
        "        \r\n",
        "#Grafico\r\n",
        "import matplotlib.pyplot as plt\r\n",
        "plt.plot(range(1, 10), wcss)\r\n",
        "plt.xlabel('Numero de Clusters')  \r\n",
        "plt.ylabel('WCSS')"
      ],
      "execution_count": 91,
      "outputs": [
        {
          "output_type": "execute_result",
          "data": {
            "text/plain": [
              "Text(0, 0.5, 'WCSS')"
            ]
          },
          "metadata": {
            "tags": []
          },
          "execution_count": 91
        },
        {
          "output_type": "display_data",
          "data": {
            "image/png": "[encoded data removed]",
            "text/plain": [
              "<Figure size 432x288 with 1 Axes>"
            ]
          },
          "metadata": {
            "tags": [],
            "needs_background": "light"
          }
        }
      ]
    },
    {
      "cell_type": "markdown",
      "metadata": {
        "id": "oO1a3uoSB_3b"
      },
      "source": [
        "### Agrupamento por: **Avg Rent** e **Quality of Life**\r\n"
      ]
    },
    {
      "cell_type": "code",
      "metadata": {
        "id": "gELw9UcYsalP"
      },
      "source": [
        "# 1. escolher e importar um modelo\r\n",
        "from sklearn.cluster import KMeans\r\n",
        "import matplotlib.pyplot as plt"
      ],
      "execution_count": 13,
      "outputs": []
    },
    {
      "cell_type": "code",
      "metadata": {
        "id": "3Qchy7Uks2vl"
      },
      "source": [
        "model = KMeans(n_clusters=4)"
      ],
      "execution_count": 92,
      "outputs": []
    },
    {
      "cell_type": "code",
      "metadata": {
        "id": "lncGz1hns3EK"
      },
      "source": [
        "model.fit(X);"
      ],
      "execution_count": 93,
      "outputs": []
    },
    {
      "cell_type": "code",
      "metadata": {
        "id": "1i44gwkZs3Gk"
      },
      "source": [
        "y_pred = model.predict(X)"
      ],
      "execution_count": 94,
      "outputs": []
    },
    {
      "cell_type": "code",
      "metadata": {
        "id": "i9_Fum35y4dP"
      },
      "source": [
        "centroides = model.cluster_centers_"
      ],
      "execution_count": 95,
      "outputs": []
    },
    {
      "cell_type": "code",
      "metadata": {
        "colab": {
          "base_uri": "https://localhost:8080/",
          "height": 483
        },
        "id": "8HWSoU6ns3IZ",
        "outputId": "44848a5e-10bc-48ea-9dcc-bcaad3334156"
      },
      "source": [
        "fig, ax = plt.subplots(figsize=(10,8))\r\n",
        "plt.scatter( 'Avg Rent', 'Quality of Life', data=X, c=y_pred, s=50, cmap='viridis')\r\n",
        "plt.scatter(centroides[:, 0], centroides[:, 1], marker=\"X\")\r\n",
        "plt.show()"
      ],
      "execution_count": 96,
      "outputs": [
        {
          "output_type": "display_data",
          "data": {
            "image/png": "[encoded data removed]",
            "text/plain": [
              "<Figure size 720x576 with 1 Axes>"
            ]
          },
          "metadata": {
            "tags": [],
            "needs_background": "light"
          }
        }
      ]
    },
    {
      "cell_type": "code",
      "metadata": {
        "id": "Mm0xfsLH049H"
      },
      "source": [
        "import numpy as np\r\n",
        "lista = np.column_stack((df_concat, y_pred)) #Une a base de dados e as previsoes\r\n",
        "lista = lista[lista[:,13].argsort()]"
      ],
      "execution_count": 74,
      "outputs": []
    },
    {
      "cell_type": "code",
      "metadata": {
        "id": "uoXffpSWGzoc"
      },
      "source": [
        "lista = pd.DataFrame(lista)"
      ],
      "execution_count": 75,
      "outputs": []
    },
    {
      "cell_type": "code",
      "metadata": {
        "id": "KljU4-B4Gz60"
      },
      "source": [
        "lista = lista[lista[13]==0].sort_values(by=11, ascending=False)"
      ],
      "execution_count": 76,
      "outputs": []
    },
    {
      "cell_type": "code",
      "metadata": {
        "id": "F_rvvWEzG09V"
      },
      "source": [
        "lista.drop(lista[lista[11]< 80].index, axis=0, inplace=True)"
      ],
      "execution_count": 79,
      "outputs": []
    },
    {
      "cell_type": "code",
      "metadata": {
        "colab": {
          "base_uri": "https://localhost:8080/",
          "height": 297
        },
        "id": "8bzSquOPG2Fy",
        "outputId": "1d01528d-10ab-4451-8ff3-a19bb9fa92cd"
      },
      "source": [
        "lista.sort_values(by=11, ascending=False)"
      ],
      "execution_count": 123,
      "outputs": [
        {
          "output_type": "execute_result",
          "data": {
            "text/html": [
              "<div>\n",
              "<style scoped>\n",
              "    .dataframe tbody tr th:only-of-type {\n",
              "        vertical-align: middle;\n",
              "    }\n",
              "\n",
              "    .dataframe tbody tr th {\n",
              "        vertical-align: top;\n",
              "    }\n",
              "\n",
              "    .dataframe thead th {\n",
              "        text-align: right;\n",
              "    }\n",
              "</style>\n",
              "<table border=\"1\" class=\"dataframe\">\n",
              "  <thead>\n",
              "    <tr style=\"text-align: right;\">\n",
              "      <th></th>\n",
              "      <th>0</th>\n",
              "      <th>1</th>\n",
              "      <th>2</th>\n",
              "      <th>3</th>\n",
              "      <th>4</th>\n",
              "      <th>5</th>\n",
              "      <th>6</th>\n",
              "      <th>7</th>\n",
              "      <th>8</th>\n",
              "      <th>9</th>\n",
              "      <th>10</th>\n",
              "      <th>11</th>\n",
              "      <th>12</th>\n",
              "      <th>13</th>\n",
              "    </tr>\n",
              "  </thead>\n",
              "  <tbody>\n",
              "    <tr>\n",
              "      <th>88</th>\n",
              "      <td>Berlin</td>\n",
              "      <td>1.88</td>\n",
              "      <td>6.82</td>\n",
              "      <td>3.84</td>\n",
              "      <td>1.36</td>\n",
              "      <td>916.42</td>\n",
              "      <td>1772.57</td>\n",
              "      <td>89.54</td>\n",
              "      <td>68.72</td>\n",
              "      <td>65.48</td>\n",
              "      <td>16.05</td>\n",
              "      <td>91.17</td>\n",
              "      <td>24.18</td>\n",
              "      <td>0</td>\n",
              "    </tr>\n",
              "    <tr>\n",
              "      <th>0</th>\n",
              "      <td>Aachen</td>\n",
              "      <td>2.05</td>\n",
              "      <td>6.88</td>\n",
              "      <td>4.26</td>\n",
              "      <td>1.33</td>\n",
              "      <td>767.23</td>\n",
              "      <td>1619.72</td>\n",
              "      <td>81.64</td>\n",
              "      <td>60.55</td>\n",
              "      <td>73.25</td>\n",
              "      <td>11.69</td>\n",
              "      <td>90.52</td>\n",
              "      <td>15.34</td>\n",
              "      <td>0</td>\n",
              "    </tr>\n",
              "    <tr>\n",
              "      <th>27</th>\n",
              "      <td>Hamilton</td>\n",
              "      <td>1.91</td>\n",
              "      <td>7.01</td>\n",
              "      <td>8.29</td>\n",
              "      <td>0.8</td>\n",
              "      <td>605.64</td>\n",
              "      <td>1593.78</td>\n",
              "      <td>81.34</td>\n",
              "      <td>56.52</td>\n",
              "      <td>86.67</td>\n",
              "      <td>81.68</td>\n",
              "      <td>84.83</td>\n",
              "      <td>35.68</td>\n",
              "      <td>0</td>\n",
              "    </tr>\n",
              "    <tr>\n",
              "      <th>77</th>\n",
              "      <td>Charlotte</td>\n",
              "      <td>2.15</td>\n",
              "      <td>5.23</td>\n",
              "      <td>7.19</td>\n",
              "      <td>0.6</td>\n",
              "      <td>915.28</td>\n",
              "      <td>2073.1</td>\n",
              "      <td>84.46</td>\n",
              "      <td>77.18</td>\n",
              "      <td>72.08</td>\n",
              "      <td>67.05</td>\n",
              "      <td>84.39</td>\n",
              "      <td>30.21</td>\n",
              "      <td>0</td>\n",
              "    </tr>\n",
              "    <tr>\n",
              "      <th>5</th>\n",
              "      <td>Liverpool</td>\n",
              "      <td>1.99</td>\n",
              "      <td>7.67</td>\n",
              "      <td>5.98</td>\n",
              "      <td>1.35</td>\n",
              "      <td>896.8</td>\n",
              "      <td>1534.47</td>\n",
              "      <td>81.23</td>\n",
              "      <td>53.78</td>\n",
              "      <td>82.86</td>\n",
              "      <td>55.35</td>\n",
              "      <td>83.14</td>\n",
              "      <td>28.7</td>\n",
              "      <td>0</td>\n",
              "    </tr>\n",
              "    <tr>\n",
              "      <th>56</th>\n",
              "      <td>Phoenix</td>\n",
              "      <td>2.7</td>\n",
              "      <td>6.21</td>\n",
              "      <td>6.37</td>\n",
              "      <td>0.62</td>\n",
              "      <td>817.21</td>\n",
              "      <td>2060.68</td>\n",
              "      <td>86.37</td>\n",
              "      <td>80.54</td>\n",
              "      <td>64.9</td>\n",
              "      <td>38.77</td>\n",
              "      <td>82.55</td>\n",
              "      <td>41.41</td>\n",
              "      <td>0</td>\n",
              "    </tr>\n",
              "    <tr>\n",
              "      <th>42</th>\n",
              "      <td>Tampa</td>\n",
              "      <td>2.45</td>\n",
              "      <td>6.21</td>\n",
              "      <td>9.81</td>\n",
              "      <td>0.6</td>\n",
              "      <td>915.28</td>\n",
              "      <td>2033.87</td>\n",
              "      <td>84.27</td>\n",
              "      <td>75.72</td>\n",
              "      <td>56.94</td>\n",
              "      <td>49.89</td>\n",
              "      <td>80.75</td>\n",
              "      <td>60.73</td>\n",
              "      <td>0</td>\n",
              "    </tr>\n",
              "    <tr>\n",
              "      <th>95</th>\n",
              "      <td>Belfast</td>\n",
              "      <td>2.19</td>\n",
              "      <td>5.98</td>\n",
              "      <td>6.22</td>\n",
              "      <td>1.39</td>\n",
              "      <td>807.12</td>\n",
              "      <td>1494.67</td>\n",
              "      <td>82.15</td>\n",
              "      <td>52.8</td>\n",
              "      <td>33.33</td>\n",
              "      <td>29.24</td>\n",
              "      <td>80.55</td>\n",
              "      <td>34.06</td>\n",
              "      <td>0</td>\n",
              "    </tr>\n",
              "  </tbody>\n",
              "</table>\n",
              "</div>"
            ],
            "text/plain": [
              "           0     1     2     3     4   ...     9      10     11     12 13\n",
              "88     Berlin  1.88  6.82  3.84  1.36  ...  65.48  16.05  91.17  24.18  0\n",
              "0      Aachen  2.05  6.88  4.26  1.33  ...  73.25  11.69  90.52  15.34  0\n",
              "27   Hamilton  1.91  7.01  8.29   0.8  ...  86.67  81.68  84.83  35.68  0\n",
              "77  Charlotte  2.15  5.23  7.19   0.6  ...  72.08  67.05  84.39  30.21  0\n",
              "5   Liverpool  1.99  7.67  5.98  1.35  ...  82.86  55.35  83.14   28.7  0\n",
              "56    Phoenix   2.7  6.21  6.37  0.62  ...   64.9  38.77  82.55  41.41  0\n",
              "42      Tampa  2.45  6.21  9.81   0.6  ...  56.94  49.89  80.75  60.73  0\n",
              "95    Belfast  2.19  5.98  6.22  1.39  ...  33.33  29.24  80.55  34.06  0\n",
              "\n",
              "[8 rows x 14 columns]"
            ]
          },
          "metadata": {
            "tags": []
          },
          "execution_count": 123
        }
      ]
    },
    {
      "cell_type": "markdown",
      "metadata": {
        "id": "lo1TOFYVRIkx"
      },
      "source": [
        "### Agrupamento por: **Pollution** e **Crime Rating**"
      ]
    },
    {
      "cell_type": "code",
      "metadata": {
        "id": "8kjJlM2BRP6w"
      },
      "source": [
        "Y = df_concat[['Pollution', 'Crime Rating']]"
      ],
      "execution_count": 64,
      "outputs": []
    },
    {
      "cell_type": "code",
      "metadata": {
        "id": "DjLlvKNtRSKH"
      },
      "source": [
        "model1 = KMeans(n_clusters=4)"
      ],
      "execution_count": 65,
      "outputs": []
    },
    {
      "cell_type": "code",
      "metadata": {
        "id": "zYg5W2v_RTfV"
      },
      "source": [
        "model1.fit(Y);"
      ],
      "execution_count": 66,
      "outputs": []
    },
    {
      "cell_type": "code",
      "metadata": {
        "id": "9-OtycIDRUq7"
      },
      "source": [
        "y_pred1 = model1.predict(Y)"
      ],
      "execution_count": 67,
      "outputs": []
    },
    {
      "cell_type": "code",
      "metadata": {
        "id": "FSLhnb0ESpHF"
      },
      "source": [
        "centroides = model1.cluster_centers_"
      ],
      "execution_count": 68,
      "outputs": []
    },
    {
      "cell_type": "code",
      "metadata": {
        "colab": {
          "base_uri": "https://localhost:8080/",
          "height": 483
        },
        "id": "J3QWrorPRW6x",
        "outputId": "117e0702-6070-4bd2-dfe0-4a8157a4bef8"
      },
      "source": [
        "fig, ax = plt.subplots(figsize=(10,8))\r\n",
        "plt.scatter('Pollution', 'Crime Rating',  data=Y, c=y_pred1, s=50, cmap='viridis')\r\n",
        "plt.scatter(centroides[:, 0], centroides[:, 1], marker=\"X\")\r\n",
        "plt.show()"
      ],
      "execution_count": 69,
      "outputs": [
        {
          "output_type": "display_data",
          "data": {
            "image/png": "[encoded data removed]",
            "text/plain": [
              "<Figure size 720x576 with 1 Axes>"
            ]
          },
          "metadata": {
            "tags": [],
            "needs_background": "light"
          }
        }
      ]
    },
    {
      "cell_type": "code",
      "metadata": {
        "id": "a_GEeOSQRYQe"
      },
      "source": [
        "import numpy as np\r\n",
        "lista1 = np.column_stack((df_concat, y_pred1)) #Une a base de dados e as previsoes\r\n",
        "lista1 = lista1[lista1[:,13].argsort()]"
      ],
      "execution_count": 90,
      "outputs": []
    },
    {
      "cell_type": "code",
      "metadata": {
        "id": "W1zp_ApSRZ6-"
      },
      "source": [
        "lista1 = pd.DataFrame(lista1)"
      ],
      "execution_count": 91,
      "outputs": []
    },
    {
      "cell_type": "code",
      "metadata": {
        "id": "FoQNb_8SRcJo"
      },
      "source": [
        "lista1 = lista1[lista1[13]==3].sort_values(by=11, ascending=False)"
      ],
      "execution_count": 92,
      "outputs": []
    },
    {
      "cell_type": "code",
      "metadata": {
        "id": "eOauVnazRdX-"
      },
      "source": [
        "lista1.drop(lista1[lista1[11]<=80].index, axis=0, inplace=True)"
      ],
      "execution_count": 93,
      "outputs": []
    },
    {
      "cell_type": "code",
      "metadata": {
        "colab": {
          "base_uri": "https://localhost:8080/",
          "height": 297
        },
        "id": "9QLKGC0iReg7",
        "outputId": "c1f35f12-8a50-4bd4-9e7b-feac7fff120f"
      },
      "source": [
        "lista1.sort_values(by=11, ascending=False).head(8)"
      ],
      "execution_count": 95,
      "outputs": [
        {
          "output_type": "execute_result",
          "data": {
            "text/html": [
              "<div>\n",
              "<style scoped>\n",
              "    .dataframe tbody tr th:only-of-type {\n",
              "        vertical-align: middle;\n",
              "    }\n",
              "\n",
              "    .dataframe tbody tr th {\n",
              "        vertical-align: top;\n",
              "    }\n",
              "\n",
              "    .dataframe thead th {\n",
              "        text-align: right;\n",
              "    }\n",
              "</style>\n",
              "<table border=\"1\" class=\"dataframe\">\n",
              "  <thead>\n",
              "    <tr style=\"text-align: right;\">\n",
              "      <th></th>\n",
              "      <th>0</th>\n",
              "      <th>1</th>\n",
              "      <th>2</th>\n",
              "      <th>3</th>\n",
              "      <th>4</th>\n",
              "      <th>5</th>\n",
              "      <th>6</th>\n",
              "      <th>7</th>\n",
              "      <th>8</th>\n",
              "      <th>9</th>\n",
              "      <th>10</th>\n",
              "      <th>11</th>\n",
              "      <th>12</th>\n",
              "      <th>13</th>\n",
              "    </tr>\n",
              "  </thead>\n",
              "  <tbody>\n",
              "    <tr>\n",
              "      <th>215</th>\n",
              "      <td>Zurich</td>\n",
              "      <td>3.28</td>\n",
              "      <td>12.59</td>\n",
              "      <td>8.4</td>\n",
              "      <td>1.31</td>\n",
              "      <td>2378.61</td>\n",
              "      <td>4197.55</td>\n",
              "      <td>85.89</td>\n",
              "      <td>79.58</td>\n",
              "      <td>78.33</td>\n",
              "      <td>18.04</td>\n",
              "      <td>97.91</td>\n",
              "      <td>15.35</td>\n",
              "      <td>3</td>\n",
              "    </tr>\n",
              "    <tr>\n",
              "      <th>184</th>\n",
              "      <td>Canberra</td>\n",
              "      <td>2.35</td>\n",
              "      <td>11.42</td>\n",
              "      <td>10.08</td>\n",
              "      <td>0.99</td>\n",
              "      <td>1984.74</td>\n",
              "      <td>3023.91</td>\n",
              "      <td>83.23</td>\n",
              "      <td>63.26</td>\n",
              "      <td>91.9</td>\n",
              "      <td>11.48</td>\n",
              "      <td>93.05</td>\n",
              "      <td>40.36</td>\n",
              "      <td>3</td>\n",
              "    </tr>\n",
              "    <tr>\n",
              "      <th>192</th>\n",
              "      <td>Adelaide</td>\n",
              "      <td>2.49</td>\n",
              "      <td>11.42</td>\n",
              "      <td>10.08</td>\n",
              "      <td>0.95</td>\n",
              "      <td>1382.26</td>\n",
              "      <td>2911.69</td>\n",
              "      <td>87.29</td>\n",
              "      <td>72.03</td>\n",
              "      <td>56.25</td>\n",
              "      <td>12.01</td>\n",
              "      <td>91.54</td>\n",
              "      <td>41.32</td>\n",
              "      <td>3</td>\n",
              "    </tr>\n",
              "    <tr>\n",
              "      <th>188</th>\n",
              "      <td>Berlin</td>\n",
              "      <td>1.88</td>\n",
              "      <td>6.82</td>\n",
              "      <td>3.84</td>\n",
              "      <td>1.36</td>\n",
              "      <td>916.42</td>\n",
              "      <td>1772.57</td>\n",
              "      <td>89.54</td>\n",
              "      <td>68.72</td>\n",
              "      <td>65.48</td>\n",
              "      <td>16.05</td>\n",
              "      <td>91.17</td>\n",
              "      <td>24.18</td>\n",
              "      <td>3</td>\n",
              "    </tr>\n",
              "    <tr>\n",
              "      <th>176</th>\n",
              "      <td>Aachen</td>\n",
              "      <td>2.05</td>\n",
              "      <td>6.88</td>\n",
              "      <td>4.26</td>\n",
              "      <td>1.33</td>\n",
              "      <td>767.23</td>\n",
              "      <td>1619.72</td>\n",
              "      <td>81.64</td>\n",
              "      <td>60.55</td>\n",
              "      <td>73.25</td>\n",
              "      <td>11.69</td>\n",
              "      <td>90.52</td>\n",
              "      <td>15.34</td>\n",
              "      <td>3</td>\n",
              "    </tr>\n",
              "    <tr>\n",
              "      <th>174</th>\n",
              "      <td>Stuttgart</td>\n",
              "      <td>2.13</td>\n",
              "      <td>6.82</td>\n",
              "      <td>4.26</td>\n",
              "      <td>1.32</td>\n",
              "      <td>980.35</td>\n",
              "      <td>1943.66</td>\n",
              "      <td>82.48</td>\n",
              "      <td>65.82</td>\n",
              "      <td>80.38</td>\n",
              "      <td>16.89</td>\n",
              "      <td>90.4</td>\n",
              "      <td>23.96</td>\n",
              "      <td>3</td>\n",
              "    </tr>\n",
              "    <tr>\n",
              "      <th>180</th>\n",
              "      <td>Dresden</td>\n",
              "      <td>2.13</td>\n",
              "      <td>6.82</td>\n",
              "      <td>3.84</td>\n",
              "      <td>1.33</td>\n",
              "      <td>1193.48</td>\n",
              "      <td>2088.58</td>\n",
              "      <td>84.75</td>\n",
              "      <td>82.6</td>\n",
              "      <td>78.29</td>\n",
              "      <td>16.89</td>\n",
              "      <td>90.21</td>\n",
              "      <td>15.34</td>\n",
              "      <td>3</td>\n",
              "    </tr>\n",
              "    <tr>\n",
              "      <th>204</th>\n",
              "      <td>Munich</td>\n",
              "      <td>2.3</td>\n",
              "      <td>7.67</td>\n",
              "      <td>5.11</td>\n",
              "      <td>1.36</td>\n",
              "      <td>1278.72</td>\n",
              "      <td>2045.96</td>\n",
              "      <td>86</td>\n",
              "      <td>63.28</td>\n",
              "      <td>88.43</td>\n",
              "      <td>43.08</td>\n",
              "      <td>90.08</td>\n",
              "      <td>15.34</td>\n",
              "      <td>3</td>\n",
              "    </tr>\n",
              "  </tbody>\n",
              "</table>\n",
              "</div>"
            ],
            "text/plain": [
              "            0     1      2      3     4   ...     9      10     11     12 13\n",
              "215     Zurich  3.28  12.59    8.4  1.31  ...  78.33  18.04  97.91  15.35  3\n",
              "184   Canberra  2.35  11.42  10.08  0.99  ...   91.9  11.48  93.05  40.36  3\n",
              "192   Adelaide  2.49  11.42  10.08  0.95  ...  56.25  12.01  91.54  41.32  3\n",
              "188     Berlin  1.88   6.82   3.84  1.36  ...  65.48  16.05  91.17  24.18  3\n",
              "176     Aachen  2.05   6.88   4.26  1.33  ...  73.25  11.69  90.52  15.34  3\n",
              "174  Stuttgart  2.13   6.82   4.26  1.32  ...  80.38  16.89   90.4  23.96  3\n",
              "180    Dresden  2.13   6.82   3.84  1.33  ...  78.29  16.89  90.21  15.34  3\n",
              "204     Munich   2.3   7.67   5.11  1.36  ...  88.43  43.08  90.08  15.34  3\n",
              "\n",
              "[8 rows x 14 columns]"
            ]
          },
          "metadata": {
            "tags": []
          },
          "execution_count": 95
        }
      ]
    },
    {
      "cell_type": "markdown",
      "metadata": {
        "id": "1z9GJ_QnVlw1"
      },
      "source": [
        "## Pandas Profiling"
      ]
    },
    {
      "cell_type": "code",
      "metadata": {
        "id": "dhPYft3tUA3J"
      },
      "source": [
        "!pip install pandas_profiling==2.7.1 -q"
      ],
      "execution_count": null,
      "outputs": []
    },
    {
      "cell_type": "code",
      "metadata": {
        "id": "Rs5pa0QeUNka"
      },
      "source": [
        "!pip install pandas_profiling -q"
      ],
      "execution_count": null,
      "outputs": []
    },
    {
      "cell_type": "code",
      "metadata": {
        "id": "UJoocTHiTJLJ"
      },
      "source": [
        "import pandas_profiling"
      ],
      "execution_count": null,
      "outputs": []
    },
    {
      "cell_type": "code",
      "metadata": {
        "id": "ed3-imIlUjWy"
      },
      "source": [
        "report = pandas_profiling.ProfileReport(df_merged)"
      ],
      "execution_count": null,
      "outputs": []
    },
    {
      "cell_type": "code",
      "metadata": {
        "id": "n9fK_fAoTNYP"
      },
      "source": [
        "report.to_notebook_iframe()\r\n",
        "report.to_file(\"arq\")"
      ],
      "execution_count": null,
      "outputs": []
    }
  ]
}